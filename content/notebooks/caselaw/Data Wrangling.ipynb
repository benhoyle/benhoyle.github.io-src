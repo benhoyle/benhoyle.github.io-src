{
 "cells": [
  {
   "cell_type": "markdown",
   "metadata": {},
   "source": [
    "# Replacing the Associate - Legal Machine Learning\n",
    "\n",
    "This post is part of a series that look at applying machine learning to legal information. We will start off by looking at case law for exclued subject matter in the United Kingdom and Europe."
   ]
  },
  {
   "cell_type": "markdown",
   "metadata": {},
   "source": [
    "## Feature Generation\n",
    "\n",
    "Machine learning algorithms typically operate on a vector of numbers (integers or floats). The patent information we have tends to be text-based. This post will explore how to turn our text into numeric feature vectors. "
   ]
  },
  {
   "cell_type": "markdown",
   "metadata": {},
   "source": [
    "A good place to start is to read these tutorials:\n",
    "* Working with text data (from scikit learn) http://scikit-learn.org/stable/tutorial/text_analytics/working_with_text_data.html\n",
    "* Learning to Classify Text (from nltk) http://www.nltk.org/book/ch06.html"
   ]
  },
  {
   "cell_type": "markdown",
   "metadata": {},
   "source": [
    "### Prequisites\n",
    "\n",
    "Before you start you need to install Python and a bucketful of useful libraries. The best way to do this is to use [Anaconda](https://www.continuum.io/downloads). On my ten-year-old laptop running Puppy Linux (which was in the loft for a year or so covered in woodlouse excrement) this simply involved running the script. No compiling from source. No version errors. No messing with pip. \n",
    "\n",
    "I find that Jupyter (formerly iPython) notebooks are a great way to iteratively code. You can test out ideas block by block, shift stuff around, output and document all in the same tool. You can also easily export to HTML with one click (hence this post). To start a notebook having installed Anaconda run the following:\n",
    "```\n",
    "jypyter notebook\n",
    "```\n",
    "This will start the notebook server on your local machine and open your browser. By default the notebooks are served at *localhost:8888*. To access across a local network use the *-ip* flag with your IP address (e.g. -ip 192.168.1.2) and then point your browser at *[your-ip]:8888* (use -p to change the port).\n",
    "\n",
    "This notebook also makes use of a library I hacked together for accessing the EPO OPS API. You can clone this library from: https://github.com/benhoyle/EPOops."
   ]
  },
  {
   "cell_type": "markdown",
   "metadata": {},
   "source": [
    "We would want to save the retrieved data - either in a database or as a series of flat files. We need to investigate how to build a scikit learn corpus."
   ]
  },
  {
   "cell_type": "markdown",
   "metadata": {},
   "source": [
    "#### Imports"
   ]
  },
  {
   "cell_type": "code",
   "execution_count": 1,
   "metadata": {
    "scrolled": false
   },
   "outputs": [],
   "source": [
    "import os"
   ]
  },
  {
   "cell_type": "code",
   "execution_count": 2,
   "metadata": {
    "scrolled": false
   },
   "outputs": [],
   "source": [
    "from EPOops.epo_ops import EPOops, keysearch"
   ]
  },
  {
   "cell_type": "code",
   "execution_count": 3,
   "metadata": {
    "scrolled": false
   },
   "outputs": [],
   "source": [
    "epo = EPOops()"
   ]
  },
  {
   "cell_type": "code",
   "execution_count": 4,
   "metadata": {
    "scrolled": false
   },
   "outputs": [
    {
     "name": "stdout",
     "output_type": "stream",
     "text": [
      "SYSTEM FOR BROWSING THROUGH A MUSIC CATALOG USING CORRELATION METRICS OF A KNOWLEDGE BASE OF MEDIASETS\n",
      "Related Applications\n",
      "[0001] This application claims priority from U.S. Provisional Application No. 60/649,945 filed February 4, 2005, incorporated herein by this reference in its entirety as though fully set forth.\n",
      "Technical Field\n",
      "[0002] This invention relates generally to systems for assisting users to navigate media item catalogs with the ultimate goal of building mediasets and/or discover media items. More specifically, the present invention pertains to computer software methods and products to enable users to interactively browse through an electronic catalog by leveraging media item association metrics.\n",
      "Background of the Invention\n",
      "[0003] New technologies combining digital media item players with dedicated software, together with new media distribution channels through networks are quickly changing the way people organize and play media items. As a direct consequence of such evolu\n"
     ]
    }
   ],
   "source": [
    "desctext = epo.get_published_desc(\"WO2006084269\")\n",
    "print(desctext[:1000])"
   ]
  },
  {
   "cell_type": "markdown",
   "metadata": {},
   "source": [
    "Setup a connection to our caselaw database. (This code could be placed in a file and imported.)"
   ]
  },
  {
   "cell_type": "code",
   "execution_count": 5,
   "metadata": {
    "scrolled": false
   },
   "outputs": [],
   "source": [
    "# Save current working directory as a variable for use later\n",
    "current_dir = os.getcwd()\n",
    "\n",
    "# Define name and path for SQLite3 DB\n",
    "db_name = \"gb_excluded_sm.db\"\n",
    "db_path = os.path.join(current_dir, db_name)\n",
    "\n",
    "# Create DB\n",
    "from sqlalchemy import create_engine\n",
    "engine = create_engine('sqlite:///' + db_path, echo=False)\n",
    "\n",
    "# Setup base class\n",
    "from sqlalchemy.ext.declarative import declarative_base\n",
    "Base = declarative_base()\n",
    "\n",
    "# Define Class for Excluded Matter Case Details\n",
    "from sqlalchemy import Column, Integer, String, Date, Boolean, Text\n",
    "class Decision(Base):\n",
    "    __tablename__ = 'decisions'\n",
    "    \n",
    "    id = Column(Integer, primary_key=True)\n",
    "    # Hearing number\n",
    "    bl_number = Column(String(15))\n",
    "    # Application number\n",
    "    appln_no = Column(String(15))\n",
    "    # Publication number / patent number\n",
    "    pub_no = Column(String(15))\n",
    "    # Country code e.g. GB\n",
    "    country_code = Column(String(2))\n",
    "    # Applicant / proprietor \n",
    "    applicant = Column(String(256))\n",
    "    \n",
    "    hearing_officer = Column(String(128))\n",
    "    decision_date = Column(Date)\n",
    "    # Link for the decision page\n",
    "    link = Column(String(128))\n",
    "    # Summary text\n",
    "    summary = Column(Text)\n",
    "    # File name for the PDF\n",
    "    filelink = Column(String(128))\n",
    "    \n",
    "    # Whether case was deemed to relate to excluded subject matter\n",
    "    excluded = Column(Boolean)\n",
    "    \n",
    "    \n",
    "    def as_dict(self):\n",
    "        \"\"\" Return object as a dictionary. \"\"\"\n",
    "        temp_dict = {}\n",
    "        temp_dict['object_type'] = self.__class__.__name__\n",
    "        for c in self.__table__.columns:\n",
    "            cur_attr = getattr(self, c.name)\n",
    "            # If datetime generate string representation\n",
    "            if isinstance(cur_attr, datetime):\n",
    "                cur_attr = cur_attr.strftime('%d %B %Y')\n",
    "            temp_dict[c.name] = cur_attr\n",
    "        return temp_dict\n",
    "    \n",
    "    def populate(self, data):\n",
    "        \"\"\" Populates matching attributes of class instance. \n",
    "        param dict data: dict where for each entry key, value equal attributename, attributevalue.\"\"\"\n",
    "        for key, value in data.items():\n",
    "            if hasattr(self, key):\n",
    "                # Convert string dates into datetimes\n",
    "                if isinstance(getattr(self, key), datetime) or str(self.__table__.c[key].type) == 'DATE':\n",
    "                    value = datetime.strptime(value, \"%d %B %Y\")\n",
    "                setattr(self, key, value)\n",
    "                \n",
    "# Setup SQLAlchemy session\n",
    "from sqlalchemy.orm import sessionmaker\n",
    "Session = sessionmaker(bind=engine)\n",
    "session = Session()"
   ]
  },
  {
   "cell_type": "code",
   "execution_count": 6,
   "metadata": {},
   "outputs": [
    {
     "data": {
      "text/plain": [
       "442"
      ]
     },
     "execution_count": 6,
     "metadata": {},
     "output_type": "execute_result"
    }
   ],
   "source": [
    "# Check Database is connected\n",
    "session.query(Decision).count()"
   ]
  },
  {
   "cell_type": "code",
   "execution_count": 7,
   "metadata": {},
   "outputs": [
    {
     "name": "stdout",
     "output_type": "stream",
     "text": [
      "GB1109923.1\n",
      "GB1119833.0\n",
      "GB1313219.6\n",
      "GB 1201052.6\n",
      "GB1217392.8\n",
      "GB0817814.7\n",
      "GB0809880.8\n",
      "GB 0807865.1, GB 0807867.7\n",
      "GB0624556.7\n",
      "GB 0906015.3\n"
     ]
    }
   ],
   "source": [
    "for record in session.query(Decision).all()[0:10]:\n",
    "    print(record.appln_no)"
   ]
  },
  {
   "cell_type": "markdown",
   "metadata": {},
   "source": [
    "The application numbers in our database require a bit of cleaning. The following problems were spotted:\n",
    "* Use of one or more spaces after initial GB but before the application number;\n",
    "* Some cases have multiple application numbers;\n",
    "* Some cases have a publication number instead of an application number (and end in 'A' or 'B');\n",
    "* Some cases have an extra '0' at the start of the application number (8 digits before the '.' instead of 7);\n",
    "* Some cases have the Hearing Number instead of the application number;\n",
    "* Some cases have an extra '.' at the end of the application number; and\n",
    "* Some cases are missing the initial 'GB'. \n",
    "\n"
   ]
  },
  {
   "cell_type": "markdown",
   "metadata": {},
   "source": [
    "Regular expressions seem a good way to parse the numbers. "
   ]
  },
  {
   "cell_type": "code",
   "execution_count": 8,
   "metadata": {
    "collapsed": true
   },
   "outputs": [],
   "source": [
    "import re"
   ]
  },
  {
   "cell_type": "code",
   "execution_count": 9,
   "metadata": {
    "collapsed": true
   },
   "outputs": [],
   "source": [
    "# GB Application Number - 7 digits then a dot, then a digit\n",
    "re_appln_no = re.compile('\\d{7}.\\d')\n",
    "# GB Publication Number - 7 digits followed by end of string or not a dot\n",
    "re_pub_no = re.compile('\\d{7}([^.]|$)')"
   ]
  },
  {
   "cell_type": "markdown",
   "metadata": {},
   "source": [
    "Aside on GB application number check digit:\n",
    "\n",
    "\"The check digit is calculated using a modulus 10 algorithm. Each digit\n",
    "of the base, from right to left is multiplied by 2,1,2,1 etc respectively.\n",
    "The separate digits of the products are summed and then divided by\n",
    "10, the remainder being subtracted from 10 to give the check digit\"\n",
    "\n",
    "http://www.wipo.int/export/sites/www/standards/en/pdf/07-02-06.pdf"
   ]
  },
  {
   "cell_type": "code",
   "execution_count": 10,
   "metadata": {
    "scrolled": true
   },
   "outputs": [
    {
     "name": "stdout",
     "output_type": "stream",
     "text": [
      "GB0616189.7\n",
      "Match Appln No: 0616189.7\n",
      "GB0902255.9\n",
      "Match Appln No: 0902255.9\n",
      "GB0919376.4\n",
      "Match Appln No: 0919376.4\n",
      "GB 0710637.0\n",
      "Match Appln No: 0710637.0\n",
      "GB0710612.3\n",
      "Match Appln No: 0710612.3\n",
      "GB0613207.0\n",
      "Match Appln No: 0613207.0\n",
      "GB 2415387\n",
      "Match Pub No: 2415387\n",
      "GB0419580.6, GB0419583.0, GB0724070.8, GB0724072.4\n",
      "Match Appln No: 0419580.6\n",
      "GB 0424655.9\n",
      "Match Appln No: 0424655.9\n",
      "GB 0414654.4\n",
      "Match Appln No: 0414654.4\n"
     ]
    }
   ],
   "source": [
    "for record in session.query(Decision).all()[10:20]:\n",
    "    search_text = record.appln_no\n",
    "    print(search_text)\n",
    "    # Also may need check for a blank appln_no\n",
    "    if not search_text:\n",
    "        print(\"No application number\")\n",
    "        break\n",
    "    located = re_appln_no.search(search_text)\n",
    "    if located:\n",
    "        print(\"Match Appln No: \" + located.group(0))\n",
    "    else:\n",
    "        pub_located = re_pub_no.search(search_text)\n",
    "        if pub_located:\n",
    "            print(\"Match Pub No: \" + pub_located.group(0))\n",
    "        else:  \n",
    "            print(\"No match\")"
   ]
  },
  {
   "cell_type": "markdown",
   "metadata": {},
   "source": [
    "Test converting the application number into a publication number and getting the full text description."
   ]
  },
  {
   "cell_type": "code",
   "execution_count": 11,
   "metadata": {},
   "outputs": [
    {
     "name": "stdout",
     "output_type": "stream",
     "text": [
      "GB20040014654\n",
      "(404, '<?xml version=\"1.0\" encoding=\"UTF-8\" standalone=\"yes\"?>\\n<fault xmlns=\"http://ops.epo.org\">\\n    <code>SERVER.EntityNotFound</code>\\n    <message>No results found</message>\\n</fault>\\n')\n"
     ]
    }
   ],
   "source": [
    "pub_no = epo.convert_number(\"GB\", \"0414654.4\")\n",
    "print(pub_no)\n",
    "\n",
    "desctext = epo.get_published_desc(pub_no)\n",
    "print(desctext)"
   ]
  },
  {
   "cell_type": "markdown",
   "metadata": {},
   "source": [
    "Ah - it seems the application number is being converted into the EPO_DOC number but not the publication number for the application. This will need a tweak to the EPOops code."
   ]
  },
  {
   "cell_type": "code",
   "execution_count": 12,
   "metadata": {},
   "outputs": [],
   "source": [
    "pub_nos = epo.appln_to_pub(\"GB\", \"0414654.4\")"
   ]
  },
  {
   "cell_type": "code",
   "execution_count": 13,
   "metadata": {},
   "outputs": [
    {
     "data": {
      "text/plain": [
       "'GB2410364'"
      ]
     },
     "execution_count": 13,
     "metadata": {},
     "output_type": "execute_result"
    }
   ],
   "source": [
    "pub_nos"
   ]
  },
  {
   "cell_type": "code",
   "execution_count": 14,
   "metadata": {
    "scrolled": true
   },
   "outputs": [
    {
     "ename": "TypeError",
     "evalue": "string indices must be integers",
     "output_type": "error",
     "traceback": [
      "\u001b[1;31m---------------------------------------------------------------------------\u001b[0m",
      "\u001b[1;31mTypeError\u001b[0m                                 Traceback (most recent call last)",
      "\u001b[1;32m<ipython-input-14-2e78c8839764>\u001b[0m in \u001b[0;36m<module>\u001b[1;34m()\u001b[0m\n\u001b[1;32m----> 1\u001b[1;33m \u001b[0mdesctext\u001b[0m \u001b[1;33m=\u001b[0m \u001b[0mepo\u001b[0m\u001b[1;33m.\u001b[0m\u001b[0mget_published_desc\u001b[0m\u001b[1;33m(\u001b[0m\u001b[0mpub_nos\u001b[0m\u001b[1;33m[\u001b[0m\u001b[1;36m0\u001b[0m\u001b[1;33m]\u001b[0m\u001b[1;33m[\u001b[0m\u001b[1;34m'number'\u001b[0m\u001b[1;33m]\u001b[0m\u001b[1;33m)\u001b[0m\u001b[1;33m\u001b[0m\u001b[0m\n\u001b[0m\u001b[0;32m      2\u001b[0m \u001b[0mprint\u001b[0m\u001b[1;33m(\u001b[0m\u001b[0mdesctext\u001b[0m\u001b[1;33m[\u001b[0m\u001b[1;36m0\u001b[0m\u001b[1;33m:\u001b[0m\u001b[1;36m1000\u001b[0m\u001b[1;33m]\u001b[0m\u001b[1;33m)\u001b[0m\u001b[1;33m\u001b[0m\u001b[0m\n",
      "\u001b[1;31mTypeError\u001b[0m: string indices must be integers"
     ]
    }
   ],
   "source": [
    "desctext = epo.get_published_desc(pub_nos[0]['number'])\n",
    "print(desctext)"
   ]
  },
  {
   "cell_type": "markdown",
   "metadata": {},
   "source": [
    "Because we need to retrieve up to 442 full text descriptions, we will adapt George Song's OPS Client that includes support for throttling. The code can be cloned from here: https://github.com/55minutes/python-epo-ops-client (my fork is here: https://github.com/benhoyle/python-epo-ops-client/"
   ]
  },
  {
   "cell_type": "code",
   "execution_count": 4,
   "metadata": {
    "collapsed": true
   },
   "outputs": [],
   "source": [
    "# Add the path for my fork of the client to the system path\n",
    "import os\n",
    "import sys\n",
    "sys.path.insert(0, '/root/projects/caselawml/python-epo-ops-client')"
   ]
  },
  {
   "cell_type": "code",
   "execution_count": 5,
   "metadata": {},
   "outputs": [],
   "source": [
    "import epo_ops"
   ]
  },
  {
   "cell_type": "code",
   "execution_count": 6,
   "metadata": {},
   "outputs": [],
   "source": [
    "# Load Key and Secret from config file called \"config.ini\" in the same directory as this notebook\n",
    "import configparser\n",
    "parser = configparser.ConfigParser()\n",
    "parser.read(os.path.abspath(os.getcwd() + '/config.ini'))\n",
    "consumer_key = parser.get('Login Parameters', 'C_KEY')\n",
    "consumer_secret = parser.get('Login Parameters', 'C_SECRET')"
   ]
  },
  {
   "cell_type": "code",
   "execution_count": 7,
   "metadata": {},
   "outputs": [],
   "source": [
    "# Setup a new registered EPO OPS client that returns JSON\n",
    "registered_client = epo_ops.RegisteredClient(\n",
    "    key=consumer_key, \n",
    "    secret=consumer_secret, \n",
    "    accept_type='json')"
   ]
  },
  {
   "cell_type": "code",
   "execution_count": 8,
   "metadata": {},
   "outputs": [
    {
     "data": {
      "text/plain": [
       "['241 5387 Cosmetic Uses Of Electromagnetic Radiation The present invention',\n",
       " 'relates to the cosmetic use of electromagnetic radiation for the reduction or alleviation or removal or diminishing of wrinkles or fine lines, especially but not exclusively facial and neck wrinkles and other signs of aging. The present invention also provides the use of electromagnetic radiation for generally rejuvenating skin, retarding signs of aging and improving skin elasticity, tone and appearance. The invention also provides for a method of treating skin so as to reduce or alleviate or retard or reverse visible signs of aging and for beautifying skin and an apparatus for effecting such cosmetic treatments.',\n",
       " 'BACKGROUND',\n",
       " \"In young skin, the collagen just beneath the surface of the skin forms an organised lattice with good elasticity and flexibility. As women go through menopause and men age, both experience increased skin wrinkling and decreased skin thickness. During aging, the collagen changes its structure impacting negatively on the cosmetic appearance of the skin. The change in collagen may also be accelerated by prolonged exposure to the sun's UV rays. Billions of pounds are spent annually on the cosmetic industry and it is estimated that the average woman spends around 800 per annum on skin care products and cosmetics.\",\n",
       " 'It is known from the prior art to use chemical peels or cosmetic preparations, typically in the form of creams, to prevent or mitigate wrinkles and as anti-aging agents. Such preparations may contain synthetic or naturally occurring plant and/or animal products.',\n",
       " 'The compositions are applied topically and usually on a regular basis in order to maximise their effects. However, there is limited evidence that even persistent use of such compositions alleviate the visible signs of aging.',\n",
       " 'As an alternative to cosmetic preparations and surgical facelifts, it is known to use a source of low-level electromagnetic radiation to achieve photochemical responses in the skin, commonly referred to as biostimulation. Biostimulation depends upon the concept of enhanced replication and synthesis, which results in increased collagen production, increased fibroblast stimulation or increased DNA synthesis. The light energy is absorbed in cytochromes and porphyrins within cell mitochondria and cell membranes producing a small amount of singlet oxygen. Typically, patients require four to six sessions for acute conditions and six to eight treatments for chronic conditions. This type of treatment is both prolonged and expensive.',\n",
       " 'Since the 1990s, lasers have been used for skin resurfacing and wrinkle removal.',\n",
       " 'Wrinkle removal is an aggressive technique where tissue is removed layerby-layer, invading the dermis and effectively inducing second-degree burn. Heat is deposited in the dermis shrinking the collagen and tightening the skin. The laser induces denaturing of the collagen in the dermis and the formation of cross-links, which result in a tightening effect stretching the skin, thus reducing or removing the wrinkles. This process is referred to a thermolysis and thermal heating of tissues is a prerequisite for the therapy, it is thought that the thermal threshold for thermolysis is about 70 C. However, the problem with traditional laser treatment is that the patient may suffer burns and so have a weeping skin, scabs and redness for many weeks post treatment. In addition a high incidence of hyperpigmentation has been reported following CO2 laser wrinkle removal 1 5 treatment.',\n",
       " 'There is therefore a need for an alternative, effective and safe method of reducing or alleviating or removing or diminishing wrinkles or fine lines, rejuvenating skin, retarding the signs of aging and improving skin elasticity, tone and appearance and for generally beautifying skin.']"
      ]
     },
     "execution_count": 8,
     "metadata": {},
     "output_type": "execute_result"
    }
   ],
   "source": [
    "registered_client.published_description('GB2415387')[0:10]"
   ]
  },
  {
   "cell_type": "code",
   "execution_count": 23,
   "metadata": {},
   "outputs": [
    {
     "name": "stdout",
     "output_type": "stream",
     "text": [
      "['Claims 1. A method of cosmetically treating a superficial area of', 'mammalian skin comprising irradiating the skin with a source of divergent electromagnetic radiation of between 900nm to 1500nm.', '2. A method according to claim 1 where the cosmetic treatment is reducing or alleviating or removing or diminishing wrinkles or fine lines, rejuvenating skin, retarding or reversing visible signs of aging, improving skin elasticity, tone, texture and appearance and beautifying the skin.', '3. A method according to either claim 1 or 2 wherein the skin includes the outermost epidermis, basal layer and dermis of face, breast, arm, buttock, thigh, stomach or neck.', '4. A method according to any preceding claim wherein the divergent light is between 10  to 50 .', '5. A method according to any preceding claim wherein the electromagnetic radiation has a bandwidth of about 10 to 120nm.', '6. A method according to any preceding claim wherein the wavelength of the electromagnetic radiation is centred around any one or more of the specified wavelengths selected from the group comprising 940nm, 950nm, 1040nm, 1060nm, 1072nm and 1267nm.', '7. A method according to any preceding claim wherein the electromagnetic radiation is continuous or pulsed.', '8. A method according to claim 7 wherein when the electromagnetic radiation is continuous the intensity is at least 500 qWatts/cm2 and up to 500 mWatts/cm2.', '9. A method according to claim 7 wherein when the electromagnetic radiation is pulsed the intensity is at least 500 IlWatts/cm2 peak power and the average power is up to 500 mWatts/cm2.']\n"
     ]
    }
   ],
   "source": [
    "claims = registered_client.published_claims('GB2415387')\n",
    "print(claims[0:10])"
   ]
  },
  {
   "cell_type": "code",
   "execution_count": null,
   "metadata": {
    "collapsed": true
   },
   "outputs": [],
   "source": []
  }
 ],
 "metadata": {
  "kernelspec": {
   "display_name": "Python 3",
   "language": "python",
   "name": "python3"
  },
  "language_info": {
   "codemirror_mode": {
    "name": "ipython",
    "version": 3
   },
   "file_extension": ".py",
   "mimetype": "text/x-python",
   "name": "python",
   "nbconvert_exporter": "python",
   "pygments_lexer": "ipython3",
   "version": "3.5.2"
  }
 },
 "nbformat": 4,
 "nbformat_minor": 1
}
