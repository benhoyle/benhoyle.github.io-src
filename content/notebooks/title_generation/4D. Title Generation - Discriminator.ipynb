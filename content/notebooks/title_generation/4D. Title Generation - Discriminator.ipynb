{
 "cells": [
  {
   "cell_type": "markdown",
   "metadata": {},
   "source": [
    "# 4D. Title Generation - Discriminator\n",
    "\n",
    "This post experiments with adding a discriminator to the model. The idea is we want an element of the model to try to predict whether a generated string comes from a real title."
   ]
  },
  {
   "cell_type": "markdown",
   "metadata": {},
   "source": [
    "A good place to start is the implementation of the discriminator by Oswaldo Ludwig [here](https://github.com/oswaldoludwig/Seq2seq-Chatbot-for-Keras/blob/master/conversation_discriminator.py):\n",
    "```\n",
    "loss = concatenate([context_embedding_discriminator, answer_embedding_discriminator, input_current_token], axis=1, name = 'concatenation discriminator')\n",
    "loss = Dense(1, activation=\"sigmoid\", name = 'discriminator output')(loss)\n",
    "\n",
    "model_discrim = Model(inputs=[input_context, input_answer, input_current_token], outputs = [loss])\n",
    "\n",
    "model_discrim.compile(loss='binary_crossentropy', optimizer=ad)\n",
    "```\n",
    "\n",
    "We have some input (the concatenation). We then project that using a dense or feed-forward network onto a single scalar output. We use a sigmoid activation function on the output of the dense layer to effectively turn our output into a probability value modelling the probability of the string being genuine. We can then train our model using binary cross-entropy, where we have a binary classification."
   ]
  },
  {
   "cell_type": "code",
   "execution_count": null,
   "metadata": {},
   "outputs": [],
   "source": []
  }
 ],
 "metadata": {
  "kernelspec": {
   "display_name": "Python 3",
   "language": "python",
   "name": "python3"
  },
  "language_info": {
   "codemirror_mode": {
    "name": "ipython",
    "version": 3
   },
   "file_extension": ".py",
   "mimetype": "text/x-python",
   "name": "python",
   "nbconvert_exporter": "python",
   "pygments_lexer": "ipython3",
   "version": "3.5.2"
  }
 },
 "nbformat": 4,
 "nbformat_minor": 2
}
