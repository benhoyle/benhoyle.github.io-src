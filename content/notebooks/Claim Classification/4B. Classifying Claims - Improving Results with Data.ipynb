{
 "cells": [
  {
   "cell_type": "markdown",
   "metadata": {},
   "source": [
    "# 4B. Classifying Claims - Improving Results with Data"
   ]
  },
  {
   "cell_type": "markdown",
   "metadata": {},
   "source": [
    "This is an additional notebook to implement the \"Improving Results with Data\" section of part 4."
   ]
  },
  {
   "cell_type": "markdown",
   "metadata": {},
   "source": [
    "## Changing Input Dimensionality\n",
    "\n",
    "Let's see if increasing or decreasing the dimensionality of our input data affects our classification results. We can do this by changing the number of words cap that is passed to our tokeniser."
   ]
  },
  {
   "cell_type": "code",
   "execution_count": 3,
   "metadata": {},
   "outputs": [
    {
     "name": "stdout",
     "output_type": "stream",
     "text": [
      "Loading data\n",
      "11238 claims and classifications loaded\n"
     ]
    }
   ],
   "source": [
    "import pickle\n",
    "with open(\"raw_data.pkl\", \"rb\") as f:\n",
    "    print(\"Loading data\")\n",
    "    raw_data = pickle.load(f)\n",
    "    print(\"{0} claims and classifications loaded\".format(len(data)))"
   ]
  },
  {
   "cell_type": "code",
   "execution_count": 4,
   "metadata": {},
   "outputs": [
    {
     "name": "stdout",
     "output_type": "stream",
     "text": [
      "Our classes are now a matrix of (11238, 8)\n",
      "Original label: A; Converted label: [1. 0. 0. 0. 0. 0. 0. 0.]\n"
     ]
    }
   ],
   "source": [
    "# Create our Y vector as before\n",
    "from keras.utils import to_categorical\n",
    "from sklearn.preprocessing import LabelEncoder\n",
    "\n",
    "Y_class = [d[1] for d in raw_data]\n",
    "\n",
    "# encode class values as integers\n",
    "label_e = LabelEncoder()\n",
    "label_e.fit(Y_class)\n",
    "encoded_Y = label_e.transform(Y_class)\n",
    "# convert integers to dummy variables (i.e. one hot encoded)\n",
    "Y = to_categorical(encoded_Y)\n",
    "print(\"Our classes are now a matrix of {0}\".format(Y.shape))\n",
    "print(\"Original label: {0}; Converted label: {1}\".format(Y_class[0], Y[0]))"
   ]
  },
  {
   "cell_type": "code",
   "execution_count": 5,
   "metadata": {},
   "outputs": [
    {
     "name": "stdout",
     "output_type": "stream",
     "text": [
      "Our data has the following dimensionality:  (11238, 2500)\n"
     ]
    }
   ],
   "source": [
    "# Let's start with decreasing our dimensionality\n",
    "\n",
    "from keras.preprocessing.text import Tokenizer\n",
    "\n",
    "docs = [d[0] for d in raw_data]\n",
    "\n",
    "# create the tokenizer\n",
    "t = Tokenizer(num_words=2500)\n",
    "# fit the tokenizer on the documents\n",
    "t.fit_on_texts(docs)\n",
    "\n",
    "X = t.texts_to_matrix(docs, mode='tfidf')\n",
    "print(\"Our data has the following dimensionality: \", X.shape)"
   ]
  },
  {
   "cell_type": "markdown",
   "metadata": {},
   "source": [
    "We are going to leave our SVC classifier for these experiments as it took too long to train."
   ]
  },
  {
   "cell_type": "code",
   "execution_count": 7,
   "metadata": {},
   "outputs": [
    {
     "name": "stdout",
     "output_type": "stream",
     "text": [
      "Classifier MultinomialNB has an average classification accuracy of 57.04 (0.97)\n",
      "Classifier MLPClassifier has an average classification accuracy of 60.17 (1.07)\n"
     ]
    }
   ],
   "source": [
    "import numpy\n",
    "from sklearn.model_selection import cross_val_score\n",
    "from sklearn.naive_bayes import MultinomialNB\n",
    "from sklearn.neural_network import MLPClassifier\n",
    "\n",
    "classifiers = [\n",
    "    MultinomialNB(),\n",
    "    MLPClassifier()\n",
    "]\n",
    "\n",
    "results = list()\n",
    "# Convert one hot to target integer\n",
    "Y_integers = numpy.argmax(Y, axis=1)\n",
    "\n",
    "for clf in classifiers:\n",
    "    name = clf.__class__.__name__\n",
    "    scores = cross_val_score(clf, X, Y_integers, cv=5)\n",
    "    results.append((\n",
    "        name, \n",
    "        scores.mean()*100, \n",
    "        scores.std()*100\n",
    "    ))\n",
    "        \n",
    "    print(\n",
    "        \"Classifier {0} has an average classification accuracy of {1:.2f} ({2:.2f})\".format(\n",
    "            name, \n",
    "            scores.mean()*100, \n",
    "            scores.std()*100\n",
    "        )    \n",
    "    )"
   ]
  },
  {
   "cell_type": "markdown",
   "metadata": {},
   "source": [
    "Here are our results:\n",
    "* Classifier MultinomialNB has an average classification accuracy of 57.04 (0.97)\n",
    "* Classifier MLPClassifier has an average classification accuracy of 60.17 (1.07)\n",
    "\n",
    "Comparing with our previous results:\n",
    "* Classifier MultinomialNB has an average classification accuracy of 58.90 (1.12)\n",
    "* Classifier MLPClassifier has an average classification accuracy of 61.20 (0.54)\n",
    "\n",
    "We see a slight reduction in accuracy, although we are on or close to the bounds of variance. Reducing our dimensionality does not seem to be the way to proceed.\n",
    "\n",
    "Even though our SVC classifier performed well in the spot-checks - it takes a very long time to train. For these more general experiments, we will thus limit to the Naive Bayes and the MLP classifier."
   ]
  },
  {
   "cell_type": "code",
   "execution_count": 8,
   "metadata": {},
   "outputs": [
    {
     "name": "stdout",
     "output_type": "stream",
     "text": [
      "Our data has the following dimensionality:  (11238, 10000)\n",
      "Classifier MultinomialNB has an average classification accuracy of 59.26 (1.16)\n",
      "Classifier MLPClassifier has an average classification accuracy of 62.11 (0.36)\n"
     ]
    }
   ],
   "source": [
    "# Now let's increase our dimensionality\n",
    "\n",
    "# Delete our earlier data\n",
    "del X, t\n",
    "\n",
    "from keras.preprocessing.text import Tokenizer\n",
    "\n",
    "# create the tokenizer\n",
    "t = Tokenizer(num_words=10000)\n",
    "# fit the tokenizer on the documents\n",
    "t.fit_on_texts(docs)\n",
    "\n",
    "X = t.texts_to_matrix(docs, mode='tfidf')\n",
    "print(\"Our data has the following dimensionality: \", X.shape)\n",
    "\n",
    "# SVC takes too long to train\n",
    "classifiers = [\n",
    "    MultinomialNB(),\n",
    "    MLPClassifier()\n",
    "]\n",
    "for clf in classifiers:\n",
    "    name = clf.__class__.__name__\n",
    "    scores = cross_val_score(clf, X, Y_integers, cv=5)\n",
    "    results.append((\n",
    "        name, \n",
    "        scores.mean()*100, \n",
    "        scores.std()*100\n",
    "    ))\n",
    "        \n",
    "    print(\n",
    "        \"Classifier {0} has an average classification accuracy of {1:.2f} ({2:.2f})\".format(\n",
    "            name, \n",
    "            scores.mean()*100, \n",
    "            scores.std()*100\n",
    "        )    \n",
    "    )"
   ]
  },
  {
   "cell_type": "markdown",
   "metadata": {},
   "source": [
    "Results:\n",
    "* Classifier MultinomialNB has an average classification accuracy of 59.26 (1.16)\n",
    "* Classifier MLPClassifier has an average classification accuracy of 62.11 (0.36)\n",
    "\n",
    "There does appear to be a small increase in performance (~2% - where variance is ~1%). So more words does help us. However, it does not help as much as we would expect it too (e.g. doubling our number of counted words does not double performance).\n",
    "\n",
    "This indicates that much of our classification is being performed on a limited set of terms.  \n",
    "\n",
    "Let's see what another doubling of our dimensionality does..."
   ]
  },
  {
   "cell_type": "code",
   "execution_count": 9,
   "metadata": {},
   "outputs": [
    {
     "name": "stdout",
     "output_type": "stream",
     "text": [
      "Our data has the following dimensionality:  (11238, 20000)\n",
      "Classifier MultinomialNB has an average classification accuracy of 59.24 (1.33)\n",
      "Classifier MLPClassifier has an average classification accuracy of 61.91 (0.43)\n"
     ]
    }
   ],
   "source": [
    "# Delete our earlier data\n",
    "del X, t\n",
    "\n",
    "from keras.preprocessing.text import Tokenizer\n",
    "\n",
    "# create the tokenizer\n",
    "t = Tokenizer(num_words=20000)\n",
    "# fit the tokenizer on the documents\n",
    "t.fit_on_texts(docs)\n",
    "\n",
    "X = t.texts_to_matrix(docs, mode='tfidf')\n",
    "print(\"Our data has the following dimensionality: \", X.shape)\n",
    "\n",
    "# SVC takes too long to train\n",
    "classifiers = [\n",
    "    MultinomialNB(),\n",
    "    MLPClassifier()\n",
    "]\n",
    "for clf in classifiers:\n",
    "    name = clf.__class__.__name__\n",
    "    scores = cross_val_score(clf, X, Y_integers, cv=5)\n",
    "    results.append((\n",
    "        name, \n",
    "        scores.mean()*100, \n",
    "        scores.std()*100\n",
    "    ))\n",
    "        \n",
    "    print(\n",
    "        \"Classifier {0} has an average classification accuracy of {1:.2f} ({2:.2f})\".format(\n",
    "            name, \n",
    "            scores.mean()*100, \n",
    "            scores.std()*100\n",
    "        )    \n",
    "    )"
   ]
  },
  {
   "cell_type": "markdown",
   "metadata": {},
   "source": [
    "Results:\n",
    "* Classifier MultinomialNB has an average classification accuracy of 59.24 (1.33)\n",
    "* Classifier MLPClassifier has an average classification accuracy of 61.91 (0.43)\n",
    "\n",
    "There seems to be a leveling off of performance with increased dimensionality. Here there will always be a trade-off between dimensionality and performance. In this case, as we are only obtaining a small percentage increase, it may be better to use a smaller dimensionality to allow faster classification.\n",
    "\n",
    "Another aside on speed: the Naive Bayes classifier is much faster to train than the MLP classifier, and the difference in performance is only 1-2%. If we were looking at a production system, there may be a benefit in using the Naive Bayes classifier over the more fancy deep-learning approaches."
   ]
  },
  {
   "cell_type": "markdown",
   "metadata": {},
   "source": [
    "## Changing Data Conversion Methods\n",
    "\n",
    "The texts_to_matrix method for the text tokeniser has for different modes: \"binary\", \"count\", \"tfidf\", \"freq\". These are not explained but it is presumed that binary provides just an indication of presence for a word, and count/freq provide un-normalised count data. Looking at the [source](https://github.com/keras-team/keras/blob/master/keras/preprocessing/text.py), freq divides the count c by the length of the sequence. "
   ]
  },
  {
   "cell_type": "code",
   "execution_count": 10,
   "metadata": {},
   "outputs": [
    {
     "name": "stdout",
     "output_type": "stream",
     "text": [
      "Mode binary - Classifier MultinomialNB has an average classification accuracy of 57.07 (0.82)\n",
      "Mode binary - Classifier MLPClassifier has an average classification accuracy of 59.63 (0.71)\n",
      "Mode count - Classifier MultinomialNB has an average classification accuracy of 57.53 (0.89)\n",
      "Mode count - Classifier MLPClassifier has an average classification accuracy of 59.00 (0.63)\n",
      "Mode freq - Classifier MultinomialNB has an average classification accuracy of 30.82 (0.05)\n"
     ]
    },
    {
     "name": "stderr",
     "output_type": "stream",
     "text": [
      "/usr/local/lib/python3.5/dist-packages/sklearn/neural_network/multilayer_perceptron.py:564: ConvergenceWarning: Stochastic Optimizer: Maximum iterations (200) reached and the optimization hasn't converged yet.\n",
      "  % self.max_iter, ConvergenceWarning)\n",
      "/usr/local/lib/python3.5/dist-packages/sklearn/neural_network/multilayer_perceptron.py:564: ConvergenceWarning: Stochastic Optimizer: Maximum iterations (200) reached and the optimization hasn't converged yet.\n",
      "  % self.max_iter, ConvergenceWarning)\n",
      "/usr/local/lib/python3.5/dist-packages/sklearn/neural_network/multilayer_perceptron.py:566: UserWarning: Training interrupted by user.\n",
      "  warnings.warn(\"Training interrupted by user.\")\n",
      "/usr/local/lib/python3.5/dist-packages/sklearn/neural_network/multilayer_perceptron.py:564: ConvergenceWarning: Stochastic Optimizer: Maximum iterations (200) reached and the optimization hasn't converged yet.\n",
      "  % self.max_iter, ConvergenceWarning)\n"
     ]
    },
    {
     "name": "stdout",
     "output_type": "stream",
     "text": [
      "Mode freq - Classifier MLPClassifier has an average classification accuracy of 57.65 (1.38)\n"
     ]
    },
    {
     "name": "stderr",
     "output_type": "stream",
     "text": [
      "/usr/local/lib/python3.5/dist-packages/sklearn/neural_network/multilayer_perceptron.py:564: ConvergenceWarning: Stochastic Optimizer: Maximum iterations (200) reached and the optimization hasn't converged yet.\n",
      "  % self.max_iter, ConvergenceWarning)\n"
     ]
    }
   ],
   "source": [
    "modes = [\"binary\", \"count\", \"freq\"]\n",
    "\n",
    "for mode in modes:\n",
    "    # create the tokenizer\n",
    "    t = Tokenizer(num_words=5000)\n",
    "    # fit the tokenizer on the documents\n",
    "    t.fit_on_texts(docs)\n",
    "\n",
    "    X = t.texts_to_matrix(docs, mode=mode)\n",
    "    for clf in classifiers:\n",
    "        name = clf.__class__.__name__\n",
    "        scores = cross_val_score(clf, X, Y_integers, cv=5)\n",
    "        \n",
    "        print(\n",
    "            \"Mode {0} - Classifier {1} has an average classification accuracy of {2:.2f} ({3:.2f})\".format(\n",
    "                mode,\n",
    "                name, \n",
    "                scores.mean()*100, \n",
    "                scores.std()*100\n",
    "            )    \n",
    "        )"
   ]
  },
  {
   "cell_type": "markdown",
   "metadata": {},
   "source": [
    "Results:\n",
    "* Mode binary - Classifier MultinomialNB has an average classification accuracy of 57.07 (0.82)\n",
    "* Mode binary - Classifier MLPClassifier has an average classification accuracy of 59.63 (0.71)\n",
    "* Mode count - Classifier MultinomialNB has an average classification accuracy of 57.53 (0.89)\n",
    "* Mode count - Classifier MLPClassifier has an average classification accuracy of 59.00 (0.63)\n",
    "* Mode freq - Classifier MultinomialNB has an average classification accuracy of 30.82 (0.05)\n",
    "* Mode freq - Classifier MLPClassifier has an average classification accuracy of 57.65 (1.38)\n",
    "\n",
    "Some interestings results here. TD-IDF appears the best metric to use. Frequency counts appear to cause problems with both classifiers (the MLP does not converge to a solution after 200 iterations). Using TD-IDF over just count data appears to increase performance by 1-2%."
   ]
  },
  {
   "cell_type": "markdown",
   "metadata": {},
   "source": [
    "## Increasing Performance with Ensembles\n",
    "\n",
    "How do each of our preferred machine learning algorithms build their models? If they each have different strengths and weaknesses we may be able to build an ensemble model that outperforms the individual performance."
   ]
  },
  {
   "cell_type": "markdown",
   "metadata": {},
   "source": [
    "### Looking at the Confusion Matrix for Insights\n",
    "\n",
    "Luckily scikit-learn provides a [helpful example](http://scikit-learn.org/stable/auto_examples/model_selection/plot_confusion_matrix.html) that shows how to plot a confusion matrix. We will use this code below."
   ]
  },
  {
   "cell_type": "code",
   "execution_count": 11,
   "metadata": {},
   "outputs": [],
   "source": [
    "import itertools\n",
    "import numpy as np\n",
    "import matplotlib.pyplot as plt\n",
    "\n",
    "from sklearn.model_selection import train_test_split\n",
    "from sklearn.metrics import confusion_matrix\n",
    "\n",
    "def plot_confusion_matrix(cm, classes,\n",
    "                          normalize=False,\n",
    "                          title='Confusion matrix',\n",
    "                          cmap=plt.cm.Blues):\n",
    "    \"\"\"\n",
    "    This function prints and plots the confusion matrix.\n",
    "    Normalization can be applied by setting `normalize=True`.\n",
    "    \"\"\"\n",
    "    if normalize:\n",
    "        cm = cm.astype('float') / cm.sum(axis=1)[:, np.newaxis]\n",
    "        print(\"Normalized confusion matrix\")\n",
    "    else:\n",
    "        print('Confusion matrix, without normalization')\n",
    "\n",
    "    print(cm)\n",
    "\n",
    "    plt.imshow(cm, interpolation='nearest', cmap=cmap)\n",
    "    plt.title(title)\n",
    "    plt.colorbar()\n",
    "    tick_marks = np.arange(len(classes))\n",
    "    plt.xticks(tick_marks, classes, rotation=45)\n",
    "    plt.yticks(tick_marks, classes)\n",
    "\n",
    "    fmt = '.2f' if normalize else 'd'\n",
    "    thresh = cm.max() / 2.\n",
    "    for i, j in itertools.product(range(cm.shape[0]), range(cm.shape[1])):\n",
    "        plt.text(j, i, format(cm[i, j], fmt),\n",
    "                 horizontalalignment=\"center\",\n",
    "                 color=\"white\" if cm[i, j] > thresh else \"black\")\n",
    "\n",
    "    plt.tight_layout()\n",
    "    plt.ylabel('True label')\n",
    "    plt.xlabel('Predicted label')"
   ]
  },
  {
   "cell_type": "code",
   "execution_count": 16,
   "metadata": {},
   "outputs": [
    {
     "name": "stdout",
     "output_type": "stream",
     "text": [
      "Normalized confusion matrix\n",
      "[[0.34 0.14 0.22 0.01 0.11 0.07 0.1  0.01]\n",
      " [0.02 0.52 0.11 0.03 0.09 0.13 0.07 0.03]\n",
      " [0.08 0.1  0.73 0.   0.01 0.02 0.02 0.04]\n",
      " [0.   0.   0.25 0.38 0.25 0.12 0.   0.  ]\n",
      " [0.   0.14 0.07 0.02 0.62 0.09 0.05 0.02]\n",
      " [0.01 0.12 0.02 0.01 0.08 0.69 0.05 0.03]\n",
      " [0.01 0.06 0.04 0.   0.01 0.03 0.7  0.16]\n",
      " [0.   0.07 0.05 0.01 0.02 0.05 0.23 0.58]]\n",
      "Normalized confusion matrix\n",
      "[[0.63 0.1  0.1  0.   0.   0.03 0.07 0.05]\n",
      " [0.09 0.53 0.07 0.01 0.02 0.07 0.11 0.11]\n",
      " [0.25 0.12 0.48 0.   0.01 0.01 0.04 0.08]\n",
      " [0.25 0.25 0.25 0.   0.12 0.   0.   0.12]\n",
      " [0.16 0.19 0.03 0.   0.38 0.12 0.07 0.05]\n",
      " [0.12 0.17 0.01 0.   0.01 0.48 0.11 0.11]\n",
      " [0.04 0.03 0.02 0.   0.   0.02 0.67 0.21]\n",
      " [0.02 0.04 0.02 0.   0.   0.02 0.24 0.66]]\n"
     ]
    },
    {
     "data": {
      "image/png": "[encoded data removed]",
      "text/plain": [
       "<matplotlib.figure.Figure at 0x7fd7cade3e10>"
      ]
     },
     "metadata": {},
     "output_type": "display_data"
    },
    {
     "data": {
      "image/png": "[encoded data removed]",
      "text/plain": [
       "<matplotlib.figure.Figure at 0x7fd7cab0a630>"
      ]
     },
     "metadata": {},
     "output_type": "display_data"
    }
   ],
   "source": [
    "# create the tokenizer\n",
    "t = Tokenizer(num_words=5000)\n",
    "# fit the tokenizer on the documents\n",
    "t.fit_on_texts(docs)\n",
    "\n",
    "X = t.texts_to_matrix(docs, mode=\"tfidf\")\n",
    "\n",
    "NBclf = MultinomialNB()\n",
    "MLPclf = MLPClassifier()\n",
    "\n",
    "X_train, X_test, y_train, y_test = train_test_split(X, Y_integers, random_state=0)\n",
    "\n",
    "NB_y_pred = NBclf.fit(X_train, y_train).predict(X_test)\n",
    "MLP_y_pred = MLPclf.fit(X_train, y_train).predict(X_test)\n",
    "\n",
    "# Compute confusion matrix\n",
    "NB_cnf_matrix = confusion_matrix(y_test, NB_y_pred)\n",
    "MLP_cnf_matrix = confusion_matrix(y_test, MLP_y_pred)\n",
    "np.set_printoptions(precision=2)\n",
    "\n",
    "class_names = ['A', 'B', 'C', 'D', 'E', 'F', 'G', 'H']\n",
    "# Plot non-normalized confusion matrix\n",
    "plt.figure()\n",
    "plot_confusion_matrix(NB_cnf_matrix, classes=class_names, normalize=True,\n",
    "                      title='Confusion matrix for Naive Bayes, with normalization')\n",
    "\n",
    "plt.figure()\n",
    "plot_confusion_matrix(MLP_cnf_matrix, classes=class_names, normalize=True,\n",
    "                      title='Confusion matrix for MLP Classifier, with normalization')\n",
    "\n",
    "plt.show()"
   ]
  },
  {
   "cell_type": "markdown",
   "metadata": {},
   "source": [
    "#### Observations on the Confusion Matrix\n",
    "\n",
    "The Naive Bayes classifier performs better than the MLP classifier for Sections C, D, E, F and G. The MLP classifier performs better for Sections A, B, and H. \n",
    "\n",
    "This suggests that an ensemble of both classifiers may work at improving performance. scikit-learn has a method to use both hard and soft voting [here](http://scikit-learn.org/stable/modules/ensemble.html)."
   ]
  },
  {
   "cell_type": "code",
   "execution_count": 22,
   "metadata": {},
   "outputs": [
    {
     "name": "stderr",
     "output_type": "stream",
     "text": [
      "/usr/local/lib/python3.5/dist-packages/sklearn/preprocessing/label.py:151: DeprecationWarning: The truth value of an empty array is ambiguous. Returning False, but in future this will result in an error. Use `array.size > 0` to check that an array is not empty.\n",
      "  if diff:\n",
      "/usr/local/lib/python3.5/dist-packages/sklearn/preprocessing/label.py:151: DeprecationWarning: The truth value of an empty array is ambiguous. Returning False, but in future this will result in an error. Use `array.size > 0` to check that an array is not empty.\n",
      "  if diff:\n",
      "/usr/local/lib/python3.5/dist-packages/sklearn/preprocessing/label.py:151: DeprecationWarning: The truth value of an empty array is ambiguous. Returning False, but in future this will result in an error. Use `array.size > 0` to check that an array is not empty.\n",
      "  if diff:\n",
      "/usr/local/lib/python3.5/dist-packages/sklearn/preprocessing/label.py:151: DeprecationWarning: The truth value of an empty array is ambiguous. Returning False, but in future this will result in an error. Use `array.size > 0` to check that an array is not empty.\n",
      "  if diff:\n",
      "/usr/local/lib/python3.5/dist-packages/sklearn/preprocessing/label.py:151: DeprecationWarning: The truth value of an empty array is ambiguous. Returning False, but in future this will result in an error. Use `array.size > 0` to check that an array is not empty.\n",
      "  if diff:\n"
     ]
    }
   ],
   "source": [
    "from sklearn.ensemble import VotingClassifier\n",
    "\n",
    "estimators = []\n",
    "estimators.append(('NB', NBclf))\n",
    "estimators.append(('MLP', MLPclf))\n",
    "# create the ensemble model\n",
    "ensemble = VotingClassifier(estimators)\n",
    "scores = cross_val_score(ensemble, X, Y_integers, cv=5)"
   ]
  },
  {
   "cell_type": "code",
   "execution_count": 24,
   "metadata": {},
   "outputs": [
    {
     "data": {
      "text/plain": [
       "array([0.61, 0.59, 0.6 , 0.6 , 0.6 ])"
      ]
     },
     "execution_count": 24,
     "metadata": {},
     "output_type": "execute_result"
    }
   ],
   "source": [
    "scores"
   ]
  },
  {
   "cell_type": "code",
   "execution_count": 25,
   "metadata": {},
   "outputs": [
    {
     "data": {
      "text/plain": [
       "59.89522060313159"
      ]
     },
     "execution_count": 25,
     "metadata": {},
     "output_type": "execute_result"
    }
   ],
   "source": [
    "scores.mean()*100"
   ]
  },
  {
   "cell_type": "code",
   "execution_count": 26,
   "metadata": {},
   "outputs": [
    {
     "data": {
      "text/plain": [
       "0.7295624868552363"
      ]
     },
     "execution_count": 26,
     "metadata": {},
     "output_type": "execute_result"
    }
   ],
   "source": [
    "scores.std()*100"
   ]
  },
  {
   "cell_type": "code",
   "execution_count": 23,
   "metadata": {},
   "outputs": [
    {
     "name": "stderr",
     "output_type": "stream",
     "text": [
      "/usr/local/lib/python3.5/dist-packages/sklearn/preprocessing/label.py:151: DeprecationWarning: The truth value of an empty array is ambiguous. Returning False, but in future this will result in an error. Use `array.size > 0` to check that an array is not empty.\n",
      "  if diff:\n",
      "/usr/local/lib/python3.5/dist-packages/sklearn/preprocessing/label.py:151: DeprecationWarning: The truth value of an empty array is ambiguous. Returning False, but in future this will result in an error. Use `array.size > 0` to check that an array is not empty.\n",
      "  if diff:\n",
      "/usr/local/lib/python3.5/dist-packages/sklearn/preprocessing/label.py:151: DeprecationWarning: The truth value of an empty array is ambiguous. Returning False, but in future this will result in an error. Use `array.size > 0` to check that an array is not empty.\n",
      "  if diff:\n",
      "/usr/local/lib/python3.5/dist-packages/sklearn/preprocessing/label.py:151: DeprecationWarning: The truth value of an empty array is ambiguous. Returning False, but in future this will result in an error. Use `array.size > 0` to check that an array is not empty.\n",
      "  if diff:\n",
      "/usr/local/lib/python3.5/dist-packages/sklearn/preprocessing/label.py:151: DeprecationWarning: The truth value of an empty array is ambiguous. Returning False, but in future this will result in an error. Use `array.size > 0` to check that an array is not empty.\n",
      "  if diff:\n"
     ]
    }
   ],
   "source": [
    "# Trying soft voting\n",
    "ensemble = VotingClassifier(estimators, voting = \"soft\")\n",
    "scores = cross_val_score(ensemble, X, Y_integers, cv=5)"
   ]
  },
  {
   "cell_type": "code",
   "execution_count": 27,
   "metadata": {},
   "outputs": [
    {
     "data": {
      "text/plain": [
       "array([0.61, 0.59, 0.6 , 0.6 , 0.6 ])"
      ]
     },
     "execution_count": 27,
     "metadata": {},
     "output_type": "execute_result"
    }
   ],
   "source": [
    "scores"
   ]
  },
  {
   "cell_type": "code",
   "execution_count": 28,
   "metadata": {},
   "outputs": [
    {
     "name": "stderr",
     "output_type": "stream",
     "text": [
      "/usr/local/lib/python3.5/dist-packages/sklearn/preprocessing/label.py:151: DeprecationWarning: The truth value of an empty array is ambiguous. Returning False, but in future this will result in an error. Use `array.size > 0` to check that an array is not empty.\n",
      "  if diff:\n"
     ]
    },
    {
     "name": "stdout",
     "output_type": "stream",
     "text": [
      "Normalized confusion matrix\n",
      "[[0.37 0.14 0.21 0.01 0.09 0.07 0.1  0.02]\n",
      " [0.02 0.52 0.11 0.02 0.09 0.12 0.07 0.04]\n",
      " [0.08 0.1  0.73 0.   0.01 0.01 0.02 0.04]\n",
      " [0.   0.   0.25 0.38 0.25 0.12 0.   0.  ]\n",
      " [0.   0.16 0.07 0.02 0.6  0.09 0.05 0.02]\n",
      " [0.02 0.12 0.02 0.01 0.07 0.68 0.06 0.04]\n",
      " [0.01 0.06 0.04 0.   0.01 0.02 0.7  0.16]\n",
      " [0.   0.06 0.04 0.   0.01 0.05 0.23 0.6 ]]\n"
     ]
    },
    {
     "data": {
      "image/png": "[encoded data removed]",
      "text/plain": [
       "<matplotlib.figure.Figure at 0x7fd7cadb0630>"
      ]
     },
     "metadata": {},
     "output_type": "display_data"
    }
   ],
   "source": [
    "EN_y_pred = ensemble.fit(X_train, y_train).predict(X_test)\n",
    "\n",
    "# Compute confusion matrix\n",
    "EN_cnf_matrix = confusion_matrix(y_test, EN_y_pred)\n",
    "np.set_printoptions(precision=2)\n",
    "\n",
    "class_names = ['A', 'B', 'C', 'D', 'E', 'F', 'G', 'H']\n",
    "# Plot non-normalized confusion matrix\n",
    "plt.figure()\n",
    "plot_confusion_matrix(EN_cnf_matrix, classes=class_names, normalize=True,\n",
    "                      title='Confusion matrix for Ensemble Classifier, with normalization')\n",
    "\n",
    "plt.show()"
   ]
  },
  {
   "cell_type": "code",
   "execution_count": null,
   "metadata": {},
   "outputs": [],
   "source": []
  }
 ],
 "metadata": {
  "kernelspec": {
   "display_name": "Python 3",
   "language": "python",
   "name": "python3"
  },
  "language_info": {
   "codemirror_mode": {
    "name": "ipython",
    "version": 3
   },
   "file_extension": ".py",
   "mimetype": "text/x-python",
   "name": "python",
   "nbconvert_exporter": "python",
   "pygments_lexer": "ipython3",
   "version": "3.5.2"
  }
 },
 "nbformat": 4,
 "nbformat_minor": 2
}
