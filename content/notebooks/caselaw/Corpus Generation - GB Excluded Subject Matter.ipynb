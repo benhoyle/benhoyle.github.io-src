{
 "cells": [
  {
   "cell_type": "markdown",
   "metadata": {},
   "source": [
    "# Replacing the Associate - Legal Machine Learning\n",
    "\n",
    "This post is part of a series that look at applying machine learning to legal information. We will start off by looking at case law for exclued subject matter in the United Kingdom and Europe."
   ]
  },
  {
   "cell_type": "markdown",
   "metadata": {},
   "source": [
    "## Corpus Creation\n",
    "\n",
    "This post will cover the steps needed to create a corpus of UK and European patent case law. This corpus can be used for machine learning / automated processing."
   ]
  },
  {
   "cell_type": "markdown",
   "metadata": {},
   "source": [
    "### Prequisites\n",
    "\n",
    "Before you start you need to install Python and a bucketful of useful libraries. The best way to do this is to use [Anaconda](https://www.continuum.io/downloads). On my ten-year-old laptop running Puppy Linux (which was in the loft for a year or so covered in woodlouse excrement) this simply involved running the script. No compiling from source. No version errors. No messing with pip. \n",
    "\n",
    "The code below does use pywget, which is not installed in the Anaconda environment by default. To install it run the following from a terminal / command line:\n",
    "```\n",
    "conda install pywget\n",
    "```\n",
    "I find that Jupyter (formerly iPython) notebooks are a great way to iteratively code. You can test out ideas block by block, shift stuff around, output and document all in the same tool. You can also easily export to HTML with one click (hence this post). To start a notebook having installed Anaconda run the following:\n",
    "```\n",
    "jypyter notebook\n",
    "```\n",
    "This will start the notebook server on your local machine and open your browser. By default the notebooks are served at *localhost:8888*. To access across a local network use the *-ip* flag with your IP address (e.g. -ip 192.168.1.2) and then point your browser at *[your-ip]:8888* (use -p to change the port)."
   ]
  },
  {
   "cell_type": "markdown",
   "metadata": {},
   "source": [
    "#### Imports"
   ]
  },
  {
   "cell_type": "code",
   "execution_count": 1,
   "metadata": {
    "scrolled": true
   },
   "outputs": [],
   "source": [
    "# Import requests for web requests\n",
    "import requests\n",
    "# Import Beautiful Soup for HTML parsing\n",
    "from bs4 import BeautifulSoup\n",
    "# Import pywget to download PDFs from URLs\n",
    "import wget\n",
    "# Import urlparsing tool for relative links\n",
    "from urllib.parse import urljoin\n",
    "# Import time to allow for delays (so we don't get booted for being a bot)\n",
    "import time\n",
    "# Import os to allow file manipulation\n",
    "import os\n",
    "# Import SQLAlchemy to save case law details in old DB\n",
    "import sqlalchemy\n",
    "# Import datetime for string to date conversion\n",
    "from datetime import datetime"
   ]
  },
  {
   "cell_type": "code",
   "execution_count": 2,
   "metadata": {},
   "outputs": [],
   "source": [
    "# Save current working directory as a variable for use later\n",
    "current_dir = os.getcwd()"
   ]
  },
  {
   "cell_type": "markdown",
   "metadata": {},
   "source": [
    "## GB Excluded Subject Matter Hearings\n",
    "\n",
    "This post will discuss how to generate a corpus of UK Intellectual Property Office decisions regarding excluded subject matter."
   ]
  },
  {
   "cell_type": "markdown",
   "metadata": {},
   "source": [
    "***\n",
    "1) Define URLs for excluded subject matter allowed and refused result tables from UKIPO."
   ]
  },
  {
   "cell_type": "code",
   "execution_count": 3,
   "metadata": {
    "collapsed": true,
    "scrolled": false
   },
   "outputs": [],
   "source": [
    "base_url = \"https://www.ipo.gov.uk/\""
   ]
  },
  {
   "cell_type": "code",
   "execution_count": 4,
   "metadata": {
    "collapsed": true,
    "scrolled": true
   },
   "outputs": [],
   "source": [
    "url_excluded_allowed = \"https://www.ipo.gov.uk/p-challenge-decision-results/p-challenge-decision-results-gen.htm?hearingtype=All&number=&MonthFrom=&YearFrom=&MonthTo=&YearTo=&hearingofficer=&party=&provisions=&keywords1=Excluded+fields+%28allowed%29&keywords2=&keywords3=&submit=Go+%BB\""
   ]
  },
  {
   "cell_type": "code",
   "execution_count": 5,
   "metadata": {
    "collapsed": true,
    "scrolled": true
   },
   "outputs": [],
   "source": [
    "url_excluded_refused = \"https://www.ipo.gov.uk/p-challenge-decision-results/p-challenge-decision-results-gen.htm?hearingtype=All&number=&MonthFrom=&YearFrom=&MonthTo=&YearTo=&hearingofficer=&party=&provisions=&keywords1=Excluded+fields+%28refused%29&keywords2=&keywords3=&submit=Go+%BB\""
   ]
  },
  {
   "cell_type": "markdown",
   "metadata": {},
   "source": [
    "***\n",
    "2) Make a request to the results page for cases that were allowed, i.e. that were deemed not to relate to excluded subject matter. Load the result into Beautiful Soup."
   ]
  },
  {
   "cell_type": "code",
   "execution_count": 6,
   "metadata": {
    "scrolled": true
   },
   "outputs": [],
   "source": [
    "r = requests.get(url_excluded_allowed)\n",
    "data = r.text\n",
    "soup = BeautifulSoup(data, \"lxml\")"
   ]
  },
  {
   "cell_type": "markdown",
   "metadata": {},
   "source": [
    "***\n",
    "3) Have a look at the fields we need to store - get these from the table's header cells."
   ]
  },
  {
   "cell_type": "code",
   "execution_count": 7,
   "metadata": {
    "scrolled": true
   },
   "outputs": [
    {
     "name": "stdout",
     "output_type": "stream",
     "text": [
      "BL Number\n",
      "Application / Patent Number\n",
      "Person(s) or Company(s) involved\n",
      "Hearing Officer\n",
      "Decision Date\n"
     ]
    }
   ],
   "source": [
    "# Get headers for results table\n",
    "for tableheader in soup.find_all('th'):\n",
    "    print(tableheader.get_text())"
   ]
  },
  {
   "cell_type": "markdown",
   "metadata": {},
   "source": [
    "***\n",
    "4) Generate DB using SQLAlchemy and define class to hold data."
   ]
  },
  {
   "cell_type": "code",
   "execution_count": 8,
   "metadata": {},
   "outputs": [],
   "source": [
    "# Define name and path for SQLite3 DB\n",
    "db_name = \"gb_excluded_sm.db\"\n",
    "db_path = os.path.join(current_dir, db_name)\n",
    "\n",
    "# Create DB\n",
    "from sqlalchemy import create_engine\n",
    "engine = create_engine('sqlite:///' + db_path, echo=False)\n",
    "\n",
    "# Setup base class\n",
    "from sqlalchemy.ext.declarative import declarative_base\n",
    "Base = declarative_base()\n",
    "\n",
    "# Define Class for Excluded Matter Case Details\n",
    "from sqlalchemy import Column, Integer, String, Date, Boolean, Text\n",
    "class Decision(Base):\n",
    "    __tablename__ = 'decisions'\n",
    "    \n",
    "    id = Column(Integer, primary_key=True)\n",
    "    # Hearing number\n",
    "    bl_number = Column(String(15))\n",
    "    # Application number\n",
    "    appln_no = Column(String(15))\n",
    "    # Publication number / patent number\n",
    "    pub_no = Column(String(15))\n",
    "    # Country code e.g. GB\n",
    "    country_code = Column(String(2))\n",
    "    # Applicant / proprietor \n",
    "    applicant = Column(String(256))\n",
    "    \n",
    "    hearing_officer = Column(String(128))\n",
    "    decision_date = Column(Date)\n",
    "    # Link for the decision page\n",
    "    link = Column(String(128))\n",
    "    # Summary text\n",
    "    summary = Column(Text)\n",
    "    # File name for the PDF\n",
    "    filelink = Column(String(128))\n",
    "    \n",
    "    # Whether case was deemed to relate to excluded subject matter\n",
    "    excluded = Column(Boolean)\n",
    "    \n",
    "    \n",
    "    def as_dict(self):\n",
    "        \"\"\" Return object as a dictionary. \"\"\"\n",
    "        temp_dict = {}\n",
    "        temp_dict['object_type'] = self.__class__.__name__\n",
    "        for c in self.__table__.columns:\n",
    "            cur_attr = getattr(self, c.name)\n",
    "            # If datetime generate string representation\n",
    "            if isinstance(cur_attr, datetime):\n",
    "                cur_attr = cur_attr.strftime('%d %B %Y')\n",
    "            temp_dict[c.name] = cur_attr\n",
    "        return temp_dict\n",
    "    \n",
    "    def populate(self, data):\n",
    "        \"\"\" Populates matching attributes of class instance. \n",
    "        param dict data: dict where for each entry key, value equal attributename, attributevalue.\"\"\"\n",
    "        for key, value in data.items():\n",
    "            if hasattr(self, key):\n",
    "                # Convert string dates into datetimes\n",
    "                if isinstance(getattr(self, key), datetime) or str(self.__table__.c[key].type) == 'DATE':\n",
    "                    value = datetime.strptime(value, \"%d %B %Y\")\n",
    "                setattr(self, key, value)"
   ]
  },
  {
   "cell_type": "code",
   "execution_count": 9,
   "metadata": {},
   "outputs": [],
   "source": [
    "# Clear existing DB\n",
    "Base.metadata.drop_all(engine)\n",
    "# Create new DB    \n",
    "Base.metadata.create_all(engine)"
   ]
  },
  {
   "cell_type": "markdown",
   "metadata": {},
   "source": [
    "***\n",
    "5) Investigate getting data entries from results list."
   ]
  },
  {
   "cell_type": "code",
   "execution_count": 10,
   "metadata": {},
   "outputs": [
    {
     "data": {
      "text/plain": [
       "<tbody>\n",
       "<tr>\n",
       "<td><a href=\"p-challenge-decision-results-bl?BL_Number=O/312/15\">O/312/15</a></td>\n",
       "<td>GB1109923.1</td>\n",
       "<td>The Boeing Company</td>\n",
       "<td>Miss J Pullen</td>\n",
       "<td class=\"no-wrap\">6 July 2015</td>\n",
       "</tr>\n",
       "</tbody>"
      ]
     },
     "execution_count": 10,
     "metadata": {},
     "output_type": "execute_result"
    }
   ],
   "source": [
    "# Have a look at each result\n",
    "tableitem = soup.find('tbody')\n",
    "tableitem"
   ]
  },
  {
   "cell_type": "code",
   "execution_count": 11,
   "metadata": {},
   "outputs": [
    {
     "data": {
      "text/plain": [
       "'https://www.ipo.gov.uk/p-challenge-decision-results-bl?BL_Number=O/312/15'"
      ]
     },
     "execution_count": 11,
     "metadata": {},
     "output_type": "execute_result"
    }
   ],
   "source": [
    "# Get the link as below\n",
    "relative_link = tableitem.find('a').get('href')\n",
    "urljoin(base_url, relative_link)"
   ]
  },
  {
   "cell_type": "code",
   "execution_count": 12,
   "metadata": {},
   "outputs": [
    {
     "name": "stdout",
     "output_type": "stream",
     "text": [
      "O/312/15\n",
      "GB1109923.1\n",
      "The Boeing Company\n",
      "Miss J Pullen\n",
      "6 July 2015\n"
     ]
    }
   ],
   "source": [
    "# Get individual data items from that result\n",
    "for td in tableitem.find_all('td'):\n",
    "    print(td.get_text())"
   ]
  },
  {
   "cell_type": "code",
   "execution_count": 13,
   "metadata": {
    "collapsed": true
   },
   "outputs": [],
   "source": [
    "# Define list of DB fields\n",
    "fields = ['bl_number', 'appln_no', 'applicant' , 'hearing_officer', 'decision_date']"
   ]
  },
  {
   "cell_type": "markdown",
   "metadata": {},
   "source": [
    "***\n",
    "6) Define routine to get details and store as a series of dicts"
   ]
  },
  {
   "cell_type": "code",
   "execution_count": 14,
   "metadata": {
    "scrolled": true
   },
   "outputs": [],
   "source": [
    "# Get details for results table as a list of dicts\n",
    "results = []\n",
    "# For each result entry\n",
    "for tableitem in soup.find_all('tbody'):\n",
    "    \n",
    "    # Get individual data items from that result\n",
    "    result = {field:td.get_text() for td, field in zip(tableitem.find_all('td'),fields)}\n",
    "    result['link'] = urljoin(base_url, tableitem.find('a').get('href'))\n",
    "    result['excluded'] = False\n",
    "    # Get link to PDF by following result link\n",
    "    r = requests.get(result['link'])\n",
    "    resultsoup = BeautifulSoup(r.text, \"lxml\")\n",
    "    result['filelink'] = resultsoup.find('a', rel='pdf').get('href')\n",
    "    result['summary'] = resultsoup.find('p', class_=\"summary\").get_text()\n",
    "    # Add delay to avoid server overload / denial\n",
    "    time.sleep(1)\n",
    "    results.append(result)"
   ]
  },
  {
   "cell_type": "code",
   "execution_count": 15,
   "metadata": {},
   "outputs": [
    {
     "name": "stdout",
     "output_type": "stream",
     "text": [
      "There are 42 decisions in the results\n"
     ]
    }
   ],
   "source": [
    "# Check we have all results - at time of writing = 42\n",
    "print(\"There are \" + str(len(results)) + \" decisions in the results\")"
   ]
  },
  {
   "cell_type": "code",
   "execution_count": 16,
   "metadata": {},
   "outputs": [
    {
     "data": {
      "text/plain": [
       "{'applicant': 'Fisher-Rosemount Systems, Inc',\n",
       " 'appln_no': 'GB0809880.8',\n",
       " 'bl_number': 'O/390/12',\n",
       " 'decision_date': '9 October 2012',\n",
       " 'excluded': True,\n",
       " 'filelink': 'o39012.pdf',\n",
       " 'hearing_officer': 'Mr B Buchanan',\n",
       " 'link': 'https://www.ipo.gov.uk/p-challenge-decision-results-bl?BL_Number=O/390/12',\n",
       " 'summary': 'The invention relates to accessing parameters in a process control system and controlling a process using a parameter value. A universal communication interface enables communication between field devices and other data sources in a process control system. As well as enhancing compatibility between components of the system, the universal interface caches parameter values. This means that in the event of a communications failure between one or more components of the system, when a parameter value cannot be obtained directly, a stored copy of the parameter value can be obtained from the local cache memory and can be used to control the process.\\r\\n'}"
      ]
     },
     "execution_count": 16,
     "metadata": {},
     "output_type": "execute_result"
    }
   ],
   "source": [
    "# Format for a result dict\n",
    "results[6]"
   ]
  },
  {
   "cell_type": "markdown",
   "metadata": {},
   "source": [
    "***\n",
    "7) Save results in Database"
   ]
  },
  {
   "cell_type": "code",
   "execution_count": 17,
   "metadata": {
    "scrolled": true
   },
   "outputs": [],
   "source": [
    "# Setup SQLAlchemy session\n",
    "from sqlalchemy.orm import sessionmaker\n",
    "Session = sessionmaker(bind=engine)\n",
    "session = Session()\n",
    "\n",
    "for result in results:\n",
    "    decision = Decision()\n",
    "    decision.populate(result)\n",
    "    session.add(decision)\n",
    "session.commit()"
   ]
  },
  {
   "cell_type": "code",
   "execution_count": 18,
   "metadata": {},
   "outputs": [
    {
     "data": {
      "text/plain": [
       "42"
      ]
     },
     "execution_count": 18,
     "metadata": {},
     "output_type": "execute_result"
    }
   ],
   "source": [
    "# Check all results are added\n",
    "session.query(Decision).count()"
   ]
  },
  {
   "cell_type": "markdown",
   "metadata": {},
   "source": [
    "***\n",
    "8) Get and save PDF of each decision if it doesn't already exist."
   ]
  },
  {
   "cell_type": "code",
   "execution_count": 19,
   "metadata": {
    "scrolled": true
   },
   "outputs": [
    {
     "name": "stdout",
     "output_type": "stream",
     "text": [
      "O/312/15 - File: o31215.pdf - Already Exists; O/453/14 - File: o45314.pdf - Already Exists; O/435/14 - File: o43514.pdf - Already Exists; O/371/14 - File: o37114.pdf - Already Exists; O/179/14 - File: o17914.pdf - Already Exists; O/438/12 - File: o43812.pdf - Already Exists; O/390/12 - File: o39012.pdf - Already Exists; O/096/12 - File: o09612.pdf - Already Exists; O/018/12 - File: o01812.pdf - Already Exists; O/466/11 - File: o46611.pdf - Already Exists; O/415/11 - File: o41511.pdf - Already Exists; O/373/11 - File: o37311.pdf - Already Exists; O/163/11 - File: o16311.pdf - Already Exists; O/361/10 - File: o36110.pdf - Already Exists; O/117/10 - File: o11710.pdf - Already Exists; O/089/10 - File: o08910.pdf - Already Exists; O/058/10 - File: o05810.pdf - Already Exists; O/136/09 - File: o13609.pdf - Already Exists; O/107/09 - File: o10709.pdf - Already Exists; O/312/08 - File: o31208.pdf - Already Exists; O/238/08 - File: o23808.pdf - Already Exists; O/224/08 - File: o22408.pdf - Already Exists; O/202/08 - File: o20208.pdf - Already Exists; O/191/08 - File: o19108.pdf - Already Exists; O/173/08 - File: o17308.pdf - Already Exists; O/149/08 - File: o14908.pdf - Already Exists; O/075/08 - File: o07508.pdf - Already Exists; O/010/08 - File: o01008.pdf - Already Exists; O/350/07 - File: o35007.pdf - Already Exists; O/330/07 - File: o33007.pdf - Already Exists; O/307/07 - File: o30707.pdf - Already Exists; O/226/07 - File: o22607.pdf - Already Exists; O/150/07 - File: o15007.pdf - Already Exists; O/148/07 - File: o14807.pdf - Already Exists; O/135/07 - File: o13507.pdf - Already Exists; O/010/07 - File: o01007.pdf - Already Exists; O/264/06 - File: o26406.pdf - Already Exists; O/252/06 - File: o25206.pdf - Already Exists; O/198/06 - File: o19806.pdf - Already Exists; O/066/06 - File: o06606.pdf - Already Exists; O/057/06 - File: o05706.pdf - Already Exists; O/292/04 - File: o29204.pdf - Already Exists; "
     ]
    }
   ],
   "source": [
    "# Set directory to save to as excluded\n",
    "directory = \"allowed\"\n",
    "\n",
    "# If there is no folder called [directory] in the current working folder then make one\n",
    "if not os.path.exists(directory):\n",
    "    os.makedirs(directory)\n",
    "    \n",
    "# Set save path as current directory + new sub directory\n",
    "savepath = os.path.join(current_dir, directory)\n",
    "\n",
    "# For each result\n",
    "for result in results:\n",
    "    # Set save path\n",
    "    savename = os.path.join(savepath, result['filelink'])\n",
    "    # If file does not exist\n",
    "    if os.path.isfile(savename):\n",
    "        print(result['bl_number'] + ' - File: ' + result['filelink'] + ' - Already Exists', end='; ')\n",
    "    else:\n",
    "        print('Downloading ' + result['bl_number'] + ' - File: ' + result['filelink'], end='; ')\n",
    "        # This downloads file into \n",
    "        filename = wget.download(urljoin(base_url, result['filelink']), out=savename)\n",
    "        # Space out requests in time\n",
    "        time.sleep(1)"
   ]
  },
  {
   "cell_type": "markdown",
   "metadata": {},
   "source": [
    "***\n",
    "9) Repeat the above steps for decisions that refused the case on the grounds of excluded subject matter."
   ]
  },
  {
   "cell_type": "code",
   "execution_count": 27,
   "metadata": {},
   "outputs": [
    {
     "name": "stdout",
     "output_type": "stream",
     "text": [
      "There are 400 decisions in the results\n"
     ]
    }
   ],
   "source": [
    "r = requests.get(url_excluded_refused)\n",
    "data = r.text\n",
    "soup = BeautifulSoup(data, \"lxml\")\n",
    "# Get details for results table as a list of dicts\n",
    "results = []\n",
    "# For each result entry\n",
    "for tableitem in soup.find_all('tbody'):\n",
    "    # Get individual data items from that result\n",
    "    result = {field:td.get_text() for td, field in zip(tableitem.find_all('td'),fields)}\n",
    "    result['link'] = urljoin(base_url, tableitem.find('a').get('href'))\n",
    "    result['excluded'] = True\n",
    "    results.append(result)\n",
    "    \n",
    "#Check number of results\n",
    "print(\"There are \" + str(len(results)) + \" decisions in the results\")"
   ]
  },
  {
   "cell_type": "markdown",
   "metadata": {},
   "source": [
    "Sending requests on this many decisions eventually resulted in some \"IncompleteRead\" errors when fetching the PDF links."
   ]
  },
  {
   "cell_type": "code",
   "execution_count": 29,
   "metadata": {},
   "outputs": [
    {
     "name": "stdout",
     "output_type": "stream",
     "text": [
      "Processing O/253/16; Getting link; Processing O/137/16; Getting link; Processing O/136/16; Getting link; Processing O/124/16; Getting link; Processing O/111/16; Getting link; Processing O/023/16; Getting link; Processing O/002/16; Getting link; Processing O/599/15; Getting link; Processing O/597/15; Getting link; Processing O/544/15; Getting link; Processing O/543/15; Getting link; Processing O/519/15; Getting link; Processing O/479/15; Getting link; Processing O/477/15; Getting link; Processing O/326/15; Getting link; Processing O/239/15; Getting link; Processing O/186/15; Getting link; Processing O/184/15; Getting link; Processing O/139/15; Getting link; Processing O/118/15; Getting link; Processing O/106/15; Getting link; Processing O/071/15; Getting link; Processing O/057/15; Getting link; Processing O/044/15; Getting link; Processing O/042/15; Getting link; Processing O/038/15; Getting link; Processing O/037/15; Getting link; Processing O/566/14; Getting link; Processing O/551/14; Getting link; Processing O/547/14; Getting link; Processing O/521/14; Getting link; Processing O/460/14; Getting link; Processing O/324/14; Getting link; Processing O/211/14; Getting link; Processing O/174/14; Getting link; Processing O/168/14; Getting link; Processing O/152/14; Getting link; Processing O/151/14; Getting link; Processing O/519/13; Getting link; Processing O/513/13; Getting link; Processing O/483/13; Getting link; Processing O/452/13; Getting link; Processing O/402/13; Getting link; Processing O/388/13; Getting link; Processing O/296/13; Getting link; Processing O/295/13; Getting link; Processing O/286/13; Getting link; Processing O/281/13; Getting link; Processing O/260/13; Getting link; Processing O/248/13; Getting link; Processing O/245/13; Getting link; Processing O/244/13; Getting link; Processing O/228/13; Getting link; Processing O/198/13; Getting link; Processing O/193/13; Getting link; Processing O/177/13; Getting link; Processing O/174/13; Getting link; Processing O/163/13; Getting link; Processing O/149/13; Getting link; Processing O/140/13; Getting link; Processing O/137/13; Getting link; Processing O/111/13; Getting link; Processing O/107/13; Getting link; Processing O/091/13; Getting link; Processing O/058/13; Getting link; Processing O/056/13; Getting link; Processing O/035/13; Getting link; Processing O/004/13; Getting link; Processing O/512/12; Getting link; Processing O/510/12; Getting link; Processing O/502/12; Getting link; Processing O/498/12; Getting link; Processing O/489/12; Getting link; Processing O/486/12; Getting link; Processing O/442/12; Getting link; Processing O/441/12; Getting link; Processing O/408/12; Getting link; Processing O/386/12; Getting link; Processing O/379/12; Getting link; Processing O/367/12; Getting link; Processing O/361/12; Getting link; Processing O/349/12; Getting link; Processing O/347/12; Getting link; Processing O/316/12; Getting link; Processing O/315/12; Getting link; Processing O/303/12; Getting link; Processing O/301/12; Getting link; Processing O/297/12; Getting link; Processing O/290/12; Getting link; Processing O/260/12; Getting link; Processing O/240/12; Getting link; Processing O/238/12; Getting link; Processing O/237/12; Getting link; Processing O/236/12; Getting link; Processing O/212/12; Getting link; Processing O/191/12; Getting link; Processing O/187/12; Getting link; Processing O/184/12; Getting link; Processing O/172/12; Getting link; Processing O/143/12; Getting link; Processing O/119/12; Getting link; Processing O/116/12; Getting link; Processing O/114/12; Getting link; Processing O/112/12; Getting link; Processing O/109/12; Getting link; Processing O/099/12; Getting link; Processing O/097/12; Getting link; Processing O/089/12; Getting link; Processing O/085/12; Getting link; Processing O/083/12; Getting link; Processing O/064/12; Getting link; Processing O/058/12; Getting link; Processing O/046/12; Getting link; Processing O/045/12; Getting link; Processing O/028/12; Getting link; Processing O/024/12; Getting link; Processing O/022/12; Getting link; Processing O/007/12; Getting link; Processing O/437/11; Getting link; Processing O/423/11; Getting link; Processing O/386/11; Getting link; Processing O/367/11; Getting link; Processing O/327/11; Getting link; Processing O/320/11; Getting link; Processing O/319/11; Getting link; Processing O/315/11; Getting link; Processing O/284/11; Getting link; Processing O/283/11; Getting link; Processing O/282/11; Getting link; Processing O/189/11; Getting link; Processing O/170/11; Getting link; Processing O/164/11; Getting link; Processing O/157/11; Getting link; Processing O/150/11; Getting link; Processing O/131/11; Getting link; Processing O/120/11; Getting link; Processing O/097/11; Getting link; Processing O/080/11; Getting link; Processing O/050/11; Getting link; Processing O/049/11; Getting link; Processing O/045/11; Getting link; Processing O/044/11; Getting link; Processing O/439/10; Getting link; Processing O/436/10; Getting link; Processing O/430/10; Getting link; Processing O/429/10; Getting link; Processing O/424/10; Getting link; Processing O/422/10; Getting link; Processing O/421/10; Getting link; Processing O/417/10; Getting link; Processing O/416/10; Getting link; Processing O/415/10; Getting link; Processing O/409/10; Getting link; Processing O/403/10; Getting link; Processing O/402/10; Getting link; Processing O/384/10; Getting link; Processing O/365/10; Getting link; Processing O/347/10; Getting link; Processing O/326/10; Getting link; Processing O/321/10; Getting link; Processing O/261/10; Getting link; Processing O/260/10; Getting link; Processing O/256/10; Getting link; Processing O/188/10; Getting link; Processing O/174/10; Getting link; Processing O/114/10; Getting link; Processing O/100/10; Getting link; Processing O/085/10; Getting link; Processing O/036/10; Getting link; Processing O/021/10; Getting link; Processing O/003/10; Getting link; Processing O/392/09; Getting link; Processing O/372/09; Getting link; Processing O/366/09; Getting link; Processing O/298/09; Getting link; Processing O/288/09; Getting link; Processing O/285/09; Getting link; Processing O/277/09; Getting link; Processing O/228/09; Getting link; Processing O/221/09; Getting link; Processing O/214/09; Getting link; Processing O/180/09; Getting link; Processing O/174/09; Getting link; Processing O/126/09; Getting link; Processing O/114/09; Getting link; Processing O/076/09; Getting link; Processing O/057/09; Getting link; Processing O/049/09; Getting link; Processing O/048/09; Getting link; Processing O/033/09; Getting link; Processing O/016/09; Getting link; Processing O/009/09; Getting link; Processing O/275/08; Getting link; Processing O/267/08; Getting link; Processing O/260/08; Getting link; Processing O/255/08; Getting link; Processing O/254/08; Getting link; Processing O/244/08; Getting link; Processing O/241/08; Getting link; Processing O/240/08; Getting link; Processing O/234/08; Getting link; Processing O/218/08; Getting link; Processing O/214/08; Getting link; Processing O/213/08; Getting link; Processing O/209/08; Getting link; Processing O/199/08; Getting link; Processing O/198/08; Getting link; Processing O/196/08; Getting link; Processing O/193/08; Getting link; Processing O/190/08; Getting link; Processing O/172/08; Getting link; Processing O/170/08; Getting link; Processing O/125/08; Getting link; Processing O/124/08; Getting link; Processing O/123/08; Getting link; Processing O/120/08; Getting link; Processing O/085/08; Getting link; Processing O/080/08; Getting link; Processing O/076/08; Getting link; Processing O/075/08; Getting link; Processing O/068/08; Getting link; Processing O/040/08; Getting link; Processing O/036/08; Getting link; Processing O/034/08; Getting link; Processing O/033/08; Getting link; Processing O/014/08; Getting link; Processing O/372/07; Getting link; Processing O/359/07; Getting link; Processing O/349/07; Getting link; Processing O/343/07; Getting link; Processing O/342/07; Getting link; Processing O/340/07; Getting link; Processing O/336/07; Getting link; Processing O/331/07; Getting link; Processing O/327/07; Getting link; Processing O/321/07; Getting link; Processing O/319/07; Getting link; Processing O/315/07; Getting link; Processing O/308/07; Getting link; Processing O/295/07; Getting link; Processing O/276/07; Getting link; Processing O/275/07; Getting link; Processing O/268/07; Getting link; Processing O/264/07; Getting link; Processing O/253/07; Getting link; Processing O/252/07; Getting link; Processing O/238/07; Getting link; Processing O/233/07; Getting link; Processing O/214/07; Getting link; Processing O/210/07; Getting link; Processing O/209/07; Getting link; Processing O/198/07; Getting link; Processing O/193/07; Getting link; Processing O/192/07; Getting link; Processing O/185/07; Getting link; Processing O/184/07; Getting link; Processing O/182/07; Getting link; Processing O/181/07; Getting link; Processing O/180/07; Getting link; Processing O/179/07; Getting link; Processing O/174/07; Getting link; Processing O/167/07; Getting link; Processing O/163/07; Getting link; Processing O/152/07; Getting link; Processing O/151/07; Getting link; Processing O/150/07; Getting link; Processing O/149/07; Getting link; Processing O/148/07; Getting link; Processing O/136/07; Getting link; Processing O/135/07; Getting link; Processing O/123/07; Getting link; Processing O/120/07; Getting link; Processing O/117/07; Getting link; Processing O/102/07; Getting link; Processing O/099/07; Getting link; Processing O/097/07; Getting link; Processing O/093/07; Getting link; Processing O/090/07; Getting link; Processing O/082/07; Getting link; Processing O/077/07; Getting link; Processing O/069/07; Getting link; Processing O/059/07; Getting link; Processing O/058/07; Getting link; Processing O/055/07; Getting link; Processing O/054/07; Getting link; Processing O/050/07; Getting link; Processing O/047/07; Getting link; Processing O/045/07; Getting link; Processing O/043/07; Getting link; Processing O/039/07; Getting link; Processing O/038/07; Getting link; Processing O/031/07; Getting link; Processing O/030/07; Getting link; Processing O/026/07; Getting link; Processing O/014/07; Getting link; Processing O/377/06; Getting link; Processing O/356/06; Getting link; Processing O/355/06; Getting link; Processing O/307/06; Getting link; Processing O/293/06; Getting link; Processing O/283/06; Getting link; Processing O/282/06; Getting link; Processing O/280/06; Getting link; Processing O/278/06; Getting link; Processing O/272/06; Getting link; Processing O/267/06; Getting link; Processing O/253/06; Getting link; Processing O/251/06; Getting link; Processing O/246/06; Getting link; Processing O/236/06; Getting link; Processing O/233/06; Getting link; Processing O/230/06; Getting link; Processing O/228/06; Getting link; Processing O/226/06; Getting link; Processing O/221/06; Getting link; Processing O/211/06; Getting link; Processing O/202/06; Getting link; Processing O/198/06; Getting link; Processing O/192/06; Getting link; Processing O/188/06; Getting link; Processing O/187/06; Getting link; Processing O/184/06; Getting link; Processing O/153/06; Getting link; Processing O/152/06; Getting link; Processing O/151/06; Getting link; Processing O/147/06; Getting link; Processing O/146/06; Getting link; Processing O/141/06; Getting link; Processing O/133/06; Getting link; Processing O/115/06; Getting link; Processing O/112/06; Getting link; Processing O/102/06; Getting link; Processing O/085/06; Getting link; Processing O/081/06; Getting link; Processing O/080/06; Getting link; Processing O/079/06; Getting link; Processing O/078/06; Getting link; Processing O/075/06; Getting link; Processing O/047/06; Getting link; Processing O/331/05; Getting link; Processing O/329/05; Getting link; Processing O/255/05; Getting link; Processing O/254/05; Getting link; Processing O/230/05; Getting link; Processing O/205/05; Getting link; Processing O/200/05; Getting link; Processing O/195/05; Getting link; Processing O/184/05; Getting link; Processing O/183/05; Getting link; Processing O/140/05; Getting link; Processing O/124/05; Getting link; Processing O/078/05; Getting link; Processing O/064/05; Getting link; Processing O/058/05; Getting link; Processing O/055/05; Getting link; Processing O/052/05; Getting link; Processing O/041/05; Getting link; Processing O/027/05; Getting link; Processing O/026/05; Getting link; Processing O/025/05; Getting link; Processing O/024/05; Getting link; Processing O/018/05; Getting link; Processing O/003/05; Getting link; Processing O/366/04; Getting link; Processing O/365/04; Getting link; Processing O/364/04; Getting link; Processing O/361/04; Getting link; Processing O/359/04; Getting link; Processing O/347/04; Getting link; Processing O/318/04; Getting link; Processing O/314/04; Getting link; Processing O/297/04; Getting link; Processing O/277/04; Getting link; Processing O/276/04; Getting link; Processing O/274/04; Getting link; Processing O/273/04; Getting link; Processing O/215/04; Getting link; Processing O/208/04; Getting link; Processing O/199/04; Getting link; Processing O/195/04; Getting link; Processing O/194/04; Getting link; Processing O/193/04; Getting link; Processing O/165/04; Getting link; Processing O/147/04; Getting link; Processing O/145/04; Getting link; Processing O/125/04; Getting link; Processing O/121/04; Getting link; Processing O/110/04; Getting link; Processing O/106/04; Getting link; Processing O/087/04; Getting link; Processing O/031/04; Getting link; Processing O/030/04; Getting link; Processing O/324/03; Getting link; Processing O/266/03; Getting link; Processing O/235/03; Getting link; Processing O/227/03; Getting link; Processing O/201/03; Getting link; Processing O/145/03; Getting link; Processing O/069/03; Getting link; Processing O/010/03; Getting link; Number of processed results = 400\n"
     ]
    }
   ],
   "source": [
    "processed_results = 0\n",
    "for result in results:\n",
    "    print(\"Processing \" + result['bl_number'], end='; ')\n",
    "    # Get link to PDF by following result link\n",
    "    error = False\n",
    "    #Retry request 4 times before failing, sleep 5 sec in between\n",
    "    for x in range(0, 4):  # try 4 times\n",
    "        try:\n",
    "            r = requests.get(result['link'])\n",
    "            str_error = None\n",
    "        except Exception as str_error:\n",
    "            pass\n",
    "\n",
    "        if str_error:\n",
    "            time.sleep(5)  # wait for 2 seconds before trying to fetch the data again\n",
    "            error = True\n",
    "            print('Error occurred', end='; ')\n",
    "        else:\n",
    "            error = False\n",
    "            break\n",
    "            \n",
    "    if not error:  \n",
    "        print('Getting link', end='; ')\n",
    "        resultsoup = BeautifulSoup(r.text, \"lxml\")\n",
    "        result['filelink'] = resultsoup.find('a', rel='pdf').get('href')\n",
    "        result['summary'] = resultsoup.find('p', class_=\"summary\").get_text()\n",
    "        processed_results = processed_results + 1\n",
    "    \n",
    "    # Add delay to avoid server overload / denial\n",
    "    time.sleep(5)\n",
    "    \n",
    "#Check number of results\n",
    "print(\"Number of processed results = \" + str(processed_results))"
   ]
  },
  {
   "cell_type": "code",
   "execution_count": 31,
   "metadata": {},
   "outputs": [
    {
     "data": {
      "text/plain": [
       "{'applicant': 'Ewise.Com.Au Pty Ltd',\n",
       " 'appln_no': 'GB0203654.9',\n",
       " 'bl_number': 'O/327/07',\n",
       " 'decision_date': '2 November 2007',\n",
       " 'excluded': False,\n",
       " 'filelink': 'o32707.pdf',\n",
       " 'hearing_officer': 'Mr P Slater',\n",
       " 'link': 'https://www.ipo.gov.uk/p-challenge-decision-results-bl?BL_Number=O/327/07',\n",
       " 'summary': 'The invention concerns an arrangement for accessing over a computer network such as the Internet, secure sites which contain personal or financial information by employing an active content agent (ACA), which in the disclosed embodiment is a piece of software which when downloaded from the Internet runs on the user’s personal computer and accesses, for example, their bank account(s) on their behalf using passwords which are stored locally on their computer in an encrypted form. The advantages of this are there is no need for the user to remember their password(s) or to disclosure it to a third party.\\r\\n'}"
      ]
     },
     "execution_count": 31,
     "metadata": {},
     "output_type": "execute_result"
    }
   ],
   "source": [
    "results[234]"
   ]
  },
  {
   "cell_type": "code",
   "execution_count": 32,
   "metadata": {
    "collapsed": true
   },
   "outputs": [],
   "source": [
    "#Save data to database\n",
    "for result in results:\n",
    "    decision = Decision()\n",
    "    decision.populate(result)\n",
    "    session.add(decision)\n",
    "session.commit()"
   ]
  },
  {
   "cell_type": "code",
   "execution_count": 33,
   "metadata": {},
   "outputs": [
    {
     "data": {
      "text/plain": [
       "442"
      ]
     },
     "execution_count": 33,
     "metadata": {},
     "output_type": "execute_result"
    }
   ],
   "source": [
    "session.query(Decision).count()"
   ]
  },
  {
   "cell_type": "code",
   "execution_count": 37,
   "metadata": {},
   "outputs": [
    {
     "name": "stdout",
     "output_type": "stream",
     "text": [
      "O/253/16 - File: o25316.pdf - Already Exists; O/137/16 - File: o13716.pdf - Already Exists; O/136/16 - File: o13616.pdf - Already Exists; O/124/16 - File: o12416.pdf - Already Exists; O/111/16 - File: o11116.pdf - Already Exists; O/023/16 - File: o02316.pdf - Already Exists; O/002/16 - File: o00216.pdf - Already Exists; O/599/15 - File: o59915.pdf - Already Exists; O/597/15 - File: o59715.pdf - Already Exists; O/544/15 - File: o54415.pdf - Already Exists; O/543/15 - File: o54315.pdf - Already Exists; O/519/15 - File: o51915.pdf - Already Exists; O/479/15 - File: o47915.pdf - Already Exists; O/477/15 - File: o47715.pdf - Already Exists; O/326/15 - File: o32615.pdf - Already Exists; O/239/15 - File: o23915.pdf - Already Exists; O/186/15 - File: o18615.pdf - Already Exists; O/184/15 - File: o18415.pdf - Already Exists; O/139/15 - File: o13915.pdf - Already Exists; O/118/15 - File: o11815.pdf - Already Exists; O/106/15 - File: o10615.pdf - Already Exists; O/071/15 - File: o07115.pdf - Already Exists; O/057/15 - File: o05715.pdf - Already Exists; O/044/15 - File: o04415.pdf - Already Exists; O/042/15 - File: o04215.pdf - Already Exists; O/038/15 - File: o03815.pdf - Already Exists; O/037/15 - File: o03715.pdf - Already Exists; O/566/14 - File: o56614.pdf - Already Exists; O/551/14 - File: o55114.pdf - Already Exists; O/547/14 - File: o54714.pdf - Already Exists; O/521/14 - File: o52114.pdf - Already Exists; O/460/14 - File: o46014.pdf - Already Exists; O/324/14 - File: o32414.pdf - Already Exists; O/211/14 - File: o21114.pdf - Already Exists; O/174/14 - File: o17414.pdf - Already Exists; O/168/14 - File: o16814.pdf - Already Exists; O/152/14 - File: o15214.pdf - Already Exists; O/151/14 - File: o15114.pdf - Already Exists; O/519/13 - File: o51913.pdf - Already Exists; O/513/13 - File: o51313.pdf - Already Exists; O/483/13 - File: o48313.pdf - Already Exists; O/452/13 - File: o45213.pdf - Already Exists; O/402/13 - File: o40213.pdf - Already Exists; O/388/13 - File: o38813.pdf - Already Exists; O/296/13 - File: o29613.pdf - Already Exists; O/295/13 - File: o29513.pdf - Already Exists; O/286/13 - File: o28613.pdf - Already Exists; O/281/13 - File: o28113.pdf - Already Exists; O/260/13 - File: o26013.pdf - Already Exists; O/248/13 - File: o24813.pdf - Already Exists; O/245/13 - File: o24513.pdf - Already Exists; O/244/13 - File: o24413.pdf - Already Exists; O/228/13 - File: o22813.pdf - Already Exists; O/198/13 - File: o19813.pdf - Already Exists; O/193/13 - File: o19313.pdf - Already Exists; O/177/13 - File: o17713.pdf - Already Exists; O/174/13 - File: o17413.pdf - Already Exists; O/163/13 - File: o16313.pdf - Already Exists; O/149/13 - File: o14913.pdf - Already Exists; O/140/13 - File: o14013.pdf - Already Exists; O/137/13 - File: o13713.pdf - Already Exists; O/111/13 - File: o11113.pdf - Already Exists; O/107/13 - File: o10713.pdf - Already Exists; O/091/13 - File: o09113.pdf - Already Exists; O/058/13 - File: o05813.pdf - Already Exists; O/056/13 - File: o05613.pdf - Already Exists; O/035/13 - File: o03513.pdf - Already Exists; O/004/13 - File: o00413.pdf - Already Exists; O/512/12 - File: o51212.pdf - Already Exists; O/510/12 - File: o51012.pdf - Already Exists; O/502/12 - File: o50212.pdf - Already Exists; O/498/12 - File: o49812.pdf - Already Exists; O/489/12 - File: o48912.pdf - Already Exists; O/486/12 - File: o48612.pdf - Already Exists; O/442/12 - File: o44212.pdf - Already Exists; O/441/12 - File: o44112.pdf - Already Exists; O/408/12 - File: o40812.pdf - Already Exists; O/386/12 - File: o38612.pdf - Already Exists; O/379/12 - File: o37912.pdf - Already Exists; O/367/12 - File: o36712.pdf - Already Exists; O/361/12 - File: o36112.pdf - Already Exists; O/349/12 - File: o34912.pdf - Already Exists; O/347/12 - File: o34712.pdf - Already Exists; O/316/12 - File: o31612.pdf - Already Exists; O/315/12 - File: o31512.pdf - Already Exists; O/303/12 - File: o30312.pdf - Already Exists; O/301/12 - File: o30112.pdf - Already Exists; O/297/12 - File: o29712.pdf - Already Exists; O/290/12 - File: o29012.pdf - Already Exists; O/260/12 - File: o26012.pdf - Already Exists; O/240/12 - File: o24012.pdf - Already Exists; O/238/12 - File: o23812.pdf - Already Exists; O/237/12 - File: o23712.pdf - Already Exists; O/236/12 - File: o23612.pdf - Already Exists; O/212/12 - File: o21212.pdf - Already Exists; O/191/12 - File: o19112.pdf - Already Exists; O/187/12 - File: o18712.pdf - Already Exists; O/184/12 - File: o18412.pdf - Already Exists; O/172/12 - File: o17212.pdf - Already Exists; O/143/12 - File: o14312.pdf - Already Exists; O/119/12 - File: o11912.pdf - Already Exists; O/116/12 - File: o11612.pdf - Already Exists; O/114/12 - File: o11412.pdf - Already Exists; O/112/12 - File: o11212.pdf - Already Exists; O/109/12 - File: o10912.pdf - Already Exists; O/099/12 - File: o09912.pdf - Already Exists; O/097/12 - File: o09712.pdf - Already Exists; O/089/12 - File: o08912.pdf - Already Exists; O/085/12 - File: o08512.pdf - Already Exists; O/083/12 - File: o08312.pdf - Already Exists; O/064/12 - File: o06412.pdf - Already Exists; O/058/12 - File: o05812.pdf - Already Exists; O/046/12 - File: o04612.pdf - Already Exists; O/045/12 - File: o04512.pdf - Already Exists; O/028/12 - File: o02812.pdf - Already Exists; O/024/12 - File: o02412.pdf - Already Exists; O/022/12 - File: o02212.pdf - Already Exists; O/007/12 - File: o00712.pdf - Already Exists; O/437/11 - File: o43711.pdf - Already Exists; O/423/11 - File: o42311.pdf - Already Exists; O/386/11 - File: o38611.pdf - Already Exists; O/367/11 - File: o36711.pdf - Already Exists; O/327/11 - File: o32711.pdf - Already Exists; O/320/11 - File: o32011.pdf - Already Exists; O/319/11 - File: o31911.pdf - Already Exists; O/315/11 - File: o31511.pdf - Already Exists; O/284/11 - File: o28411.pdf - Already Exists; O/283/11 - File: o28311.pdf - Already Exists; O/282/11 - File: o28211.pdf - Already Exists; O/189/11 - File: o18911.pdf - Already Exists; O/170/11 - File: o17011.pdf - Already Exists; O/164/11 - File: o16411.pdf - Already Exists; O/157/11 - File: o15711.pdf - Already Exists; O/150/11 - File: o15011.pdf - Already Exists; O/131/11 - File: o13111.pdf - Already Exists; O/120/11 - File: o12011.pdf - Already Exists; O/097/11 - File: o09711.pdf - Already Exists; O/080/11 - File: o08011.pdf - Already Exists; O/050/11 - File: o05011.pdf - Already Exists; O/049/11 - File: o04911.pdf - Already Exists; O/045/11 - File: o04511.pdf - Already Exists; O/044/11 - File: o04411.pdf - Already Exists; O/439/10 - File: o43910.pdf - Already Exists; O/436/10 - File: o43610.pdf - Already Exists; O/430/10 - File: o43010.pdf - Already Exists; O/429/10 - File: o42910.pdf - Already Exists; O/424/10 - File: o42410.pdf - Already Exists; O/422/10 - File: o42210.pdf - Already Exists; O/421/10 - File: o42110.pdf - Already Exists; O/417/10 - File: o41710.pdf - Already Exists; O/416/10 - File: o41610.pdf - Already Exists; O/415/10 - File: o41510.pdf - Already Exists; O/409/10 - File: o40910.pdf - Already Exists; O/403/10 - File: o40310.pdf - Already Exists; O/402/10 - File: o40210.pdf - Already Exists; O/384/10 - File: o38410.pdf - Already Exists; O/365/10 - File: o36510.pdf - Already Exists; O/347/10 - File: o34710.pdf - Already Exists; O/326/10 - File: o32610.pdf - Already Exists; O/321/10 - File: o32110.pdf - Already Exists; O/261/10 - File: o26110.pdf - Already Exists; O/260/10 - File: o26010.pdf - Already Exists; O/256/10 - File: o25610.pdf - Already Exists; O/188/10 - File: o18810.pdf - Already Exists; O/174/10 - File: o17410.pdf - Already Exists; O/114/10 - File: o11410.pdf - Already Exists; O/100/10 - File: o10010.pdf - Already Exists; O/085/10 - File: o08510.pdf - Already Exists; O/036/10 - File: o03610.pdf - Already Exists; O/021/10 - File: o02110.pdf - Already Exists; O/003/10 - File: o00310.pdf - Already Exists; O/392/09 - File: o39209.pdf - Already Exists; O/372/09 - File: o37209.pdf - Already Exists; O/366/09 - File: o36609.pdf - Already Exists; O/298/09 - File: o29809.pdf - Already Exists; O/288/09 - File: o28809.pdf - Already Exists; O/285/09 - File: o28509.pdf - Already Exists; O/277/09 - File: o27709.pdf - Already Exists; O/228/09 - File: o22809.pdf - Already Exists; O/221/09 - File: o22109.pdf - Already Exists; O/214/09 - File: o21409.pdf - Already Exists; O/180/09 - File: o18009.pdf - Already Exists; O/174/09 - File: o17409.pdf - Already Exists; O/126/09 - File: o12609.pdf - Already Exists; O/114/09 - File: o11409.pdf - Already Exists; O/076/09 - File: o07609.pdf - Already Exists; O/057/09 - File: o05709.pdf - Already Exists; O/049/09 - File: o04909.pdf - Already Exists; O/048/09 - File: o04809.pdf - Already Exists; O/033/09 - File: o03309.pdf - Already Exists; O/016/09 - File: o01609.pdf - Already Exists; O/009/09 - File: o00909.pdf - Already Exists; O/275/08 - File: o27508.pdf - Already Exists; O/267/08 - File: o26708.pdf - Already Exists; O/260/08 - File: o26008.pdf - Already Exists; O/255/08 - File: o25508.pdf - Already Exists; O/254/08 - File: o25408.pdf - Already Exists; O/244/08 - File: o24408.pdf - Already Exists; O/241/08 - File: o24108.pdf - Already Exists; O/240/08 - File: o24008.pdf - Already Exists; O/234/08 - File: o23408.pdf - Already Exists; O/218/08 - File: o21808.pdf - Already Exists; O/214/08 - File: o21408.pdf - Already Exists; O/213/08 - File: o21308.pdf - Already Exists; O/209/08 - File: o20908.pdf - Already Exists; O/199/08 - File: o19908.pdf - Already Exists; O/198/08 - File: o19808.pdf - Already Exists; O/196/08 - File: o19608.pdf - Already Exists; O/193/08 - File: o19308.pdf - Already Exists; O/190/08 - File: o19008.pdf - Already Exists; O/172/08 - File: o17208.pdf - Already Exists; O/170/08 - File: o17008.pdf - Already Exists; O/125/08 - File: o12508.pdf - Already Exists; O/124/08 - File: o12408.pdf - Already Exists; O/123/08 - File: o12308.pdf - Already Exists; O/120/08 - File: o12008.pdf - Already Exists; O/085/08 - File: o08508.pdf - Already Exists; O/080/08 - File: o08008.pdf - Already Exists; O/076/08 - File: o07608.pdf - Already Exists; O/075/08 - File: o07508.pdf - Already Exists; O/068/08 - File: o06808.pdf - Already Exists; O/040/08 - File: o04008.pdf - Already Exists; O/036/08 - File: o03608.pdf - Already Exists; O/034/08 - File: o03408.pdf - Already Exists; O/033/08 - File: o03308.pdf - Already Exists; O/014/08 - File: o01408.pdf - Already Exists; O/372/07 - File: o37207.pdf - Already Exists; O/359/07 - File: o35907.pdf - Already Exists; O/349/07 - File: o34907.pdf - Already Exists; O/343/07 - File: o34307.pdf - Already Exists; O/342/07 - File: o34207.pdf - Already Exists; O/340/07 - File: o34007.pdf - Already Exists; O/336/07 - File: o33607.pdf - Already Exists; O/331/07 - File: o33107.pdf - Already Exists; O/327/07 - File: o32707.pdf - Already Exists; O/321/07 - File: o32107.pdf - Already Exists; O/319/07 - File: o31907.pdf - Already Exists; O/315/07 - File: o31507.pdf - Already Exists; O/308/07 - File: o30807.pdf - Already Exists; O/295/07 - File: o29507.pdf - Already Exists; O/276/07 - File: o27607.pdf - Already Exists; O/275/07 - File: o27507.pdf - Already Exists; O/268/07 - File: o26807.pdf - Already Exists; O/264/07 - File: o26407.pdf - Already Exists; O/253/07 - File: o25307.pdf - Already Exists; O/252/07 - File: o25207.pdf - Already Exists; O/238/07 - File: o23807.pdf - Already Exists; O/233/07 - File: o23307.pdf - Already Exists; O/214/07 - File: o21407.pdf - Already Exists; O/210/07 - File: o21007.pdf - Already Exists; O/209/07 - File: o20907.pdf - Already Exists; O/198/07 - File: o19807.pdf - Already Exists; O/193/07 - File: o19307.pdf - Already Exists; O/192/07 - File: o19207.pdf - Already Exists; O/185/07 - File: o18507.pdf - Already Exists; O/184/07 - File: o18407.pdf - Already Exists; O/182/07 - File: o18207.pdf - Already Exists; O/181/07 - File: o18107.pdf - Already Exists; O/180/07 - File: o18007.pdf - Already Exists; O/179/07 - File: o17907.pdf - Already Exists; O/174/07 - File: o17407.pdf - Already Exists; O/167/07 - File: o16707.pdf - Already Exists; O/163/07 - File: o16307.pdf - Already Exists; O/152/07 - File: o15207.pdf - Already Exists; O/151/07 - File: o15107.pdf - Already Exists; O/150/07 - File: o15007.pdf - Already Exists; O/149/07 - File: o14907.pdf - Already Exists; O/148/07 - File: o14807.pdf - Already Exists; O/136/07 - File: o13607.pdf - Already Exists; O/135/07 - File: o13507.pdf - Already Exists; O/123/07 - File: o12307.pdf - Already Exists; O/120/07 - File: o12007.pdf - Already Exists; O/117/07 - File: o11707.pdf - Already Exists; O/102/07 - File: o10207.pdf - Already Exists; O/099/07 - File: o09907.pdf - Already Exists; O/097/07 - File: o09707.pdf - Already Exists; O/093/07 - File: o09307.pdf - Already Exists; O/090/07 - File: o09007.pdf - Already Exists; O/082/07 - File: o08207.pdf - Already Exists; O/077/07 - File: o07707.pdf - Already Exists; O/069/07 - File: o06907.pdf - Already Exists; O/059/07 - File: o05907.pdf - Already Exists; O/058/07 - File: o05807.pdf - Already Exists; O/055/07 - File: o05507.pdf - Already Exists; Downloading O/054/07 - File: o05407.pdf; Downloading O/050/07 - File: o05007.pdf; Downloading O/047/07 - File: o04707.pdf; Downloading O/045/07 - File: o04507.pdf; Downloading O/043/07 - File: o04307.pdf; Downloading O/039/07 - File: o03907.pdf; Downloading O/038/07 - File: o03807.pdf; Downloading O/031/07 - File: o03107.pdf; Downloading O/030/07 - File: o03007.pdf; Downloading O/026/07 - File: o02607.pdf; Downloading O/014/07 - File: o01407.pdf; Downloading O/377/06 - File: o37706.pdf; Downloading O/356/06 - File: o35606.pdf; Downloading O/355/06 - File: o35506.pdf; Downloading O/307/06 - File: o30706.pdf; Downloading O/293/06 - File: o29306.pdf; Downloading O/283/06 - File: o28306.pdf; Downloading O/282/06 - File: o28206.pdf; Downloading O/280/06 - File: o28006.pdf; Downloading O/278/06 - File: o27806.pdf; Downloading O/272/06 - File: o27206.pdf; Downloading O/267/06 - File: o26706.pdf; Downloading O/253/06 - File: o25306.pdf; Downloading O/251/06 - File: o25106.pdf; Downloading O/246/06 - File: o24606.pdf; Downloading O/236/06 - File: o23606.pdf; Downloading O/233/06 - File: o23306.pdf; Downloading O/230/06 - File: o23006.pdf; Downloading O/228/06 - File: o22806.pdf; Downloading O/226/06 - File: o22606.pdf; Downloading O/221/06 - File: o22106.pdf; Downloading O/211/06 - File: o21106.pdf; Downloading O/202/06 - File: o20206.pdf; Downloading O/198/06 - File: o19806.pdf; Downloading O/192/06 - File: o19206.pdf; Downloading O/188/06 - File: o18806.pdf; Downloading O/187/06 - File: o18706.pdf; Downloading O/184/06 - File: o18406.pdf; Downloading O/153/06 - File: o15306.pdf; Downloading O/152/06 - File: o15206.pdf; Downloading O/151/06 - File: o15106.pdf; Downloading O/147/06 - File: o14706.pdf; Downloading O/146/06 - File: o14606.pdf; Downloading O/141/06 - File: o14106.pdf; Downloading O/133/06 - File: o13306.pdf; Downloading O/115/06 - File: o11506.pdf; Downloading O/112/06 - File: o11206.pdf; Downloading O/102/06 - File: o10206.pdf; Downloading O/085/06 - File: o08506.pdf; Downloading O/081/06 - File: o08106.pdf; Downloading O/080/06 - File: o08006.pdf; Downloading O/079/06 - File: o07906.pdf; Downloading O/078/06 - File: o07806.pdf; Downloading O/075/06 - File: o07506.pdf; Downloading O/047/06 - File: o04706.pdf; Downloading O/331/05 - File: o33105.pdf; Downloading O/329/05 - File: o32905.pdf; Downloading O/255/05 - File: o25505.pdf; Downloading O/254/05 - File: o25405.pdf; Downloading O/230/05 - File: o23005.pdf; Downloading O/205/05 - File: o20505.pdf; Downloading O/200/05 - File: o20005.pdf; Downloading O/195/05 - File: o19505.pdf; Downloading O/184/05 - File: o18405.pdf; Downloading O/183/05 - File: o18305.pdf; Downloading O/140/05 - File: o14005.pdf; Downloading O/124/05 - File: o12405.pdf; Downloading O/078/05 - File: o07805.pdf; Downloading O/064/05 - File: o06405.pdf; Downloading O/058/05 - File: o05805.pdf; Downloading O/055/05 - File: o05505.pdf; Downloading O/052/05 - File: o05205.pdf; Downloading O/041/05 - File: o04105.pdf; Downloading O/027/05 - File: o02705.pdf; Downloading O/026/05 - File: o02605.pdf; Downloading O/025/05 - File: o02505.pdf; Downloading O/024/05 - File: o02405.pdf; Downloading O/018/05 - File: o01805.pdf; Downloading O/003/05 - File: o00305.pdf; Downloading O/366/04 - File: o36604.pdf; Downloading O/365/04 - File: o36504.pdf; Downloading O/364/04 - File: o36404.pdf; Downloading O/361/04 - File: o36104.pdf; Downloading O/359/04 - File: o35904.pdf; Downloading O/347/04 - File: o34704.pdf; Downloading O/318/04 - File: o31804.pdf; Downloading O/314/04 - File: o31404.pdf; Downloading O/297/04 - File: o29704.pdf; Downloading O/277/04 - File: o27704.pdf; Downloading O/276/04 - File: o27604.pdf; Downloading O/274/04 - File: o27404.pdf; Downloading O/273/04 - File: o27304.pdf; Downloading O/215/04 - File: o21504.pdf; Downloading O/208/04 - File: o20804.pdf; Downloading O/199/04 - File: o19904.pdf; Downloading O/195/04 - File: o19504.pdf; Downloading O/194/04 - File: o19404.pdf; Downloading O/193/04 - File: o19304.pdf; Downloading O/165/04 - File: o16504.pdf; Downloading O/147/04 - File: o14704.pdf; Downloading O/145/04 - File: o14504.pdf; Downloading O/125/04 - File: o12504.pdf; Downloading O/121/04 - File: o12104.pdf; Downloading O/110/04 - File: o11004.pdf; Downloading O/106/04 - File: o10604.pdf; Downloading O/087/04 - File: o08704.pdf; Downloading O/031/04 - File: o03104.pdf; Downloading O/030/04 - File: o03004.pdf; Downloading O/324/03 - File: o32403.pdf; Downloading O/266/03 - File: o26603.pdf; Downloading O/235/03 - File: o23503.pdf; Downloading O/227/03 - File: o22703.pdf; Downloading O/201/03 - File: o20103.pdf; Downloading O/145/03 - File: o14503.pdf; Downloading O/069/03 - File: o06903.pdf; Downloading O/010/03 - File: o01003.pdf; "
     ]
    }
   ],
   "source": [
    "# Download PDFs\n",
    "\n",
    "# Set directory to save to as excluded\n",
    "directory = \"refused\"\n",
    "\n",
    "# If there is no folder called [directory] in the current working folder then make one\n",
    "if not os.path.exists(directory):\n",
    "    os.makedirs(directory)\n",
    "    \n",
    "# Set save path as current directory + new sub directory\n",
    "savepath = os.path.join(current_dir, directory)\n",
    "\n",
    "# For each result\n",
    "for result in results:\n",
    "    # Set save path\n",
    "    savename = os.path.join(savepath, result['filelink'])\n",
    "    # If file does not exist\n",
    "    if os.path.isfile(savename):\n",
    "        print(result['bl_number'] + ' - File: ' + result['filelink'] + ' - Already Exists', end='; ')\n",
    "    else:\n",
    "        print('Downloading ' + result['bl_number'] + ' - File: ' + result['filelink'], end='; ')\n",
    "        # This downloads file into directory defined above\n",
    "       \n",
    "        str_error = \"\"\n",
    "        #Retry request 4 times before failing, sleep 5 sec in between\n",
    "        \n",
    "        for x in range(0, 4):  # try 4 times\n",
    "            try:\n",
    "                filename = wget.download(urljoin(base_url, result['filelink']), out=savename)\n",
    "                str_error = None\n",
    "            except Exception as str_error:\n",
    "                pass\n",
    "\n",
    "            if str_error:\n",
    "                time.sleep(5)  # wait for 2 seconds before trying to fetch the data again\n",
    "                print('Error occurred', end='; ')\n",
    "            else:\n",
    "                break\n",
    "        \n",
    "        # Space out requests in time\n",
    "        time.sleep(5)"
   ]
  },
  {
   "cell_type": "markdown",
   "metadata": {},
   "source": [
    "There we go. Now we have a database of results with an \"excluded\" label (\"True\" = subject matter is excluded; \"False\" = subject matter is not excluded). We have the application numbers so we can make requests to get application data. We also have the PDFs of these decisions to parse at our leisure.\n"
   ]
  },
  {
   "cell_type": "code",
   "execution_count": null,
   "metadata": {
    "collapsed": true
   },
   "outputs": [],
   "source": []
  }
 ],
 "metadata": {
  "kernelspec": {
   "display_name": "Python 3",
   "language": "python",
   "name": "python3"
  },
  "language_info": {
   "codemirror_mode": {
    "name": "ipython",
    "version": 3
   },
   "file_extension": ".py",
   "mimetype": "text/x-python",
   "name": "python",
   "nbconvert_exporter": "python",
   "pygments_lexer": "ipython3",
   "version": "3.5.2"
  }
 },
 "nbformat": 4,
 "nbformat_minor": 1
}
