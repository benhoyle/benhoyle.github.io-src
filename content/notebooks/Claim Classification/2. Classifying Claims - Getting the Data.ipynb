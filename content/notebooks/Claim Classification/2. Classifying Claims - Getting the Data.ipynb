{
 "cells": [
  {
   "cell_type": "markdown",
   "metadata": {},
   "source": [
    "# 2. Classifying Claims - Preparing the Data\n",
    "\n",
    "In the previous post we looked at the problem for our current project: how to assign an IPC/CPC Section to a first claim of a patent application.\n",
    "\n",
    "In this post we will look at the steps required to prepare some data for our machine learning algorithms. These steps roughly follow the guide [here](https://machinelearningmastery.com/how-to-prepare-data-for-machine-learning/):\n",
    "\n",
    "- Step 1: Select Data\n",
    "- Step 2: Preprocess Data\n",
    "- Step 3: Transform Data\n",
    "\n",
    "These steps can take up a fair proportion of the project time. The idea is to obtain a manageable data set and place it in a form where we can apply common machine learning libraries."
   ]
  },
  {
   "cell_type": "markdown",
   "metadata": {},
   "source": [
    "---\n",
    "## 1. Select Data\n",
    "\n",
    "For our project we want a manageable in-memory dataset. A quick back-of-the-envelope calculation provides the following insight: claims contain around 200 words (we will check this assumption a bit later); each word contains around 5 characters; each character is typically (e.g. using UTF-8 encoding) encoded as 1 Byte (8 bits); we thus have 200 * 5 * 1B = 1kB per claim. 10,000 claims thus make 10MB, which we can easily hold in a 4GB memory.\n",
    "\n",
    "There are over 9 million US patent publications, which can be downloaded from the [USPTO Bulk Data Archives] (https://www.uspto.gov/learning-and-resources/bulk-data-products). The data is supplied in the form of compressed file archives, where the actual patent data is supplied within these archives as an XML file.\n",
    "\n",
    "Luckily, we have access to a Python library that provides a wrapper around the USPTO patent publication data as obtained from the bulk data download page. This library can be found on GitHub here (https://github.com/benhoyle/patentdata). This code allows us to parse the compressed files and extract claim text and classification data from the raw XML files.\n",
    "\n",
    "If you don't want to use or install the patentdata library, you can find a pickle of the extracted data in the accompanying GitHub repository.\n",
    "\n",
    "One future extension of this project would be to try the classification training on a set of 100,000 or more data samples."
   ]
  },
  {
   "cell_type": "markdown",
   "metadata": {},
   "source": [
    "### Code to Get the Data\n",
    "\n",
    "The code below gets 12,000 random patent publications from data for years 2001 to 2017 across all classifications.  \n",
    "Once we have the patent publications, we need to extract the text for claim 1 and the classifications. This can be performed using the PatentDoc.Claimset object \"get_claim(1)\" method and using the \"as_string()\" method for each classification object in the PatentDoc.Classifications list."
   ]
  },
  {
   "cell_type": "code",
   "execution_count": 1,
   "metadata": {
    "scrolled": true
   },
   "outputs": [
    {
     "name": "stdout",
     "output_type": "stream",
     "text": [
      "Loading data\n",
      "12000 claims and classifications loaded\n"
     ]
    }
   ],
   "source": [
    "# Start with getting 12,000 patent publications at random\n",
    "from patentdata.corpus import USPublications\n",
    "from patentdata.models.patentcorpus import LazyPatentCorpus\n",
    "import os, pickle\n",
    "\n",
    "from collections import Counter\n",
    "\n",
    "# Get the claim 1 and classificationt text\n",
    "\n",
    "PIK = \"claim_and_class.data\"\n",
    "\n",
    "if os.path.isfile(PIK):\n",
    "    with open(PIK, \"rb\") as f:\n",
    "        print(\"Loading data\")\n",
    "        data = pickle.load(f)\n",
    "        print(\"{0} claims and classifications loaded\".format(len(data)))\n",
    "else:\n",
    "    # Load our list of records\n",
    "    PIK = \"12000records.data\"\n",
    "\n",
    "    if os.path.isfile(PIK):\n",
    "        with open(PIK, \"rb\") as f:\n",
    "            print(\"Loading data\")\n",
    "            records = pickle.load(f)\n",
    "            print(\"{0} records loaded\".format(len(records)))\n",
    "    else:\n",
    "        path = '/media/SAMSUNG1/Patent_Downloads'\n",
    "        ds = USPublications(path)\n",
    "        records = ds.get_records([], \"name\", sample_size=12000)\n",
    "        with open(PIK, \"wb\") as f:\n",
    "            pickle.dump(records, f)\n",
    "            print(\"{0} records saved\".format(len(records)))\n",
    "    \n",
    "    lzy = LazyPatentCorpus()\n",
    "    lzy.init_by_filenames(ds, records)\n",
    "    \n",
    "    data = list()\n",
    "    for i, pd in enumerate(lzy.documents):\n",
    "        try:\n",
    "            classifications = [c.as_string() for c in pd.classifications]\n",
    "        except:\n",
    "            classifications = \"\"\n",
    "        try:\n",
    "            claim1_text = pd.claimset.get_claim(1).text\n",
    "        except:\n",
    "            claim1_text = \"\"\n",
    "        current_data = (claim1_text, classifications)\n",
    "        data.append(current_data)\n",
    "        if (i % 500) == 0:\n",
    "            print(\"Saving a checkpoint at {0} files\".format(i))\n",
    "            print(\"Current data = \", current_data)\n",
    "            with open(PIK, \"wb\") as f:\n",
    "                pickle.dump(data, f)\n",
    "            \n",
    "    with open(PIK, \"wb\") as f:\n",
    "        pickle.dump(data, f)\n",
    "        \n",
    "    print(\"{0} claims saved\".format(len(data)))"
   ]
  },
  {
   "cell_type": "markdown",
   "metadata": {},
   "source": [
    "## 2. Pre-Processing Data\n",
    "\n",
    "The code above generates a list of data samples of the form (claim1_text, classifications), where claim1_text is a string representing the text of claim 1 and classifications is a list of strings.\n",
    "\n",
    "From an inspection of the data, there is some preprocessing to be performed:\n",
    "- we need to filter out \"cancelled\" claims - these have the text '(canceled)' rather than any claim text;\n",
    "- we need to convert the list of string classifications to just a Section letter; and\n",
    "- sometimes we have strange or non-standard character encodings that can screw up our text processing, the character encodings can thus be cleaned and any non-standard characters replaced."
   ]
  },
  {
   "cell_type": "markdown",
   "metadata": {},
   "source": [
    "### Removing Cancelled Claimes\n",
    "\n",
    "The following codes removes claims that are cancelled (these just have \"(canceled)\" as text)."
   ]
  },
  {
   "cell_type": "code",
   "execution_count": 2,
   "metadata": {},
   "outputs": [
    {
     "name": "stdout",
     "output_type": "stream",
     "text": [
      "There are now 11239 claims after filtering out cancelled claims\n"
     ]
    }
   ],
   "source": [
    "# Check for and remove 'cancelled' claims\n",
    "no_cancelled = [d for d in data if '(canceled)' not in d[0]]\n",
    "\n",
    "print(\"There are now {0} claims after filtering out cancelled claims\".format(len(no_cancelled)))"
   ]
  },
  {
   "cell_type": "markdown",
   "metadata": {},
   "source": [
    "### Extract Section Letter\n",
    "\n",
    "Then we filter the data to extract the first level classification. For simplicity we take the first classification (if there are several classifications) where the data exists. An example data entry is set out below."
   ]
  },
  {
   "cell_type": "code",
   "execution_count": 3,
   "metadata": {},
   "outputs": [
    {
     "name": "stdout",
     "output_type": "stream",
     "text": [
      "There are now 11238 claims after extracting classifications\n"
     ]
    }
   ],
   "source": [
    "# Get classification in the form of A-H\n",
    "cleaner_data = list()\n",
    "for d in no_cancelled:\n",
    "    if len(d[1]) >= 1:\n",
    "        if len(d[1][0]) > 3:\n",
    "            classification = d[1][0][2]\n",
    "            cleaner_data.append(\n",
    "                (d[0], classification)\n",
    "            )\n",
    "\n",
    "print(\"There are now {0} claims after extracting classifications\".format(len(cleaner_data)))"
   ]
  },
  {
   "cell_type": "markdown",
   "metadata": {},
   "source": [
    "### Cleaning Characters\n",
    "\n",
    "To help further processing we will clean the characters of the text. The patentdata library has a function that replaces certain characters (e.g. different versions of '\"' or '-') with a reduced set of common printable characters."
   ]
  },
  {
   "cell_type": "code",
   "execution_count": 4,
   "metadata": {
    "collapsed": true
   },
   "outputs": [],
   "source": [
    "# Clean the characters in the data to use a reduced set of printable characters\n",
    "# There is a function in patentdata to do this\n",
    "from patentdata.models.lib.utils import clean_characters\n",
    "\n",
    "cleaner_data = [(clean_characters(d[0]), d[1]) for d in cleaner_data]"
   ]
  },
  {
   "cell_type": "markdown",
   "metadata": {},
   "source": [
    "### Example\n",
    "\n",
    "Here is an example of one data sample following processing:"
   ]
  },
  {
   "cell_type": "code",
   "execution_count": 5,
   "metadata": {},
   "outputs": [
    {
     "data": {
      "text/plain": [
       "('\\n1. A sensing assembly for sensing a level of liquid in a reservoir, said sensing assembly comprising: \\na first input port for receiving a first input voltage signal; \\na second input port for receiving a second input voltage signal; \\nan excitation circuit electrically connected to said first and second input ports for receiving the first and second input voltage signals and for generating a first excitation signal and a second excitation signal, said excitation circuit includes first and second excitation electrodes extending along a portion of the reservoir, said first and second excitation electrodes disposed adjacent to and separated by said first receiving electrode; and \\na receiving circuit disposed adjacent said excitation circuit defining a variable capacitance with said excitation circuit, wherein said receiving circuit includes first and second receiving electrodes extending along a portion of the reservoir and a first trace connected to ground and extending between said first receiving electrode and said first and second excitation electrodes, wherein said first receiving electrode extends along a first non-linear path and said second receiving electrode extends along a second non-linear path differing from said first non-linear path, said receiving circuit producing an output voltage signal variable with the level of liquid in the reservoir due to capacitance changes between said excitation circuit and said receiving circuit due to dielectric changes created by the liquid. \\n\\n',\n",
       " 'G')"
      ]
     },
     "execution_count": 5,
     "metadata": {},
     "output_type": "execute_result"
    }
   ],
   "source": [
    "cleaner_data[55]"
   ]
  },
  {
   "cell_type": "markdown",
   "metadata": {},
   "source": [
    "### Saving the Data - Interim\n",
    "\n",
    "Let's quickly save our claims and classifications as a Pickle file called \"raw_data\". This saves us having to do the steps set out above again if something goes wrong."
   ]
  },
  {
   "cell_type": "code",
   "execution_count": 6,
   "metadata": {
    "collapsed": true
   },
   "outputs": [],
   "source": [
    "raw_data = cleaner_data\n",
    "with open(\"raw_data.pkl\", \"wb\") as f:\n",
    "    pickle.dump(raw_data, f)"
   ]
  },
  {
   "cell_type": "markdown",
   "metadata": {},
   "source": [
    "## Interlude - Exploring the Data\n",
    "\n",
    "Here we will take a little interlude to explore our data and get a feel for its structure."
   ]
  },
  {
   "cell_type": "code",
   "execution_count": 7,
   "metadata": {
    "collapsed": true
   },
   "outputs": [],
   "source": [
    "from nltk import word_tokenize\n",
    "\n",
    "data_in_words = [(word_tokenize(d[0]), d[1]) for d in raw_data]"
   ]
  },
  {
   "cell_type": "code",
   "execution_count": 8,
   "metadata": {},
   "outputs": [
    {
     "data": {
      "text/plain": [
       "['1', '.', 'A', 'sensing', 'assembly', 'for', 'sensing', 'a', 'level', 'of']"
      ]
     },
     "execution_count": 8,
     "metadata": {},
     "output_type": "execute_result"
    }
   ],
   "source": [
    "# Here is an example\n",
    "data_in_words[55][0][0:10]"
   ]
  },
  {
   "cell_type": "markdown",
   "metadata": {},
   "source": [
    "#### Claim Length\n",
    "\n",
    "Let's start with looking at the longest claim."
   ]
  },
  {
   "cell_type": "code",
   "execution_count": 9,
   "metadata": {},
   "outputs": [
    {
     "name": "stdout",
     "output_type": "stream",
     "text": [
      "Max claim length = 6134\n"
     ]
    }
   ],
   "source": [
    "# What is our maximum claim length?\n",
    "print(\"Max claim length = {0}\".format(max([len(d[0]) for d in data_in_words])))"
   ]
  },
  {
   "cell_type": "markdown",
   "metadata": {},
   "source": [
    "That's long! 6134 words.   \n",
    "\n",
    "Let's have a look at how the length (in words) of our claims is distributed."
   ]
  },
  {
   "cell_type": "code",
   "execution_count": 10,
   "metadata": {
    "collapsed": true
   },
   "outputs": [],
   "source": [
    "claim_length_counter = Counter([len(d[0]) for d in data_in_words])"
   ]
  },
  {
   "cell_type": "markdown",
   "metadata": {},
   "source": [
    "We can quickly have a look at a histogram of the lengths."
   ]
  },
  {
   "cell_type": "code",
   "execution_count": 11,
   "metadata": {},
   "outputs": [
    {
     "data": {
      "text/plain": [
       "<matplotlib.text.Text at 0x7f456d132da0>"
      ]
     },
     "execution_count": 11,
     "metadata": {},
     "output_type": "execute_result"
    },
    {
     "data": {
      "image/png": "[encoded data removed]",
      "text/plain": [
       "<matplotlib.figure.Figure at 0x7f4570fb99b0>"
      ]
     },
     "metadata": {},
     "output_type": "display_data"
    }
   ],
   "source": [
    "import matplotlib.pyplot as plt\n",
    "import numpy as np\n",
    "\n",
    "%matplotlib inline\n",
    "\n",
    "bins = np.linspace(0, max(claim_length_counter.elements()), 200)\n",
    "plt.hist(list(claim_length_counter.elements()), bins)\n",
    "plt.title('Claim 1 - Word Length')\n",
    "plt.ylabel('No. of claims')\n",
    "plt.xlabel('Claim Word Length')"
   ]
  },
  {
   "cell_type": "markdown",
   "metadata": {},
   "source": [
    "As we can see the 6134 length claim is a clear outlier. The distribution is focused around 0 to around 600 words. Let's zoom in on that."
   ]
  },
  {
   "cell_type": "code",
   "execution_count": 12,
   "metadata": {},
   "outputs": [
    {
     "data": {
      "text/plain": [
       "<matplotlib.text.Text at 0x7f456d0a3278>"
      ]
     },
     "execution_count": 12,
     "metadata": {},
     "output_type": "execute_result"
    },
    {
     "data": {
      "image/png": "[encoded data removed]",
      "text/plain": [
       "<matplotlib.figure.Figure at 0x7f4570fb9668>"
      ]
     },
     "metadata": {},
     "output_type": "display_data"
    }
   ],
   "source": [
    "bins = np.linspace(0, 600, 200)\n",
    "plt.hist(list(claim_length_counter.elements()), bins)\n",
    "plt.title('Claim 1 - Word Length')\n",
    "plt.ylabel('No. of claims')\n",
    "plt.xlabel('Claim Word Length')"
   ]
  },
  {
   "cell_type": "markdown",
   "metadata": {},
   "source": [
    "When applying deep learning algorithms we often need to set a maximum sequence length. When dealing with words, this is equal to the maximum number of words expected in a claim. A lower maximum sequence length will help reduce our training time. \n",
    "\n",
    "If we take all claims of less than 250 words this would still include most of the data.  "
   ]
  },
  {
   "cell_type": "markdown",
   "metadata": {},
   "source": [
    "#### Words\n",
    "\n",
    "Now let's have a look at the words themselves."
   ]
  },
  {
   "cell_type": "code",
   "execution_count": 14,
   "metadata": {},
   "outputs": [
    {
     "name": "stdout",
     "output_type": "stream",
     "text": [
      "There are 34075 different tokens in our dataset.\n",
      "\n",
      "The 100 most common words are: [('the', 103372), ('a', 83989), (',', 66878), ('of', 55405), ('and', 44003), ('to', 37112), (';', 30142), ('.', 22809), ('said', 22647), (')', 20018), ('in', 18044), ('(', 17946), ('an', 17519), ('first', 16033), ('for', 15347), ('is', 14532), ('1', 12720), ('comprising', 12718), ('at', 12212), ('second', 12028), (':', 11834), ('one', 11096), ('or', 10910), ('from', 10621), ('with', 10478), ('A', 9265), ('least', 8529), ('by', 8240), ('wherein', 8237), ('on', 8031), ('that', 7425), ('having', 6846), ('device', 6228), ('which', 6177), ('data', 5856), ('plurality', 5494), ('each', 5283), ('portion', 4687), ('method', 4675), ('surface', 4492), ('signal', 4193), ('being', 3993), ('unit', 3977), ('system', 3739), ('between', 3621), ('end', 3548), ('layer', 3547), ('are', 3497), ('member', 3353), ('image', 3209)]\n"
     ]
    }
   ],
   "source": [
    "# Look at the words in our claims\n",
    "word_counter = Counter(sum([d[0] for d in data_in_words], list()))\n",
    "print(\"There are {0} different tokens in our dataset.\\n\".format(len(word_counter)))\n",
    "print(\"The 100 most common words are:\", word_counter.most_common(50))"
   ]
  },
  {
   "cell_type": "markdown",
   "metadata": {},
   "source": [
    "#### Section Labels\n",
    "\n",
    "Let us now have a look at our Section classes. "
   ]
  },
  {
   "cell_type": "code",
   "execution_count": 15,
   "metadata": {
    "scrolled": false
   },
   "outputs": [
    {
     "data": {
      "text/plain": [
       "Counter({'A': 1777,\n",
       "         'B': 1449,\n",
       "         'C': 865,\n",
       "         'D': 54,\n",
       "         'E': 269,\n",
       "         'F': 735,\n",
       "         'G': 3335,\n",
       "         'H': 2754})"
      ]
     },
     "execution_count": 15,
     "metadata": {},
     "output_type": "execute_result"
    }
   ],
   "source": [
    "class_count = Counter([d[1] for d in cleaner_data])\n",
    "class_count"
   ]
  },
  {
   "cell_type": "markdown",
   "metadata": {},
   "source": [
    "What is quite interesting is we see that the data is mainly clusted around class A, B, G and H. Classes C, D, E and F have a limited number of associated claims.  \n",
    "\n",
    "***A future extension to this project may be to balance the data samples. This may improve performance.***"
   ]
  },
  {
   "cell_type": "markdown",
   "metadata": {},
   "source": [
    "# 3. Transform the Data\n",
    "\n",
    "Machine learning algorithms generally work with numbers (typically floats of 32 or 64 bits). These numbers are arranged in multi-dimensional arrays called tensors.\n",
    "\n",
    "Most machine learning algorithms expect a training set of data to be formatted into an 'X' tensor. One dimension of this tensor represents the different training samples. Another set of dimenions then represent the data of each training sample. For example, if each claim was represented as a one-dimensional vector [3, 1, 2, ..., 3] then X might comprise a matrix where rows of the matrix represent different samples and the columns of the matrix represent different features of the sample.\n",
    "\n",
    "For supervised classification tasks each sample has an associated label. These are typically expected in a 'Y' tensor. Again, one dimension of this tensor represents the different training samples, while another set of dimensions represents the actual classification value for a particular sample. For example, in a simple binary case, Y may comprise a vector of 0 or 1 values.\n",
    "\n",
    "In many supervised learning cases, we are thus looking to map an array (a row of our X tensor) to a scalar representing a group label.\n",
    "\n",
    "## Working with Text\n",
    "\n",
    "When classifying images or measurement data, we generally already have numeric input data. However, text is different - we generally have a long string of characters as input. We thus need to convert our text data into a numeric vector. Moreover, we generally need a fixed-length input vector, whereas our text data can vary in length. \n",
    "\n",
    "In this project we will look at two ways this can be done:\n",
    "- counting words; and\n",
    "- using recurrent neural networks.\n",
    "\n",
    "As differences in converting the text may lead to differences in performance, their implementation may be revisited when trying to improve our results. Initially we will use a standardised set of function, then look to tweak these later.\n",
    "\n",
    "### Counting Words\n",
    "\n",
    "A common techique to converting text to a numeric vector is by creating an array of length *l* that stores count values for the *l* most common words across the corpus of data. These are sometimes referred to as \"bag-of-words\" models, as they treat the text as a collection of words without considering word order.\n",
    "\n",
    "There are [two widely-used flavours](https://en.wikipedia.org/wiki/Tf%E2%80%93idf) of word counts:\n",
    "- term frequency (TF) vectors: these count the occurrences of each word; and\n",
    "- term frequency - document inverse frequency vectors: these weight the term counts to decrease the relevance of words that commonly occur across the corpus.\n",
    "\n",
    "There are functions in gensim, scikit-learn and keras that generate numeric vectors from text data based on these metrics. We will apply some below.\n",
    "\n",
    "### Using Recurrent Neural Networks\n",
    "\n",
    "Counts of words do not take word order into account. Recurrent neural networks are a form of neural network designed to process sequences of data values. In our case, we can convert each word in a claim into an integer index in a dictionary, and then use the resulting list of integers as input for a recurrent neural network.\n",
    "\n",
    "In this post we will look at how to shape numeric X and Y vectors based on our \"claim and classification\" data (the \"raw_data\" above). In other posts we may use built in functions of machine learning libraries to do this for us.\n",
    "\n",
    "---"
   ]
  },
  {
   "cell_type": "markdown",
   "metadata": {},
   "source": [
    "## Creating Y Vector\n",
    "\n",
    "Creating numeric Section label data is relatively straightforward and doesn't leave much room for tinkering. We will apply this first.\n",
    "\n",
    "We can encode our numeric data in several ways, and different machine learning algorithms prefer different formats. Two popular formats are:\n",
    "- a single integer value representing the class (e.g. A = 0, B = 1 etc); and\n",
    "- a one-hot encoding where a 1 in an array indicates the class (e.g. [1, 0, ...0] = A, [0, 1, ...0] = B).\n",
    "\n",
    "We will create and save both."
   ]
  },
  {
   "cell_type": "code",
   "execution_count": 17,
   "metadata": {},
   "outputs": [
    {
     "name": "stdout",
     "output_type": "stream",
     "text": [
      "Our classes are now a matrix of (11238, 8)\n",
      "Original label: A; Converted label: [ 1.  0.  0.  0.  0.  0.  0.  0.]\n"
     ]
    }
   ],
   "source": [
    "from keras.utils import to_categorical\n",
    "from sklearn.preprocessing import LabelEncoder\n",
    "\n",
    "Y_class = [d[1] for d in raw_data]\n",
    "\n",
    "# encode class values as integers\n",
    "label_e = LabelEncoder()\n",
    "label_e.fit(Y_class)\n",
    "encoded_Y = label_e.transform(Y_class)\n",
    "# convert integers to dummy variables (i.e. one hot encoded)\n",
    "Y = to_categorical(encoded_Y)\n",
    "print(\"Our classes are now a matrix of {0}\".format(Y.shape))\n",
    "print(\"Original label: {0}; Converted label: {1}\".format(Y_class[0], Y[0]))"
   ]
  },
  {
   "cell_type": "markdown",
   "metadata": {},
   "source": [
    "## Creating X Vector - TD-IDF\n",
    "\n",
    "Initially, we will use a TD-IDF count to convert our text into a fixed-length vector. We can then see later whether recurrent neural networks improve our classification accuracy.  \n",
    "\n",
    "Luckily keras provides a [handy utility](https://keras.io/preprocessing/text/#tokenizer) to tokenise our text data and output a fixed-length TD-IDF count based on the top *l* words. We saw above that our claims had ~35,000 unique tokens. We'll initially try with a vector limited to 5000 entries. The length of our vector is another hyperparameter we can play with later. The keras tokeniser also converts the text to lowercase and filters out punctuation (see the link above to change the default parameters)."
   ]
  },
  {
   "cell_type": "code",
   "execution_count": 18,
   "metadata": {
    "collapsed": true
   },
   "outputs": [],
   "source": [
    "from keras.preprocessing.text import Tokenizer\n",
    "\n",
    "docs = [d[0] for d in raw_data]\n",
    "\n",
    "# create the tokenizer\n",
    "t = Tokenizer(num_words=5000)\n",
    "# fit the tokenizer on the documents\n",
    "t.fit_on_texts(docs)\n",
    "\n",
    "X = t.texts_to_matrix(docs, mode='tfidf')"
   ]
  },
  {
   "cell_type": "code",
   "execution_count": 19,
   "metadata": {},
   "outputs": [
    {
     "name": "stdout",
     "output_type": "stream",
     "text": [
      "Our data has the following dimensionality:  (11238, 5000)\n",
      "An example array is:  [ 0.          0.          2.43021996  2.08331543  1.71570602  2.52741068\n",
      "  4.87087867  2.99092954  2.24937914  0.          2.06184914  2.64736857\n",
      "  0.6933252   1.79712096  1.15982119  0.          1.47794342  1.26289711\n",
      "  0.          1.16317528  0.          1.29314655  0.          0.\n",
      "  1.38569402  1.36640725  0.          3.80265818  0.          0.\n",
      "  2.92091401  0.          0.          0.          8.0221356   5.73719819\n",
      "  0.          0.          0.          0.          0.          1.89505548\n",
      "  0.          0.          0.          3.76681667  1.94774291  0.          0.\n",
      "  0.          0.          0.          0.          0.          0.          0.\n",
      "  0.          0.          0.          0.          0.          2.32203465\n",
      "  0.          0.          0.          0.          0.          0.          0.\n",
      "  0.          0.          0.          2.45289367  0.          0.          0.\n",
      "  0.          0.          4.79789823  0.          0.          3.16753991\n",
      "  0.          0.          0.          0.          5.80378253  2.41571931\n",
      "  2.36056393  0.          0.          0.          0.          0.          0.\n",
      "  0.          0.          0.          0.          0.        ]\n"
     ]
    }
   ],
   "source": [
    "print(\"Our data has the following dimensionality: \", X.shape)\n",
    "print(\"An example array is: \", X[0][0:100])"
   ]
  },
  {
   "cell_type": "markdown",
   "metadata": {},
   "source": [
    "## Save Our Data\n",
    "\n",
    "Now we can save our X and Y data to load for testing a set of machine learning algorithms."
   ]
  },
  {
   "cell_type": "code",
   "execution_count": 20,
   "metadata": {
    "collapsed": true
   },
   "outputs": [],
   "source": [
    "with open(\"encoded_data.pkl\", \"wb\") as f:\n",
    "    pickle.dump((X, Y), f)"
   ]
  }
 ],
 "metadata": {
  "kernelspec": {
   "display_name": "Python 3",
   "language": "python",
   "name": "python3"
  },
  "language_info": {
   "codemirror_mode": {
    "name": "ipython",
    "version": 3
   },
   "file_extension": ".py",
   "mimetype": "text/x-python",
   "name": "python",
   "nbconvert_exporter": "python",
   "pygments_lexer": "ipython3",
   "version": "3.5.2"
  }
 },
 "nbformat": 4,
 "nbformat_minor": 2
}
