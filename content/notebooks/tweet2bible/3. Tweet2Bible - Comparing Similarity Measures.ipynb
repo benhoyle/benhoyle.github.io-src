{
 "cells": [
  {
   "cell_type": "markdown",
   "metadata": {},
   "source": [
    "Title: 3. Tweet2Bible - Comparing Similarity Measures\n",
    "Tags: initial_model\n",
    "Authors: Ben Hoyle\n",
    "Summary: This post looks at some approaches for matching tweets to Bible passages."
   ]
  },
  {
   "cell_type": "markdown",
   "metadata": {},
   "source": [
    "# 3. Tweet2Bible - Comparing Similarity Measures\n",
    "\n",
    "Now we have our data we can look at some matching.\n",
    "\n",
    "To start we will look at a number of off-the-shelf similarity functions. We will then compare these subjectively and see what gets us the best matches."
   ]
  },
  {
   "cell_type": "markdown",
   "metadata": {},
   "source": [
    "Note the docker-machine virtual machine only has one CPU and 1GB RAM - we need to run docker without the VM..."
   ]
  },
  {
   "cell_type": "markdown",
   "metadata": {},
   "source": [
    "## Similarity Functions\n",
    "\n",
    "Here are some initial similarity functions we can look at:\n",
    "\n",
    "* [Difflib's SequenceMatcher](https://docs.python.org/3/library/difflib.html) has a \"ratio\" function that provides a match score for two strings. This represents a \"naive\" baseline.\n",
    "* We can use spaCy's [\"similarity\" method](https://spacy.io/usage/vectors-similarity) on \"doc\" objects (i.e. as applied to each string).\n",
    "* We can apply the techniques set available in Gensim as set out in [this helpful tutorial](https://radimrehurek.com/gensim/tut3.html).\n",
    "\n",
    "We can then use the results as a baseline for more complex models and algorithms.\n",
    "\n",
    "We will also time how long each method takes."
   ]
  },
  {
   "cell_type": "markdown",
   "metadata": {},
   "source": [
    "### Load Data"
   ]
  },
  {
   "cell_type": "code",
   "execution_count": 1,
   "metadata": {},
   "outputs": [],
   "source": [
    "import logging\n",
    "logging.basicConfig(format='%(asctime)s : %(levelname)s : %(message)s', level=logging.INFO)"
   ]
  },
  {
   "cell_type": "code",
   "execution_count": 2,
   "metadata": {},
   "outputs": [],
   "source": [
    "import pickle\n",
    "with open(\"processed_data.pkl\", 'rb') as f:\n",
    "    tweets, bible_data = pickle.load(f)"
   ]
  },
  {
   "cell_type": "code",
   "execution_count": 3,
   "metadata": {},
   "outputs": [
    {
     "name": "stdout",
     "output_type": "stream",
     "text": [
      "We have 9806 tweets.\n",
      "We have 31102 Bible passages.\n"
     ]
    }
   ],
   "source": [
    "print(\"We have {0} tweets.\".format(len(tweets)))\n",
    "print(\"We have {0} Bible passages.\".format(len(bible_data)))"
   ]
  },
  {
   "cell_type": "markdown",
   "metadata": {},
   "source": [
    "### Difflib SequenceMatcher"
   ]
  },
  {
   "cell_type": "code",
   "execution_count": 6,
   "metadata": {},
   "outputs": [],
   "source": [
    "from difflib import SequenceMatcher\n",
    "\n",
    "def similar(a, b):\n",
    "    \"\"\"Get a similarity metric for strings a and b\"\"\"\n",
    "    return SequenceMatcher(None, a, b).ratio()\n",
    "\n",
    "def get_matches(tweet, bible_data):\n",
    "    \"\"\"Match a tweet against the bible_data.\"\"\"\n",
    "    # Get matches\n",
    "    scores = [\n",
    "        (verse, passage, similar(tweet, passage)) \n",
    "        for verse, passage in bible_data\n",
    "    ]\n",
    "    # Sort by descending score\n",
    "    scores.sort(key=lambda tup: tup[2], reverse = True) \n",
    "    return scores\n",
    "\n",
    "def test_random_tweets(tweets, bible_data, n=5, k=5):\n",
    "    \"\"\"Print n examples for k tweets selected at random.\"\"\"\n",
    "    import random\n",
    "    num_tweets = len(tweets)\n",
    "    indices = random.sample(range(0, num_tweets), k)\n",
    "    for i in indices:\n",
    "        tweet = tweets[i]\n",
    "        print(\"-----------------\")\n",
    "        print(\"Tweet text: {}\".format(tweet))\n",
    "        scores = get_matches(tweet, bible_data)\n",
    "        for verse, passage, score in scores[0:n]:\n",
    "            print(\"\\n{0}, {1}, {2}\".format(verse, passage, score))"
   ]
  },
  {
   "cell_type": "code",
   "execution_count": 7,
   "metadata": {},
   "outputs": [
    {
     "name": "stdout",
     "output_type": "stream",
     "text": [
      "-----------------\n",
      "Tweet text: \"In addition, along with the advance of the electronic information society, a variety of electronic devices are utilized.\" #thetimeswelivein\n",
      "\n",
      "Mark 8:19, When I broke the five loaves among the five thousand, how many baskets full of broken pieces did you take up? They told him, Twelve., 0.4338235294117647\n",
      "\n",
      "Exodus 6:16, These are the names of the sons of Levi according to their generations: Gershon, and Kohath, and Merari; and the years of the life of Levi were one hundred thirty-seven years., 0.43174603174603177\n",
      "\n",
      "Numbers 3:21, Of Gershon was the family of the Libnites, and the family of the Shimeites: these are the families of the Gershonites., 0.4186046511627907\n",
      "\n",
      "Job 4:10, The roaring of the lion, and the voice of the fierce lion, the teeth of the young lions, are broken., 0.4166666666666667\n",
      "\n",
      "2 Corinthians 3:9, For if the service of condemnation has glory, the service of righteousness exceeds much more in glory., 0.4132231404958678\n",
      "-----------------\n",
      "Tweet text: RT @Dr_Cuspy: Why Watson and Siri Are Not Real AI http://t.co/s5MsxRK7Nd via @PopMech [Hofstadter pops up again; a renaissance?]\n",
      "\n",
      "Exodus 2:22, She bore a son, and he named him Gershom, for he said, I have lived as a foreigner in a foreign land., 0.35807860262008734\n",
      "\n",
      "2 Kings 3:22, They rose up early in the morning, and the sun shone on the water, and the Moabites saw the water over against them as red as blood., 0.35384615384615387\n",
      "\n",
      "Job 30:20, I cry to you, and you do not answer me. I stand up, and you gaze at me., 0.35175879396984927\n",
      "\n",
      "Job 38:26, To cause it to rain on a land where no man is; on the wilderness, in which there is no man;, 0.3470319634703196\n",
      "\n",
      "Genesis 34:31, They said, Should he deal with our sister as with a prostitute?, 0.34554973821989526\n",
      "-----------------\n",
      "Tweet text: EPO - The Administrative Council has been busy: updates concerning international supplementary searches, fees & search sharing coming up...\n",
      "\n",
      "Judges 1:21, The children of Benjamin did not drive out the Jebusites who inhabited Jerusalem; but the Jebusites dwell with the children of Benjamin in Jerusalem to this day., 0.3933333333333333\n",
      "\n",
      "2 Timothy 2:18, men who have erred concerning the truth, saying that the resurrection is already past, and overthrowing the faith of some., 0.39080459770114945\n",
      "\n",
      "Acts 15:9, He made no distinction between us and them, cleansing their hearts by faith., 0.39069767441860465\n",
      "\n",
      "Hebrews 11:38, (of whom the world was not worthy), wandering in deserts, mountains, caves, and the holes of the earth., 0.3884297520661157\n",
      "\n",
      "Joshua 13:28, This is the inheritance of the children of Gad according to their families, the cities and its villages., 0.3868312757201646\n",
      "-----------------\n",
      "Tweet text: Historians (and journalists) are always going to be important. https://t.co/o4s7DJEYwE\n",
      "\n",
      "Leviticus 9:16, He presented the burnt offering, and offered it according to the ordinance., 0.40993788819875776\n",
      "\n",
      "Job 36:33, Its noise tells about him, and the livestock also concerning the storm that comes up., 0.4093567251461988\n",
      "\n",
      "Proverbs 16:11, Honest balances and scales are Yahweh's; all the weights in the bag are his work., 0.40718562874251496\n",
      "\n",
      "John 20:10, So the disciples went away again to their own homes., 0.4057971014492754\n",
      "\n",
      "Acts 3:1, Peter and John were going up into the temple at the hour of prayer, the ninth hour., 0.40236686390532544\n",
      "-----------------\n",
      "Tweet text: Tip: use Chromium on Karmic EeePC in full screen (F11): excellent use of limited space.\n",
      "\n",
      "Isaiah 28:29, This also comes forth from Yahweh of Armies, who is wonderful in counsel, and excellent in wisdom., 0.44324324324324327\n",
      "\n",
      "Psalm 139:15, My frame wasn't hidden from you, when I was made in secret, woven together in the depths of the earth., 0.4126984126984127\n",
      "\n",
      "Hebrews 1:4, having become so much better than the angels, as he has inherited a more excellent name than they have., 0.4105263157894737\n",
      "\n",
      "Job 12:21, He pours contempt on princes, and loosens the belt of the strong., 0.40789473684210525\n",
      "\n",
      "Deuteronomy 25:10, His name shall be called in Israel, The house of him who has his shoe untied., 0.4024390243902439\n"
     ]
    }
   ],
   "source": [
    "test_random_tweets(tweets, bible_data)"
   ]
  },
  {
   "cell_type": "markdown",
   "metadata": {},
   "source": [
    "### spaCy String Similarity"
   ]
  },
  {
   "cell_type": "markdown",
   "metadata": {},
   "source": [
    "The 'en_core_web_lg' file crashed my Jupyter kernel but the 'en_core_web_sm' file loaded okay. I'll try the medium-sized file 'en_core_web_md'. Yes - 'md' file loaded okay."
   ]
  },
  {
   "cell_type": "code",
   "execution_count": 4,
   "metadata": {
    "scrolled": true
   },
   "outputs": [
    {
     "name": "stdout",
     "output_type": "stream",
     "text": [
      "Collecting https://github.com/explosion/spacy-models/releases/download/en_core_web_md-2.0.0/en_core_web_md-2.0.0.tar.gz\n",
      "\u001b[?25l  Downloading https://github.com/explosion/spacy-models/releases/download/en_core_web_md-2.0.0/en_core_web_md-2.0.0.tar.gz (120.8MB)\n",
      "\u001b[K    100% |################################| 120.9MB 7.0MB/s ta 0:00:011 0% |                                | 1.2MB 2.2MB/s eta 0:00:56    2% |                                | 2.8MB 4.0MB/s eta 0:00:30    2% |                                | 3.3MB 3.9MB/s eta 0:00:31    3% |#                               | 4.1MB 5.6MB/s eta 0:00:21    3% |#                               | 4.4MB 3.7MB/s eta 0:00:32    5% |#                               | 6.8MB 7.2MB/s eta 0:00:16    8% |##                              | 9.8MB 6.0MB/s eta 0:00:19    8% |##                              | 10.8MB 6.1MB/s eta 0:00:19    9% |##                              | 11.2MB 6.3MB/s eta 0:00:18    9% |###                             | 11.5MB 5.1MB/s eta 0:00:22    12% |###                             | 14.7MB 4.9MB/s eta 0:00:22    12% |###                             | 15.0MB 4.9MB/s eta 0:00:22    12% |####                            | 15.3MB 6.0MB/s eta 0:00:18    13% |####                            | 16.0MB 5.2MB/s eta 0:00:21    13% |####                            | 16.4MB 5.6MB/s eta 0:00:19    15% |####                            | 18.1MB 7.9MB/s eta 0:00:13    16% |#####                           | 19.6MB 7.2MB/s eta 0:00:15    16% |#####                           | 20.0MB 6.4MB/s eta 0:00:16    17% |#####                           | 21.4MB 5.7MB/s eta 0:00:18    19% |######                          | 23.4MB 8.2MB/s eta 0:00:12    19% |######                          | 24.0MB 6.3MB/s eta 0:00:16    20% |######                          | 24.4MB 9.9MB/s eta 0:00:10    20% |######                          | 25.0MB 5.3MB/s eta 0:00:19    21% |######                          | 25.7MB 3.7MB/s eta 0:00:26    22% |#######                         | 26.7MB 4.6MB/s eta 0:00:21    25% |########                        | 30.3MB 5.2MB/s eta 0:00:18    26% |########                        | 31.6MB 6.3MB/s eta 0:00:15    27% |########                        | 33.6MB 4.5MB/s eta 0:00:20    28% |#########                       | 35.0MB 8.4MB/s eta 0:00:11    29% |#########                       | 36.0MB 8.7MB/s eta 0:00:10    30% |#########                       | 37.4MB 7.6MB/s eta 0:00:12    33% |##########                      | 40.2MB 7.2MB/s eta 0:00:12    33% |##########                      | 40.7MB 8.6MB/s eta 0:00:10    35% |###########                     | 43.1MB 4.7MB/s eta 0:00:17    39% |############                    | 47.7MB 5.6MB/s eta 0:00:14    46% |##############                  | 55.8MB 9.0MB/s eta 0:00:08    46% |##############                  | 56.2MB 7.3MB/s eta 0:00:09    47% |###############                 | 57.5MB 4.9MB/s eta 0:00:13    50% |################                | 61.4MB 4.5MB/s eta 0:00:14    52% |################                | 63.4MB 7.0MB/s eta 0:00:09    52% |################                | 63.7MB 7.7MB/s eta 0:00:08    53% |#################               | 64.3MB 8.3MB/s eta 0:00:07    54% |#################               | 65.3MB 6.3MB/s eta 0:00:09    54% |#################               | 65.6MB 5.4MB/s eta 0:00:11    55% |#################               | 67.3MB 5.8MB/s eta 0:00:10    56% |##################              | 68.4MB 6.2MB/s eta 0:00:09    56% |##################              | 68.7MB 6.0MB/s eta 0:00:09    57% |##################              | 69.0MB 5.2MB/s eta 0:00:10    57% |##################              | 69.5MB 8.3MB/s eta 0:00:07    57% |##################              | 69.9MB 7.6MB/s eta 0:00:07    59% |###################             | 72.0MB 7.6MB/s eta 0:00:07    59% |###################             | 72.3MB 4.7MB/s eta 0:00:11    61% |###################             | 74.3MB 4.9MB/s eta 0:00:10    62% |###################             | 75.0MB 5.7MB/s eta 0:00:09    62% |###################             | 75.3MB 5.6MB/s eta 0:00:09    63% |####################            | 76.3MB 6.1MB/s eta 0:00:08    64% |####################            | 77.4MB 5.6MB/s eta 0:00:08    67% |#####################           | 82.2MB 4.0MB/s eta 0:00:10    70% |######################          | 84.7MB 5.0MB/s eta 0:00:08    71% |######################          | 86.8MB 5.9MB/s eta 0:00:06    72% |#######################         | 87.4MB 5.2MB/s eta 0:00:07    76% |########################        | 91.9MB 5.2MB/s eta 0:00:06    76% |########################        | 92.2MB 5.6MB/s eta 0:00:06    76% |########################        | 92.9MB 8.0MB/s eta 0:00:04    78% |#########################       | 94.9MB 6.9MB/s eta 0:00:04    78% |#########################       | 95.3MB 5.2MB/s eta 0:00:05    79% |#########################       | 95.7MB 6.9MB/s eta 0:00:04    82% |##########################      | 99.6MB 5.6MB/s eta 0:00:04    83% |##########################      | 100.6MB 5.7MB/s eta 0:00:04    83% |##########################      | 101.0MB 6.1MB/s eta 0:00:04    84% |##########################      | 101.7MB 6.4MB/s eta 0:00:03    85% |###########################     | 103.1MB 4.9MB/s eta 0:00:04    85% |###########################     | 103.5MB 7.5MB/s eta 0:00:03    85% |###########################     | 103.8MB 7.0MB/s eta 0:00:03    86% |###########################     | 104.1MB 7.3MB/s eta 0:00:03    87% |############################    | 105.9MB 10.5MB/s eta 0:00:02    88% |############################    | 106.6MB 5.4MB/s eta 0:00:03    89% |############################    | 108.3MB 6.4MB/s eta 0:00:02    93% |#############################   | 112.6MB 8.4MB/s eta 0:00:01    93% |#############################   | 113.0MB 6.2MB/s eta 0:00:02    93% |##############################  | 113.4MB 4.9MB/s eta 0:00:02    95% |##############################  | 115.0MB 5.2MB/s eta 0:00:02    96% |##############################  | 116.0MB 5.4MB/s eta 0:00:01    97% |############################### | 118.2MB 8.0MB/s eta 0:00:01\n",
      "\u001b[?25hInstalling collected packages: en-core-web-md\n",
      "  Running setup.py install for en-core-web-md ... \u001b[?25ldone\n",
      "\u001b[?25hSuccessfully installed en-core-web-md-2.0.0\n",
      "\n",
      "\u001b[93m    Linking successful\u001b[0m\n",
      "    /usr/local/lib/python3.6/dist-packages/en_core_web_md -->\n",
      "    /usr/local/lib/python3.6/dist-packages/spacy/data/en_core_web_md\n",
      "\n",
      "    You can now load the model via spacy.load('en_core_web_md')\n",
      "\n"
     ]
    }
   ],
   "source": [
    "!python3 -m spacy download en_core_web_md"
   ]
  },
  {
   "cell_type": "code",
   "execution_count": 8,
   "metadata": {},
   "outputs": [],
   "source": [
    "import spacy\n",
    "\n",
    "nlp = spacy.load('en_core_web_md')"
   ]
  },
  {
   "cell_type": "code",
   "execution_count": 8,
   "metadata": {},
   "outputs": [],
   "source": [
    "def similar(a, b):\n",
    "    \"\"\"Get a similarity metric for strings a and b\"\"\"\n",
    "    spacy_a = nlp(a)\n",
    "    spacy_b = nlp(b)\n",
    "    return spacy_a.similarity(spacy_b)"
   ]
  },
  {
   "cell_type": "code",
   "execution_count": 11,
   "metadata": {},
   "outputs": [
    {
     "name": "stdout",
     "output_type": "stream",
     "text": [
      "-----------------\n",
      "Tweet text: Next-Gen Bluetooth Bulb Controllable Via Smartphone | Freshome http://t.co/5oEjvL6c [A great patented idea - get it to market!]\n",
      "\n",
      "Nehemiah 3:32, Between the ascent of the corner and the sheep gate repaired the goldsmiths and the merchants., 0.38009049773755654\n",
      "\n",
      "Jeremiah 27:5, I have made the earth, the men and the animals that are on the surface of the earth, by my great power and by my outstretched arm; and I give it to whom it seems right to me., 0.3588039867109635\n",
      "\n",
      "1 Corinthians 10:7, Neither be idolaters, as some of them were. As it is written, The people sat down to eat and drink, and rose up to play., 0.3562753036437247\n",
      "\n",
      "Acts 2:20, The sun will be turned into darkness, and the moon into blood, before the great and glorious day of the Lord comes., 0.35537190082644626\n",
      "\n",
      "Matthew 18:4, Whoever therefore humbles himself as this little child, the same is the greatest in the Kingdom of Heaven., 0.351931330472103\n",
      "-----------------\n",
      "Tweet text: Ask Yourself: Are You Happier Now Than You Were 10 Years Ago? https://t.co/1MeEzAkHcT [+ report on happiness &amp; parenting: -ve ~ w/ GDP]\n",
      "\n",
      "Hosea 8:8, Israel is swallowed up. Now they are among the nations like a worthless thing., 0.35023041474654376\n",
      "\n",
      "Deuteronomy 29:4, but Yahweh has not given you a heart to know, and eyes to see, and ears to hear, to this day., 0.33620689655172414\n",
      "\n",
      "Amos 6:12, Do horses run on the rocky crags? Does one plow there with oxen? But you have turned justice into poison, and the fruit of righteousness into bitterness;, 0.3356164383561644\n",
      "\n",
      "Ephesians 4:28, Let him who stole steal no more; but rather let him labor, working with his hands the thing that is good, that he may have something to give to him who has need., 0.3333333333333333\n",
      "\n",
      "Psalm 112:1, Praise Yah! Blessed is the man who fears Yahweh, who delights greatly in his commandments., 0.3318777292576419\n",
      "-----------------\n",
      "Tweet text: The more possessions a person has, &amp; the more orderly the society, the greater the frequency of corporal punishment for children.\n",
      "\n",
      "1 Chronicles 26:19, These were the divisions of the doorkeepers; of the sons of the Korahites, and of the sons of Merari., 0.4700854700854701\n",
      "\n",
      "1 Samuel 17:31, When the words were heard which David spoke, they rehearsed them before Saul; and he sent for him., 0.4588744588744589\n",
      "\n",
      "2 Kings 20:4, It happened, before Isaiah had gone out into the middle part of the city, that the word of Yahweh came to him, saying,, 0.4541832669322709\n",
      "\n",
      "Exodus 39:38, the golden altar, the anointing oil, the sweet incense, the screen for the door of the Tent,, 0.4533333333333333\n",
      "\n",
      "Ezekiel 47:15, This shall be the border of the land: On the north side, from the great sea, by the way of Hethlon, to the entrance of Zedad;, 0.4496124031007752\n",
      "-----------------\n",
      "Tweet text: Rather than use subordinate clauses, old languages (~ C10 BC) juxtapose events according to temporal order.\n",
      "\n",
      "Genesis 30:34, Laban said, Behold, let it be according to your word., 0.475\n",
      "\n",
      "Numbers 15:12, According to the number that you shall prepare, so you shall do to everyone according to their number., 0.45933014354066987\n",
      "\n",
      "Numbers 26:53, To these the land shall be divided for an inheritance according to the number of names., 0.4329896907216495\n",
      "\n",
      "2 Kings 4:44, So he set it before them, and they ate, and left some of it, according to the word of Yahweh., 0.43\n",
      "\n",
      "2 Kings 7:16, The people went out, and plundered the camp of the Syrians. So a measure of fine flour was [sold] for a shekel, and two measures of barley for a shekel, according to the word of Yahweh., 0.4246575342465753\n",
      "-----------------\n",
      "Tweet text: The Economist | Amazon: http://t.co/wBm32F26yw [the world's 9th biggest retailer didn't exist 20 years ago] http://t.co/JY6Uq3iSIB\n",
      "\n",
      "2 Thessalonians 2:6, Now you know what is restraining him, to the end that he may be revealed in his own season., 0.39819004524886875\n",
      "\n",
      "Mark 16:13, They went away and told it to the rest. They didn't believe them, either., 0.39408866995073893\n",
      "\n",
      "John 14:24, He who doesn't love me doesn't keep my words. The word which you hear isn't mine, but the Father's who sent me., 0.37344398340248963\n",
      "\n",
      "1 Timothy 6:7, For we brought nothing into the world, and we certainly can't carry anything out., 0.3696682464454976\n",
      "\n",
      "Proverbs 13:1, A wise son listens to his father's instruction, but a scoffer doesn't listen to rebuke., 0.3686635944700461\n"
     ]
    }
   ],
   "source": [
    "test_random_tweets(tweets, bible_data)"
   ]
  },
  {
   "cell_type": "markdown",
   "metadata": {},
   "source": [
    "### Gensim\n",
    "\n",
    "Gensim needs a little bit of pre-processing to convert our texts into vector form. We need to get a bag of words that represents each portion of text.\n",
    "\n",
    "First we need to tokenise our text. We can use spaCy or NLTK to do this. (The method above involves generating a spaCy doc for each Bible passage - we can maybe do this once and then use elsewhere.)\n",
    "\n",
    "Then we filter the text and convert it into a vector form.\n",
    "\n",
    "The procedure below mirrors the [Gensim tutorial](https://radimrehurek.com/gensim/tut1.html)."
   ]
  },
  {
   "cell_type": "code",
   "execution_count": null,
   "metadata": {
    "scrolled": true
   },
   "outputs": [],
   "source": [
    "# This took quite a long time so I might go for the quicker word_tokenize from nltk\n",
    "# spacy_bible = [(verse, nlp(passage)) for verse, passage in bible_data]"
   ]
  },
  {
   "cell_type": "code",
   "execution_count": 9,
   "metadata": {},
   "outputs": [],
   "source": [
    "from nltk import word_tokenize\n",
    "tokenised = [(verse, word_tokenize(passage)) for verse, passage in bible_data]"
   ]
  },
  {
   "cell_type": "code",
   "execution_count": 10,
   "metadata": {},
   "outputs": [
    {
     "data": {
      "text/plain": [
       "('Genesis 1:4',\n",
       " ['God',\n",
       "  'saw',\n",
       "  'the',\n",
       "  'light',\n",
       "  ',',\n",
       "  'and',\n",
       "  'saw',\n",
       "  'that',\n",
       "  'it',\n",
       "  'was',\n",
       "  'good',\n",
       "  '.',\n",
       "  'God',\n",
       "  'divided',\n",
       "  'the',\n",
       "  'light',\n",
       "  'from',\n",
       "  'the',\n",
       "  'darkness',\n",
       "  '.'])"
      ]
     },
     "execution_count": 10,
     "metadata": {},
     "output_type": "execute_result"
    }
   ],
   "source": [
    "tokenised[3]"
   ]
  },
  {
   "cell_type": "code",
   "execution_count": 11,
   "metadata": {},
   "outputs": [],
   "source": [
    "def process_words(tokens):\n",
    "    \"\"\" Remove digits and punctuation from text and convert to lower case. \"\"\"\n",
    "    # Alternative for complete text is re.sub('\\W+', '', text)\n",
    "    return [w.lower() for w in tokens if w.isalpha()]"
   ]
  },
  {
   "cell_type": "code",
   "execution_count": 12,
   "metadata": {},
   "outputs": [],
   "source": [
    "tokenised = [(verse, process_words(tokens)) for verse, tokens in tokenised]"
   ]
  },
  {
   "cell_type": "code",
   "execution_count": 13,
   "metadata": {},
   "outputs": [
    {
     "data": {
      "text/plain": [
       "('Genesis 1:4',\n",
       " ['god',\n",
       "  'saw',\n",
       "  'the',\n",
       "  'light',\n",
       "  'and',\n",
       "  'saw',\n",
       "  'that',\n",
       "  'it',\n",
       "  'was',\n",
       "  'good',\n",
       "  'god',\n",
       "  'divided',\n",
       "  'the',\n",
       "  'light',\n",
       "  'from',\n",
       "  'the',\n",
       "  'darkness'])"
      ]
     },
     "execution_count": 13,
     "metadata": {},
     "output_type": "execute_result"
    }
   ],
   "source": [
    "tokenised[3]"
   ]
  },
  {
   "cell_type": "code",
   "execution_count": 14,
   "metadata": {},
   "outputs": [],
   "source": [
    "texts = [tokens for _, tokens in tokenised]"
   ]
  },
  {
   "cell_type": "code",
   "execution_count": 15,
   "metadata": {},
   "outputs": [],
   "source": [
    "# Import NLTK modules\n",
    "from nltk import word_tokenize\n",
    "from nltk.corpus import stopwords\n",
    "# Load stopwords\n",
    "ENG_STOPWORDS = stopwords.words('english')\n",
    "\n",
    "def text_preprocessing(original_text):\n",
    "    \"\"\"Clean and process texts for Gensim methods.\"\"\" \n",
    "    # Tokenise\n",
    "    tokenised = word_tokenize(original_text) \n",
    "    \n",
    "    # Convert to lowercase and remove non-text / stopwords\n",
    "    tokenised = [w.lower() for w in tokenised if (w.isalpha() and w not in ENG_STOPWORDS)]\n",
    "    return tokenised"
   ]
  },
  {
   "cell_type": "code",
   "execution_count": 16,
   "metadata": {},
   "outputs": [
    {
     "data": {
      "text/plain": [
       "['god', 'saw', 'light', 'saw', 'good', 'god', 'divided', 'light', 'darkness']"
      ]
     },
     "execution_count": 16,
     "metadata": {},
     "output_type": "execute_result"
    }
   ],
   "source": [
    "text_preprocessing(bible_data[3][1])"
   ]
  },
  {
   "cell_type": "code",
   "execution_count": 17,
   "metadata": {},
   "outputs": [],
   "source": [
    "texts = [text_preprocessing(passage) for _, passage in bible_data]"
   ]
  },
  {
   "cell_type": "code",
   "execution_count": 18,
   "metadata": {},
   "outputs": [
    {
     "data": {
      "text/plain": [
       "['god',\n",
       " 'said',\n",
       " 'let',\n",
       " 'expanse',\n",
       " 'middle',\n",
       " 'waters',\n",
       " 'let',\n",
       " 'divide',\n",
       " 'waters',\n",
       " 'waters']"
      ]
     },
     "execution_count": 18,
     "metadata": {},
     "output_type": "execute_result"
    }
   ],
   "source": [
    "texts[5]"
   ]
  },
  {
   "cell_type": "code",
   "execution_count": 32,
   "metadata": {},
   "outputs": [
    {
     "name": "stderr",
     "output_type": "stream",
     "text": [
      "2018-06-21 12:50:20,527 : INFO : adding document #0 to Dictionary(0 unique tokens: [])\n",
      "2018-06-21 12:50:20,799 : INFO : adding document #10000 to Dictionary(6375 unique tokens: ['beginning', 'created', 'earth', 'god', 'heavens']...)\n",
      "2018-06-21 12:50:21,016 : INFO : adding document #20000 to Dictionary(9840 unique tokens: ['beginning', 'created', 'earth', 'god', 'heavens']...)\n",
      "2018-06-21 12:50:21,242 : INFO : adding document #30000 to Dictionary(12041 unique tokens: ['beginning', 'created', 'earth', 'god', 'heavens']...)\n",
      "2018-06-21 12:50:21,272 : INFO : built Dictionary(12255 unique tokens: ['beginning', 'created', 'earth', 'god', 'heavens']...) from 31102 documents (total 370556 corpus positions)\n",
      "2018-06-21 12:50:21,276 : INFO : saving Dictionary object under bible.dict, separately None\n",
      "2018-06-21 12:50:21,288 : INFO : saved bible.dict\n"
     ]
    },
    {
     "name": "stdout",
     "output_type": "stream",
     "text": [
      "Dictionary(12255 unique tokens: ['beginning', 'created', 'earth', 'god', 'heavens']...)\n"
     ]
    }
   ],
   "source": [
    "# Create a dictionary from our processed bible texts\n",
    "\n",
    "from gensim import corpora\n",
    "\n",
    "# Create a dictionary that maps numbers to words\n",
    "dictionary = corpora.Dictionary(texts)\n",
    "# Save dictionary\n",
    "dictionary.save('bible.dict')\n",
    "print(dictionary)"
   ]
  },
  {
   "cell_type": "code",
   "execution_count": 33,
   "metadata": {
    "scrolled": true
   },
   "outputs": [
    {
     "name": "stderr",
     "output_type": "stream",
     "text": [
      "2018-06-21 12:50:26,077 : INFO : storing corpus in Matrix Market format to bible.mm\n",
      "2018-06-21 12:50:26,082 : INFO : saving sparse matrix to bible.mm\n",
      "2018-06-21 12:50:26,085 : INFO : PROGRESS: saving document #0\n",
      "2018-06-21 12:50:26,122 : INFO : PROGRESS: saving document #1000\n",
      "2018-06-21 12:50:26,162 : INFO : PROGRESS: saving document #2000\n",
      "2018-06-21 12:50:26,199 : INFO : PROGRESS: saving document #3000\n",
      "2018-06-21 12:50:26,237 : INFO : PROGRESS: saving document #4000\n",
      "2018-06-21 12:50:26,274 : INFO : PROGRESS: saving document #5000\n",
      "2018-06-21 12:50:26,313 : INFO : PROGRESS: saving document #6000\n",
      "2018-06-21 12:50:26,350 : INFO : PROGRESS: saving document #7000\n",
      "2018-06-21 12:50:26,391 : INFO : PROGRESS: saving document #8000\n",
      "2018-06-21 12:50:26,429 : INFO : PROGRESS: saving document #9000\n",
      "2018-06-21 12:50:26,470 : INFO : PROGRESS: saving document #10000\n",
      "2018-06-21 12:50:26,504 : INFO : PROGRESS: saving document #11000\n",
      "2018-06-21 12:50:26,549 : INFO : PROGRESS: saving document #12000\n",
      "2018-06-21 12:50:26,596 : INFO : PROGRESS: saving document #13000\n",
      "2018-06-21 12:50:26,629 : INFO : PROGRESS: saving document #14000\n",
      "2018-06-21 12:50:26,660 : INFO : PROGRESS: saving document #15000\n",
      "2018-06-21 12:50:26,695 : INFO : PROGRESS: saving document #16000\n",
      "2018-06-21 12:50:26,727 : INFO : PROGRESS: saving document #17000\n",
      "2018-06-21 12:50:26,769 : INFO : PROGRESS: saving document #18000\n",
      "2018-06-21 12:50:26,807 : INFO : PROGRESS: saving document #19000\n",
      "2018-06-21 12:50:26,858 : INFO : PROGRESS: saving document #20000\n",
      "2018-06-21 12:50:26,901 : INFO : PROGRESS: saving document #21000\n",
      "2018-06-21 12:50:26,940 : INFO : PROGRESS: saving document #22000\n",
      "2018-06-21 12:50:26,978 : INFO : PROGRESS: saving document #23000\n",
      "2018-06-21 12:50:27,011 : INFO : PROGRESS: saving document #24000\n",
      "2018-06-21 12:50:27,043 : INFO : PROGRESS: saving document #25000\n",
      "2018-06-21 12:50:27,075 : INFO : PROGRESS: saving document #26000\n",
      "2018-06-21 12:50:27,107 : INFO : PROGRESS: saving document #27000\n",
      "2018-06-21 12:50:27,141 : INFO : PROGRESS: saving document #28000\n",
      "2018-06-21 12:50:27,179 : INFO : PROGRESS: saving document #29000\n",
      "2018-06-21 12:50:27,213 : INFO : PROGRESS: saving document #30000\n",
      "2018-06-21 12:50:27,252 : INFO : PROGRESS: saving document #31000\n",
      "2018-06-21 12:50:27,259 : INFO : saved 31102x12255 matrix, density=0.089% (339121/381155010)\n",
      "2018-06-21 12:50:27,262 : INFO : saving MmCorpus index to bible.mm.index\n",
      "IOPub data rate exceeded.\n",
      "The notebook server will temporarily stop sending output\n",
      "to the client in order to avoid crashing it.\n",
      "To change this limit, set the config variable\n",
      "`--NotebookApp.iopub_data_rate_limit`.\n",
      "\n",
      "Current values:\n",
      "NotebookApp.iopub_data_rate_limit=1000000.0 (bytes/sec)\n",
      "NotebookApp.rate_limit_window=3.0 (secs)\n",
      "\n"
     ]
    }
   ],
   "source": [
    "corpus = [dictionary.doc2bow(text) for text in texts]\n",
    "# Save corpus for later\n",
    "corpora.MmCorpus.serialize('bible.mm', corpus)\n",
    "print(corpus)"
   ]
  },
  {
   "cell_type": "markdown",
   "metadata": {},
   "source": [
    "On a first run of this we note that most topics are defined by common stopwords. Let's get rid of these."
   ]
  },
  {
   "cell_type": "code",
   "execution_count": 35,
   "metadata": {
    "scrolled": true
   },
   "outputs": [
    {
     "name": "stderr",
     "output_type": "stream",
     "text": [
      "2018-06-21 12:51:15,457 : INFO : using serial LSI version on this node\n",
      "2018-06-21 12:51:15,458 : INFO : updating model with new documents\n",
      "2018-06-21 12:51:15,460 : INFO : preparing a new chunk of documents\n",
      "2018-06-21 12:51:15,620 : INFO : using 100 extra samples and 2 power iterations\n",
      "2018-06-21 12:51:15,626 : INFO : 1st phase: constructing (12255, 200) action matrix\n",
      "2018-06-21 12:51:15,866 : INFO : orthonormalizing (12255, 200) action matrix\n",
      "2018-06-21 12:51:16,872 : INFO : 2nd phase: running dense svd on (200, 20000) matrix\n",
      "2018-06-21 12:51:18,142 : INFO : computing the final decomposition\n",
      "2018-06-21 12:51:18,146 : INFO : keeping 100 factors (discarding 18.228% of energy spectrum)\n",
      "2018-06-21 12:51:18,326 : INFO : processed documents up to #20000\n",
      "2018-06-21 12:51:18,329 : INFO : topic #0(128.237): 0.579*\"shall\" + 0.450*\"yahweh\" + 0.419*\"i\" + 0.176*\"said\" + 0.173*\"god\" + 0.131*\"israel\" + 0.108*\"king\" + 0.106*\"the\" + 0.087*\"he\" + 0.085*\"house\"\n",
      "2018-06-21 12:51:18,333 : INFO : topic #1(94.911): -0.741*\"shall\" + 0.569*\"i\" + 0.178*\"yahweh\" + 0.174*\"said\" + 0.089*\"king\" + 0.081*\"god\" + 0.069*\"israel\" + -0.056*\"you\" + 0.049*\"son\" + -0.045*\"offering\"\n",
      "2018-06-21 12:51:18,336 : INFO : topic #2(83.248): 0.656*\"i\" + -0.593*\"yahweh\" + 0.255*\"shall\" + -0.159*\"israel\" + -0.158*\"god\" + -0.138*\"king\" + -0.103*\"the\" + -0.081*\"house\" + -0.081*\"children\" + -0.076*\"son\"\n",
      "2018-06-21 12:51:18,338 : INFO : topic #3(70.173): -0.513*\"yahweh\" + 0.490*\"king\" + 0.355*\"son\" + 0.249*\"the\" + 0.243*\"said\" + 0.167*\"israel\" + 0.139*\"he\" + -0.124*\"i\" + 0.117*\"children\" + 0.107*\"men\"\n",
      "2018-06-21 12:51:18,342 : INFO : topic #4(57.722): 0.504*\"said\" + -0.451*\"son\" + -0.379*\"children\" + -0.349*\"israel\" + 0.339*\"he\" + -0.131*\"i\" + 0.129*\"let\" + 0.118*\"us\" + 0.109*\"go\" + 0.108*\"god\"\n",
      "2018-06-21 12:51:18,345 : INFO : preparing a new chunk of documents\n",
      "2018-06-21 12:51:18,454 : INFO : using 100 extra samples and 2 power iterations\n",
      "2018-06-21 12:51:18,460 : INFO : 1st phase: constructing (12255, 200) action matrix\n",
      "2018-06-21 12:51:18,589 : INFO : orthonormalizing (12255, 200) action matrix\n",
      "2018-06-21 12:51:19,492 : INFO : 2nd phase: running dense svd on (200, 11102) matrix\n",
      "2018-06-21 12:51:20,134 : INFO : computing the final decomposition\n",
      "2018-06-21 12:51:20,138 : INFO : keeping 100 factors (discarding 19.942% of energy spectrum)\n",
      "2018-06-21 12:51:20,313 : INFO : merging projections: (12255, 100) + (12255, 100)\n",
      "2018-06-21 12:51:20,720 : INFO : keeping 100 factors (discarding 5.936% of energy spectrum)\n",
      "2018-06-21 12:51:20,956 : INFO : processed documents up to #31102\n",
      "2018-06-21 12:51:20,961 : INFO : topic #0(152.944): 0.600*\"i\" + 0.513*\"shall\" + 0.354*\"yahweh\" + 0.169*\"said\" + 0.157*\"god\" + 0.104*\"israel\" + 0.092*\"the\" + 0.082*\"king\" + 0.082*\"he\" + 0.075*\"land\"\n",
      "2018-06-21 12:51:20,965 : INFO : topic #1(116.465): -0.735*\"shall\" + 0.651*\"i\" + 0.093*\"said\" + -0.062*\"yahweh\" + -0.050*\"you\" + -0.049*\"offering\" + -0.038*\"the\" + -0.025*\"priest\" + 0.023*\"know\" + 0.021*\"for\"\n",
      "2018-06-21 12:51:20,966 : INFO : topic #2(97.426): 0.592*\"yahweh\" + -0.415*\"i\" + -0.394*\"shall\" + 0.258*\"god\" + 0.177*\"said\" + 0.167*\"israel\" + 0.167*\"king\" + 0.144*\"the\" + 0.118*\"son\" + 0.107*\"house\"\n",
      "2018-06-21 12:51:20,968 : INFO : topic #3(79.928): -0.604*\"yahweh\" + 0.379*\"said\" + 0.303*\"king\" + 0.284*\"son\" + 0.245*\"the\" + 0.245*\"he\" + 0.145*\"man\" + 0.144*\"one\" + 0.096*\"came\" + -0.095*\"i\"\n",
      "2018-06-21 12:51:20,974 : INFO : topic #4(69.851): 0.857*\"god\" + -0.237*\"king\" + -0.213*\"yahweh\" + -0.165*\"son\" + -0.162*\"the\" + -0.105*\"israel\" + 0.103*\"us\" + -0.093*\"children\" + 0.077*\"for\" + 0.064*\"jesus\"\n"
     ]
    }
   ],
   "source": [
    "from gensim import models, similarities\n",
    "# We'll start with LSI and a 100D vector\n",
    "lsi = models.LsiModel(corpus, id2word=dictionary, num_topics=100)"
   ]
  },
  {
   "cell_type": "code",
   "execution_count": 36,
   "metadata": {},
   "outputs": [
    {
     "name": "stderr",
     "output_type": "stream",
     "text": [
      "2018-06-21 12:53:38,112 : WARNING : scanning corpus to determine the number of features (consider setting `num_features` explicitly)\n",
      "2018-06-21 12:53:39,874 : INFO : creating matrix with 31102 documents and 100 features\n",
      "2018-06-21 12:53:43,628 : INFO : saving MatrixSimilarity object under bible.index, separately None\n",
      "2018-06-21 12:53:43,786 : INFO : saved bible.index\n"
     ]
    }
   ],
   "source": [
    "# Create index\n",
    "index = similarities.MatrixSimilarity(lsi[corpus])\n",
    "index.save('bible.index')"
   ]
  },
  {
   "cell_type": "code",
   "execution_count": 37,
   "metadata": {},
   "outputs": [],
   "source": [
    "def text2vec(text, dictionary, lsi):\n",
    "    \"\"\"Convert a portion of text to an LSI vector.\"\"\"\n",
    "    processed = text_preprocessing(text)\n",
    "    vec_bow = dictionary.doc2bow(processed)\n",
    "    vec_lsi = lsi[vec_bow] # convert the query to LSI space\n",
    "    return vec_lsi"
   ]
  },
  {
   "cell_type": "code",
   "execution_count": 39,
   "metadata": {
    "scrolled": true
   },
   "outputs": [],
   "source": [
    "vec_lsi = text2vec(tweets[5], dictionary, lsi)"
   ]
  },
  {
   "cell_type": "code",
   "execution_count": 47,
   "metadata": {},
   "outputs": [
    {
     "name": "stdout",
     "output_type": "stream",
     "text": [
      "[(0, 0.026685458), (1, 0.010693545), (2, 0.02526992), (3, 0.018537477), (4, -0.0064496454)]\n"
     ]
    }
   ],
   "source": [
    "sims = index[vec_lsi] # perform a similarity query against the corpus\n",
    "print(list(enumerate(sims))[0:5]) # print (document_number, document_similarity) 2-tuples"
   ]
  },
  {
   "cell_type": "code",
   "execution_count": 48,
   "metadata": {},
   "outputs": [
    {
     "name": "stdout",
     "output_type": "stream",
     "text": [
      "[(14471, 0.98052335), (16335, 0.78113711), (5388, 0.75273919), (17916, 0.74159586), (26053, 0.73570257)]\n"
     ]
    }
   ],
   "source": [
    "sims_sorted = sorted(enumerate(sims), key=lambda item: -item[1])\n",
    "print(sims_sorted[0:5]) # print sorted (document number, similarity score) 2-tuples"
   ]
  },
  {
   "cell_type": "code",
   "execution_count": 49,
   "metadata": {},
   "outputs": [
    {
     "data": {
      "text/plain": [
       "('Psalm 37:21',\n",
       " \"The wicked borrow, and don't pay back, but the righteous give generously.\")"
      ]
     },
     "execution_count": 49,
     "metadata": {},
     "output_type": "execute_result"
    }
   ],
   "source": [
    "bible_data[sims_sorted[0][0]]"
   ]
  },
  {
   "cell_type": "code",
   "execution_count": 46,
   "metadata": {},
   "outputs": [
    {
     "data": {
      "text/plain": [
       "'“The ungovernable metropolis, with its fluid population and ethnic and occupational enclaves, is an affront to a mindset that envisions a world of harmony, purity, and organic wholeness.” - to thrive you need to give up unattainable perfection and unquestioning agreement'"
      ]
     },
     "execution_count": 46,
     "metadata": {},
     "output_type": "execute_result"
    }
   ],
   "source": [
    "tweets[5]"
   ]
  },
  {
   "cell_type": "markdown",
   "metadata": {},
   "source": [
    "Now let's fold all this into a function."
   ]
  },
  {
   "cell_type": "code",
   "execution_count": 60,
   "metadata": {
    "scrolled": true
   },
   "outputs": [],
   "source": [
    "zipped = [(p, v, s) for (p, v), s in zip(bible_data, sims)]"
   ]
  },
  {
   "cell_type": "code",
   "execution_count": 61,
   "metadata": {},
   "outputs": [
    {
     "data": {
      "text/plain": [
       "('Psalm 37:21',\n",
       " \"The wicked borrow, and don't pay back, but the righteous give generously.\",\n",
       " 0.98052335)"
      ]
     },
     "execution_count": 61,
     "metadata": {},
     "output_type": "execute_result"
    }
   ],
   "source": [
    "zipped[14471]"
   ]
  },
  {
   "cell_type": "code",
   "execution_count": 19,
   "metadata": {},
   "outputs": [
    {
     "name": "stderr",
     "output_type": "stream",
     "text": [
      "2018-06-23 08:15:34,349 : INFO : 'pattern' package not found; tag filters are not available for English\n"
     ]
    }
   ],
   "source": [
    "# Import gensim modules\n",
    "from gensim import corpora, models, similarities\n",
    "\n",
    "# Import NLTK modules\n",
    "from nltk import word_tokenize\n",
    "from nltk.corpus import stopwords\n",
    "# Load stopwords\n",
    "ENG_STOPWORDS = stopwords.words('english')\n",
    "\n",
    "def text_preprocessing(original_text):\n",
    "    \"\"\"Clean and process texts for Gensim methods.\"\"\" \n",
    "    # Tokenise\n",
    "    tokenised = word_tokenize(original_text) \n",
    "    \n",
    "    # Convert to lowercase and remove non-text / stopwords\n",
    "    tokenised = [w.lower() for w in tokenised if (w.isalpha() and w not in ENG_STOPWORDS)]\n",
    "    return tokenised\n",
    "\n",
    "def text2vec(text, dictionary, lsi):\n",
    "    \"\"\"Convert a portion of text to an LSI vector.\"\"\"\n",
    "    processed = text_preprocessing(text)\n",
    "    vec_bow = dictionary.doc2bow(processed)\n",
    "    vec_lsi = lsi[vec_bow] # convert the query to LSI space\n",
    "    return vec_lsi\n",
    "\n",
    "def build_data(tweets, bible_data):\n",
    "    \"\"\"Generate variables for matching.\"\"\"\n",
    "    # Process text\n",
    "    texts = [text_preprocessing(passage) for _, passage in bible_data]\n",
    "    # Build dictionary\n",
    "    dictionary = corpora.Dictionary(texts)\n",
    "    # Convert bible data to corpus\n",
    "    corpus = [dictionary.doc2bow(text) for text in texts]\n",
    "    lsi = models.LsiModel(corpus, id2word=dictionary, num_topics=100)\n",
    "    # Create index\n",
    "    index = similarities.MatrixSimilarity(lsi[corpus])\n",
    "    # Save all of these\n",
    "    dictionary.save('bible.dict')\n",
    "    corpora.MmCorpus.serialize('bible.mm', corpus)\n",
    "    lsi.save('bible.lsi')\n",
    "    index.save('bible.index')\n",
    "    return dictionary, corpus, lsi, index\n",
    "\n",
    "def get_matches(tweet, bible_data, dictionary, lsi, index):\n",
    "    \"\"\"Match a tweet against the bible_data.\"\"\"\n",
    "    # To run this we need dictionary, lsi, and index variables\n",
    "    # Get matches\n",
    "    vec_lsi = text2vec(tweet, dictionary, lsi)\n",
    "    sims = index[vec_lsi] # perform a similarity query against the corpus\n",
    "    scores = [(p, v, s) for (p, v), s in zip(bible_data, sims)]\n",
    "    # Sort by descending score\n",
    "    scores.sort(key=lambda tup: tup[2], reverse = True) \n",
    "    return scores\n",
    "\n",
    "def test_random_tweets(tweets, bible_data, n=5, k=5):\n",
    "    \"\"\"Print n examples for k tweets selected at random.\"\"\"\n",
    "    try:\n",
    "        dictionary = corpora.Dictionary.load('bible.dict')\n",
    "        corpus = corpora.MmCorpus('bible.mm')\n",
    "        lsi = models.LsiModel.load('bible.lsi')\n",
    "        index = similarities.MatrixSimilarity.load('bible.index')\n",
    "    except FileNotFoundError:\n",
    "        dictionary, corpus, lsi, index = build_data(tweets, bible_data)\n",
    "        \n",
    "    import random\n",
    "    num_tweets = len(tweets)\n",
    "    indices = random.sample(range(0, num_tweets), k)\n",
    "    for i in indices:\n",
    "        tweet = tweets[i]\n",
    "        print(\"-----------------\")\n",
    "        print(\"Tweet text: {}\".format(tweet))\n",
    "        scores = get_matches(tweet, bible_data, dictionary, lsi, index)\n",
    "        for verse, passage, score in scores[0:n]:\n",
    "            print(\"\\n{0}, {1}, {2}\".format(verse, passage, score))"
   ]
  },
  {
   "cell_type": "code",
   "execution_count": 5,
   "metadata": {
    "scrolled": true
   },
   "outputs": [
    {
     "name": "stderr",
     "output_type": "stream",
     "text": [
      "2018-06-21 13:41:59,527 : INFO : loading Dictionary object from bible.dict\n",
      "2018-06-21 13:41:59,541 : INFO : loaded bible.dict\n",
      "2018-06-21 13:41:59,552 : INFO : loaded corpus index from bible.mm.index\n",
      "2018-06-21 13:41:59,557 : INFO : initializing cython corpus reader from bible.mm\n",
      "2018-06-21 13:41:59,562 : INFO : accepted corpus with 31102 documents, 12255 features, 339121 non-zero entries\n",
      "2018-06-21 13:41:59,564 : INFO : loading LsiModel object from bible.lsi\n",
      "2018-06-21 13:42:09,193 : INFO : adding document #0 to Dictionary(0 unique tokens: [])\n",
      "2018-06-21 13:42:09,432 : INFO : adding document #10000 to Dictionary(6375 unique tokens: ['beginning', 'created', 'earth', 'god', 'heavens']...)\n",
      "2018-06-21 13:42:09,651 : INFO : adding document #20000 to Dictionary(9840 unique tokens: ['beginning', 'created', 'earth', 'god', 'heavens']...)\n",
      "2018-06-21 13:42:09,875 : INFO : adding document #30000 to Dictionary(12041 unique tokens: ['beginning', 'created', 'earth', 'god', 'heavens']...)\n",
      "2018-06-21 13:42:09,905 : INFO : built Dictionary(12255 unique tokens: ['beginning', 'created', 'earth', 'god', 'heavens']...) from 31102 documents (total 370556 corpus positions)\n",
      "2018-06-21 13:42:10,369 : INFO : using serial LSI version on this node\n",
      "2018-06-21 13:42:10,372 : INFO : updating model with new documents\n",
      "2018-06-21 13:42:10,375 : INFO : preparing a new chunk of documents\n",
      "2018-06-21 13:42:10,533 : INFO : using 100 extra samples and 2 power iterations\n",
      "2018-06-21 13:42:10,536 : INFO : 1st phase: constructing (12255, 200) action matrix\n",
      "2018-06-21 13:42:10,752 : INFO : orthonormalizing (12255, 200) action matrix\n",
      "2018-06-21 13:42:11,558 : INFO : 2nd phase: running dense svd on (200, 20000) matrix\n",
      "2018-06-21 13:42:12,703 : INFO : computing the final decomposition\n",
      "2018-06-21 13:42:12,707 : INFO : keeping 100 factors (discarding 18.237% of energy spectrum)\n",
      "2018-06-21 13:42:12,892 : INFO : processed documents up to #20000\n",
      "2018-06-21 13:42:12,900 : INFO : topic #0(128.237): 0.579*\"shall\" + 0.450*\"yahweh\" + 0.419*\"i\" + 0.176*\"said\" + 0.173*\"god\" + 0.131*\"israel\" + 0.108*\"king\" + 0.106*\"the\" + 0.087*\"he\" + 0.085*\"house\"\n",
      "2018-06-21 13:42:12,906 : INFO : topic #1(94.911): -0.741*\"shall\" + 0.569*\"i\" + 0.178*\"yahweh\" + 0.174*\"said\" + 0.089*\"king\" + 0.081*\"god\" + 0.069*\"israel\" + -0.056*\"you\" + 0.049*\"son\" + -0.045*\"offering\"\n",
      "2018-06-21 13:42:12,910 : INFO : topic #2(83.248): -0.656*\"i\" + 0.593*\"yahweh\" + -0.255*\"shall\" + 0.159*\"israel\" + 0.158*\"god\" + 0.138*\"king\" + 0.103*\"the\" + 0.081*\"house\" + 0.081*\"children\" + 0.076*\"son\"\n",
      "2018-06-21 13:42:12,913 : INFO : topic #3(70.173): -0.513*\"yahweh\" + 0.490*\"king\" + 0.355*\"son\" + 0.249*\"the\" + 0.243*\"said\" + 0.167*\"israel\" + 0.139*\"he\" + -0.124*\"i\" + 0.117*\"children\" + 0.107*\"men\"\n",
      "2018-06-21 13:42:12,919 : INFO : topic #4(57.722): -0.504*\"said\" + 0.451*\"son\" + 0.379*\"children\" + 0.350*\"israel\" + -0.339*\"he\" + 0.131*\"i\" + -0.129*\"let\" + -0.118*\"us\" + -0.109*\"go\" + -0.108*\"god\"\n",
      "2018-06-21 13:42:12,922 : INFO : preparing a new chunk of documents\n",
      "2018-06-21 13:42:13,026 : INFO : using 100 extra samples and 2 power iterations\n",
      "2018-06-21 13:42:13,031 : INFO : 1st phase: constructing (12255, 200) action matrix\n",
      "2018-06-21 13:42:13,162 : INFO : orthonormalizing (12255, 200) action matrix\n",
      "2018-06-21 13:42:14,004 : INFO : 2nd phase: running dense svd on (200, 11102) matrix\n",
      "2018-06-21 13:42:14,555 : INFO : computing the final decomposition\n",
      "2018-06-21 13:42:14,558 : INFO : keeping 100 factors (discarding 20.022% of energy spectrum)\n",
      "2018-06-21 13:42:14,734 : INFO : merging projections: (12255, 100) + (12255, 100)\n",
      "2018-06-21 13:42:15,064 : INFO : keeping 100 factors (discarding 5.910% of energy spectrum)\n",
      "2018-06-21 13:42:15,312 : INFO : processed documents up to #31102\n",
      "2018-06-21 13:42:15,316 : INFO : topic #0(152.944): 0.600*\"i\" + 0.513*\"shall\" + 0.354*\"yahweh\" + 0.169*\"said\" + 0.157*\"god\" + 0.104*\"israel\" + 0.092*\"the\" + 0.082*\"king\" + 0.082*\"he\" + 0.075*\"land\"\n",
      "2018-06-21 13:42:15,322 : INFO : topic #1(116.465): -0.735*\"shall\" + 0.651*\"i\" + 0.093*\"said\" + -0.062*\"yahweh\" + -0.050*\"you\" + -0.049*\"offering\" + -0.038*\"the\" + -0.025*\"priest\" + 0.023*\"know\" + 0.021*\"for\"\n",
      "2018-06-21 13:42:15,325 : INFO : topic #2(97.426): 0.592*\"yahweh\" + -0.415*\"i\" + -0.394*\"shall\" + 0.258*\"god\" + 0.177*\"said\" + 0.167*\"israel\" + 0.167*\"king\" + 0.144*\"the\" + 0.118*\"son\" + 0.107*\"house\"\n",
      "2018-06-21 13:42:15,328 : INFO : topic #3(79.927): -0.604*\"yahweh\" + 0.379*\"said\" + 0.303*\"king\" + 0.284*\"son\" + 0.245*\"the\" + 0.245*\"he\" + 0.145*\"man\" + 0.144*\"one\" + 0.096*\"came\" + -0.095*\"i\"\n",
      "2018-06-21 13:42:15,330 : INFO : topic #4(69.851): 0.857*\"god\" + -0.237*\"king\" + -0.213*\"yahweh\" + -0.164*\"son\" + -0.162*\"the\" + -0.105*\"israel\" + 0.103*\"us\" + -0.093*\"children\" + 0.077*\"for\" + 0.064*\"jesus\"\n",
      "2018-06-21 13:42:15,337 : WARNING : scanning corpus to determine the number of features (consider setting `num_features` explicitly)\n",
      "2018-06-21 13:42:16,933 : INFO : creating matrix with 31102 documents and 100 features\n",
      "2018-06-21 13:42:20,744 : INFO : saving Dictionary object under bible.dict, separately None\n",
      "2018-06-21 13:42:20,756 : INFO : saved bible.dict\n",
      "2018-06-21 13:42:20,762 : INFO : storing corpus in Matrix Market format to bible.mm\n",
      "2018-06-21 13:42:20,768 : INFO : saving sparse matrix to bible.mm\n",
      "2018-06-21 13:42:20,770 : INFO : PROGRESS: saving document #0\n",
      "2018-06-21 13:42:20,809 : INFO : PROGRESS: saving document #1000\n",
      "2018-06-21 13:42:20,846 : INFO : PROGRESS: saving document #2000\n",
      "2018-06-21 13:42:20,884 : INFO : PROGRESS: saving document #3000\n",
      "2018-06-21 13:42:20,923 : INFO : PROGRESS: saving document #4000\n",
      "2018-06-21 13:42:20,961 : INFO : PROGRESS: saving document #5000\n",
      "2018-06-21 13:42:21,002 : INFO : PROGRESS: saving document #6000\n",
      "2018-06-21 13:42:21,041 : INFO : PROGRESS: saving document #7000\n",
      "2018-06-21 13:42:21,084 : INFO : PROGRESS: saving document #8000\n",
      "2018-06-21 13:42:21,125 : INFO : PROGRESS: saving document #9000\n",
      "2018-06-21 13:42:21,167 : INFO : PROGRESS: saving document #10000\n",
      "2018-06-21 13:42:21,203 : INFO : PROGRESS: saving document #11000\n",
      "2018-06-21 13:42:21,245 : INFO : PROGRESS: saving document #12000\n",
      "2018-06-21 13:42:21,286 : INFO : PROGRESS: saving document #13000\n",
      "2018-06-21 13:42:21,314 : INFO : PROGRESS: saving document #14000\n",
      "2018-06-21 13:42:21,345 : INFO : PROGRESS: saving document #15000\n",
      "2018-06-21 13:42:21,377 : INFO : PROGRESS: saving document #16000\n",
      "2018-06-21 13:42:21,405 : INFO : PROGRESS: saving document #17000\n",
      "2018-06-21 13:42:21,448 : INFO : PROGRESS: saving document #18000\n",
      "2018-06-21 13:42:21,488 : INFO : PROGRESS: saving document #19000\n",
      "2018-06-21 13:42:21,530 : INFO : PROGRESS: saving document #20000\n",
      "2018-06-21 13:42:21,583 : INFO : PROGRESS: saving document #21000\n",
      "2018-06-21 13:42:21,627 : INFO : PROGRESS: saving document #22000\n",
      "2018-06-21 13:42:21,680 : INFO : PROGRESS: saving document #23000\n",
      "2018-06-21 13:42:21,727 : INFO : PROGRESS: saving document #24000\n",
      "2018-06-21 13:42:21,762 : INFO : PROGRESS: saving document #25000\n",
      "2018-06-21 13:42:21,795 : INFO : PROGRESS: saving document #26000\n",
      "2018-06-21 13:42:21,827 : INFO : PROGRESS: saving document #27000\n",
      "2018-06-21 13:42:21,868 : INFO : PROGRESS: saving document #28000\n",
      "2018-06-21 13:42:21,903 : INFO : PROGRESS: saving document #29000\n",
      "2018-06-21 13:42:21,935 : INFO : PROGRESS: saving document #30000\n",
      "2018-06-21 13:42:21,970 : INFO : PROGRESS: saving document #31000\n",
      "2018-06-21 13:42:21,977 : INFO : saved 31102x12255 matrix, density=0.089% (339121/381155010)\n",
      "2018-06-21 13:42:21,980 : INFO : saving MmCorpus index to bible.mm.index\n",
      "2018-06-21 13:42:21,985 : INFO : saving Projection object under bibl.lsi.projection, separately None\n",
      "2018-06-21 13:42:22,092 : INFO : saved bibl.lsi.projection\n",
      "2018-06-21 13:42:22,096 : INFO : saving LsiModel object under bibl.lsi, separately None\n",
      "2018-06-21 13:42:22,098 : INFO : not storing attribute projection\n",
      "2018-06-21 13:42:22,101 : INFO : not storing attribute dispatcher\n",
      "2018-06-21 13:42:22,110 : INFO : saved bibl.lsi\n",
      "2018-06-21 13:42:22,115 : INFO : saving MatrixSimilarity object under bible.index, separately None\n",
      "2018-06-21 13:42:22,250 : INFO : saved bible.index\n"
     ]
    },
    {
     "name": "stdout",
     "output_type": "stream",
     "text": [
      "-----------------\n",
      "Tweet text: @sustrans Kids to Newbridge primary in Bath have river cycle path close - but no safe way to travel 200m up hill & across A-road or to path\n",
      "\n",
      "Genesis 49:17, Dan will be a serpent in the way, an adder in the path, That bites the horse's heels, so that his rider falls backward., 0.9940089583396912\n",
      "\n",
      "Psalm 80:12, Why have you broken down its walls, so that all those who pass by the way pluck it?, 0.9881158471107483\n",
      "\n",
      "Proverbs 13:6, Righteousness guards the way of integrity, but wickedness overthrows the sinner., 0.9859569668769836\n",
      "\n",
      "Genesis 35:19, Rachel died, and was buried in the way to Ephrath (the same is Bethlehem)., 0.9790574312210083\n",
      "\n",
      "Ezekiel 12:5, Dig through the wall in their sight, and carry your stuff out that way., 0.9741089344024658\n",
      "-----------------\n",
      "Tweet text: Stand-Up Comics Have to Censor Their Jokes on (US) College Campuses - The Atlantic http://t.co/W998v8oahs\n",
      "\n",
      "Lamentations 5:16, The crown is fallen from our head: Woe to us! for we have sinned., 0.9783570766448975\n",
      "\n",
      "Acts 28:2, The natives showed us uncommon kindness; for they kindled a fire, and received us all, because of the present rain, and because of the cold., 0.9126466512680054\n",
      "\n",
      "Deuteronomy 26:6, The Egyptians dealt ill with us, and afflicted us, and laid on us hard bondage:, 0.89407879114151\n",
      "\n",
      "Ezra 4:18, The letter which you sent to us has been plainly read before me., 0.863696277141571\n",
      "\n",
      "Judges 9:12, The trees said to the vine, 'Come and reign over us.', 0.8148699998855591\n",
      "-----------------\n",
      "Tweet text: Ha - was just reminded of the 90s Internet time limits, e.g. 5 hours online per week. Could do with that now.\n",
      "\n",
      "Ecclesiastes 3:4, a time to weep, and a time to laugh; a time to mourn, and a time to dance;, 0.9986615180969238\n",
      "\n",
      "Ecclesiastes 3:3, a time to kill, and a time to heal; a time to break down, and a time to build up;, 0.9981067180633545\n",
      "\n",
      "Matthew 26:16, From that time he sought opportunity to betray him., 0.9979551434516907\n",
      "\n",
      "Ecclesiastes 3:2, a time to be born, and a time to die; a time to plant, and a time to pluck up that which is planted;, 0.9977869987487793\n",
      "\n",
      "Hebrews 9:10, being only (with meats and drinks and various washings) fleshly ordinances, imposed until a time of reformation., 0.9975525736808777\n",
      "-----------------\n",
      "Tweet text: Here's What Happened To All 53 of Marissa Mayer's Yahoo Acquisitions https://t.co/0YT2TXncHN\n",
      "\n",
      "Luke 24:51, It happened, while he blessed them, that he withdrew from them, and was carried up into heaven., 0.8907666802406311\n",
      "\n",
      "Joshua 5:8, It happened, when they were done circumcising all the nation, that they stayed in their places in the camp until they were healed., 0.8737368583679199\n",
      "\n",
      "1 Kings 15:21, It happened, when Baasha heard of it, that he left off building Ramah, and lived in Tirzah., 0.8584436178207397\n",
      "\n",
      "Joshua 19:26, Allammelech, Amad, Mishal. It reached to Carmel westward, and to Shihorlibnath., 0.8564523458480835\n",
      "\n",
      "2 Corinthians 9:1, It is indeed unnecessary for me to write to you concerning the service to the saints,, 0.852521538734436\n",
      "-----------------\n",
      "Tweet text: Even with more complex deep architectures you can get a surprising amount done with simple ngram approaches - a future in hybrids? https://t.co/jD3pIhnIbP\n",
      "\n",
      "Daniel 9:5, we have sinned, and have dealt perversely, and have done wickedly, and have rebelled, even turning aside from your precepts and from your ordinances;, 0.9942108988761902\n",
      "\n",
      "Ephesians 5:11, Have no fellowship with the unfruitful works of darkness, but rather even reprove them., 0.9036127924919128\n",
      "\n",
      "Joshua 10:41, Joshua struck them from Kadesh Barnea even to Gaza, and all the country of Goshen, even to Gibeon., 0.885510265827179\n",
      "\n",
      "Numbers 21:30, We have shot at them. Heshbon has perished even to Dibon. We have laid waste even to Nophah, Which reaches to Medeba., 0.8847762942314148\n",
      "\n",
      "Deuteronomy 4:48, from Aroer, which is on the edge of the valley of the Arnon, even to Mount Sion (the same is Hermon),, 0.882093071937561\n"
     ]
    }
   ],
   "source": [
    "test_random_tweets(tweets, bible_data)"
   ]
  },
  {
   "cell_type": "markdown",
   "metadata": {},
   "source": [
    "### Comparing Approaches\n",
    "\n",
    "To compare the approaches, let's generate 200 random examples and take the top match for each of the three techniques. We will then manually score each match on a scale of 0 to 5 where 0 = no match and 5 = perfect match. Then we can see which technique comes up on top.\n",
    "\n",
    "The easiest way to quickly compare the results is to export to a spreadsheet, with columns for the scores of each."
   ]
  },
  {
   "cell_type": "code",
   "execution_count": 4,
   "metadata": {},
   "outputs": [],
   "source": [
    "def get_difflib_matches(tweet, bible_data):\n",
    "    \"\"\"Match a tweet against the bible_data.\"\"\"\n",
    "    # Get matches\n",
    "    scores = [\n",
    "        (verse, passage, SequenceMatcher(None, tweet, passage).ratio()) \n",
    "        for verse, passage in bible_data\n",
    "    ]\n",
    "    # Sort by descending score\n",
    "    scores.sort(key=lambda tup: tup[2], reverse = True) \n",
    "    return scores\n",
    "\n",
    "def get_spacy_matches(spacy_tweet, spacy_bible):\n",
    "    \"\"\"Perform matches on text as spacy docs\"\"\"\n",
    "    # Get matches\n",
    "    scores = [\n",
    "        (verse, passage, spacy_tweet.similarity(passage)) \n",
    "        for verse, passage in spacy_bible\n",
    "    ]\n",
    "    # Sort by descending score\n",
    "    scores.sort(key=lambda tup: tup[2], reverse = True) \n",
    "    return scores\n",
    "\n",
    "def get_gensim_matches(tweet, bible_data, dictionary, lsi, index):\n",
    "    \"\"\"Match a tweet against the bible_data.\"\"\"\n",
    "    # To run this we need dictionary, lsi, and index variables\n",
    "    # Get matches\n",
    "    vec_lsi = text2vec(tweet, dictionary, lsi)\n",
    "    sims = index[vec_lsi] # perform a similarity query against the corpus\n",
    "    scores = [(v, p, s) for (v, p), s in zip(bible_data, sims)]\n",
    "    # Sort by descending score\n",
    "    scores.sort(key=lambda tup: tup[2], reverse = True) \n",
    "    return scores"
   ]
  },
  {
   "cell_type": "code",
   "execution_count": 20,
   "metadata": {
    "scrolled": true
   },
   "outputs": [],
   "source": [
    "spacy_bible = [(verse, nlp(passage)) for verse, passage in bible_data]"
   ]
  },
  {
   "cell_type": "code",
   "execution_count": 21,
   "metadata": {
    "scrolled": true
   },
   "outputs": [
    {
     "name": "stderr",
     "output_type": "stream",
     "text": [
      "2018-06-23 09:02:25,811 : INFO : adding document #0 to Dictionary(0 unique tokens: [])\n",
      "2018-06-23 09:02:26,052 : INFO : adding document #10000 to Dictionary(6375 unique tokens: ['beginning', 'created', 'earth', 'god', 'heavens']...)\n",
      "2018-06-23 09:02:26,272 : INFO : adding document #20000 to Dictionary(9840 unique tokens: ['beginning', 'created', 'earth', 'god', 'heavens']...)\n",
      "2018-06-23 09:02:26,491 : INFO : adding document #30000 to Dictionary(12041 unique tokens: ['beginning', 'created', 'earth', 'god', 'heavens']...)\n",
      "2018-06-23 09:02:26,516 : INFO : built Dictionary(12255 unique tokens: ['beginning', 'created', 'earth', 'god', 'heavens']...) from 31102 documents (total 370556 corpus positions)\n",
      "2018-06-23 09:02:26,953 : INFO : using serial LSI version on this node\n",
      "2018-06-23 09:02:26,954 : INFO : updating model with new documents\n",
      "2018-06-23 09:02:26,955 : INFO : preparing a new chunk of documents\n",
      "2018-06-23 09:02:27,111 : INFO : using 100 extra samples and 2 power iterations\n",
      "2018-06-23 09:02:27,112 : INFO : 1st phase: constructing (12255, 200) action matrix\n",
      "2018-06-23 09:02:27,349 : INFO : orthonormalizing (12255, 200) action matrix\n",
      "2018-06-23 09:02:28,118 : INFO : 2nd phase: running dense svd on (200, 20000) matrix\n",
      "2018-06-23 09:02:29,147 : INFO : computing the final decomposition\n",
      "2018-06-23 09:02:29,161 : INFO : keeping 100 factors (discarding 18.228% of energy spectrum)\n",
      "2018-06-23 09:02:29,352 : INFO : processed documents up to #20000\n",
      "2018-06-23 09:02:29,357 : INFO : topic #0(128.237): 0.579*\"shall\" + 0.450*\"yahweh\" + 0.419*\"i\" + 0.176*\"said\" + 0.173*\"god\" + 0.131*\"israel\" + 0.108*\"king\" + 0.106*\"the\" + 0.087*\"he\" + 0.085*\"house\"\n",
      "2018-06-23 09:02:29,359 : INFO : topic #1(94.911): 0.741*\"shall\" + -0.569*\"i\" + -0.178*\"yahweh\" + -0.174*\"said\" + -0.089*\"king\" + -0.081*\"god\" + -0.069*\"israel\" + 0.056*\"you\" + -0.049*\"son\" + 0.045*\"offering\"\n",
      "2018-06-23 09:02:29,361 : INFO : topic #2(83.248): -0.656*\"i\" + 0.593*\"yahweh\" + -0.255*\"shall\" + 0.159*\"israel\" + 0.158*\"god\" + 0.138*\"king\" + 0.103*\"the\" + 0.081*\"house\" + 0.081*\"children\" + 0.076*\"son\"\n",
      "2018-06-23 09:02:29,363 : INFO : topic #3(70.173): 0.513*\"yahweh\" + -0.490*\"king\" + -0.355*\"son\" + -0.249*\"the\" + -0.243*\"said\" + -0.167*\"israel\" + -0.139*\"he\" + 0.124*\"i\" + -0.117*\"children\" + -0.107*\"men\"\n",
      "2018-06-23 09:02:29,365 : INFO : topic #4(57.722): 0.504*\"said\" + -0.451*\"son\" + -0.379*\"children\" + -0.350*\"israel\" + 0.339*\"he\" + -0.131*\"i\" + 0.129*\"let\" + 0.118*\"us\" + 0.109*\"go\" + 0.108*\"god\"\n",
      "2018-06-23 09:02:29,367 : INFO : preparing a new chunk of documents\n",
      "2018-06-23 09:02:29,467 : INFO : using 100 extra samples and 2 power iterations\n",
      "2018-06-23 09:02:29,469 : INFO : 1st phase: constructing (12255, 200) action matrix\n",
      "2018-06-23 09:02:29,587 : INFO : orthonormalizing (12255, 200) action matrix\n",
      "2018-06-23 09:02:30,386 : INFO : 2nd phase: running dense svd on (200, 11102) matrix\n",
      "2018-06-23 09:02:30,731 : INFO : computing the final decomposition\n",
      "2018-06-23 09:02:30,732 : INFO : keeping 100 factors (discarding 19.942% of energy spectrum)\n",
      "2018-06-23 09:02:30,935 : INFO : merging projections: (12255, 100) + (12255, 100)\n",
      "2018-06-23 09:02:31,243 : INFO : keeping 100 factors (discarding 5.902% of energy spectrum)\n",
      "2018-06-23 09:02:31,483 : INFO : processed documents up to #31102\n",
      "2018-06-23 09:02:31,485 : INFO : topic #0(152.944): 0.600*\"i\" + 0.513*\"shall\" + 0.354*\"yahweh\" + 0.169*\"said\" + 0.157*\"god\" + 0.104*\"israel\" + 0.092*\"the\" + 0.082*\"king\" + 0.082*\"he\" + 0.075*\"land\"\n",
      "2018-06-23 09:02:31,486 : INFO : topic #1(116.465): -0.735*\"shall\" + 0.651*\"i\" + 0.093*\"said\" + -0.062*\"yahweh\" + -0.050*\"you\" + -0.049*\"offering\" + -0.038*\"the\" + -0.025*\"priest\" + 0.023*\"know\" + 0.021*\"for\"\n",
      "2018-06-23 09:02:31,487 : INFO : topic #2(97.426): 0.592*\"yahweh\" + -0.415*\"i\" + -0.394*\"shall\" + 0.258*\"god\" + 0.177*\"said\" + 0.167*\"israel\" + 0.167*\"king\" + 0.144*\"the\" + 0.118*\"son\" + 0.107*\"house\"\n",
      "2018-06-23 09:02:31,489 : INFO : topic #3(79.928): -0.604*\"yahweh\" + 0.379*\"said\" + 0.303*\"king\" + 0.284*\"son\" + 0.245*\"the\" + 0.245*\"he\" + 0.145*\"man\" + 0.144*\"one\" + 0.096*\"came\" + -0.095*\"i\"\n",
      "2018-06-23 09:02:31,491 : INFO : topic #4(69.852): 0.857*\"god\" + -0.237*\"king\" + -0.213*\"yahweh\" + -0.165*\"son\" + -0.162*\"the\" + -0.105*\"israel\" + 0.103*\"us\" + -0.093*\"children\" + 0.077*\"for\" + 0.064*\"jesus\"\n",
      "2018-06-23 09:02:31,492 : WARNING : scanning corpus to determine the number of features (consider setting `num_features` explicitly)\n",
      "2018-06-23 09:02:32,948 : INFO : creating matrix with 31102 documents and 100 features\n",
      "2018-06-23 09:02:36,645 : INFO : saving Dictionary object under bible.dict, separately None\n",
      "2018-06-23 09:02:36,713 : INFO : saved bible.dict\n",
      "2018-06-23 09:02:36,714 : INFO : storing corpus in Matrix Market format to bible.mm\n",
      "2018-06-23 09:02:36,715 : INFO : saving sparse matrix to bible.mm\n",
      "2018-06-23 09:02:36,716 : INFO : PROGRESS: saving document #0\n",
      "2018-06-23 09:02:36,753 : INFO : PROGRESS: saving document #1000\n",
      "2018-06-23 09:02:36,789 : INFO : PROGRESS: saving document #2000\n",
      "2018-06-23 09:02:36,832 : INFO : PROGRESS: saving document #3000\n",
      "2018-06-23 09:02:36,863 : INFO : PROGRESS: saving document #4000\n",
      "2018-06-23 09:02:36,898 : INFO : PROGRESS: saving document #5000\n",
      "2018-06-23 09:02:36,933 : INFO : PROGRESS: saving document #6000\n",
      "2018-06-23 09:02:36,970 : INFO : PROGRESS: saving document #7000\n",
      "2018-06-23 09:02:37,005 : INFO : PROGRESS: saving document #8000\n",
      "2018-06-23 09:02:37,041 : INFO : PROGRESS: saving document #9000\n",
      "2018-06-23 09:02:37,081 : INFO : PROGRESS: saving document #10000\n",
      "2018-06-23 09:02:37,123 : INFO : PROGRESS: saving document #11000\n",
      "2018-06-23 09:02:37,169 : INFO : PROGRESS: saving document #12000\n",
      "2018-06-23 09:02:37,200 : INFO : PROGRESS: saving document #13000\n",
      "2018-06-23 09:02:37,224 : INFO : PROGRESS: saving document #14000\n",
      "2018-06-23 09:02:37,251 : INFO : PROGRESS: saving document #15000\n",
      "2018-06-23 09:02:37,277 : INFO : PROGRESS: saving document #16000\n",
      "2018-06-23 09:02:37,311 : INFO : PROGRESS: saving document #17000\n",
      "2018-06-23 09:02:37,350 : INFO : PROGRESS: saving document #18000\n",
      "2018-06-23 09:02:37,386 : INFO : PROGRESS: saving document #19000\n",
      "2018-06-23 09:02:37,421 : INFO : PROGRESS: saving document #20000\n",
      "2018-06-23 09:02:37,453 : INFO : PROGRESS: saving document #21000\n",
      "2018-06-23 09:02:37,488 : INFO : PROGRESS: saving document #22000\n",
      "2018-06-23 09:02:37,522 : INFO : PROGRESS: saving document #23000\n",
      "2018-06-23 09:02:37,563 : INFO : PROGRESS: saving document #24000\n",
      "2018-06-23 09:02:37,591 : INFO : PROGRESS: saving document #25000\n",
      "2018-06-23 09:02:37,621 : INFO : PROGRESS: saving document #26000\n",
      "2018-06-23 09:02:37,648 : INFO : PROGRESS: saving document #27000\n",
      "2018-06-23 09:02:37,680 : INFO : PROGRESS: saving document #28000\n",
      "2018-06-23 09:02:37,719 : INFO : PROGRESS: saving document #29000\n",
      "2018-06-23 09:02:37,758 : INFO : PROGRESS: saving document #30000\n",
      "2018-06-23 09:02:37,790 : INFO : PROGRESS: saving document #31000\n",
      "2018-06-23 09:02:37,795 : INFO : saved 31102x12255 matrix, density=0.089% (339121/381155010)\n",
      "2018-06-23 09:02:37,797 : INFO : saving MmCorpus index to bible.mm.index\n",
      "2018-06-23 09:02:37,799 : INFO : saving Projection object under bible.lsi.projection, separately None\n",
      "2018-06-23 09:02:37,944 : INFO : saved bible.lsi.projection\n",
      "2018-06-23 09:02:37,945 : INFO : saving LsiModel object under bible.lsi, separately None\n",
      "2018-06-23 09:02:37,946 : INFO : not storing attribute projection\n",
      "2018-06-23 09:02:37,947 : INFO : not storing attribute dispatcher\n",
      "2018-06-23 09:02:37,953 : INFO : saved bible.lsi\n",
      "2018-06-23 09:02:37,954 : INFO : saving MatrixSimilarity object under bible.index, separately None\n",
      "2018-06-23 09:02:38,053 : INFO : saved bible.index\n"
     ]
    }
   ],
   "source": [
    "dictionary, corpus, lsi, index = build_data(tweets, bible_data)"
   ]
  },
  {
   "cell_type": "code",
   "execution_count": 27,
   "metadata": {
    "scrolled": true
   },
   "outputs": [
    {
     "name": "stdout",
     "output_type": "stream",
     "text": [
      "805\n",
      "6338\n",
      "1954\n",
      "187\n",
      "643\n",
      "7804\n",
      "6135\n",
      "164\n",
      "6627\n",
      "8612\n",
      "4862\n",
      "2978\n",
      "9167\n",
      "6449\n",
      "3845\n",
      "1993\n",
      "3365\n",
      "5952\n",
      "941\n",
      "313\n",
      "314\n",
      "9059\n",
      "8760\n",
      "1841\n",
      "5401\n",
      "2997\n",
      "8512\n",
      "5086\n",
      "6803\n",
      "2831\n",
      "2655\n",
      "9023\n",
      "3000\n",
      "476\n",
      "2465\n",
      "783\n",
      "2912\n",
      "7930\n",
      "7052\n",
      "4218\n",
      "707\n",
      "6193\n",
      "3530\n",
      "3201\n",
      "3774\n",
      "5127\n",
      "9574\n",
      "2833\n",
      "9105\n",
      "8807\n",
      "2772\n",
      "8165\n",
      "7355\n",
      "2892\n",
      "9623\n",
      "8057\n",
      "6258\n",
      "9365\n",
      "6321\n",
      "6285\n",
      "971\n",
      "6196\n",
      "7150\n",
      "3677\n",
      "8989\n",
      "4857\n",
      "5877\n",
      "4966\n",
      "3596\n",
      "4438\n",
      "4617\n",
      "526\n",
      "1084\n",
      "2951\n",
      "9232\n",
      "2905\n",
      "7975\n",
      "4409\n",
      "9726\n",
      "4311\n",
      "6729\n",
      "8826\n",
      "7963\n",
      "8821\n",
      "140\n",
      "1964\n",
      "3994\n",
      "8583\n",
      "2130\n",
      "374\n",
      "7358\n",
      "1483\n",
      "6824\n",
      "3229\n",
      "6959\n",
      "7958\n",
      "8653\n",
      "2224\n",
      "3041\n",
      "4267\n",
      "3366\n",
      "2482\n",
      "7479\n",
      "6039\n",
      "5755\n",
      "3522\n",
      "3747\n",
      "2297\n",
      "7627\n",
      "7571\n",
      "4365\n",
      "4298\n",
      "8474\n",
      "8648\n",
      "120\n",
      "6467\n",
      "4933\n",
      "1853\n",
      "1780\n",
      "7857\n",
      "8309\n",
      "493\n",
      "3624\n",
      "8162\n",
      "1093\n",
      "4801\n",
      "8481\n",
      "3711\n",
      "9250\n",
      "9513\n",
      "6900\n",
      "2795\n",
      "9638\n",
      "9596\n",
      "1251\n",
      "5128\n",
      "9748\n",
      "7428\n",
      "7772\n",
      "4540\n",
      "1859\n",
      "1783\n",
      "2143\n",
      "9208\n",
      "55\n",
      "977\n",
      "7828\n",
      "8427\n",
      "5265\n",
      "6371\n",
      "9628\n",
      "8436\n",
      "8064\n",
      "2037\n",
      "3148\n",
      "6370\n",
      "8570\n",
      "978\n",
      "8671\n",
      "107\n",
      "3996\n",
      "4878\n",
      "9688\n",
      "4768\n",
      "7048\n",
      "3180\n",
      "1938\n",
      "5662\n",
      "6360\n",
      "1298\n",
      "8129\n",
      "384\n",
      "5868\n",
      "8724\n",
      "4077\n",
      "7595\n",
      "1265\n",
      "5731\n",
      "5376\n",
      "626\n",
      "9718\n",
      "3743\n",
      "5387\n",
      "3120\n",
      "8677\n",
      "2743\n",
      "8999\n",
      "1261\n",
      "5010\n",
      "227\n",
      "3014\n",
      "31\n",
      "4337\n",
      "1005\n",
      "2808\n",
      "3607\n",
      "8593\n",
      "2686\n",
      "7139\n",
      "5767\n"
     ]
    }
   ],
   "source": [
    "import random\n",
    "\n",
    "rows = []\n",
    "k = 200\n",
    "num_tweets = len(tweets)\n",
    "indices = random.sample(range(0, num_tweets), k)\n",
    "for i in indices:\n",
    "    print(i)\n",
    "    tweet = tweets[i]\n",
    "    dl_match = get_difflib_matches(tweet, bible_data)[0]\n",
    "    spacy_tweet = nlp(tweet)\n",
    "    sp_match = get_spacy_matches(spacy_tweet, spacy_bible)[0]\n",
    "    gs_match = get_gensim_matches(tweet, bible_data, dictionary, lsi, index)[0]\n",
    "    comparison_row = (\n",
    "        tweet, \n",
    "        dl_match[1], dl_match[2], \"\", \n",
    "        sp_match[1].text, sp_match[2], \"\", \n",
    "        gs_match[1], gs_match[2], \"\"\n",
    "    )\n",
    "    rows.append(comparison_row)"
   ]
  },
  {
   "cell_type": "code",
   "execution_count": 26,
   "metadata": {},
   "outputs": [
    {
     "data": {
      "text/plain": [
       "'that I may reveal it as I ought to speak.'"
      ]
     },
     "execution_count": 26,
     "metadata": {},
     "output_type": "execute_result"
    }
   ],
   "source": [
    "dl_match[1]"
   ]
  },
  {
   "cell_type": "code",
   "execution_count": 28,
   "metadata": {},
   "outputs": [],
   "source": [
    "import pickle\n",
    "with open(\"rows.pkl\", 'wb') as f:\n",
    "    pickle.dump(rows, f)"
   ]
  },
  {
   "cell_type": "code",
   "execution_count": 53,
   "metadata": {},
   "outputs": [],
   "source": [
    "import pandas as pd\n",
    "\n",
    "row_df = pd.DataFrame(rows)"
   ]
  },
  {
   "cell_type": "code",
   "execution_count": 58,
   "metadata": {},
   "outputs": [],
   "source": [
    "del rows"
   ]
  },
  {
   "cell_type": "code",
   "execution_count": 54,
   "metadata": {},
   "outputs": [
    {
     "data": {
      "text/html": [
       "<div>\n",
       "<style scoped>\n",
       "    .dataframe tbody tr th:only-of-type {\n",
       "        vertical-align: middle;\n",
       "    }\n",
       "\n",
       "    .dataframe tbody tr th {\n",
       "        vertical-align: top;\n",
       "    }\n",
       "\n",
       "    .dataframe thead th {\n",
       "        text-align: right;\n",
       "    }\n",
       "</style>\n",
       "<table border=\"1\" class=\"dataframe\">\n",
       "  <thead>\n",
       "    <tr style=\"text-align: right;\">\n",
       "      <th></th>\n",
       "      <th>0</th>\n",
       "      <th>1</th>\n",
       "      <th>2</th>\n",
       "      <th>3</th>\n",
       "      <th>4</th>\n",
       "      <th>5</th>\n",
       "      <th>6</th>\n",
       "      <th>7</th>\n",
       "      <th>8</th>\n",
       "      <th>9</th>\n",
       "    </tr>\n",
       "  </thead>\n",
       "  <tbody>\n",
       "    <tr>\n",
       "      <th>0</th>\n",
       "      <td>Also: if your patent specification does not co...</td>\n",
       "      <td>Therefore you need to be in subjection, not on...</td>\n",
       "      <td>0.420168</td>\n",
       "      <td></td>\n",
       "      <td>But whatever has a blemish, that you shall not...</td>\n",
       "      <td>0.921702</td>\n",
       "      <td></td>\n",
       "      <td>There is one body, and one Spirit, even as you...</td>\n",
       "      <td>0.836346</td>\n",
       "      <td></td>\n",
       "    </tr>\n",
       "    <tr>\n",
       "      <th>1</th>\n",
       "      <td>The CImg Library - C++ Template Image Processi...</td>\n",
       "      <td>the people which I formed for myself, that the...</td>\n",
       "      <td>0.374384</td>\n",
       "      <td></td>\n",
       "      <td>For the house he made windows of fixed lattice...</td>\n",
       "      <td>0.736559</td>\n",
       "      <td></td>\n",
       "      <td>The sound of a cry from Horonaim, desolation a...</td>\n",
       "      <td>0.971526</td>\n",
       "      <td></td>\n",
       "    </tr>\n",
       "    <tr>\n",
       "      <th>2</th>\n",
       "      <td>Criteria for boilerplate legal text: it should...</td>\n",
       "      <td>He began to build in the second [day] of the s...</td>\n",
       "      <td>0.447368</td>\n",
       "      <td></td>\n",
       "      <td>It's also written in your law that the testimo...</td>\n",
       "      <td>0.923304</td>\n",
       "      <td></td>\n",
       "      <td>the two pillars, and the two bowls of the capi...</td>\n",
       "      <td>0.711855</td>\n",
       "      <td></td>\n",
       "    </tr>\n",
       "    <tr>\n",
       "      <th>3</th>\n",
       "      <td>Hadn't realised: the difference between deduct...</td>\n",
       "      <td>and the avenger of blood find him outside of t...</td>\n",
       "      <td>0.386946</td>\n",
       "      <td></td>\n",
       "      <td>However in the assembly I would rather speak f...</td>\n",
       "      <td>0.927348</td>\n",
       "      <td></td>\n",
       "      <td>Should he reason with unprofitable talk, or wi...</td>\n",
       "      <td>0.997764</td>\n",
       "      <td></td>\n",
       "    </tr>\n",
       "    <tr>\n",
       "      <th>4</th>\n",
       "      <td>You need to be wrong on certain things in orde...</td>\n",
       "      <td>No eye pitied you, to do any of these things t...</td>\n",
       "      <td>0.452830</td>\n",
       "      <td></td>\n",
       "      <td>Be of the same mind one toward another. Don't ...</td>\n",
       "      <td>0.966708</td>\n",
       "      <td></td>\n",
       "      <td>You are witnesses of these things.</td>\n",
       "      <td>0.823695</td>\n",
       "      <td></td>\n",
       "    </tr>\n",
       "  </tbody>\n",
       "</table>\n",
       "</div>"
      ],
      "text/plain": [
       "                                                   0  \\\n",
       "0  Also: if your patent specification does not co...   \n",
       "1  The CImg Library - C++ Template Image Processi...   \n",
       "2  Criteria for boilerplate legal text: it should...   \n",
       "3  Hadn't realised: the difference between deduct...   \n",
       "4  You need to be wrong on certain things in orde...   \n",
       "\n",
       "                                                   1         2 3  \\\n",
       "0  Therefore you need to be in subjection, not on...  0.420168     \n",
       "1  the people which I formed for myself, that the...  0.374384     \n",
       "2  He began to build in the second [day] of the s...  0.447368     \n",
       "3  and the avenger of blood find him outside of t...  0.386946     \n",
       "4  No eye pitied you, to do any of these things t...  0.452830     \n",
       "\n",
       "                                                   4         5 6  \\\n",
       "0  But whatever has a blemish, that you shall not...  0.921702     \n",
       "1  For the house he made windows of fixed lattice...  0.736559     \n",
       "2  It's also written in your law that the testimo...  0.923304     \n",
       "3  However in the assembly I would rather speak f...  0.927348     \n",
       "4  Be of the same mind one toward another. Don't ...  0.966708     \n",
       "\n",
       "                                                   7         8 9  \n",
       "0  There is one body, and one Spirit, even as you...  0.836346    \n",
       "1  The sound of a cry from Horonaim, desolation a...  0.971526    \n",
       "2  the two pillars, and the two bowls of the capi...  0.711855    \n",
       "3  Should he reason with unprofitable talk, or wi...  0.997764    \n",
       "4                 You are witnesses of these things.  0.823695    "
      ]
     },
     "execution_count": 54,
     "metadata": {},
     "output_type": "execute_result"
    }
   ],
   "source": [
    "row_df.head()"
   ]
  },
  {
   "cell_type": "code",
   "execution_count": 61,
   "metadata": {},
   "outputs": [
    {
     "ename": "ModuleNotFoundError",
     "evalue": "No module named 'xlwt'",
     "output_type": "error",
     "traceback": [
      "\u001b[0;31m---------------------------------------------------------------------------\u001b[0m",
      "\u001b[0;31mModuleNotFoundError\u001b[0m                       Traceback (most recent call last)",
      "\u001b[0;32m<ipython-input-61-224dea4b37db>\u001b[0m in \u001b[0;36m<module>\u001b[0;34m()\u001b[0m\n\u001b[0;32m----> 1\u001b[0;31m \u001b[0mrow_df\u001b[0m\u001b[0;34m.\u001b[0m\u001b[0mto_excel\u001b[0m\u001b[0;34m(\u001b[0m\u001b[0;34m\"comparison.xls\"\u001b[0m\u001b[0;34m)\u001b[0m\u001b[0;34m\u001b[0m\u001b[0m\n\u001b[0m",
      "\u001b[0;32m/usr/local/lib/python3.6/dist-packages/pandas/core/frame.py\u001b[0m in \u001b[0;36mto_excel\u001b[0;34m(self, excel_writer, sheet_name, na_rep, float_format, columns, header, index, index_label, startrow, startcol, engine, merge_cells, encoding, inf_rep, verbose, freeze_panes)\u001b[0m\n\u001b[1;32m   1764\u001b[0m         formatter.write(excel_writer, sheet_name=sheet_name, startrow=startrow,\n\u001b[1;32m   1765\u001b[0m                         \u001b[0mstartcol\u001b[0m\u001b[0;34m=\u001b[0m\u001b[0mstartcol\u001b[0m\u001b[0;34m,\u001b[0m \u001b[0mfreeze_panes\u001b[0m\u001b[0;34m=\u001b[0m\u001b[0mfreeze_panes\u001b[0m\u001b[0;34m,\u001b[0m\u001b[0;34m\u001b[0m\u001b[0m\n\u001b[0;32m-> 1766\u001b[0;31m                         engine=engine)\n\u001b[0m\u001b[1;32m   1767\u001b[0m \u001b[0;34m\u001b[0m\u001b[0m\n\u001b[1;32m   1768\u001b[0m     def to_stata(self, fname, convert_dates=None, write_index=True,\n",
      "\u001b[0;32m/usr/local/lib/python3.6/dist-packages/pandas/io/formats/excel.py\u001b[0m in \u001b[0;36mwrite\u001b[0;34m(self, writer, sheet_name, startrow, startcol, freeze_panes, engine)\u001b[0m\n\u001b[1;32m    644\u001b[0m             \u001b[0mneed_save\u001b[0m \u001b[0;34m=\u001b[0m \u001b[0;32mFalse\u001b[0m\u001b[0;34m\u001b[0m\u001b[0m\n\u001b[1;32m    645\u001b[0m         \u001b[0;32melse\u001b[0m\u001b[0;34m:\u001b[0m\u001b[0;34m\u001b[0m\u001b[0m\n\u001b[0;32m--> 646\u001b[0;31m             \u001b[0mwriter\u001b[0m \u001b[0;34m=\u001b[0m \u001b[0mExcelWriter\u001b[0m\u001b[0;34m(\u001b[0m\u001b[0m_stringify_path\u001b[0m\u001b[0;34m(\u001b[0m\u001b[0mwriter\u001b[0m\u001b[0;34m)\u001b[0m\u001b[0;34m,\u001b[0m \u001b[0mengine\u001b[0m\u001b[0;34m=\u001b[0m\u001b[0mengine\u001b[0m\u001b[0;34m)\u001b[0m\u001b[0;34m\u001b[0m\u001b[0m\n\u001b[0m\u001b[1;32m    647\u001b[0m             \u001b[0mneed_save\u001b[0m \u001b[0;34m=\u001b[0m \u001b[0;32mTrue\u001b[0m\u001b[0;34m\u001b[0m\u001b[0m\n\u001b[1;32m    648\u001b[0m \u001b[0;34m\u001b[0m\u001b[0m\n",
      "\u001b[0;32m/usr/local/lib/python3.6/dist-packages/pandas/io/excel.py\u001b[0m in \u001b[0;36m__init__\u001b[0;34m(self, path, engine, encoding, **engine_kwargs)\u001b[0m\n\u001b[1;32m   1446\u001b[0m     \u001b[0;32mdef\u001b[0m \u001b[0m__init__\u001b[0m\u001b[0;34m(\u001b[0m\u001b[0mself\u001b[0m\u001b[0;34m,\u001b[0m \u001b[0mpath\u001b[0m\u001b[0;34m,\u001b[0m \u001b[0mengine\u001b[0m\u001b[0;34m=\u001b[0m\u001b[0;32mNone\u001b[0m\u001b[0;34m,\u001b[0m \u001b[0mencoding\u001b[0m\u001b[0;34m=\u001b[0m\u001b[0;32mNone\u001b[0m\u001b[0;34m,\u001b[0m \u001b[0;34m**\u001b[0m\u001b[0mengine_kwargs\u001b[0m\u001b[0;34m)\u001b[0m\u001b[0;34m:\u001b[0m\u001b[0;34m\u001b[0m\u001b[0m\n\u001b[1;32m   1447\u001b[0m         \u001b[0;31m# Use the xlwt module as the Excel writer.\u001b[0m\u001b[0;34m\u001b[0m\u001b[0;34m\u001b[0m\u001b[0m\n\u001b[0;32m-> 1448\u001b[0;31m         \u001b[0;32mimport\u001b[0m \u001b[0mxlwt\u001b[0m\u001b[0;34m\u001b[0m\u001b[0m\n\u001b[0m\u001b[1;32m   1449\u001b[0m         \u001b[0mengine_kwargs\u001b[0m\u001b[0;34m[\u001b[0m\u001b[0;34m'engine'\u001b[0m\u001b[0;34m]\u001b[0m \u001b[0;34m=\u001b[0m \u001b[0mengine\u001b[0m\u001b[0;34m\u001b[0m\u001b[0m\n\u001b[1;32m   1450\u001b[0m         \u001b[0msuper\u001b[0m\u001b[0;34m(\u001b[0m\u001b[0m_XlwtWriter\u001b[0m\u001b[0;34m,\u001b[0m \u001b[0mself\u001b[0m\u001b[0;34m)\u001b[0m\u001b[0;34m.\u001b[0m\u001b[0m__init__\u001b[0m\u001b[0;34m(\u001b[0m\u001b[0mpath\u001b[0m\u001b[0;34m,\u001b[0m \u001b[0;34m**\u001b[0m\u001b[0mengine_kwargs\u001b[0m\u001b[0;34m)\u001b[0m\u001b[0;34m\u001b[0m\u001b[0m\n",
      "\u001b[0;31mModuleNotFoundError\u001b[0m: No module named 'xlwt'"
     ]
    }
   ],
   "source": [
    "row_df.to_excel(\"comparison.xls\")"
   ]
  },
  {
   "cell_type": "code",
   "execution_count": null,
   "metadata": {},
   "outputs": [],
   "source": []
  }
 ],
 "metadata": {
  "kernelspec": {
   "display_name": "Python 3",
   "language": "python",
   "name": "python3"
  },
  "language_info": {
   "codemirror_mode": {
    "name": "ipython",
    "version": 3
   },
   "file_extension": ".py",
   "mimetype": "text/x-python",
   "name": "python",
   "nbconvert_exporter": "python",
   "pygments_lexer": "ipython3",
   "version": "3.6.5"
  }
 },
 "nbformat": 4,
 "nbformat_minor": 2
}
