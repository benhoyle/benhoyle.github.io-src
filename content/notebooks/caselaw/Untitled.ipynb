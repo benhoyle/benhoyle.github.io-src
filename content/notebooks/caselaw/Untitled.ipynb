{
 "cells": [
  {
   "cell_type": "code",
   "execution_count": 3,
   "metadata": {},
   "outputs": [
    {
     "name": "stdout",
     "output_type": "stream",
     "text": [
      "Loading data\n"
     ]
    },
    {
     "data": {
      "text/plain": [
       "(2740,\n",
       " 'T 0705/92 (Postage meter/PITNEY BOWES INC) of 8.11 ...',\n",
       " 'http://www.epo.org/law-practice/case-law-appeals/recent/t920705eu1.html',\n",
       " OrderedDict([('European Case Law Identifier',\n",
       "               'ECLI:EP:BA:1994:T070592.19941108'),\n",
       "              ('Date of decision', '08 November 1994'),\n",
       "              ('Case number', 'T 0705/92'),\n",
       "              ('Application number', '83112360.9'),\n",
       "              ('IPC class', 'G07B 17/02'),\n",
       "              ('Language of proceedings', 'EN'),\n",
       "              ('Distribution', 'C'),\n",
       "              ('Bibliographic information is available in', 'EN'),\n",
       "              ('Versions', 'Unpublished'),\n",
       "              ('Title of application',\n",
       "               'Postage meter with keyboard keys for commanding and requesting performance of meter operations'),\n",
       "              ('Applicant name', 'PITNEY BOWES INC.'),\n",
       "              ('Opponent name', 'Francotyp- Postalia GmbH'),\n",
       "              ('Board', '3.4.01'),\n",
       "              ('Headnote', None),\n",
       "              ('Relevant legal provisions',\n",
       "               ['European Patent Convention 1973 Art 99(1)',\n",
       "                'European Patent Convention 1973 Art 104(1)',\n",
       "                'European Patent Convention 1973 Art 111(1)',\n",
       "                'European Patent Convention 1973 Art 114(2)',\n",
       "                'European Patent Convention 1973 R 55(c)']),\n",
       "              ('Keywords',\n",
       "               ['Late filed document - admitted into the proceedings',\n",
       "                'Remittal',\n",
       "                'Apportionment of costs']),\n",
       "              ('Catchwords', None),\n",
       "              ('Cited decisions', None),\n",
       "              ('Citing decisions', None),\n",
       "              ('Decision Text',\n",
       "               OrderedDict([('Summary of Facts and Submissions',\n",
       "                             ['I. European patent No. 0 111 318 relating to postage meters and to methods for their operation was opposed on the ground that its subject-matter is not novel and does not involve an inventive step having regard to the following prior art documents',\n",
       "                              'D1: US-A- 4 301 507;',\n",
       "                              'D2: Texas Instruments Manual- 1103893-0004D/D OM 729C189 Sd \"Programmierbare TI-58/58C/59, Individuelles programmieren\", 1977,1979, pages i to v and V-27 to V-36;',\n",
       "                              'D3: US-A-4 053 735 and',\n",
       "                              'D4: VEM-Elektro-Anlagenbau, Year 9, No.4, December 1973, pages 171 to 178.',\n",
       "                              'Although the objection of lack of novelty was mentioned in the Notice of Opposition, it was not substantiated in the Statement of Grounds of Appeal.',\n",
       "                              'II. Independent Claims 1 and 3 of the above patent as granted have the following wording :',\n",
       "                              'Claim 1',\n",
       "                              '\"A postage meter adapted to be connected to a source of supply of power for energization thereof, comprising:',\n",
       "                              '(a) means (18,22) for entering data, said data entering means including a keyboard (22), said keyboard including a plurality of numeric keys (156) and a postage setting key (168), said keyboard including at least one special purpose key (170, 172, 173, 174) and a plurality of display keys (162, 164, 166, 168);',\n",
       "                              '(b) means (38) for displaying numerical values and other data;',\n",
       "                              '(c) means (175) for selecting one of a plurality of dates;',\n",
       "                              '(d) means (36) for printing postage values and the selected date; and',\n",
       "                              '(e) computer means (10) electrically connected to each of the aforesaid entering and displaying and printing means and programmed for processing data for controlling the operation therof, said computer means being programmed for storing data, for performing calculations utilizing stored data, and for causing said displaying means (38) to display a numerical value in response to the actuation of selected numeric keys, said computer means being programmed for automatically processing said numerical value on display in response to the actuation of said at least one special purpose key; and said computer means being programmed for causing a particular operation of said postage meter to be performed in response to the actuation of said at least one special purpose key when said displayed numerical value is a predetermined value corresponding to said particular operation.\"',\n",
       "                              'Claim 3',\n",
       "                              '\"A method of operating a postage meter connected to a source of supply of power for energization thereof comprising:',\n",
       "                              '(a) entering data through a keyboard (22), including a plurality of numeric keys (156) and a postage setting key (168), as well as at least one special purpose key (170, 172, 173, 174) and a plurality of display keys (162, 164, 166, 168);',\n",
       "                              '(b) displaying numerical values and other data;',\n",
       "                              '(c) selecting one of a plurality of dates;',\n",
       "                              '(d) printing postage values and the selected date;',\n",
       "                              '(e) using a computer means (10) to process data for controlling the entry, display and printing of data and to store data as well as to perform calculations utilizing the stored data:',\n",
       "                              '(f) actuating selected numeric keys for causing the display of a predetermined numerical value;',\n",
       "                              '(g) actuating said at least one special purpose key when said numerical value is on display; and',\n",
       "                              '(h) causing said postage meter to perform an operation associated with said predetermined numerical value in response to the actuation of said at least one special purpose key.\"',\n",
       "                              'III. In its decision dated 15 July 1992, the Opposition Division rejected the opposition on the basis that the sequence of key operations claimed, consisting of entry and display of a numerical value followed by depression of a special purpose key whereby a computer carries out a particular operation corresponding to the displayed numerical value, is not suggested by any of the cited documents. According to the decision of the Opposition Division, the claimed sequence of key operations provides considerable advantages in a highly developed technical field and could not be attributed to normal skills in the art.',\n",
       "                              'IV. The Opponent filed an appeal. In the grounds of appeal which were filed on 25 November 1992, he cited two new documents',\n",
       "                              'D5: DE-A- 2 442 535 and',\n",
       "                              'D6: DE-B- 2 424 756,',\n",
       "                              'and argued inter alia that the claimed subject-matter was obvious having regard to the teachings of documents D1, D2 and D5.',\n",
       "                              'V. In a reply filed on 5 April 1993, the patent Proprietor referred to earlier observations in respect of documents D1 to D4 made during the proceedings before the Opposition Division, and submitted in respect of documents D5 and D6 that neither the particular solution claimed nor the advantages resulting from it (i.e. dual function of the numerical keys, an opportunity for the operator to correct the entry, no restriction on the length of the code) are suggested by any of these documents.',\n",
       "                              'VI. In a letter dated 27 January 1994, the Opponent cited a further document D7: US-A-4 091 446 and submitted that it was known from this document to enter a numerical code corresponding to a particular computer programme and then to actuate a special key to call this programme, as in the claimed invention.',\n",
       "                              'As to the admissibility of documents D5 to D7 outside the opposition period specified in Article 99(1) EPC, the Opponent argued that their late filing was a consequence of the decision of the opposition division in which inventive step had been recognised having regard to the order in which the keys of a keyboard are operated. The Opponent also argued that in the field of postage meters and electronic computers, the literature to be searched is immensely large and since the features which are looked for are often not mentioned in the abstracts or are not derivable from the drawings, it is extremely difficult to find a relevant document within the opposition period. It was also submitted that the EPO has an obligation to protect the public from invalid patents, and that especially document D7, which is highly relevant to the claimed subject-matter, should be evaluated and introduced into the proceedings.',\n",
       "                              'VII. In its communication dated 16 August 1994 accompanying a summons to the oral proceedings, the Board informed the parties that since the patent Proprietor had not objected to the late filing of documents D5, D6 and D7, subject to any further observations by the parties, the question of inventive step would be discussed at the oral proceedings having regard to the cited prior art including the late filed documents D5 to D7.',\n",
       "                              'VIII. In a reply filed on 17 October 1994 to this communication, the patent Proprietor filed auxiliary requests numbered 1 to 5. Furthermore, the patent Proprietor submitted that for the reasons already given in the letter filed on 5 April 1993, documents D5 and D6 are not sufficiently relevant to justify their admissibility and that document D7 was also not sufficiently relevant to be admitted at such a late stage, for reasons which would be given at the oral hearing.',\n",
       "                              'IX. At the beginning of the oral proceedings which were held on 8 November 1994, the parties were asked to comment further on the admissibility of documents D5, D6 and D7. The patent Proprietor gave detailed reasons why these documents were not sufficiently relevant to affect maintenance of the patent as granted. Furthermore, he requested that if documents D5 to D7 are admitted, then the case should be remitted to the Opposition Division in order to ensure examination of the main request and the newly filed auxiliary requests by two instances, and that apportionment of costs should be awarded to compensate for the extra costs due to the late filing of such documents.',\n",
       "                              'The Opponent emphasised the relevance of document D7, and submitted that the combination of this document with documents D1 to D4 should result in a revocation of the patent. He also submitted that the case should not be remitted to the Opposition Division and that no apportionment of costs should be awarded, and he relied on the fact that document D7 had been filed nine months before the oral hearing. The Opponent accepted that documents D5 and D6 were less relevant than document D7 and did not press for their admission at this stage of the proceedings.',\n",
       "                              'X. In response to these submissions, the decision was announced that document D7 would be admitted into the proceedings, that the case would be remitted to the Opposition Division for further prosecution, and that costs would be apportioned as set out in the order below.']),\n",
       "                            ('Reasons for the Decision',\n",
       "                             [\"1. In the Board's view, the disclosure of document D7 lies within the framework set out in the Notice of Opposition. Furthermore, if such disclosure is considered in combination with that of one or more of documents D1 to D4, it is possible that a finding of lack of inventive step in respect of subject-matter of Claim 1 as granted might result. For this reason, in the Board's judgment document D7 is sufficiently relevant to be admitted into the opposition proceedings, even though it was filed for the first time during the appeal proceedings.\",\n",
       "                              \"2. In order to allow a full consideration of the prior art documents D1 to D4 and D7 in relation to the patent proprietor's main and auxiliary requests by two instances, the Board has decided to exercise its power under Article 111(1) EPC and to remit the case to the Opposition Division for further prosecution. This procedure preserves the possibility of an appeal by either party, depending upon the further decision of the Opposition Division.\",\n",
       "                              'The Board makes no finding as to the admissibility or otherwise of documents D5 and D6. This is a matter for the Opposition Division to decide, if it becomes appropriate to do so.',\n",
       "                              \"3. According to the established jurisprudence of the Boards of Appeal, facts and evidence in support of a Notice of Opposition must be filed as early as possible following the filing of the opposition. The filing of document D7 for the first time during the appeal proceedings, and its subsequent admission into the proceedings, will inevitably increase the costs to be incurred by the patent Proprietor in defending his patent, especially since the case is to be remitted to the Opposition Division, compared to the normal costs which would have been incurred by the patent Proprietor if document D7 had been filed in due time. In the Board's judgment, the patent Proprietor is clearly entitled as a matter of equity to be compensated in respect of such additional costs.\"]),\n",
       "                            ('ORDER',\n",
       "                             ['For these reasons it is decided that:',\n",
       "                              '1. Document D7 is admitted into the proceedings.',\n",
       "                              '2. The case is remitted to the Opposition Division for further prosecution .',\n",
       "                              \"3. The Opponent is to pay 50 % of the additional costs which are reasonably incurred by the patentee's Representative and which are caused by the late filing of document D7 during the appeal procedure, during the future prosecution of the case before the Opposition Division.\"])]))]))"
      ]
     },
     "execution_count": 3,
     "metadata": {},
     "output_type": "execute_result"
    }
   ],
   "source": [
    "import pickle\n",
    "\n",
    "def loaddata(filename):\n",
    "    \"\"\"Helper function to load data from a pickle file.\"\"\"\n",
    "    with open(filename, \"rb\") as f:\n",
    "        print(\"Loading data\")\n",
    "        data = pickle.load(f)\n",
    "    return data\n",
    "\n",
    "cases = loaddata(\"parsed_data.pkl\")\n",
    "cases[-1]"
   ]
  },
  {
   "cell_type": "code",
   "execution_count": null,
   "metadata": {
    "collapsed": true
   },
   "outputs": [],
   "source": []
  }
 ],
 "metadata": {
  "kernelspec": {
   "display_name": "Python 3",
   "language": "python",
   "name": "python3"
  },
  "language_info": {
   "codemirror_mode": {
    "name": "ipython",
    "version": 3
   },
   "file_extension": ".py",
   "mimetype": "text/x-python",
   "name": "python",
   "nbconvert_exporter": "python",
   "pygments_lexer": "ipython3",
   "version": "3.5.2"
  }
 },
 "nbformat": 4,
 "nbformat_minor": 2
}
