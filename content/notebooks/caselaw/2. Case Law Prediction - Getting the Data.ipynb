{
 "cells": [
  {
   "cell_type": "markdown",
   "metadata": {},
   "source": [
    "# 2. Case Law Prediction - Getting the Data"
   ]
  },
  {
   "cell_type": "markdown",
   "metadata": {},
   "source": [
    "## Processing Feeds\n",
    "\n",
    "So at the moment we have a list of feed entries for cases that match our search criteria (relating to inventive step and containing the word \"technical\" by boards 3.04 and 3.05 in our area (we cannot search by G06 alone)). We need to process these feeds to create structured data we can use in our prediction algorithms.\n"
   ]
  },
  {
   "cell_type": "code",
   "execution_count": 1,
   "metadata": {},
   "outputs": [
    {
     "name": "stdout",
     "output_type": "stream",
     "text": [
      "Loading data\n"
     ]
    }
   ],
   "source": [
    "def loaddata(filename):\n",
    "    \"\"\"Helper function to load data from a pickle file.\"\"\"\n",
    "    import os, pickle\n",
    "    with open(filename, \"rb\") as f:\n",
    "        print(\"Loading data\")\n",
    "        data = pickle.load(f)\n",
    "    return data\n",
    "\n",
    "feedentries = loaddata(\"feeds.pik\")"
   ]
  },
  {
   "cell_type": "markdown",
   "metadata": {},
   "source": [
    "### Looking at Feed Entry Structure"
   ]
  },
  {
   "cell_type": "code",
   "execution_count": 2,
   "metadata": {},
   "outputs": [
    {
     "data": {
      "text/plain": [
       "{'guidislink': False,\n",
       " 'id': 'http://www.epo.org/law-practice/case-law-appeals/recent/t930324eu1.html',\n",
       " 'lang': 'en',\n",
       " 'link': 'http://www.epo.org/law-practice/case-law-appeals/recent/t930324eu1.html',\n",
       " 'links': [{'href': 'http://www.epo.org/law-practice/case-law-appeals/recent/t930324eu1.html',\n",
       "   'rel': 'alternate',\n",
       "   'type': 'text/html'},\n",
       "  {'href': 'http://www.epo.org/law-practice/case-law-appeals/pdf/t930324eu1.pdf',\n",
       "   'rel': 'enclosure',\n",
       "   'type': 'application/pdf'}],\n",
       " 'published': '',\n",
       " 'published_parsed': None,\n",
       " 'summary': '<b>...</b> Download and more information: Decision text in EN (<b>PDF</b>, 17.099K).<br> Documentation of the appeal procedure can be found in the Register. <b>...</b>  \\n          <br/>\\n          <b>Online on</b>: 02.02.1995\\n          | <b>Board</b>: 3.5.02\\n          | <b>Decision date</b>: 7.12.1994\\n          | <b>Proc. language</b>: EN\\n          | <b>IPC</b>: G11B 27/10\\n          | <b>Application no.</b>: 88903369\\n          <br/>\\n          <b>Keywords</b>: Inventive step (yes, after amendment of some independent claims)\\n          <br/>\\n          <b>Application title</b>: Disc recording/reproducing apparatus and disc recording/reproducing method',\n",
       " 'summary_detail': {'base': 'https://www.epo.org/footer/search.html?site=BoA&entqr=0&output=xml_no_dtd&client=BoA_AJAX&ud=1&oe=UTF-8&ie=UTF-8&q=PDF%2Binmeta:dg3DecisionDate:1970-01-01..1995-01-01&getfields=dg3TLE.dg3DecisionOnline.dg3APN.dg3DecisionDate.dg3DecisionPDF.dg3CaseIPC.dg3DecisionBoard.dg3DecisionPRL.dg3KEY.dg3DecisionDistributionKey.dg3ECLI&requiredfields=%28dg3DecisionPRL:EN%29.%28dg3BOAnDot:3401|dg3BOAnDot:3402|dg3BOAnDot:3403|dg3BOAnDot:3501|dg3BOAnDot:3502|dg3BOAnDot:3503|dg3BOAnDot:3504|dg3BOAnDot:3505|dg3BOAnDot:3506|dg3BOAnDot:3507%29.%28dg3CaseType:T%29&partialfields=&advOpts=hide&ulang=en&access=p&entqrm=0&lr=lang_en&wc=200&wc_mc=1&proxystylesheet=BoA_RSS&sort=date:D:S:d1&filter=0&num=900',\n",
       "  'language': None,\n",
       "  'type': 'text/html',\n",
       "  'value': '<b>...</b> Download and more information: Decision text in EN (<b>PDF</b>, 17.099K).<br> Documentation of the appeal procedure can be found in the Register. <b>...</b>  \\n          <br/>\\n          <b>Online on</b>: 02.02.1995\\n          | <b>Board</b>: 3.5.02\\n          | <b>Decision date</b>: 7.12.1994\\n          | <b>Proc. language</b>: EN\\n          | <b>IPC</b>: G11B 27/10\\n          | <b>Application no.</b>: 88903369\\n          <br/>\\n          <b>Keywords</b>: Inventive step (yes, after amendment of some independent claims)\\n          <br/>\\n          <b>Application title</b>: Disc recording/reproducing apparatus and disc recording/reproducing method'},\n",
       " 'title': 'T 0324/93 () of 7.12.1994',\n",
       " 'title_detail': {'base': 'https://www.epo.org/footer/search.html?site=BoA&entqr=0&output=xml_no_dtd&client=BoA_AJAX&ud=1&oe=UTF-8&ie=UTF-8&q=PDF%2Binmeta:dg3DecisionDate:1970-01-01..1995-01-01&getfields=dg3TLE.dg3DecisionOnline.dg3APN.dg3DecisionDate.dg3DecisionPDF.dg3CaseIPC.dg3DecisionBoard.dg3DecisionPRL.dg3KEY.dg3DecisionDistributionKey.dg3ECLI&requiredfields=%28dg3DecisionPRL:EN%29.%28dg3BOAnDot:3401|dg3BOAnDot:3402|dg3BOAnDot:3403|dg3BOAnDot:3501|dg3BOAnDot:3502|dg3BOAnDot:3503|dg3BOAnDot:3504|dg3BOAnDot:3505|dg3BOAnDot:3506|dg3BOAnDot:3507%29.%28dg3CaseType:T%29&partialfields=&advOpts=hide&ulang=en&access=p&entqrm=0&lr=lang_en&wc=200&wc_mc=1&proxystylesheet=BoA_RSS&sort=date:D:S:d1&filter=0&num=900',\n",
       "  'language': None,\n",
       "  'type': 'text/plain',\n",
       "  'value': 'T 0324/93 () of 7.12.1994'}}"
      ]
     },
     "execution_count": 2,
     "metadata": {},
     "output_type": "execute_result"
    }
   ],
   "source": [
    "# Let's have a look at the structure of each feed\n",
    "feedentries[0]"
   ]
  },
  {
   "cell_type": "code",
   "execution_count": 3,
   "metadata": {},
   "outputs": [
    {
     "data": {
      "text/plain": [
       "{'guidislink': False,\n",
       " 'id': 'http://www.epo.org/law-practice/case-law-appeals/recent/t111474eu1.html',\n",
       " 'lang': 'en',\n",
       " 'link': 'http://www.epo.org/law-practice/case-law-appeals/recent/t111474eu1.html',\n",
       " 'links': [{'href': 'http://www.epo.org/law-practice/case-law-appeals/recent/t111474eu1.html',\n",
       "   'rel': 'alternate',\n",
       "   'type': 'text/html'},\n",
       "  {'href': 'http://www.epo.org/law-practice/case-law-appeals/pdf/t111474eu1.pdf',\n",
       "   'rel': 'enclosure',\n",
       "   'type': 'application/pdf'}],\n",
       " 'published': '',\n",
       " 'published_parsed': None,\n",
       " 'summary': '<b>...</b> Download and more information: Decision text in EN (<b>PDF</b>, 15.312K).<br> Documentation of the appeal procedure can be found in the Register. <b>...</b>  \\n          <br/>\\n          <b>Online on</b>: 18.01.2012\\n          | <b>Board</b>: 3.4.02\\n          | <b>Decision date</b>: 2.1.2012\\n          | <b>Proc. language</b>: EN\\n          | <b>IPC</b>: G01J 5/34, G01J 5/20, G01J 5/10, G01J 5/02\\n          | <b>Application no.</b>: 06075345\\n          <br/>\\n          <b>Keywords</b>: Missing Statement of Grounds\\n          <br/>\\n          <b>Application title</b>: Apparatus and method for providing thermal conductance in thermally responsive photonic imaging devices',\n",
       " 'summary_detail': {'base': 'https://www.epo.org/footer/search.html?site=BoA&entqr=0&output=xml_no_dtd&client=BoA_AJAX&ud=1&oe=UTF-8&ie=UTF-8&q=PDF%2Binmeta:dg3DecisionDate:2012-01-01..2018-04-04&getfields=dg3TLE.dg3DecisionOnline.dg3APN.dg3DecisionDate.dg3DecisionPDF.dg3CaseIPC.dg3DecisionBoard.dg3DecisionPRL.dg3KEY.dg3DecisionDistributionKey.dg3ECLI&requiredfields=%28dg3DecisionPRL:EN%29.%28dg3BOAnDot:3401|dg3BOAnDot:3402|dg3BOAnDot:3403|dg3BOAnDot:3501|dg3BOAnDot:3502|dg3BOAnDot:3503|dg3BOAnDot:3504|dg3BOAnDot:3505|dg3BOAnDot:3506|dg3BOAnDot:3507%29.%28dg3CaseType:T%29&partialfields=&advOpts=hide&ulang=en&access=p&entqrm=0&lr=lang_en&wc=200&wc_mc=1&proxystylesheet=BoA_RSS&sort=date:D:S:d1&filter=0&num=999',\n",
       "  'language': None,\n",
       "  'type': 'text/html',\n",
       "  'value': '<b>...</b> Download and more information: Decision text in EN (<b>PDF</b>, 15.312K).<br> Documentation of the appeal procedure can be found in the Register. <b>...</b>  \\n          <br/>\\n          <b>Online on</b>: 18.01.2012\\n          | <b>Board</b>: 3.4.02\\n          | <b>Decision date</b>: 2.1.2012\\n          | <b>Proc. language</b>: EN\\n          | <b>IPC</b>: G01J 5/34, G01J 5/20, G01J 5/10, G01J 5/02\\n          | <b>Application no.</b>: 06075345\\n          <br/>\\n          <b>Keywords</b>: Missing Statement of Grounds\\n          <br/>\\n          <b>Application title</b>: Apparatus and method for providing thermal conductance in thermally responsive photonic imaging devices'},\n",
       " 'title': 'T 1474/11 () of 2.1.2012',\n",
       " 'title_detail': {'base': 'https://www.epo.org/footer/search.html?site=BoA&entqr=0&output=xml_no_dtd&client=BoA_AJAX&ud=1&oe=UTF-8&ie=UTF-8&q=PDF%2Binmeta:dg3DecisionDate:2012-01-01..2018-04-04&getfields=dg3TLE.dg3DecisionOnline.dg3APN.dg3DecisionDate.dg3DecisionPDF.dg3CaseIPC.dg3DecisionBoard.dg3DecisionPRL.dg3KEY.dg3DecisionDistributionKey.dg3ECLI&requiredfields=%28dg3DecisionPRL:EN%29.%28dg3BOAnDot:3401|dg3BOAnDot:3402|dg3BOAnDot:3403|dg3BOAnDot:3501|dg3BOAnDot:3502|dg3BOAnDot:3503|dg3BOAnDot:3504|dg3BOAnDot:3505|dg3BOAnDot:3506|dg3BOAnDot:3507%29.%28dg3CaseType:T%29&partialfields=&advOpts=hide&ulang=en&access=p&entqrm=0&lr=lang_en&wc=200&wc_mc=1&proxystylesheet=BoA_RSS&sort=date:D:S:d1&filter=0&num=999',\n",
       "  'language': None,\n",
       "  'type': 'text/plain',\n",
       "  'value': 'T 1474/11 () of 2.1.2012'}}"
      ]
     },
     "execution_count": 3,
     "metadata": {},
     "output_type": "execute_result"
    }
   ],
   "source": [
    "# And check that all entries have the same structure\n",
    "feedentries[-1]"
   ]
  },
  {
   "cell_type": "code",
   "execution_count": 4,
   "metadata": {},
   "outputs": [
    {
     "data": {
      "text/plain": [
       "dict_keys(['lang', 'published_parsed', 'summary_detail', 'summary', 'published', 'links', 'guidislink', 'title', 'title_detail', 'id', 'link'])"
      ]
     },
     "execution_count": 4,
     "metadata": {},
     "output_type": "execute_result"
    }
   ],
   "source": [
    "feedentries[-1].keys()"
   ]
  },
  {
   "cell_type": "markdown",
   "metadata": {},
   "source": [
    "So useful fields appear to be:\n",
    "\n",
    "* title (or title_detail>value same data) - has the case number and the date;\n",
    "* id / link - link to the HTML page;\n",
    "* links>href for pdf link;\n",
    "* summary - html with useful information (or we get this from the case link)."
   ]
  },
  {
   "cell_type": "markdown",
   "metadata": {},
   "source": [
    "### Get HTML of Case from Feed"
   ]
  },
  {
   "cell_type": "code",
   "execution_count": 5,
   "metadata": {},
   "outputs": [
    {
     "name": "stdout",
     "output_type": "stream",
     "text": [
      "http://www.epo.org/law-practice/case-law-appeals/recent/t111474eu1.html\n"
     ]
    }
   ],
   "source": [
    "case_page_url = feedentries[-1]['link']\n",
    "print(case_page_url)"
   ]
  },
  {
   "cell_type": "code",
   "execution_count": 6,
   "metadata": {
    "collapsed": true
   },
   "outputs": [],
   "source": [
    "import requests\n",
    "\n",
    "r = requests.get(case_page_url)"
   ]
  },
  {
   "cell_type": "code",
   "execution_count": 7,
   "metadata": {},
   "outputs": [
    {
     "data": {
      "text/plain": [
       "True"
      ]
     },
     "execution_count": 7,
     "metadata": {},
     "output_type": "execute_result"
    }
   ],
   "source": [
    "# Check request worked - i.e. got a 200\n",
    "r.status_code == requests.codes.ok"
   ]
  },
  {
   "cell_type": "code",
   "execution_count": 8,
   "metadata": {
    "collapsed": true
   },
   "outputs": [],
   "source": [
    "case_page_text = r.text"
   ]
  },
  {
   "cell_type": "code",
   "execution_count": 9,
   "metadata": {},
   "outputs": [
    {
     "data": {
      "text/plain": [
       "'<!DOCTYPE html>\\n\\n<html class=\"no-js forceScrollBar\"><head><meta content=\"IE=edge\" http-equiv=\"X-UA-Compatible\" /><title>EPO - T 1474/11 () of 2.1.2012</title><meta charset=\"utf-8\" /><meta content=\"text/javascript\" http-equiv=\"Content-Script-Type\" /><meta content=\"text/css\" http-equiv=\"Content-Style-Type\" /><meta content=\"no\" http-equiv=\"imagetoolbar\" />\\n<meta name=\"DCTERMS.available\"  content=\"20120118\" />\\n<meta name=\"dg3aDCI\"\\t\\tcontent=\"\" />\\n<meta name=\"dg3aDCIT\"\\t\\tcontent=\"\" /> \\n<meta name=\"dg3ANR\"             content=\"T111474EU1\" />\\n<meta name=\"dg3APN\"\\t\\tcontent=\"06075345\" />\\n<meta name=\"dg3APNwc\"\\t\\tcontent=\"06075345 0607534 060753\" />\\n<meta name=\"dg3ApplicantA\"\\tcontent=\"delphi technologies, inc.\" />\\n<meta name=\"dg3Applicant\"\\tcontent=\"Delphi Technologies, Inc.\" />\\n<meta name=\"dg3ArtRef\"\\t\\tcontent=\"108\" />\\n<meta name=\"dg3BOAnDot\"\\t\\tcontent=\"3402\" />\\n<meta name=\"dg3CaseIPC\"\\t\\tcontent=\"G01J 5/34, G01J 5/20, G01J 5/10, G01J 5/02\" />\\n<meta name=\"dg3CaseType\"\\tcontent=\"T\" />           \\n<meta name=\"dg3CSNCase\"\\t\\tcontent=\"T 1474/11\" />\\n<meta name=\"dg3CSNCaseT\"\\tcontent=\"T_1474-11\" /> \\n<meta name=\"dg3DecisionBoard\"\\tcontent=\"3.4.02\" />\\n<meta name=\"dg3DecisionDate\"\\tcontent=\"2.1.2012\" />\\n<meta name=\"dg3DecisionDateGSA\"\\tcontent=\"1.2.2012\" />\\n<meta name=\"dg3DecisionDateH\"\\tcontent=\"440102\" />\\n<meta name=\"dg3DecisionDateM\"\\tcontent=\"20120102\" />\\n<meta name=\"dg3DecisionDistributionKey\" content=\"D\" />\\n<meta name=\"dg3DecisionLang\"\\tcontent=\"EN\" />\\n<meta name=\"dg3DecisionOnline\"\\tcontent=\"18.01.2012\" />\\n<meta name=\"dg3DecisionOnlineGSA\" content=\"01.18.2012\" />\\n<meta name=\"dg3DecisionPDF\"\\tcontent=\"EN (PDF,   15.312K);http://www.epo.org/law-practice/case-law-appeals/pdf/t111474eu1.pdf\" />\\n<meta name=\"dg3DecisionPRL\"\\tcontent=\"EN\" />\\n<meta name=\"dg3KEY\"\\t\\tcontent=\"Missing Statement of Grounds\" /> \\n<meta name=\"dg3OpponentA\"\\tcontent=\" - \" />\\n<meta name=\"dg3Opponent\"\\tcontent=\" - \" />\\n<meta name=\"dg3RuleRef\"\\t\\tcontent=\"101(1)\" />\\n<meta name=\"dg3TLEA\"\\t\\tcontent=\"apparatus and method for providing thermal conductance in thermally responsive photonic imaging devices\" />\\n<meta name=\"dg3TLE\"\\t\\tcontent=\"Apparatus and method for providing thermal conductance in thermally responsive photonic imaging devices\" />\\n<meta name=\"dg3bKeyOrHdn\"\\t\\tcontent=\"yes\" />\\n\\n<meta name=\"dg3ECLI\"\\t\\tcontent=\"ECLI:EP:BA:2012:T147411.20120102\" />\\n\\n<meta content=\"http://www.epo.org\" scheme=\"DCTERMS.URI\" name=\"DC.identifier\" /><meta content=\"text/html\" name=\"DC.format\" /><meta content=\"European Patent Office\" name=\"author\" /><meta content=\"Copyright &copy; 2007 European Patent Office. All Rights Reserved.\" name=\"copyright\" /><meta content=\"European Patent Office\" name=\"DC.creator\" /><meta content=\"en\" scheme=\"DCTERMS.RFC1766\" name=\"DC.language\" /><meta content=\"630\" lang=\"en\" name=\"DC.category\" /><meta content=\"630\" lang=\"en\" name=\"dcCategory\" /><meta content=\"T 1474/11 () of 2.1.2012\" lang=\"en\" name=\"DC.title\" /><meta content=\"\" lang=\"en\" name=\"keywords\" /><meta content=\"\" lang=\"en\" name=\"damTopic\" /><meta content=\"\" lang=\"en\" name=\"damLabel\" /><meta content=\"\" lang=\"en\" name=\"description\" /><link href=\"../../../css/cssEpo.min.css\" rel=\"stylesheet\" /><link href=\"../../../css/xhtml.css\" rel=\"stylesheet\" media=\"screen\" /><link href=\"../../../css/cssAllPlugins.min.css\" rel=\"stylesheet\" media=\"screen\" /><link href=\"../../../css/tabulator_simple.css\" rel=\"stylesheet\" media=\"screen\" /><link href=\"../../../css/epoweb3.css\" rel=\"stylesheet\" media=\"screen\" /><link href=\"../../../css/en.css\" rel=\"stylesheet\" media=\"screen\" /><link rel=\"stylesheet\" href=\"../../../css/font-awesome.min.css\" media=\"screen\" /><link href=\"../../../../../modules/epogui/javascript/epoweb3/plugins/LightBox/vendor/css/magnific-popup.css\" rel=\"stylesheet\" media=\"screen\" /><link rel=\"stylesheet\" href=\"../../../../../modules/epogui/javascript/epoweb3/plugins/LightBox/vendor/css/magnificPopupAnimations.css\" media=\"screen\" /><link href=\"../../../css/cssPrintLayout.css\" rel=\"stylesheet\" media=\"print\" /><link href=\"../../../css/cssPrint.css\" rel=\"stylesheet\" media=\"print\" /><script src=\"../../../javascript/modernizr-custom.js\"></script><script src=\"../../../javascript/head.min.js\"></script><link rel=\"shortcut icon\" href=\"../../../favicon.ico\" /><link rel=\"alternate\" type=\"application/rss+xml\" href=\"../../../rss/news.xml\" title=\"EPO News\" /><link rel=\"alternate\" type=\"application/rss+xml\" href=\"../../../rss/press-releases.xml\" title=\"EPO press releases\" /><link rel=\"alternate\" type=\"application/rss+xml\" href=\"../../../rss/patent-information.xml\" title=\"EPO Patent information updates\" /><link rel=\"alternate\" type=\"application/rss+xml\" href=\"../../../rss/updates.xml\" title=\"EPO updates\" /><link rel=\"alternate\" type=\"application/rss+xml\" href=\"../../../rss/updates-fees.xml\" title=\"EPO Fee updates\" /><link rel=\"alternate\" type=\"application/rss+xml\" href=\"../../../rss/updates-appeals.xml\" title=\"EPO Appeal updates\" /><link rel=\"alternate\" type=\"application/rss+xml\" href=\"../../../rss/updates-eporg.xml\" title=\"European Patent Organisation updates\" /><link rel=\"alternate\" type=\"application/rss+xml\" href=\"../../../rss/updates-grant.xml\" title=\"EPO grant procedure updates\" /><link rel=\"alternate\" type=\"application/rss+xml\" href=\"../../../rss/updates-law.xml\" title=\"EPO law updates\" /><link rel=\"alternate\" type=\"application/rss+xml\" href=\"../../../rss/updates-product-ordering.xml\" title=\"EPO product ordering updates\" /><link rel=\"alternate\" type=\"application/rss+xml\" href=\"../../../rss/jobs-all.xml\" title=\"EPO all vacancies\" /><link rel=\"alternate\" type=\"application/rss+xml\" href=\"../../../rss/jobs-munich.xml\" title=\"EPO vacancies Munich\" /><link rel=\"alternate\" type=\"application/rss+xml\" href=\"../../../rss/jobs-the-hague.xml\" title=\"EPO vacancies The Hague\" /><link rel=\"alternate\" type=\"application/rss+xml\" href=\"../../../rss/jobs-berlin.xml\" title=\"EPO vacancies Berlin\" /><link rel=\"alternate\" type=\"application/rss+xml\" href=\"../../../rss/jobs-vienna.xml\" title=\"EPO vacancies Vienna\" /><link rel=\"alternate\" type=\"application/rss+xml\" href=\"../../../rss/videos.xml\" title=\"EPO videos\" /><link rel=\"alternate\" type=\"application/rss+xml\" href=\"../../../rss/updates-raw-data.xml\" title=\"EPO raw data updates\" /><link rel=\"alternate\" type=\"application/rss+xml\" href=\"../../../rss/updates-ops.xml\" title=\"EPO Open Patent Services updates\" /><link rel=\"alternate\" type=\"application/rss+xml\" href=\"../../../rss/updates-asia.xml\" title=\"EPO Updates Asia\" /><link rel=\"alternate\" type=\"application/rss+xml\" href=\"../../../rss/online-services.xml\" title=\"Online services\" /><link rel=\"alternate\" type=\"application/rss+xml\" href=\"../../../rss/tender.xml\" title=\"Tender\" /><link rel=\"alternate\" type=\"application/rss+xml\" href=\"../../../rss/oj.xml\" title=\"Official Journal\" /><link rel=\"alternate\" type=\"application/rss+xml\" href=\"../../../rss/vacancies-all.xml\" title=\"EPO all vacancies\" /><link rel=\"alternate\" type=\"application/rss+xml\" href=\"../../../rss/vacancies-EX-MU.xml\" title=\"Vacancies Examiners MUC\" /><link rel=\"alternate\" type=\"application/rss+xml\" href=\"../../../rss/vacancies-EX-TH.xml\" title=\"Vacancies Examiners TH\" /><link rel=\"alternate\" type=\"application/rss+xml\" href=\"../../../rss/vacancies-EX-BE.xml\" title=\"Vacancies Examiners BER\" /><link rel=\"alternate\" type=\"application/rss+xml\" href=\"../../../rss/vacancies-oa-all.xml\" title=\"Vacancies in other areas\" /><link rel=\"alternate\" type=\"application/rss+xml\" href=\"../../../rss/boa-communications.xml\" title=\"BoA communications\" /><meta http-equiv=\"Content-Type\" content=\"text/html; charset=UTF-8\" /></head><body data-theme=\"epoweb3\" data-t-name=\"EpoPage\" data-style=\"\" lang=\"en\" class=\"\"> <!--googleoff: all--> <header class=\"noLangSwitch\"><div class=\"epoHeader\"><div class=\"inner clearfix\"><div class=\"column\"><a href=\"../../../index.html\" name=\"epoLogo\" title=\"Link to EPO Homepage\" id=\"epoLogo\" class=\"epoLogo\"><img src=\"../../../images/logo.gif\" alt=\"Logo European Patent Office\" /></a></div><div class=\"column\"><form data-lang=\"EN\" class=\"search\" name=\"siteSearchForm\" id=\"siteSearchForm\"><fieldset><input title=\"Search\" placeholder=\"Search\" value=\"\" id=\"search\" name=\"search\" type=\"text\" /><a id=\"searchWebsiteBtn\" class=\"btn\">Website</a><a id=\"searchPatentsBtn\" class=\"btn\">Patents</a></fieldset></form></div><div class=\"column\"><div class=\"epoMetaNavigation\"><div class=\"clearfix\"><div class=\"column\"><a href=\"../../../news-issues/press.html\">Media</a></div><div class=\"column\"><a href=\"../../../service-support/contact-us.html\">Contact us</a></div></div><div class=\"flyoutContainer clearfix\"><div class=\"column pageAddons\"></div><div class=\"column languageActuator\"><div style=\"display:none\" id=\"languageActuatorHidden\"><div id=\"languageselector\"><ul class=\"epoNav\" id=\"epoLangSelector\"><li><a href=\"\" title=\"zur deutschen &Uuml;bersetzung\" data-lang=\"de\">Deutsch</a></li><li><a class=\"sel\" href=\"\" title=\"English is your currently selected language.\" data-lang=\"en\">English</a></li><li><a href=\"\" title=\"vers la version fran&ccedil;aise\" data-lang=\"fr\">Fran&ccedil;ais</a></li></ul></div></div><select class=\"hideWhileLoading\" id=\"languageActuator\" name=\"language\"><option value=\"de\" title=\"zur deutschen &Uuml;bersetzung\">Deutsch</option><option selected=\"selected\" value=\"en\" title=\"English is your currently selected language.\">English</option><option value=\"fr\" title=\"vers la version fran&ccedil;aise\">Fran&ccedil;ais</option></select></div></div></div></div></div></div><div class=\"epoNavigation\" id=\"epoNavigation\"><div class=\"inner\"><div data-t-name=\"TopNavigation\" class=\"m-top-navigation\"><div role=\"navigation\" class=\"navbar navbar-default\"><div class=\"collapse navbar-collapse\"><ul class=\"nav navbar-nav\" id=\"nav-main-navbar\"><li class=\"m-top-navigation__firstlevel js-top-navigation__firstlevel\"><a class=\"dropdown-toggle\" href=\"../../../index.html\">Home</a></li><li class=\"m-top-navigation__firstlevel js-top-navigation__firstlevel\"><a class=\"dropdown-toggle\" href=\"../../../searching-for-patents.html\">Searching for patents</a></li><li class=\"m-top-navigation__firstlevel js-top-navigation__firstlevel\"><a class=\"dropdown-toggle\" href=\"../../../applying.html\">Applying for a patent</a></li><li class=\"m-top-navigation__firstlevel js-top-navigation__firstlevel state-selected\"><a data-toggle=\"dropdown\" class=\"dropdown-toggle\" href=\"../../../law-practice.html\">Law &amp; practice</a><div class=\"dropdown-menu\"><div class=\"inner\"><ul class=\"m-top-navigation__secondlevel\"><li><a href=\"../../legal-texts.html\">Legal texts</a></li><li><a href=\"../../judiciary.html\">Court practices</a></li><li class=\"state-selected\"><a href=\"../../case-law-appeals.html\">Boards of Appeal _boa_</a></li><li><a href=\"../../consultation.html\">User consultations</a></li><li><a href=\"../../unitary.html\">Unitary Patent &amp; Unified Patent Court</a></li></ul></div></div></li><li class=\"m-top-navigation__firstlevel js-top-navigation__firstlevel\"><a class=\"dropdown-toggle\" href=\"../../../news-issues.html\">News &amp; issues</a></li><li class=\"m-top-navigation__firstlevel js-top-navigation__firstlevel\"><a class=\"dropdown-toggle\" href=\"../../../learning-events.html\">Learning &amp; events</a></li><li class=\"m-top-navigation__firstlevel js-top-navigation__firstlevel\"><a class=\"dropdown-toggle\" href=\"../../../about-us.html\">About us</a></li></ul></div></div></div></div></div></header><div class=\"pageWrap contentPage\"><ul class=\"clearfix\" id=\"epoBreadcrumbs\"><li class=\"firstChild\"><a href=\"../../../index.html\">Home</a></li><li><a href=\"../../../law-practice.html\">Law &amp; practice</a></li><li><a href=\"../../case-law-appeals.html\">Boards of Appeal _boa_</a></li><li><a href=\"../recent.html\">Recent decisions</a></li><li>BoA bibliographic file</li></ul><div class=\"epoContentLeft\"><div role=\"navigation\" id=\"epoContentLeft\" class=\"epoContentLeft\"><ul class=\"epoContentNav\"><ul level=\"3\"><li><a href=\"../advanced-search.html\">Search decisions</a></li><li class=\"active state-selected\"><a href=\"../recent.html\" class=\"sel\">Recent decisions</a><ul level=\"4\"><li><a href=\"2018.html\">2018 decisions</a></li><li><a href=\"2017.html\">2017 decisions</a></li><li><a href=\"2016.html\">2016 decisions</a></li><li><a href=\"2015.html\">2015 decisions</a></li><li><a href=\"2014.html\">2014 decisions</a></li><li><a href=\"2013.html\">2013 decisions</a></li><li><a href=\"2012.html\">2012 decisions</a></li><li><a href=\"2011.html\">2011 decisions</a></li><li><a href=\"2010.html\">2010 decisions</a></li><li><a href=\"2009.html\">2009 decisions</a></li><li><a href=\"2008.html\">2008 decisions</a></li><li><a href=\"2007.html\">2007 decisions</a></li><li><a href=\"2006.html\">2006 decisions</a></li><li><a href=\"2005.html\">2005 decisions</a></li><li><a href=\"2004.html\">2004 decisions</a></li><li><a href=\"2003.html\">2003 decisions</a></li><li><a href=\"2002.html\">2002 decisions</a></li><li><a href=\"2001.html\">2001 decisions</a></li><li><a href=\"2000.html\">2000 decisions</a></li></ul></li><li><a href=\"../eba.html\">Enlarged Board of Appeal</a></li><li><a href=\"../procedure.html\">Procedure</a></li><li><a href=\"../annual-report.html\">Annual report</a></li><li><a href=\"../president.html\">President of the Boards of Appeal</a></li><li><a href=\"../about-the-boards-of-appeal.html\">About the Boards of Appeal</a></li><li><a href=\"../communications.html\">Communications</a></li><li><a href=\"../publications.html\">Publications</a></li></ul></ul><div style=\"clear:right;\">&nbsp;</div></div></div><div class=\"epoContentWrap clearfix\"><div class=\"epoContext\"><ul class=\"iconBar \"><li class=\"print\"><a style=\"\" title=\"Print this page - JavaScript required\" id=\"printActuator\">Print</a></li><li class=\"share socialmediaIcon\"><a id=\"socialmediaActuator\">Share</a><ul class=\"socialMedia\"><li class=\"facebook\"><a title=\"Share in Facebook\" href=\"javascript:shareThisPage(\\'facebook\\', 400, 590)\">Facebook</a></li><li class=\"xing\"><a title=\"Share in Xing\" href=\"javascript:shareThisPage(\\'xing\\', 400, 590)\">Xing</a></li><li class=\"linkedin\"><a title=\"Share in LinkedIn\" href=\"javascript:shareThisPage(\\'linkedin\\', 600, 600)\">LinkedIn</a></li><li class=\"googleplus\"><a title=\"Share in Google+\" href=\"javascript:shareThisPage(\\'google\\', 600, 600)\">Google +</a></li><li class=\"twitter\"><a title=\"Share in Twitter\" href=\"javascript:shareThisPage(\\'twitter\\', 600, 600)\">Twitter</a></li></ul></li></ul><div class=\"promo\"><div class=\"promoItemGroup serviceTeaser\"><div class=\"\"><h4 class=\"title\"><img alt=\"Boards of Appeal symbol\" height=\"93\" src=\"../Boards-of-Appeal-symbol-2.gif?lenya.module=svg&amp;height=93&amp;width=171\" style=\"vertical-align: middle;\" width=\"171\" /></h4></div></div><div class=\"promoItemGroup serviceTeaser\"><h4>Contact</h4><div class=\"\"><p><strong>Boards of Appeal<br /></strong><br /><a class=\"int\" href=\"../../../service-support/contact-us/contact0-form.html\">Contact us using an online form</a></p>\\n<p>Address:<br />Richard-Reitzner-Allee 8<br />85540 Haar<br />Germany</p>\\n<p><a class=\"int\" href=\"../../../service-support/contact-us/munich-haar.html\">All contact information</a></p></div></div><div class=\"promoItemGroup\"><h4>See also</h4><div class=\"\"><ul class=\"noBullets\">\\n<li><a class=\"int\" href=\"../../../about-us/boards-of-appeal/faq-boards-of-appeal.html\">Frequently asked questions about the Boards of Appeal</a><br /><br /></li>\\n</ul></div><div class=\"\"><p><a class=\"int\" href=\"../../../applying/online-services/proceedings.html\">Check the calendar of oral proceedings</a></p></div><div class=\"\"><p><a class=\"int\" href=\"https://e-courses.epo.org/course/view.php?id=55\">Case Law conference highlights/recording</a></p>\\n<br /></div></div></div>\\n      \\n      &nbsp;\\n    </div><div data-pagetype=\"contentPage\" class=\" \" id=\"pagebody\"><h1>T 1474/11 () of 2.1.2012</h1><a name=\"Content\"></a> <!--googleon: all--> <div lang=\"en\" id=\"body\">\\n\\n<table class=\"tableType3\">\\n\\t<tbody>\\n\\t\\t<tr>\\n\\t\\t\\t<th>European Case Law Identifier:</th>\\n\\t\\t\\t<td>ECLI:EP:BA:2012:T147411.20120102</td>\\n\\t\\t</tr>\\n\\t\\t<tr>\\n\\t\\t\\t<th>Date of decision:</th>\\n\\t\\t\\t<td>02 January 2012</td>\\n\\t\\t</tr>\\n\\t\\t<tr>\\n\\t\\t\\t<th>Case number:</th>\\n\\t\\t\\t<td>T 1474/11</td>\\n\\t\\t</tr>\\n\\t\\t<tr>\\n\\t\\t\\t<th>Application number:</th>\\n\\t\\t\\t<td><a href=\\'https://register.epo.org/espacenet/application?number=EP06075345\\'  class=\"xint\" title=\"Open in the European Patent Register: About this file\">06075345.6</a></td>\\n\\t\\t</tr>\\n\\t\\t<tr>\\n\\t\\t\\t<th>IPC class:</th>\\n\\t\\t\\t<td><a href=\\'http://worldwide.espacenet.com/classification?locale=en_EP#!/CPC=G01J5/34\\'  class=\"intx\" title=\"Look up IPC in Espacenet using the CPC browser\" >G01J 5/34</a><br />\\n\\t\\t\\t<a href=\\'http://worldwide.espacenet.com/classification?locale=en_EP#!/CPC=G01J5/20\\'  class=\"intx\" title=\"Look up IPC in Espacenet using the CPC browser\" >G01J 5/20</a><br />\\n\\t\\t\\t<a href=\\'http://worldwide.espacenet.com/classification?locale=en_EP#!/CPC=G01J5/10\\'  class=\"intx\" title=\"Look up IPC in Espacenet using the CPC browser\" >G01J 5/10</a><br />\\n\\t\\t\\t<a href=\\'http://worldwide.espacenet.com/classification?locale=en_EP#!/CPC=G01J5/02\\'  class=\"intx\" title=\"Look up IPC in Espacenet using the CPC browser\" >G01J 5/02</a></td>\\n\\t\\t</tr>\\n\\t\\t<tr>\\n\\t\\t\\t<th>Language of proceedings:</th>\\n\\t\\t\\t<td>EN</td>\\n\\t\\t</tr>\\n\\t\\t<tr>\\n\\t\\t\\t<th>Distribution:</th>\\n\\t\\t\\t<td>D</td>\\n\\t\\t</tr>\\n\\t\\t<tr>\\n\\t\\t\\t<th>Download and more information:</th>\\n\\t\\t\\t<td class=\"containsTable\">\\n\\t\\t\\t<table>\\n\\t\\t\\t\\t<tbody>\\n\\t\\t\\t\\t\\t<tr>\\n\\t\\t\\t\\t\\t\\t<td colspan=\"2\"><a href=\\'/law-practice/case-law-appeals/pdf/t111474eu1.pdf\\'  target=\"_blank\" class=\"pdf\" title=\"Open decision as PDF\">Decision text in  EN (PDF,   15.312K)</a></td>\\n\\t\\t\\t\\t\\t</tr>\\n\\t\\t\\t\\t\\t<tr>\\n\\t\\t\\t\\t\\t\\t<td colspan=\"2\">Documentation of the appeal procedure can be found in the <a href=\\'https://register.epo.org/espacenet/application?number=EP06075345&tab=doclist\\'  class=\"int\" title=\"Open in the European Patent Register: All documents\">Register</a></td>\\n\\t\\t\\t\\t\\t</tr>\\n\\t\\t\\t\\t\\t<tr>\\n\\t\\t\\t\\t\\t\\t<th>Bibliographic information is available in:</th>\\n\\t\\t\\t\\t\\t\\t<td><B>EN</B></td>\\n\\t\\t\\t\\t\\t</tr>\\n\\t\\t\\t\\t\\t<tr>\\n\\t\\t\\t\\t\\t\\t<th>Versions:</th>\\n\\t\\t\\t\\t\\t\\t<td><b>Unpublished</b></td>\\n\\t\\t\\t\\t\\t</tr>\\n\\t\\t\\t\\t</tbody>\\n\\t\\t\\t</table>\\n\\t\\t\\t</td>\\n\\t\\t</tr>\\n\\t\\t<tr>\\n\\t\\t\\t<th>Title of application:</th>\\n\\t\\t\\t<td>Apparatus and method for providing thermal conductance in thermally responsive photonic imaging devices</td>\\n\\t\\t</tr>\\n\\t\\t<tr>\\n\\t\\t\\t<th>Applicant name:</th>\\n\\t\\t\\t<td>Delphi Technologies, Inc.</td>\\n\\t\\t</tr>\\n\\t\\t<tr>\\n\\t\\t\\t<th>Opponent name:</th>\\n\\t\\t\\t<td> - </td>\\n\\t\\t</tr>\\n\\t\\t<tr>\\n\\t\\t\\t<th>Board:</th>\\n\\t\\t\\t<td>3.4.02</td>\\n\\t\\t</tr>\\n\\t\\t<tr>\\n\\t\\t\\t<th>Headnote:</th>\\n\\t\\t\\t<td colspan=\"2\"> - </td>\\n\\t\\t</tr>\\n\\t\\t<tr>\\n\\t\\t\\t<th>Relevant legal provisions:</th>\\n\\t\\t\\t<td class=\"containsTable\">\\n\\t\\t\\t<table>\\n\\t\\t\\t\\t<tbody>\\n\\t\\t\\t\\t\\t<tr>\\n\\t\\t\\t\\t\\t\\t<td colspan=\"2\"><a href=\\'http://www.epo.org/law-practice/legal-texts/html/epc/2016/e/ar108.html\\'  class=\"int\" title=\"View this provision\" >European Patent Convention Art 108</a><br />\\n\\t\\t\\t\\t\\t\\t<a href=\\'http://www.epo.org/law-practice/legal-texts/html/epc/2016/e/r101.html\\'  class=\"int\" title=\"View this provision\" >European Patent Convention R 101(1)</a></td>\\n\\t\\t\\t\\t\\t</tr>\\n\\t\\t\\t\\t</tbody>\\n\\t\\t\\t</table>\\n\\t\\t\\t</td>\\n\\t\\t</tr>\\n\\t\\t<tr>\\n\\t\\t\\t<th>Keywords:</th>\\n\\t\\t\\t<td>Missing Statement of Grounds</td>\\n\\t\\t</tr>\\n\\t\\t<tr>\\n\\t\\t\\t<th>Catchwords:</th>\\n\\t\\t\\t<td>\\n\\t\\t\\t\\n\\t\\t\\t<p>\\n\\t\\t\\t - \\n\\t\\t\\t</p>\\n\\t\\t\\t\\n\\t\\t\\t</td>\\n\\t\\t</tr>\\n\\t\\t<tr>\\n\\t\\t\\t<th>Cited decisions:</th>\\n\\t\\t\\t<td class=\"containsTable\">\\n\\t\\t\\t<table>\\n\\t\\t\\t\\t<tbody>\\n\\t\\t\\t\\t\\t<tr>\\n\\t\\t\\t\\t\\t\\t<td colspan=\"2\"> - </td>\\n\\t\\t\\t\\t\\t</tr>\\n\\t\\t\\t\\t</tbody>\\n\\t\\t\\t</table>\\n\\t\\t\\t</td>\\n\\t\\t</tr>\\n\\t\\t<tr>\\n\\t\\t\\t<th>Citing decisions:</th>\\n\\t\\t\\t<td class=\"containsTable\">\\n\\t\\t\\t<table>\\n\\t\\t\\t\\t<tbody>\\n\\t\\t\\t\\t\\t<tr>\\n\\t\\t\\t\\t\\t\\t<td colspan=\"2\">-</td>\\n\\t\\t\\t\\t\\t</tr>\\n\\t\\t\\t\\t</tbody>\\n\\t\\t\\t</table>\\n\\t\\t\\t</td>\\n\\t\\t</tr>\\n\\t</tbody>\\n</table>\\n<p><b>Summary of Facts and Submissions</b></p><p>I. The appellant contests the decision of the examining division of the European Patent Office dated 18 January 2011 refusing European patent application No. 06075345.6.</p><p>The appellant filed a notice of appeal on 2 March 2011 and paid the appeal fee on the same day.</p><p>A written statement setting out the grounds of appeal was not filed within the four-month time limit provided for in Article 108 EPC.</p><p>II. In a communication dated 11 July 2011, the Board informed the appellant that no statement setting out the grounds of appeal had been received and that the appeal could be expected to be rejected as inadmissible. The appellant was informed that any observations should be filed within two months.</p><p>III. The appellant filed no observations in response to said communication.</p><p><b>Reasons for the Decision</b></p><p>No written statement setting out the grounds of appeal was filed within the time limit provided for in Article 108 EPC. Nor did the notice of appeal contain anything that might be considered as such statement pursuant to Article 108 and Rule 99(2) EPC. Thus, the appeal is inadmissible pursuant to Rule 101(1) EPC.</p><p><b>ORDER</b></p><p>For these reasons it is decided that:</p><p>The appeal is rejected as inadmissible.</p>\\n  </div> <!--googleoff: all--> </div></div><div class=\"hide\"><h2>Quick Navigation</h2><ul><li><a href=\"../../../index.html\" title=\"Homepage\" accesskey=\"0\">Homepage [Alt] + 0</a></li><li><a href=\"#Content\" title=\"Skip navigation\" accesskey=\"1\">Skip navigation [Alt] + 1</a></li><li><a href=\"../../../footer/sitemap.html\" title=\"Sitemap\" accesskey=\"8\">Sitemap [Alt] + 8</a></li><li><a href=\"../../../footer/accessibility.html\" title=\"Accessibility information\" accesskey=\"9\">Accessibility information [Alt] + 9</a></li></ul></div></div><footer><div class=\"epoFatFooter clearfix\"><div class=\"inner clearfix\"><div class=\"row\"><div class=\"col-xs-3\"><a href=\"../../../about-us.html\"><h2>About us</h2></a><ul class=\"linklist\"><li><a href=\"../../../about-us/services-and-activities.html\">Services &amp; activities</a></li><li><a href=\"../../../about-us/governance.html\">Governance</a></li><li><a href=\"../../../about-us/services-and-activities/quality.html\">Quality</a></li><li><a href=\"../../../about-us/jobs.html\">Jobs</a></li><li><a href=\"../../../about-us/tenders.html\">Procurement</a></li></ul></div><div class=\"col-xs-3\"><a href=\"../../../service-support.html\"><h2> Service &amp; support </h2></a><ul class=\"linklist\"><li><a href=\"../../../service-support/faq.html\">FAQ</a></li><li><a href=\"../../../service-support/publications.html\">Publications</a></li><li><a href=\"../../../service-support/ordering.html\">Ordering</a></li><li><a href=\"../../../service-support/forms.html\">Forms</a></li><li><a href=\"../../../service-support/holidays.html\">Official holidays</a></li><li><a href=\"../../../service-support/forums.html\">Forums</a></li><li><a href=\"../../../service-support/glossary.html\">Glossary</a></li><li><a href=\"../../../service-support/feeds.html\">RSS feeds</a></li></ul><a href=\"../../../service-support/contact-us.html\"><h2>Contact us</h2></a><ul><li><a href=\"../../../service-support/contact-us/contact0-form.html\">Write to our customer services</a></li><li><a href=\"../../../service-support/contact-us/newsletter.html\">Subscribe to our newsletter</a></li></ul></div><div class=\"col-xs-6\"><a href=\"../../../news-issues/social-media.html\"><h2>The EPO in social media</h2></a><ul class=\"socialMedia\"><li class=\"facebook\"><ul><li><a href=\"https://www.facebook.com/europeanpatentoffice\"><strong>Facebook: </strong>News, photos, videos from the EPO</a></li><li><a href=\"https://www.facebook.com/epojobs\"><strong>Facebook: </strong>Job vacancies, interviews, testimonials</a></li></ul></li><li class=\"twitter\"><ul><li><a href=\"https://twitter.com/EPOorg\"><strong>Twitter: </strong>News and announcements from the EPO</a></li><li><a href=\"https://twitter.com/EPOjobs\"><strong>Twitter: </strong>Job vacancies, interviews, testimonials</a></li></ul></li><li class=\"linkedin\"><ul><li><a href=\"https://www.linkedin.com/company/163722?trk=tyah\"><strong>LinkedIn: </strong>Connect with the EPO</a></li><li><a href=\"https://www.linkedin.com/groups/4109452/profile\"><strong>LinkedIn: </strong>Connect with our recruitment team</a></li></ul></li><li class=\"youtube\"><ul><li><a href=\"https://www.youtube.com/user/EPOfilms\"><strong>YouTube: </strong>Videos about us and about inventors, clips from key events</a></li></ul></li></ul></div></div></div></div><div lang=\"en\" id=\"epoFooter\" class=\"epoMetaFooter\"><div class=\"inner\"><ul><li><a href=\"../../../footer/sitemap.html\">Sitemap</a></li><li><a href=\"../../../footer/accessibility.html\">Accessibility</a></li><li><a href=\"../../../footer/terms.html\">Terms of use</a></li><li><a href=\"../../../footer/legal-notice.html\">Legal notice</a></li><li><a href=\"../../../applying/online-services/security.html\">Security</a></li><li>Last updated: 18.01.2012</li></ul></div></div></footer><div id=\"placeholder\" class=\"clearbreak\">&nbsp;</div><div style=\"display:none\" id=\"topNavTeaser\"><div class=\"m-top-navigation__teaser\"><div id=\"flyoutMenuTeaser\"><!-- Teaser for \"Searching\" -->\\n<div class=\"flyoutTeaser\" data-id=\"searching-for-patents\"><a href=\"https://www.epo.org/learning-events/events/training/patent-information.html\" target=\"_blank\">\\n<div class=\"innerTeaser\">\\n<p>Patent information events</p>\\n<h3>Consult our calendar</h3>\\n</div>\\n</a></div>\\n<!--\\n<div class=\"flyoutTeaser\" data-id=\"searching-for-patents\"><a href=\"https://www.epo.org/learning-events/events/search/details.html?eventid=13574\" _mce_href=\"https://www.epo.org/learning-events/events/search/details.html?eventid=13574\">\\n<div class=\"innerTeaser\">\\n<h5>Catch up! - Patent Information News &amp; Updates<br /><br /></h5>\\n<h3>Free webinar on 5 March 2018 at 10:00 hrs CET.</h3>\\n<span class=\"btn\">Sign up</span></div>\\n</a></div>\\n--> <!--  Teaser for \"applying\"  -->\\n<div class=\"flyoutTeaser\" data-id=\"applying\"><a href=\"https://www.epo.org/applying/basics.html\">\\n<div class=\"innerTeaser\">\\n<p>How to apply for a patent</p>\\n<h3>A step-by-step guide to the grant procedure</h3>\\n<span class=\"btn\">Learn more</span></div>\\n</a></div>\\n<div class=\"flyoutTeaser\" data-id=\"applying\"><a href=\"http://blog.epo.org/the-epo/expansion-early-certainty/\">\\n<div class=\"innerTeaser\">\\n<p>President\\'s blog</p>\\n<h3>The Expansion of Early Certainty</h3>\\n</div>\\n</a></div>\\n<!--\\n<div class=\"flyoutTeaser\" data-id=\"applying\"><a href=\"https://www.epo.org/law-practice/legal-texts/epc/amendments.html\" _mce_href=\"https://www.epo.org/law-practice/legal-texts/epc/amendments.html\">\\n<div class=\"innerTeaser\">\\n<p>EPC Implementing Regulations</p>\\n<h3>Information on changes</h3>\\n</div>\\n</a></div>\\n-->        <!-- Teaser for \"Law & practice\" -->\\n<div class=\"flyoutTeaser\" data-id=\"law-practice\"><a href=\"https://www.epo.org/law-practice/legal-texts/official-journal/alerts.html\">\\n<div class=\"innerTeaser\">\\n<h3>Official Journal email alerts</h3>\\n<p>Get the latest issues delivered direct to your inbox</p>\\n<span class=\"btn\">Subscribe now</span></div>\\n</a></div>\\n<!-- Teaser for \"News & issues\" -->\\n<div class=\"flyoutTeaser\" data-id=\"news-issues\"><a href=\"http://blog.epo.org/\"><img height=\"118\" src=\"../../../news-issues/blog-flyout3.jpg?lenya.module=svg&amp;height=118&amp;width=218\" width=\"218\" />\\n<div class=\"innerTeaser\">\\n<h3>President\\'s blog</h3>\\n<p>March: a month of international cooperation</p>\\n</div>\\n</a></div>\\n<!-- Teaser for \"Learning & events\" -->\\n<div class=\"flyoutTeaser\" data-id=\"learning-events\"><a href=\"https://www.epo.org/learning-events/events/search.html\">\\n<div class=\"innerTeaser\">\\n<p>Calendar of events</p>\\n<h3>Search for events and training by topic, date, location or target audience</h3>\\n</div>\\n</a></div>\\n<!-- Teaser for \"About us\" -->\\n<div class=\"flyoutTeaser\" data-id=\"about-us\"><a href=\"https://www.epo.org/about-us/annual-reports-statistics/annual-report/2017.html\"><img alt=\"Word such as grants, applications, quality, growing demand, efficiency\" height=\"118\" src=\"../../../about-us/AnnualResults2017.jpg?lenya.module=svg&amp;height=118&amp;width=218\" width=\"218\" />\\n<div class=\"innerTeaser\">\\n<h3>Annual Report 2017</h3>\\n<p>Demand for European patents grows</p>\\n</div>\\n</a></div>\\n<div class=\"mcePaste\" id=\"_mcePaste\" style=\"position: absolute; left: -10000px; top: 114px; width: 1px; height: 1px; overflow: hidden;\"></div>\\n</div></div></div><button type=\"button\" class=\"material-scrolltop\">Top</button><script>\\n      var i18nSearchText = \\'Enter search term\\',\\n          i19nSearchText = \\'Search patents using keywords, numbers or dates\\',\\n          lenyaRoot = \"/epoweb3/live\",\\n          docHref   = location.href,\\n          docRoot   = docHref.substring(0, docHref.indexOf(\\'.html\\')),\\n          lang      = docRoot.substr(docRoot.length-3, 3),\\n          getLenyaPath;\\n\\n      if (lang == \\'_de\\' || lang == \\'_fr\\') {\\n        docRoot = docRoot.substr(0, docRoot.length-3);\\n      }\\n\\n      // replace the _boa_ placeholder with an icon\\n      var replaceBoaWithIcon = function(el) {\\n        return el.replace(/_boa_/g, \\'<i class=\"boa\" />\\');\\n      };\\n\\n      getLenyaPath = function () {\\n        //check if \\'authoring\\' or \\'live\\' is in the path ... otherwise rewrites in place\\n        var lenyaPath = window.location.pathname, p = \"\", s;\\n\\n        if (lenyaPath.indexOf(\\'/live\\') !== -1 || lenyaPath.indexOf(\\'/authoring\\') !== -1) {\\n          s = lenyaPath.split(\\'/\\');\\n          p = \\'/\\'+s[1]+\\'/\\'+s[2];\\n        }\\n        return p;\\n      };\\n\\n      // mobile device detection\\n      // see: https://github.com/kaimallea/isMobile\\n      //\\n\\n      !function(a){var b=/iPhone/i,c=/iPod/i,d=/iPad/i,e=/(?=.*\\\\bAndroid\\\\b)(?=.*\\\\bMobile\\\\b)/i,f=/Android/i,g=/(?=.*\\\\bAndroid\\\\b)(?=.*\\\\bSD4930UR\\\\b)/i,h=/(?=.*\\\\bAndroid\\\\b)(?=.*\\\\b(?:KFOT|KFTT|KFJWI|KFJWA|KFSOWI|KFTHWI|KFTHWA|KFAPWI|KFAPWA|KFARWI|KFASWI|KFSAWI|KFSAWA)\\\\b)/i,i=/Windows Phone/i,j=/(?=.*\\\\bWindows\\\\b)(?=.*\\\\bARM\\\\b)/i,k=/BlackBerry/i,l=/BB10/i,m=/Opera Mini/i,n=/(CriOS|Chrome)(?=.*\\\\bMobile\\\\b)/i,o=/(?=.*\\\\bFirefox\\\\b)(?=.*\\\\bMobile\\\\b)/i,p=new RegExp(\"(?:Nexus 7|BNTV250|Kindle Fire|Silk|GT-P1000)\",\"i\"),q=function(a,b){return a.test(b)},r=function(a){var r=a||navigator.userAgent,s=r.split(\"[FBAN\");if(\"undefined\"!=typeof s[1]&&(r=s[0]),s=r.split(\"Twitter\"),\"undefined\"!=typeof s[1]&&(r=s[0]),this.apple={phone:q(b,r),ipod:q(c,r),tablet:!q(b,r)&&q(d,r),device:q(b,r)||q(c,r)||q(d,r)},this.amazon={phone:q(g,r),tablet:!q(g,r)&&q(h,r),device:q(g,r)||q(h,r)},this.android={phone:q(g,r)||q(e,r),tablet:!q(g,r)&&!q(e,r)&&(q(h,r)||q(f,r)),device:q(g,r)||q(h,r)||q(e,r)||q(f,r)},this.windows={phone:q(i,r),tablet:q(j,r),device:q(i,r)||q(j,r)},this.other={blackberry:q(k,r),blackberry10:q(l,r),opera:q(m,r),firefox:q(o,r),chrome:q(n,r),device:q(k,r)||q(l,r)||q(m,r)||q(o,r)||q(n,r)},this.seven_inch=q(p,r),this.any=this.apple.device||this.android.device||this.windows.device||this.other.device||this.seven_inch,this.phone=this.apple.phone||this.android.phone||this.windows.phone,this.tablet=this.apple.tablet||this.android.tablet||this.windows.tablet,\"undefined\"==typeof window)return this},s=function(){var a=new r;return a.Class=r,a};\"undefined\"!=typeof module&&module.exports&&\"undefined\"==typeof window?module.exports=r:\"undefined\"!=typeof module&&module.exports&&\"undefined\"!=typeof window?module.exports=s():\"function\"==typeof define&&define.amd?define(\"isMobile\",[],a.isMobile=s()):a.isMobile=s()}(this);\\n\\n      // check for Banner Rotator and select rand image\\n      (function() {\\n        var banner = document.getElementById(\\'vacRandomImage\\'), images, rand;\\n        if (banner) {\\n          images = document.getElementById(\"bannerImages\").getElementsByTagName(\\'img\\');\\n          rand   = Math.floor(images.length * Math.random());\\n          banner.src = images[rand].src;\\n        }\\n      })();\\n\\n      if (location.hash && location.hash.indexOf(\\'=\\') !== -1)\\n        location.hash = location.hash.replace(\\'=\\', \\'\\');\\n\\n      \\n      (function () {\\n        \"use strict\";\\n\\n        // handle bloody IE\\n        if(!document.getElementsByClassName) {\\n          document.getElementsByClassName = function(className) {\\n            return this.querySelectorAll(\".\" + className);\\n          };\\n          Element.prototype.getElementsByClassName = document.getElementsByClassName;\\n        }\\n\\n        var rdNodes = document.getElementsByClassName(\\'redirect\\'),\\n            rdUrl, rdTime;\\n\\n        if (!rdNodes.length) rdNodes = document.getElementsByClassName(\\'redirectToUrl\\');\\n        if (rdNodes.length) {\\n          rdUrl = rdNodes[0].getAttribute(\\'data-url\\') || rdNodes[0].getAttribute(\\'data-redirect\\');\\n          rdTime= rdNodes[0].getAttribute(\\'data-time\\') || 0;\\n          if (location.pathname.indexOf(\\'/authoring/\\') === -1 && rdUrl.length) {\\n            setTimeout(function() {\\n              location.href = rdUrl;\\n            }, rdTime * 1000);\\n          }\\n        }\\n      }());\\n\\n      \\n\\n      if( typeof(djConfig) == \\'undefined\\') {\\n        var djConfig = { isDebug: false };\\n      }\\n      if( typeof(djConfig.parseOnLoad) == \\'undefined\\') {\\n      \\tdjConfig.parseOnLoad = false;\\n      }\\n      djConfig.baseUrl = \"/modules/dojotoolkit/release/dojo/\";\\n      djConfig.locale = \\'en\\';\\n      djConfig.bindEncoding = \"utf-8\";\\n      djConfig.modulePaths = {\\n        epoweb3: \\'/modules/epogui/javascript/epoweb3\\',\\n        polymer: \\'/modules/epogui/javascript/polymer\\'\\n      };\\n      djConfig.jsVersion = 160829;\\n      djConfig.lenyaRoot = getLenyaPath();\\n      djConfig.useFQN = false;\\n      djConfig.fqnDomain = \\'http://www.epo.org\\';\\n      // djConfig.extraLocale = [\\'de\\', \\'en\\', \\'fr\\']\\n\\n      // make sure, these CSS files are loaded last\\n\\n      head.load(\\n        { Polymer: djConfig.modulePaths.polymer+\"/bower_components/webcomponentsjs/webcomponents-lite.min.js\"},\\n        { jQuery: djConfig.lenyaRoot+\"/javascript/jquery-1.11.2.min.js\" },\\n        { put: djConfig.lenyaRoot+\"/javascript/put.min.js?version=\"+djConfig.jsVersion },\\n        { moment: djConfig.lenyaRoot+\"/javascript/moment.min.js?version=\"+djConfig.jsVersion },\\n        { classList: djConfig.lenyaRoot+\"/javascript/classList.min.js\"},\\n        { loStorage: djConfig.lenyaRoot+\"/javascript/vendor/loStorage.min.js\"},\\n        { lokiJS: djConfig.lenyaRoot+\"/javascript/vendor/lokijs.min.js\"},\\n        { T: djConfig.lenyaRoot+\"/javascript/terrific.min.js\"},\\n        djConfig.lenyaRoot+\"/javascript/plugins.js\",\\n        djConfig.lenyaRoot+\"/javascript/epoDoc4NetGlue.js\",\\n        djConfig.lenyaRoot+\"/javascript/owl.carousel.min.js\"\\n      );\\n\\n      head.ready([ \"jQuery\", \"loStorage\", \"T\"], function() {\\n        head.load(\\n          djConfig.modulePaths.epoweb3+\"/plugins/Config/Config.js\",\\n\\n          djConfig.lenyaRoot+\"/javascript/epoFlyoutMenu.js\",\\n          djConfig.lenyaRoot+\"/javascript/epoSearch.js\",\\n\\n          djConfig.lenyaRoot+\"/javascript/vendor/jquery-ui.min.js\",\\n          djConfig.modulePaths.epoweb3+\"/plugins/Localize.js\",\\n          djConfig.lenyaRoot+\"/javascript/js.js\",\\n          \\n          djConfig.lenyaRoot+\"/javascript/vendor/humane.min.js\",\\n          djConfig.lenyaRoot+\"/javascript/vendor/transparency.min.js\",\\n          djConfig.lenyaRoot+\"/javascript/vendor/jquery.plugins.min.js\",\\n          djConfig.lenyaRoot+\"/javascript/vendor/jquery.paging.min.js\",\\n          djConfig.lenyaRoot+\"/javascript/vendor/jquery.highlight.min.js\",\\n          djConfig.lenyaRoot+\"/javascript/vendor/jquery.datetimepicker.min.js\",\\n          djConfig.lenyaRoot+\"/javascript/vendor/unslider.min.js\",\\n          djConfig.lenyaRoot+\"/javascript/vendor/custombox.min.js\",\\n          djConfig.lenyaRoot+\"/javascript/vendor/legacy.min.js\",\\n          djConfig.lenyaRoot+\"/javascript/vendor/velocity.min.js\",\\n          djConfig.lenyaRoot+\"/javascript/vendor/velocity.ui.min.js\",\\n          djConfig.lenyaRoot+\"/javascript/vendor/sisyphus.min.js\",\\n          djConfig.lenyaRoot+\"/javascript/vendor/jquery.mobile-events.min.js\",\\n          djConfig.lenyaRoot+\"/javascript/vendor/jquery.bxslider.min.js\",\\n\\n          // the tabulator code has been moved into jquery.plugins.js\\n          // djConfig.lenyaRoot+\"/javascript/vendor/tabulator.js\",\\n\\n          // START new MediaCenter code //\\n          \\n          djConfig.lenyaRoot+\"/javascript/vendor/jquery.expandable.js\",\\n          djConfig.lenyaRoot+\"/javascript/vendor/jquery.placeholder.min.js\",\\n          djConfig.lenyaRoot+\"/javascript/vendor/jquery.filtertable.min.js\",\\n          djConfig.lenyaRoot+\"/javascript/vendor/jquery.fitvids.js\",\\n          djConfig.lenyaRoot+\"/javascript/vendor/jquery.waitforimages.min.js\",\\n          \\n          // END new MediaCenter code //\\n\\n          djConfig.lenyaRoot+\"/javascript/epoForms.js\",\\n          djConfig.lenyaRoot+\"/javascript/epoGlobal.min.js?version=\"+djConfig.jsVersion,\\n          djConfig.lenyaRoot+\"/javascript/init.min.js?version=\"+djConfig.jsVersion\\n        );\\n      });\\n\\n      head.ready(function() {\\n        \\n        if (typeof (initialize) === \\'function\\') {\\n          initialize();\\n        }\\n      });\\n\\n      \\n      head.ready(\"jQuery\", function() {\\n        head.load(\\n          \"/modules/epogui/javascript/epoweb3/plugins/LightBox/vendor/js/jquery.magnific-popup.min.js\"\\n        );\\n      });\\n    \\n    if (head.browser.ie) {\\n      head.load(lenyaRoot+\\'/css/css_IE\\'+head.browser.version+\\'.css\\');\\n    }\\n  </script><a style=\"display:none\" id=\"usingMobileDevice\" href=\"#usingMobileDevice\">usingMobileDevice</a></body></html>\\n'"
      ]
     },
     "execution_count": 9,
     "metadata": {},
     "output_type": "execute_result"
    }
   ],
   "source": [
    "case_page_text"
   ]
  },
  {
   "cell_type": "markdown",
   "metadata": {},
   "source": [
    "### Use Beautiful Soup to Parse Case Law HTML"
   ]
  },
  {
   "cell_type": "code",
   "execution_count": 14,
   "metadata": {
    "collapsed": true
   },
   "outputs": [],
   "source": [
    "# Import Beautiful Soup for HTML parsing\n",
    "from bs4 import BeautifulSoup"
   ]
  },
  {
   "cell_type": "code",
   "execution_count": 16,
   "metadata": {},
   "outputs": [],
   "source": [
    "soup = BeautifulSoup(case_page_text, \"lxml\")"
   ]
  },
  {
   "cell_type": "markdown",
   "metadata": {},
   "source": [
    "We can use our browser to inspect the HTML. It appears the data we are interested in is within the `<div>` tag having `id=\"pagebody\"`."
   ]
  },
  {
   "cell_type": "code",
   "execution_count": 21,
   "metadata": {
    "collapsed": true
   },
   "outputs": [],
   "source": [
    "pagebody = soup.find(\"div\", {\"id\": \"pagebody\"})"
   ]
  },
  {
   "cell_type": "code",
   "execution_count": 22,
   "metadata": {},
   "outputs": [
    {
     "data": {
      "text/plain": [
       "<div class=\" \" data-pagetype=\"contentPage\" id=\"pagebody\"><h1>T 1474/11 () of 2.1.2012</h1><a name=\"Content\"></a> <!--googleon: all--> <div id=\"body\" lang=\"en\">\n",
       "<table class=\"tableType3\">\n",
       "<tbody>\n",
       "<tr>\n",
       "<th>European Case Law Identifier:</th>\n",
       "<td>ECLI:EP:BA:2012:T147411.20120102</td>\n",
       "</tr>\n",
       "<tr>\n",
       "<th>Date of decision:</th>\n",
       "<td>02 January 2012</td>\n",
       "</tr>\n",
       "<tr>\n",
       "<th>Case number:</th>\n",
       "<td>T 1474/11</td>\n",
       "</tr>\n",
       "<tr>\n",
       "<th>Application number:</th>\n",
       "<td><a class=\"xint\" href=\"https://register.epo.org/espacenet/application?number=EP06075345\" title=\"Open in the European Patent Register: About this file\">06075345.6</a></td>\n",
       "</tr>\n",
       "<tr>\n",
       "<th>IPC class:</th>\n",
       "<td><a class=\"intx\" href=\"http://worldwide.espacenet.com/classification?locale=en_EP#!/CPC=G01J5/34\" title=\"Look up IPC in Espacenet using the CPC browser\">G01J 5/34</a><br/>\n",
       "<a class=\"intx\" href=\"http://worldwide.espacenet.com/classification?locale=en_EP#!/CPC=G01J5/20\" title=\"Look up IPC in Espacenet using the CPC browser\">G01J 5/20</a><br/>\n",
       "<a class=\"intx\" href=\"http://worldwide.espacenet.com/classification?locale=en_EP#!/CPC=G01J5/10\" title=\"Look up IPC in Espacenet using the CPC browser\">G01J 5/10</a><br/>\n",
       "<a class=\"intx\" href=\"http://worldwide.espacenet.com/classification?locale=en_EP#!/CPC=G01J5/02\" title=\"Look up IPC in Espacenet using the CPC browser\">G01J 5/02</a></td>\n",
       "</tr>\n",
       "<tr>\n",
       "<th>Language of proceedings:</th>\n",
       "<td>EN</td>\n",
       "</tr>\n",
       "<tr>\n",
       "<th>Distribution:</th>\n",
       "<td>D</td>\n",
       "</tr>\n",
       "<tr>\n",
       "<th>Download and more information:</th>\n",
       "<td class=\"containsTable\">\n",
       "<table>\n",
       "<tbody>\n",
       "<tr>\n",
       "<td colspan=\"2\"><a class=\"pdf\" href=\"/law-practice/case-law-appeals/pdf/t111474eu1.pdf\" target=\"_blank\" title=\"Open decision as PDF\">Decision text in  EN (PDF,   15.312K)</a></td>\n",
       "</tr>\n",
       "<tr>\n",
       "<td colspan=\"2\">Documentation of the appeal procedure can be found in the <a class=\"int\" href=\"https://register.epo.org/espacenet/application?number=EP06075345&amp;tab=doclist\" title=\"Open in the European Patent Register: All documents\">Register</a></td>\n",
       "</tr>\n",
       "<tr>\n",
       "<th>Bibliographic information is available in:</th>\n",
       "<td><b>EN</b></td>\n",
       "</tr>\n",
       "<tr>\n",
       "<th>Versions:</th>\n",
       "<td><b>Unpublished</b></td>\n",
       "</tr>\n",
       "</tbody>\n",
       "</table>\n",
       "</td>\n",
       "</tr>\n",
       "<tr>\n",
       "<th>Title of application:</th>\n",
       "<td>Apparatus and method for providing thermal conductance in thermally responsive photonic imaging devices</td>\n",
       "</tr>\n",
       "<tr>\n",
       "<th>Applicant name:</th>\n",
       "<td>Delphi Technologies, Inc.</td>\n",
       "</tr>\n",
       "<tr>\n",
       "<th>Opponent name:</th>\n",
       "<td> - </td>\n",
       "</tr>\n",
       "<tr>\n",
       "<th>Board:</th>\n",
       "<td>3.4.02</td>\n",
       "</tr>\n",
       "<tr>\n",
       "<th>Headnote:</th>\n",
       "<td colspan=\"2\"> - </td>\n",
       "</tr>\n",
       "<tr>\n",
       "<th>Relevant legal provisions:</th>\n",
       "<td class=\"containsTable\">\n",
       "<table>\n",
       "<tbody>\n",
       "<tr>\n",
       "<td colspan=\"2\"><a class=\"int\" href=\"http://www.epo.org/law-practice/legal-texts/html/epc/2016/e/ar108.html\" title=\"View this provision\">European Patent Convention Art 108</a><br/>\n",
       "<a class=\"int\" href=\"http://www.epo.org/law-practice/legal-texts/html/epc/2016/e/r101.html\" title=\"View this provision\">European Patent Convention R 101(1)</a></td>\n",
       "</tr>\n",
       "</tbody>\n",
       "</table>\n",
       "</td>\n",
       "</tr>\n",
       "<tr>\n",
       "<th>Keywords:</th>\n",
       "<td>Missing Statement of Grounds</td>\n",
       "</tr>\n",
       "<tr>\n",
       "<th>Catchwords:</th>\n",
       "<td>\n",
       "<p>\n",
       "\t\t\t - \n",
       "\t\t\t</p>\n",
       "</td>\n",
       "</tr>\n",
       "<tr>\n",
       "<th>Cited decisions:</th>\n",
       "<td class=\"containsTable\">\n",
       "<table>\n",
       "<tbody>\n",
       "<tr>\n",
       "<td colspan=\"2\"> - </td>\n",
       "</tr>\n",
       "</tbody>\n",
       "</table>\n",
       "</td>\n",
       "</tr>\n",
       "<tr>\n",
       "<th>Citing decisions:</th>\n",
       "<td class=\"containsTable\">\n",
       "<table>\n",
       "<tbody>\n",
       "<tr>\n",
       "<td colspan=\"2\">-</td>\n",
       "</tr>\n",
       "</tbody>\n",
       "</table>\n",
       "</td>\n",
       "</tr>\n",
       "</tbody>\n",
       "</table>\n",
       "<p><b>Summary of Facts and Submissions</b></p><p>I. The appellant contests the decision of the examining division of the European Patent Office dated 18 January 2011 refusing European patent application No. 06075345.6.</p><p>The appellant filed a notice of appeal on 2 March 2011 and paid the appeal fee on the same day.</p><p>A written statement setting out the grounds of appeal was not filed within the four-month time limit provided for in Article 108 EPC.</p><p>II. In a communication dated 11 July 2011, the Board informed the appellant that no statement setting out the grounds of appeal had been received and that the appeal could be expected to be rejected as inadmissible. The appellant was informed that any observations should be filed within two months.</p><p>III. The appellant filed no observations in response to said communication.</p><p><b>Reasons for the Decision</b></p><p>No written statement setting out the grounds of appeal was filed within the time limit provided for in Article 108 EPC. Nor did the notice of appeal contain anything that might be considered as such statement pursuant to Article 108 and Rule 99(2) EPC. Thus, the appeal is inadmissible pursuant to Rule 101(1) EPC.</p><p><b>ORDER</b></p><p>For these reasons it is decided that:</p><p>The appeal is rejected as inadmissible.</p>\n",
       "</div> <!--googleoff: all--> </div>"
      ]
     },
     "execution_count": 22,
     "metadata": {},
     "output_type": "execute_result"
    }
   ],
   "source": [
    "pagebody"
   ]
  },
  {
   "cell_type": "markdown",
   "metadata": {},
   "source": [
    "#### Parse Case Details from Page Table"
   ]
  },
  {
   "cell_type": "code",
   "execution_count": 29,
   "metadata": {},
   "outputs": [
    {
     "data": {
      "text/plain": [
       "[<tr>\n",
       " <th>European Case Law Identifier:</th>\n",
       " <td>ECLI:EP:BA:2012:T147411.20120102</td>\n",
       " </tr>, <tr>\n",
       " <th>Date of decision:</th>\n",
       " <td>02 January 2012</td>\n",
       " </tr>, <tr>\n",
       " <th>Case number:</th>\n",
       " <td>T 1474/11</td>\n",
       " </tr>, <tr>\n",
       " <th>Application number:</th>\n",
       " <td><a class=\"xint\" href=\"https://register.epo.org/espacenet/application?number=EP06075345\" title=\"Open in the European Patent Register: About this file\">06075345.6</a></td>\n",
       " </tr>, <tr>\n",
       " <th>IPC class:</th>\n",
       " <td><a class=\"intx\" href=\"http://worldwide.espacenet.com/classification?locale=en_EP#!/CPC=G01J5/34\" title=\"Look up IPC in Espacenet using the CPC browser\">G01J 5/34</a><br/>\n",
       " <a class=\"intx\" href=\"http://worldwide.espacenet.com/classification?locale=en_EP#!/CPC=G01J5/20\" title=\"Look up IPC in Espacenet using the CPC browser\">G01J 5/20</a><br/>\n",
       " <a class=\"intx\" href=\"http://worldwide.espacenet.com/classification?locale=en_EP#!/CPC=G01J5/10\" title=\"Look up IPC in Espacenet using the CPC browser\">G01J 5/10</a><br/>\n",
       " <a class=\"intx\" href=\"http://worldwide.espacenet.com/classification?locale=en_EP#!/CPC=G01J5/02\" title=\"Look up IPC in Espacenet using the CPC browser\">G01J 5/02</a></td>\n",
       " </tr>, <tr>\n",
       " <th>Language of proceedings:</th>\n",
       " <td>EN</td>\n",
       " </tr>, <tr>\n",
       " <th>Distribution:</th>\n",
       " <td>D</td>\n",
       " </tr>, <tr>\n",
       " <th>Download and more information:</th>\n",
       " <td class=\"containsTable\">\n",
       " <table>\n",
       " <tbody>\n",
       " <tr>\n",
       " <td colspan=\"2\"><a class=\"pdf\" href=\"/law-practice/case-law-appeals/pdf/t111474eu1.pdf\" target=\"_blank\" title=\"Open decision as PDF\">Decision text in  EN (PDF,   15.312K)</a></td>\n",
       " </tr>\n",
       " <tr>\n",
       " <td colspan=\"2\">Documentation of the appeal procedure can be found in the <a class=\"int\" href=\"https://register.epo.org/espacenet/application?number=EP06075345&amp;tab=doclist\" title=\"Open in the European Patent Register: All documents\">Register</a></td>\n",
       " </tr>\n",
       " <tr>\n",
       " <th>Bibliographic information is available in:</th>\n",
       " <td><b>EN</b></td>\n",
       " </tr>\n",
       " <tr>\n",
       " <th>Versions:</th>\n",
       " <td><b>Unpublished</b></td>\n",
       " </tr>\n",
       " </tbody>\n",
       " </table>\n",
       " </td>\n",
       " </tr>, <tr>\n",
       " <td colspan=\"2\"><a class=\"pdf\" href=\"/law-practice/case-law-appeals/pdf/t111474eu1.pdf\" target=\"_blank\" title=\"Open decision as PDF\">Decision text in  EN (PDF,   15.312K)</a></td>\n",
       " </tr>, <tr>\n",
       " <td colspan=\"2\">Documentation of the appeal procedure can be found in the <a class=\"int\" href=\"https://register.epo.org/espacenet/application?number=EP06075345&amp;tab=doclist\" title=\"Open in the European Patent Register: All documents\">Register</a></td>\n",
       " </tr>, <tr>\n",
       " <th>Bibliographic information is available in:</th>\n",
       " <td><b>EN</b></td>\n",
       " </tr>, <tr>\n",
       " <th>Versions:</th>\n",
       " <td><b>Unpublished</b></td>\n",
       " </tr>, <tr>\n",
       " <th>Title of application:</th>\n",
       " <td>Apparatus and method for providing thermal conductance in thermally responsive photonic imaging devices</td>\n",
       " </tr>, <tr>\n",
       " <th>Applicant name:</th>\n",
       " <td>Delphi Technologies, Inc.</td>\n",
       " </tr>, <tr>\n",
       " <th>Opponent name:</th>\n",
       " <td> - </td>\n",
       " </tr>, <tr>\n",
       " <th>Board:</th>\n",
       " <td>3.4.02</td>\n",
       " </tr>, <tr>\n",
       " <th>Headnote:</th>\n",
       " <td colspan=\"2\"> - </td>\n",
       " </tr>, <tr>\n",
       " <th>Relevant legal provisions:</th>\n",
       " <td class=\"containsTable\">\n",
       " <table>\n",
       " <tbody>\n",
       " <tr>\n",
       " <td colspan=\"2\"><a class=\"int\" href=\"http://www.epo.org/law-practice/legal-texts/html/epc/2016/e/ar108.html\" title=\"View this provision\">European Patent Convention Art 108</a><br/>\n",
       " <a class=\"int\" href=\"http://www.epo.org/law-practice/legal-texts/html/epc/2016/e/r101.html\" title=\"View this provision\">European Patent Convention R 101(1)</a></td>\n",
       " </tr>\n",
       " </tbody>\n",
       " </table>\n",
       " </td>\n",
       " </tr>, <tr>\n",
       " <td colspan=\"2\"><a class=\"int\" href=\"http://www.epo.org/law-practice/legal-texts/html/epc/2016/e/ar108.html\" title=\"View this provision\">European Patent Convention Art 108</a><br/>\n",
       " <a class=\"int\" href=\"http://www.epo.org/law-practice/legal-texts/html/epc/2016/e/r101.html\" title=\"View this provision\">European Patent Convention R 101(1)</a></td>\n",
       " </tr>, <tr>\n",
       " <th>Keywords:</th>\n",
       " <td>Missing Statement of Grounds</td>\n",
       " </tr>, <tr>\n",
       " <th>Catchwords:</th>\n",
       " <td>\n",
       " <p>\n",
       " \t\t\t - \n",
       " \t\t\t</p>\n",
       " </td>\n",
       " </tr>, <tr>\n",
       " <th>Cited decisions:</th>\n",
       " <td class=\"containsTable\">\n",
       " <table>\n",
       " <tbody>\n",
       " <tr>\n",
       " <td colspan=\"2\"> - </td>\n",
       " </tr>\n",
       " </tbody>\n",
       " </table>\n",
       " </td>\n",
       " </tr>, <tr>\n",
       " <td colspan=\"2\"> - </td>\n",
       " </tr>, <tr>\n",
       " <th>Citing decisions:</th>\n",
       " <td class=\"containsTable\">\n",
       " <table>\n",
       " <tbody>\n",
       " <tr>\n",
       " <td colspan=\"2\">-</td>\n",
       " </tr>\n",
       " </tbody>\n",
       " </table>\n",
       " </td>\n",
       " </tr>, <tr>\n",
       " <td colspan=\"2\">-</td>\n",
       " </tr>]"
      ]
     },
     "execution_count": 29,
     "metadata": {},
     "output_type": "execute_result"
    }
   ],
   "source": [
    "# Then we can convert th / tr entries into a dictionary\n",
    "table_entries = pagebody.find_all(\"tr\")\n",
    "table_entries"
   ]
  },
  {
   "cell_type": "code",
   "execution_count": 32,
   "metadata": {},
   "outputs": [
    {
     "name": "stdout",
     "output_type": "stream",
     "text": [
      "Field = European Case Law Identifier:; data = ECLI:EP:BA:2012:T147411.20120102\n"
     ]
    }
   ],
   "source": [
    "te = table_entries[0]\n",
    "print(\"Field = {0}; data = {1}\".format(te.th.text, te.td.text))"
   ]
  },
  {
   "cell_type": "code",
   "execution_count": 35,
   "metadata": {},
   "outputs": [
    {
     "name": "stdout",
     "output_type": "stream",
     "text": [
      "Field = European Case Law Identifier:; data = ECLI:EP:BA:2012:T147411.20120102\n",
      "Field = Date of decision:; data = 02 January 2012\n",
      "Field = Case number:; data = T 1474/11\n",
      "Field = Application number:; data = 06075345.6\n",
      "Field = IPC class:; data = G01J 5/34\n",
      "G01J 5/20\n",
      "G01J 5/10\n",
      "G01J 5/02\n",
      "Field = Language of proceedings:; data = EN\n",
      "Field = Distribution:; data = D\n",
      "Field = Download and more information:; data = Decision text in  EN (PDF,   15.312K)\n",
      "\n",
      "\n",
      "Documentation of the appeal procedure can be found in the Register\n",
      "\n",
      "\n",
      "Bibliographic information is available in:\n",
      "EN\n",
      "\n",
      "\n",
      "Versions:\n",
      "Unpublished\n",
      "Field = Bibliographic information is available in:; data = EN\n",
      "Field = Versions:; data = Unpublished\n",
      "Field = Title of application:; data = Apparatus and method for providing thermal conductance in thermally responsive photonic imaging devices\n",
      "Field = Applicant name:; data = Delphi Technologies, Inc.\n",
      "Field = Opponent name:; data = -\n",
      "Field = Board:; data = 3.4.02\n",
      "Field = Headnote:; data = -\n",
      "Field = Relevant legal provisions:; data = European Patent Convention Art 108\n",
      "European Patent Convention R 101(1)\n",
      "Field = Keywords:; data = Missing Statement of Grounds\n",
      "Field = Catchwords:; data = -\n",
      "Field = Cited decisions:; data = -\n",
      "Field = Citing decisions:; data = -\n"
     ]
    }
   ],
   "source": [
    "for te in table_entries:\n",
    "    if te.th and te.td:\n",
    "        print(\"Field = {0}; data = {1}\".format(te.th.text.strip(), te.td.text.strip()))"
   ]
  },
  {
   "cell_type": "code",
   "execution_count": 36,
   "metadata": {},
   "outputs": [
    {
     "data": {
      "text/plain": [
       "['string', ' with some ', ' random new ', '', 'lines']"
      ]
     },
     "execution_count": 36,
     "metadata": {},
     "output_type": "execute_result"
    }
   ],
   "source": [
    "\"string\\n with some \\n random new \\n\\nlines\".split(\"\\n\")"
   ]
  },
  {
   "cell_type": "code",
   "execution_count": 39,
   "metadata": {
    "collapsed": true
   },
   "outputs": [],
   "source": [
    "from collections import OrderedDict\n",
    "\n",
    "case_data = OrderedDict()\n",
    "for te in table_entries:\n",
    "    if te.th and te.td:\n",
    "        fieldname = te.th.text.strip()\n",
    "        # Get rid of colon\n",
    "        if \":\" in fieldname:\n",
    "            fieldname = fieldname.split(\":\")[0]\n",
    "            \n",
    "        data = te.td.text.strip()\n",
    "        # Split multiline data into list\n",
    "        if \"\\n\" in data:\n",
    "            data = [d.strip() for d in data.split(\"\\n\")]\n",
    "        # Dash indicates no data\n",
    "        if data == \"-\":\n",
    "            data = None\n",
    "        \n",
    "        # Skip the \"Download and more information field\"\n",
    "        if \"and more information\" not in fieldname:\n",
    "            case_data[fieldname] = data\n",
    "        "
   ]
  },
  {
   "cell_type": "code",
   "execution_count": 40,
   "metadata": {},
   "outputs": [
    {
     "data": {
      "text/plain": [
       "OrderedDict([('European Case Law Identifier',\n",
       "              'ECLI:EP:BA:2012:T147411.20120102'),\n",
       "             ('Date of decision', '02 January 2012'),\n",
       "             ('Case number', 'T 1474/11'),\n",
       "             ('Application number', '06075345.6'),\n",
       "             ('IPC class',\n",
       "              ['G01J 5/34', 'G01J 5/20', 'G01J 5/10', 'G01J 5/02']),\n",
       "             ('Language of proceedings', 'EN'),\n",
       "             ('Distribution', 'D'),\n",
       "             ('Bibliographic information is available in', 'EN'),\n",
       "             ('Versions', 'Unpublished'),\n",
       "             ('Title of application',\n",
       "              'Apparatus and method for providing thermal conductance in thermally responsive photonic imaging devices'),\n",
       "             ('Applicant name', 'Delphi Technologies, Inc.'),\n",
       "             ('Opponent name', None),\n",
       "             ('Board', '3.4.02'),\n",
       "             ('Headnote', None),\n",
       "             ('Relevant legal provisions',\n",
       "              ['European Patent Convention Art 108',\n",
       "               'European Patent Convention R 101(1)']),\n",
       "             ('Keywords', 'Missing Statement of Grounds'),\n",
       "             ('Catchwords', None),\n",
       "             ('Cited decisions', None),\n",
       "             ('Citing decisions', None)])"
      ]
     },
     "execution_count": 40,
     "metadata": {},
     "output_type": "execute_result"
    }
   ],
   "source": [
    "case_data"
   ]
  },
  {
   "cell_type": "markdown",
   "metadata": {},
   "source": [
    "#### Parse Decision Details from Paragraph Tags\n",
    "\n",
    "Bold tags mark the headings for our different sections.\n",
    "\n",
    "We need to ignore paragraph tags that do not contain any alphanumeric characters. The paragraph structure is useful so we'll say the text as a list of paragraphs."
   ]
  },
  {
   "cell_type": "code",
   "execution_count": 28,
   "metadata": {},
   "outputs": [
    {
     "data": {
      "text/plain": [
       "[<p>\n",
       " \t\t\t - \n",
       " \t\t\t</p>,\n",
       " <p><b>Summary of Facts and Submissions</b></p>,\n",
       " <p>I. The appellant contests the decision of the examining division of the European Patent Office dated 18 January 2011 refusing European patent application No. 06075345.6.</p>,\n",
       " <p>The appellant filed a notice of appeal on 2 March 2011 and paid the appeal fee on the same day.</p>,\n",
       " <p>A written statement setting out the grounds of appeal was not filed within the four-month time limit provided for in Article 108 EPC.</p>,\n",
       " <p>II. In a communication dated 11 July 2011, the Board informed the appellant that no statement setting out the grounds of appeal had been received and that the appeal could be expected to be rejected as inadmissible. The appellant was informed that any observations should be filed within two months.</p>,\n",
       " <p>III. The appellant filed no observations in response to said communication.</p>,\n",
       " <p><b>Reasons for the Decision</b></p>,\n",
       " <p>No written statement setting out the grounds of appeal was filed within the time limit provided for in Article 108 EPC. Nor did the notice of appeal contain anything that might be considered as such statement pursuant to Article 108 and Rule 99(2) EPC. Thus, the appeal is inadmissible pursuant to Rule 101(1) EPC.</p>,\n",
       " <p><b>ORDER</b></p>,\n",
       " <p>For these reasons it is decided that:</p>,\n",
       " <p>The appeal is rejected as inadmissible.</p>]"
      ]
     },
     "execution_count": 28,
     "metadata": {},
     "output_type": "execute_result"
    }
   ],
   "source": [
    "decision_text = pagebody.find_all(\"p\")\n",
    "decision_text"
   ]
  },
  {
   "cell_type": "code",
   "execution_count": 46,
   "metadata": {},
   "outputs": [
    {
     "data": {
      "text/plain": [
       "1"
      ]
     },
     "execution_count": 46,
     "metadata": {},
     "output_type": "execute_result"
    }
   ],
   "source": [
    "len(decision_text[0].text.strip())"
   ]
  },
  {
   "cell_type": "code",
   "execution_count": 47,
   "metadata": {},
   "outputs": [
    {
     "data": {
      "text/plain": [
       "'Summary of Facts and Submissions'"
      ]
     },
     "execution_count": 47,
     "metadata": {},
     "output_type": "execute_result"
    }
   ],
   "source": [
    "decision_text[1].text.strip()"
   ]
  },
  {
   "cell_type": "code",
   "execution_count": 49,
   "metadata": {
    "collapsed": true
   },
   "outputs": [],
   "source": [
    "decision_text[0].b"
   ]
  },
  {
   "cell_type": "code",
   "execution_count": 48,
   "metadata": {},
   "outputs": [
    {
     "data": {
      "text/plain": [
       "<b>Summary of Facts and Submissions</b>"
      ]
     },
     "execution_count": 48,
     "metadata": {},
     "output_type": "execute_result"
    }
   ],
   "source": [
    "decision_text[1].b"
   ]
  },
  {
   "cell_type": "code",
   "execution_count": 50,
   "metadata": {},
   "outputs": [
    {
     "data": {
      "text/plain": [
       "OrderedDict([('Summary of Facts and Submissions',\n",
       "              ['I. The appellant contests the decision of the examining division of the European Patent Office dated 18 January 2011 refusing European patent application No. 06075345.6.',\n",
       "               'The appellant filed a notice of appeal on 2 March 2011 and paid the appeal fee on the same day.',\n",
       "               'A written statement setting out the grounds of appeal was not filed within the four-month time limit provided for in Article 108 EPC.',\n",
       "               'II. In a communication dated 11 July 2011, the Board informed the appellant that no statement setting out the grounds of appeal had been received and that the appeal could be expected to be rejected as inadmissible. The appellant was informed that any observations should be filed within two months.',\n",
       "               'III. The appellant filed no observations in response to said communication.']),\n",
       "             ('Reasons for the Decision',\n",
       "              ['No written statement setting out the grounds of appeal was filed within the time limit provided for in Article 108 EPC. Nor did the notice of appeal contain anything that might be considered as such statement pursuant to Article 108 and Rule 99(2) EPC. Thus, the appeal is inadmissible pursuant to Rule 101(1) EPC.']),\n",
       "             ('ORDER',\n",
       "              ['For these reasons it is decided that:',\n",
       "               'The appeal is rejected as inadmissible.'])])"
      ]
     },
     "execution_count": 50,
     "metadata": {},
     "output_type": "execute_result"
    }
   ],
   "source": [
    "decision_dict = OrderedDict()\n",
    "current_title = \"No title\"\n",
    "for p in decision_text:\n",
    "    if p:\n",
    "        text = p.text.strip()\n",
    "        # If bold mark as title\n",
    "        if p.b:\n",
    "            current_title = text\n",
    "            decision_dict[current_title] = list()\n",
    "        elif len(text) > 1:\n",
    "            decision_dict[current_title].append(text)\n",
    "\n",
    "decision_dict"
   ]
  },
  {
   "cell_type": "code",
   "execution_count": null,
   "metadata": {
    "collapsed": true
   },
   "outputs": [],
   "source": []
  }
 ],
 "metadata": {
  "kernelspec": {
   "display_name": "Python 3",
   "language": "python",
   "name": "python3"
  },
  "language_info": {
   "codemirror_mode": {
    "name": "ipython",
    "version": 3
   },
   "file_extension": ".py",
   "mimetype": "text/x-python",
   "name": "python",
   "nbconvert_exporter": "python",
   "pygments_lexer": "ipython3",
   "version": "3.5.2"
  }
 },
 "nbformat": 4,
 "nbformat_minor": 2
}
