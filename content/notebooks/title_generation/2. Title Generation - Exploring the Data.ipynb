{
 "cells": [
  {
   "cell_type": "markdown",
   "metadata": {},
   "source": [
    "Title: 2. Title Generation - Exploring the Data\n",
    "Tags: preparing_data\n",
    "Authors: Ben Hoyle\n",
    "Summary: This post explores the data for our title generation experiments."
   ]
  },
  {
   "cell_type": "markdown",
   "metadata": {},
   "source": [
    "# 2. Title Generation - Exploring the Data\n",
    "\n",
    "In the previous post we looked at the problem for our current project: how to generate a patent title based on our claim text.\n",
    "\n",
    "In this post we will look at the steps required to prepare some data for our machine learning algorithms. We will also look at the nature of the data, which may give us some insights as to how we transform our data in later stages."
   ]
  },
  {
   "cell_type": "markdown",
   "metadata": {},
   "source": [
    "---\n",
    "## Select Data\n",
    "\n",
    "I have a Mongo Database with data from a set of G06 US Patent Publications. On my system 10000 data samples take up around 16MB (16724852 bytes). It thus seems possible to start with a dataset of 30000 samples. I have used this to generate a pickle file with the data that may be downloaded. "
   ]
  },
  {
   "cell_type": "code",
   "execution_count": 3,
   "metadata": {},
   "outputs": [
    {
     "name": "stdout",
     "output_type": "stream",
     "text": [
      "Loading data\n",
      "30000 samples loaded\n",
      "An example title: System and method for session restoration at geo-redundant gateways\n",
      "----\n",
      "An example claim: \n",
      "1. A method for managing a backup service gateway (SGW) associated with a primary SGW, the method comprising:\n",
      "periodically receiving from the primary SGW at least a portion of corresponding UE session state information, the received portion of session state information being sufficient to enable the backup SGW to indicate to an inquiring management entity that UEs having an active session supported by the primary SGW are in a live state; and\n",
      "in response to a failure of the primary SGW, the backup SGW assuming management of IP addresses and paths associated with said primary SGW and transmitting a Downlink Data Notification (DDN) toward a Mobility Management Entity (MME) for each of said UEs having an active session supported by the failed primary SGW to detach from the network and reattach to the network, wherein each DDN causes the MME to send a detach request with a reattach request code to the respective UE.\n",
      "\n",
      "\n"
     ]
    }
   ],
   "source": [
    "import pickle\n",
    "import os\n",
    "\n",
    "PIK = \"claim_and_title.data\"\n",
    "\n",
    "if not os.path.isfile(PIK):\n",
    "    # Download file\n",
    "    !wget https://benhoyle.github.io/notebooks/title_generation/claim_and_title.data\n",
    "\n",
    "with open(PIK, \"rb\") as f:\n",
    "    print(\"Loading data\")\n",
    "    data = pickle.load(f)\n",
    "    print(\"{0} samples loaded\".format(len(data)))\n",
    "                                      \n",
    "print(\"An example title:\", data[0][1])\n",
    "print(\"----\")\n",
    "print(\"An example claim:\", data[0][0])"
   ]
  },
  {
   "cell_type": "markdown",
   "metadata": {},
   "source": [
    "---\n",
    "\n",
    "## 2. Exploring the Data\n",
    "\n",
    "The code above generates a list of data samples of the form `(claim1_text, title)`, where `claim1_text` is a string representing the text of claim 1 and `title` is a string representing the title text.\n",
    "\n",
    "First we can double check there are no cancelled claims."
   ]
  },
  {
   "cell_type": "code",
   "execution_count": 4,
   "metadata": {},
   "outputs": [
    {
     "name": "stdout",
     "output_type": "stream",
     "text": [
      "There are now 30000 claims after filtering out cancelled claims\n"
     ]
    }
   ],
   "source": [
    "# Check for and remove 'cancelled' claims\n",
    "data = [d for d in data if '(canceled)' not in d[0]]\n",
    "\n",
    "print(\"There are now {0} claims after filtering out cancelled claims\".format(len(data)))"
   ]
  },
  {
   "cell_type": "code",
   "execution_count": 5,
   "metadata": {},
   "outputs": [
    {
     "name": "stdout",
     "output_type": "stream",
     "text": [
      "Our longest claim is 15887 characters long.\n",
      "Our longest title is 484 characters long.\n"
     ]
    }
   ],
   "source": [
    "length = max([len(d[0]) for d in data])\n",
    "print(\"Our longest claim is {0} characters long.\".format(length))\n",
    "\n",
    "length = max([len(d[1]) for d in data])\n",
    "print(\"Our longest title is {0} characters long.\".format(length))"
   ]
  },
  {
   "cell_type": "markdown",
   "metadata": {},
   "source": [
    "At the moment our data is in the form of a string. This is represented as a sequence of characters. When building our models we can choose to work at either the character or word level. \n",
    "\n",
    "Working at the character level has an advantage of operating in a lower dimensionality space (typically we have 26 lower case characters plus some punctuation - so around 30 different symbols). Also we can take our string as is. However, character level models take much longer to train, and are more likely to produce unrecognisable strings. In the \"character\" case, our model needs to learn what \"words\" are as part of its training!\n",
    "\n",
    "Working at the word level increases our dimensionality by orders of magnitude (typically to a size of a vocabulary, which can be 10s or 100s of thousands of words). However, our model may be quicker to train, and may produce more recognisable output. "
   ]
  },
  {
   "cell_type": "markdown",
   "metadata": {},
   "source": [
    "Words require an additional pre-processing step: tokenisation. This splits our string into word tokens. There are several options for tokenisation, including:\n",
    "\n",
    "* the [Tokenizer](https://keras.io/preprocessing/text/#tokenizer) text utility class in Keras;\n",
    "* [spaCy](https://spacy.io/); or\n",
    "* an [NLTK word tokeniser](http://www.nltk.org/book/ch03.html) plus a custom word-to-integer conversion.\n",
    "\n",
    "I have found that spaCy has a better word tokenisation accuracy and is easier to integrate with other data such as part-of-speech and dependency parse information. It is slower though for large datasets. The NLTK tokeniser is faster, but requires a custom function to map words to integers.\n",
    "\n",
    "The Keras tokenizer is fast but rather naive - it appears to simply split based on spaces."
   ]
  },
  {
   "cell_type": "markdown",
   "metadata": {},
   "source": [
    "### Basic Tokenization\n",
    "\n",
    "One plan is to start with the Keras tokenizer and then look to change the tokenization strategy once we have a baseline model.\n",
    "\n",
    "We will first look at some statistics regarding the text. This can inform parameters such as our vocabulary cut-off value."
   ]
  },
  {
   "cell_type": "code",
   "execution_count": 7,
   "metadata": {},
   "outputs": [],
   "source": [
    "from keras.preprocessing import text\n",
    "t_claim = text.Tokenizer(\n",
    "                num_words=None, \n",
    "                filters='1.:;\\n',\n",
    "                lower=True,\n",
    "                split=\" \",\n",
    "                char_level=False,\n",
    "                oov_token=\"<UNK>\"\n",
    ")\n",
    "X_texts = [d[0] for d in data]\n",
    "t_claim.fit_on_texts(X_texts)\n",
    "X_seqs = t_claim.texts_to_sequences(X_texts)"
   ]
  },
  {
   "cell_type": "code",
   "execution_count": 8,
   "metadata": {},
   "outputs": [],
   "source": [
    "t_title = text.Tokenizer( \n",
    "                num_words=None,\n",
    "                lower=True,\n",
    "                char_level=False,\n",
    "                oov_token=\"<UNK>\"\n",
    ")\n",
    "Y_texts = [d[1] for d in data]\n",
    "t_title.fit_on_texts(Y_texts)\n",
    "Y_seqs = t_title.texts_to_sequences(Y_texts)"
   ]
  },
  {
   "cell_type": "code",
   "execution_count": 9,
   "metadata": {},
   "outputs": [
    {
     "name": "stdout",
     "output_type": "stream",
     "text": [
      "Our input sequences (claims) have a vocabulary of 53390 words\n",
      "Our output sequences (titles) have a vocabulary of 11078 words\n"
     ]
    }
   ],
   "source": [
    "print(\"Our input sequences (claims) have a vocabulary of {0} words\".format(max([v for k, v in t_claim.word_index.items()])))\n",
    "print(\"Our output sequences (titles) have a vocabulary of {0} words\".format(max([v for k, v in t_title.word_index.items()])))"
   ]
  },
  {
   "cell_type": "code",
   "execution_count": 10,
   "metadata": {},
   "outputs": [
    {
     "name": "stdout",
     "output_type": "stream",
     "text": [
      "\n",
      "1. A method for managing a backup service gateway (SGW) associated with a primary SGW, the method comprising:\n",
      "periodically receiving from the primary SGW at least a portion of corresponding UE session state information, the received portion of session state information being sufficient to enable the backup SGW to indicate to an inquiring management entity that UEs having an active session supported by the primary SGW are in a live state; and\n",
      "in response to a failure of the primary SGW, the backup SGW assuming management of IP addresses and paths associated with said primary SGW and transmitting a Downlink Data Notification (DDN) toward a Mobility Management Entity (MME) for each of said UEs having an active session supported by the failed primary SGW to detach from the network and reattach to the network, wherein each DDN causes the MME to send a detach request with a reattach request code to the respective UE.\n",
      "\n",
      " [2, 33, 9, 583, 2, 552, 95, 1214, 34040, 37, 20, 2, 359, 26583, 1, 33, 25, 1959, 56, 19, 1, 359, 16009, 14, 24, 2, 70, 3, 49, 4109, 360, 118, 242, 1, 86, 70, 3, 360, 118, 27, 46, 2321, 4, 755, 1, 552, 16009, 4, 940, 4, 11, 6683, 160, 273, 23, 14826, 58, 11, 497, 360, 1544, 15, 1, 359, 16009, 48, 6, 2, 1852, 118, 5, 6, 68, 4, 2, 970, 3, 1, 359, 26583, 1, 552, 16009, 7142, 160, 3, 685, 732, 5, 1053, 37, 20, 16, 359, 16009, 5, 270, 2, 6913, 10, 481, 34041, 1601, 2, 5537, 160, 273, 19599, 9, 28, 3, 16, 14826, 58, 11, 497, 360, 1544, 15, 1, 2428, 359, 16009, 4, 16010, 19, 1, 60, 5, 26584, 4, 1, 302, 17, 28, 34042, 898, 1, 14827, 4, 733, 2, 16010, 62, 20, 2, 26584, 62, 98, 4, 1, 100, 4109]\n"
     ]
    }
   ],
   "source": [
    "print(X_texts[0], X_seqs[0])"
   ]
  },
  {
   "cell_type": "code",
   "execution_count": 11,
   "metadata": {},
   "outputs": [
    {
     "name": "stdout",
     "output_type": "stream",
     "text": [
      "System and method for session restoration at geo-redundant gateways [4, 1, 3, 2, 381, 1181, 164, 3020, 773, 3307]\n"
     ]
    }
   ],
   "source": [
    "print(Y_texts[0], Y_seqs[0])"
   ]
  },
  {
   "cell_type": "markdown",
   "metadata": {},
   "source": [
    "#### Claim Length"
   ]
  },
  {
   "cell_type": "code",
   "execution_count": 12,
   "metadata": {},
   "outputs": [
    {
     "name": "stdout",
     "output_type": "stream",
     "text": [
      "Our longest sequence is 2310 tokens long.\n"
     ]
    },
    {
     "data": {
      "image/png": "[encoded data removed]",
      "text/plain": [
       "<matplotlib.figure.Figure at 0x7f32ac6a4400>"
      ]
     },
     "metadata": {},
     "output_type": "display_data"
    }
   ],
   "source": [
    "import matplotlib.pyplot as plt\n",
    "import numpy as np\n",
    "\n",
    "%matplotlib inline\n",
    "\n",
    "X_length = [len(x) for x in X_seqs]\n",
    "max_length = max(X_length)\n",
    "print(\"Our longest sequence is {0} tokens long.\".format(max_length))\n",
    "\n",
    "bins = np.linspace(0, max_length, 200)\n",
    "plt.hist(X_length, bins)\n",
    "plt.title('Claim 1 - Sequence Length')\n",
    "plt.ylabel('No. of claims')\n",
    "plt.xlabel('Sequence Length (words)')"
   ]
  },
  {
   "cell_type": "markdown",
   "metadata": {},
   "source": [
    "So even though our maximum claim length is 2310 words, we see this maximum length is a clear outlier. The mass of our claim length distribution resides between 0 and 500 words. Let's zoom in on that."
   ]
  },
  {
   "cell_type": "code",
   "execution_count": 14,
   "metadata": {},
   "outputs": [
    {
     "data": {
      "image/png": "[encoded data removed]",
      "text/plain": [
       "<matplotlib.figure.Figure at 0x7f32dad5a780>"
      ]
     },
     "metadata": {},
     "output_type": "display_data"
    }
   ],
   "source": [
    "# Let's zoom in on 0 to 500\n",
    "bins = np.linspace(0, 500, 100)\n",
    "plt.hist(X_length, bins)\n",
    "plt.title('Claim 1 - Sequence Length')\n",
    "plt.ylabel('No. of claims')\n",
    "plt.xlabel('Sequence Length (words)')\n",
    "plt.show()"
   ]
  },
  {
   "cell_type": "markdown",
   "metadata": {},
   "source": [
    "Interestingly the distribution of claim lengths seems to be log-normal. This matches the distributions described in this [blogpost on computer program line lengths](https://jakevdp.github.io/blog/2017/11/09/exploring-line-lengths-in-python-packages/). Funny how both code and patent claims have a similar distribution for sequence length. \n",
    "\n",
    "This is something to remember when thinking about later generative models and regularisation: a \"good\" generative model should replicate this log-normal distribution."
   ]
  },
  {
   "cell_type": "markdown",
   "metadata": {},
   "source": [
    "#### Title Length"
   ]
  },
  {
   "cell_type": "code",
   "execution_count": 18,
   "metadata": {},
   "outputs": [
    {
     "name": "stdout",
     "output_type": "stream",
     "text": [
      "Our longest sequence is 77 tokens long.\n"
     ]
    },
    {
     "data": {
      "image/png": "[encoded data removed]",
      "text/plain": [
       "<matplotlib.figure.Figure at 0x7f32ad621438>"
      ]
     },
     "metadata": {},
     "output_type": "display_data"
    }
   ],
   "source": [
    "Y_length = [len(y) for y in Y_seqs]\n",
    "max_y_length = max(Y_length)\n",
    "print(\"Our longest sequence is {0} tokens long.\".format(max_y_length))\n",
    "\n",
    "bins = np.linspace(0, max_y_length, 80)\n",
    "plt.hist(Y_length, bins)\n",
    "plt.title('Title - Sequence Length')\n",
    "plt.ylabel('No. of samples')\n",
    "plt.xlabel('Sequence Length (words)')\n",
    "plt.show()"
   ]
  },
  {
   "cell_type": "markdown",
   "metadata": {},
   "source": [
    "Again 77 words seems a clear outlier. Let's zoom in on 0 to 30 where most of the distribution lies."
   ]
  },
  {
   "cell_type": "code",
   "execution_count": 19,
   "metadata": {},
   "outputs": [
    {
     "data": {
      "image/png": "[encoded data removed]",
      "text/plain": [
       "<matplotlib.figure.Figure at 0x7f32d87761d0>"
      ]
     },
     "metadata": {},
     "output_type": "display_data"
    }
   ],
   "source": [
    "bins = np.linspace(0, 30, 31)\n",
    "plt.hist(Y_length, bins)\n",
    "plt.title('Title - Sequence Length')\n",
    "plt.ylabel('No. of samples')\n",
    "plt.xlabel('Sequence Length (words)')\n",
    "plt.show()"
   ]
  },
  {
   "cell_type": "markdown",
   "metadata": {},
   "source": [
    "Here we could probably limit our output length to 15-20 while still capturing most of the data. The modal length is around 7.\n",
    "\n",
    "Again we appear to have a log-normal distribution."
   ]
  },
  {
   "cell_type": "markdown",
   "metadata": {},
   "source": [
    "### Dimensionality Issues\n",
    "\n",
    "This exploration of the data raises some issues for our initial models. We have high dimensionality on two fronts: \n",
    "\n",
    "1. Our vocabularies are respectively ~50k and ~10k. For cross-entropy using one-hot vectors, this would require vectors of ~50k and ~10k in length. This would not only be slow to train but could lead us to run out of memory. Most \"toy\" problems have a maximum vocabulary of around 5000 words.\n",
    "2. Most sequence-to-sequence models operate on fixed-length vectors. These are typically set based on a maximum sequence length. If a sequence is below the maximum sequence length the vector is normally zero-padded, i.e. zeros are added to fill up any missing elements in the sequence. Our maximum sequence lengths are 2310 and 77 - but most of our data is much shorter, e.g. below 500 and 30 elements."
   ]
  },
  {
   "cell_type": "markdown",
   "metadata": {},
   "source": [
    "It seems sensible to perform some filtering to address 2. Let's see how many samples we are left with if we limit our sequences to different lengths."
   ]
  },
  {
   "cell_type": "code",
   "execution_count": 20,
   "metadata": {},
   "outputs": [
    {
     "name": "stdout",
     "output_type": "stream",
     "text": [
      "With limit 100 there are 2424 samples\n",
      "With limit 200 there are 16171 samples\n",
      "With limit 250 there are 21753 samples\n",
      "With limit 300 there are 25307 samples\n",
      "With limit 400 there are 28462 samples\n",
      "With limit 500 there are 29421 samples\n"
     ]
    }
   ],
   "source": [
    "limits = [100, 200, 250, 300, 400, 500]\n",
    "count = dict() \n",
    "for limit in limits:\n",
    "    count[limit] = 0\n",
    "    for x in X_seqs:\n",
    "        if len(x) < limit:\n",
    "            count[limit] += 1\n",
    "    print(\"With limit {0} there are {1} samples\".format(limit, count[limit]))"
   ]
  },
  {
   "cell_type": "code",
   "execution_count": 21,
   "metadata": {},
   "outputs": [
    {
     "name": "stdout",
     "output_type": "stream",
     "text": [
      "With limit 10 there are 18199 samples\n",
      "With limit 15 there are 26598 samples\n",
      "With limit 20 there are 29051 samples\n",
      "With limit 30 there are 29901 samples\n",
      "With limit 40 there are 29984 samples\n",
      "With limit 50 there are 29993 samples\n"
     ]
    }
   ],
   "source": [
    "limits = [10, 15, 20, 30, 40, 50]\n",
    "count = dict() \n",
    "for limit in limits:\n",
    "    count[limit] = 0\n",
    "    for y in Y_seqs:\n",
    "        if len(y) < limit:\n",
    "            count[limit] += 1\n",
    "    print(\"With limit {0} there are {1} samples\".format(limit, count[limit]))"
   ]
  },
  {
   "cell_type": "code",
   "execution_count": 24,
   "metadata": {},
   "outputs": [
    {
     "data": {
      "text/plain": [
       "24575"
      ]
     },
     "execution_count": 24,
     "metadata": {},
     "output_type": "execute_result"
    }
   ],
   "source": [
    "filtered_seqs = [(x, y) for x,y in zip(X_seqs, Y_seqs) if len(x) < 300 and len(y) < 20]\n",
    "len(filtered_seqs)"
   ]
  },
  {
   "cell_type": "code",
   "execution_count": 25,
   "metadata": {},
   "outputs": [
    {
     "data": {
      "text/plain": [
       "([2,\n",
       "  33,\n",
       "  9,\n",
       "  583,\n",
       "  2,\n",
       "  552,\n",
       "  95,\n",
       "  1214,\n",
       "  34040,\n",
       "  37,\n",
       "  20,\n",
       "  2,\n",
       "  359,\n",
       "  26583,\n",
       "  1,\n",
       "  33,\n",
       "  25,\n",
       "  1959,\n",
       "  56,\n",
       "  19,\n",
       "  1,\n",
       "  359,\n",
       "  16009,\n",
       "  14,\n",
       "  24,\n",
       "  2,\n",
       "  70,\n",
       "  3,\n",
       "  49,\n",
       "  4109,\n",
       "  360,\n",
       "  118,\n",
       "  242,\n",
       "  1,\n",
       "  86,\n",
       "  70,\n",
       "  3,\n",
       "  360,\n",
       "  118,\n",
       "  27,\n",
       "  46,\n",
       "  2321,\n",
       "  4,\n",
       "  755,\n",
       "  1,\n",
       "  552,\n",
       "  16009,\n",
       "  4,\n",
       "  940,\n",
       "  4,\n",
       "  11,\n",
       "  6683,\n",
       "  160,\n",
       "  273,\n",
       "  23,\n",
       "  14826,\n",
       "  58,\n",
       "  11,\n",
       "  497,\n",
       "  360,\n",
       "  1544,\n",
       "  15,\n",
       "  1,\n",
       "  359,\n",
       "  16009,\n",
       "  48,\n",
       "  6,\n",
       "  2,\n",
       "  1852,\n",
       "  118,\n",
       "  5,\n",
       "  6,\n",
       "  68,\n",
       "  4,\n",
       "  2,\n",
       "  970,\n",
       "  3,\n",
       "  1,\n",
       "  359,\n",
       "  26583,\n",
       "  1,\n",
       "  552,\n",
       "  16009,\n",
       "  7142,\n",
       "  160,\n",
       "  3,\n",
       "  685,\n",
       "  732,\n",
       "  5,\n",
       "  1053,\n",
       "  37,\n",
       "  20,\n",
       "  16,\n",
       "  359,\n",
       "  16009,\n",
       "  5,\n",
       "  270,\n",
       "  2,\n",
       "  6913,\n",
       "  10,\n",
       "  481,\n",
       "  34041,\n",
       "  1601,\n",
       "  2,\n",
       "  5537,\n",
       "  160,\n",
       "  273,\n",
       "  19599,\n",
       "  9,\n",
       "  28,\n",
       "  3,\n",
       "  16,\n",
       "  14826,\n",
       "  58,\n",
       "  11,\n",
       "  497,\n",
       "  360,\n",
       "  1544,\n",
       "  15,\n",
       "  1,\n",
       "  2428,\n",
       "  359,\n",
       "  16009,\n",
       "  4,\n",
       "  16010,\n",
       "  19,\n",
       "  1,\n",
       "  60,\n",
       "  5,\n",
       "  26584,\n",
       "  4,\n",
       "  1,\n",
       "  302,\n",
       "  17,\n",
       "  28,\n",
       "  34042,\n",
       "  898,\n",
       "  1,\n",
       "  14827,\n",
       "  4,\n",
       "  733,\n",
       "  2,\n",
       "  16010,\n",
       "  62,\n",
       "  20,\n",
       "  2,\n",
       "  26584,\n",
       "  62,\n",
       "  98,\n",
       "  4,\n",
       "  1,\n",
       "  100,\n",
       "  4109],\n",
       " [4, 1, 3, 2, 381, 1181, 164, 3020, 773, 3307])"
      ]
     },
     "execution_count": 25,
     "metadata": {},
     "output_type": "execute_result"
    }
   ],
   "source": [
    "filtered_seqs[0]"
   ]
  },
  {
   "cell_type": "markdown",
   "metadata": {},
   "source": [
    "We lose ~5000 examples if we limit our sequence lengths to 300 and 20 respectively. This seems a good trade-off."
   ]
  },
  {
   "cell_type": "markdown",
   "metadata": {},
   "source": [
    "On the vocabulary side we also have a number of options.\n",
    "\n",
    "* As a first approach we can simply limit our vocabulary, e.g. by only using the top V words and setting everything else to UNK.\n",
    "* We can use a large vocabulary but with a hierarchical or differentiated softmax. This article [here](http://ruder.io/word-embeddings-softmax/) by Sebastian Ruder explains some of the options. Differentiated softmax is recommended [here](http://www.aclweb.org/anthology/P16-1186). However, there is no native keras implementation for this - meaning we need to get into custom models in Tensorflow. This may be outside the scope of the current project.\n",
    "* We could switch to using character-level input on either the output or for both sequences.\n",
    "* We could look at hybrid approaches that use word portions. Again, this may be out of the scope of this project.\n",
    "\n",
    "To start let's limit our vocabulary to 5000 words on the input and 2500 words on the output. Later we can try to look at the effect of doubling this."
   ]
  },
  {
   "cell_type": "markdown",
   "metadata": {},
   "source": [
    "## Label Data\n",
    "\n",
    "To enable us to work with sequence-to-sequence models, it can help to add START and STOP tokens to our output title sequences. These need to be unique tokens that are not used in our vocabulary and that are not filtered out by the text tokenizer. These could be \"startseq\" and \"endseq\"."
   ]
  },
  {
   "cell_type": "markdown",
   "metadata": {},
   "source": [
    "## Format Data"
   ]
  },
  {
   "cell_type": "markdown",
   "metadata": {},
   "source": [
    "Initially we will implement a word level sequence-to-sequence model as set out in this [blog post](https://blog.keras.io/a-ten-minute-introduction-to-sequence-to-sequence-learning-in-keras.html) (see the bonus FAQ at the bottom for a word-level example). \n",
    "\n",
    "This requires the following data structures:\n",
    "\n",
    "* encoder_input_data is a 2D array of shape (num_samples, max_claim_length) \n",
    "* decoder_input_data is a 2D array of shape (num_samples, max_title_length) \n",
    "* decoder_target_data is a 3D array of shape (num_samples, max_title_length, title_vocab_length) containing one-hot encodings of the word index integers that is shifted by one timestep (i.e. by one word into the future to provide the next word)\n",
    "\n",
    "We also need to set the following parameters:\n",
    "\n",
    "* max_claim_length (based on our analysis above we can filter to limit to 300 words)\n",
    "* max_title_length (based on our analysis above we can filter to limit to 20 words)\n",
    "* num_encoder_tokens = claim_vocab_length (based on our analysis above we can start at 5000 but later explore expanding)\n",
    "* num_decoder_tokens = title_vocab_length (based on our analysis above we can start at 2500 but later explore expanding)\n",
    "* batch_size (the example sets this to 64 - it could be 16, 32 or 64 to start)\n",
    "* epochs (the example sets this to 100 - we may initially reduce this to look at performance)"
   ]
  },
  {
   "cell_type": "markdown",
   "metadata": {},
   "source": [
    "In the next post we will use this information to start building our model."
   ]
  },
  {
   "cell_type": "code",
   "execution_count": null,
   "metadata": {},
   "outputs": [],
   "source": []
  }
 ],
 "metadata": {
  "kernelspec": {
   "display_name": "Python 3",
   "language": "python",
   "name": "python3"
  },
  "language_info": {
   "codemirror_mode": {
    "name": "ipython",
    "version": 3
   },
   "file_extension": ".py",
   "mimetype": "text/x-python",
   "name": "python",
   "nbconvert_exporter": "python",
   "pygments_lexer": "ipython3",
   "version": "3.6.5"
  }
 },
 "nbformat": 4,
 "nbformat_minor": 2
}
