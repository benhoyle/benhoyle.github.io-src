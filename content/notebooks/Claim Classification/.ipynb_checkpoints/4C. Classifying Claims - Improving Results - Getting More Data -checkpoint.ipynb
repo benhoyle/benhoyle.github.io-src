{
 "cells": [
  {
   "cell_type": "markdown",
   "metadata": {},
   "source": [
    "# 4. Classifying Claims - Improving Results - Getting More Data"
   ]
  },
  {
   "cell_type": "markdown",
   "metadata": {},
   "source": [
    "## Getting More Data\n",
    "\n",
    "Let's see what happens when we try 20,000 claims. \n",
    "\n",
    "At the moment the interface for getting the data is a little slow..."
   ]
  },
  {
   "cell_type": "code",
   "execution_count": 2,
   "metadata": {},
   "outputs": [
    {
     "name": "stdout",
     "output_type": "stream",
     "text": [
      "Loading data\n",
      "19001 claims and classifications loaded\n"
     ]
    }
   ],
   "source": [
    "# Now try 20,000 patent publications at random\n",
    "\n",
    "import os, pickle\n",
    "\n",
    "from collections import Counter\n",
    "\n",
    "# Get the claim 1 and classificationt text\n",
    "\n",
    "PIK = \"claim_and_class20k.data\"\n",
    "\n",
    "if os.path.isfile(PIK):\n",
    "    with open(PIK, \"rb\") as f:\n",
    "        print(\"Loading data\")\n",
    "        data = pickle.load(f)\n",
    "        print(\"{0} claims and classifications loaded\".format(len(data)))\n",
    "else:\n",
    "    from patentdata.corpus import USPublications\n",
    "    from patentdata.models.patentcorpus import LazyPatentCorpus\n",
    "    \n",
    "    path = '/patentdata/media/SAMSUNG1/Patent_Downloads'\n",
    "    ds = USPublications(path)\n",
    "    \n",
    "    lzy = LazyPatentCorpus(ds, sample_size=20000)\n",
    "    \n",
    "    data = list()\n",
    "    for i, pd in enumerate(lzy):\n",
    "        try:\n",
    "            classifications = [c.as_string() for c in pd.classifications]\n",
    "        except:\n",
    "            classifications = \"\"\n",
    "        try:\n",
    "            claim1_text = pd.claimset.get_claim(1).text\n",
    "        except:\n",
    "            claim1_text = \"\"\n",
    "        current_data = (claim1_text, classifications)\n",
    "        data.append(current_data)\n",
    "        if (i % 500) == 0:\n",
    "            print(\"Saving a checkpoint at {0} files\".format(i))\n",
    "            print(\"Current data = \", pd.title)\n",
    "            with open(PIK, \"wb\") as f:\n",
    "                pickle.dump(data, f)\n",
    "            \n",
    "    with open(PIK, \"wb\") as f:\n",
    "        pickle.dump(data, f)\n",
    "        \n",
    "    print(\"{0} claims saved\".format(len(data)))"
   ]
  },
  {
   "cell_type": "markdown",
   "metadata": {},
   "source": [
    "We got a memory error after 19000 but that is still more data than we had before. Let's use that. You can find the \"claim_and_class20k.data\" file in the GitHub directory if you want to load the data yourself."
   ]
  },
  {
   "cell_type": "code",
   "execution_count": 4,
   "metadata": {},
   "outputs": [
    {
     "name": "stdout",
     "output_type": "stream",
     "text": [
      "Loading data\n"
     ]
    }
   ],
   "source": [
    "PIK = \"raw_data20k.pkl\"\n",
    "\n",
    "if os.path.isfile(PIK):\n",
    "    with open(PIK, \"rb\") as f:\n",
    "        print(\"Loading data\")\n",
    "        data = pickle.load(f)\n",
    "else:\n",
    "    # Check for and remove 'cancelled' claims\n",
    "    data = [d for d in data if '(canceled)' not in d[0]]\n",
    "    cleaner_data = list()\n",
    "    for d in data:\n",
    "        if len(d[1]) >= 1:\n",
    "            if len(d[1][0]) > 3:\n",
    "                classification = d[1][0][2]\n",
    "                cleaner_data.append(\n",
    "                    (d[0], classification)\n",
    "                )\n",
    "    data = cleaner_data\n",
    "\n",
    "    from patentdata.models.lib.utils import clean_characters\n",
    "\n",
    "    data = [(clean_characters(d[0]), d[1]) for d in data]\n",
    "\n",
    "    with open(\"raw_data20k.pkl\", \"wb\") as f:\n",
    "        pickle.dump(data, f)"
   ]
  },
  {
   "cell_type": "code",
   "execution_count": 5,
   "metadata": {},
   "outputs": [
    {
     "name": "stdout",
     "output_type": "stream",
     "text": [
      "We have 17712 data samples left after cleaning.\n"
     ]
    }
   ],
   "source": [
    "print(\"We have {0} data samples left after cleaning.\".format(len(data)))"
   ]
  },
  {
   "cell_type": "code",
   "execution_count": 6,
   "metadata": {},
   "outputs": [
    {
     "name": "stderr",
     "output_type": "stream",
     "text": [
      "/usr/local/lib/python3.5/dist-packages/h5py/__init__.py:36: FutureWarning: Conversion of the second argument of issubdtype from `float` to `np.floating` is deprecated. In future, it will be treated as `np.float64 == np.dtype(float).type`.\n",
      "  from ._conv import register_converters as _register_converters\n",
      "Using TensorFlow backend.\n"
     ]
    },
    {
     "name": "stdout",
     "output_type": "stream",
     "text": [
      "Our classes are now a matrix of (17712, 8)\n",
      "Original label: G; Converted label: [0. 0. 0. 0. 0. 0. 1. 0.]\n",
      "Our data has the following dimensionality:  (17712, 5000)\n",
      "An example array is:  [0.         2.19509726 1.66470012 0.         1.21538639 1.66504906\n",
      " 0.         0.88406116 0.         0.         1.66670622 0.69334485\n",
      " 0.         0.75089151 0.         0.         1.47841041 1.27422143\n",
      " 1.15174037 0.         0.         0.         0.         0.\n",
      " 2.9039738  0.         0.         0.         0.         0.\n",
      " 0.         0.         0.         0.         0.         0.\n",
      " 0.         1.93181596 0.         0.         0.         0.\n",
      " 0.         0.         0.         0.         0.         2.27206512\n",
      " 0.         1.95791029 0.         0.         2.3501247  0.\n",
      " 0.         0.         0.         0.         0.         0.\n",
      " 0.         0.         0.         0.         0.         0.\n",
      " 0.         0.         5.8289026  0.         0.         0.\n",
      " 0.         0.         0.         0.         0.         0.\n",
      " 0.         0.         0.         0.         0.         0.\n",
      " 4.79273481 0.         0.         0.         0.         0.\n",
      " 0.         0.         0.         3.04409238 0.         0.\n",
      " 0.         0.         2.44064762 0.        ]\n"
     ]
    }
   ],
   "source": [
    "from keras.utils import to_categorical\n",
    "from sklearn.preprocessing import LabelEncoder\n",
    "\n",
    "Y_class = [d[1] for d in data]\n",
    "\n",
    "# encode class values as integers\n",
    "label_e = LabelEncoder()\n",
    "label_e.fit(Y_class)\n",
    "encoded_Y = label_e.transform(Y_class)\n",
    "# convert integers to dummy variables (i.e. one hot encoded)\n",
    "Y = to_categorical(encoded_Y)\n",
    "print(\"Our classes are now a matrix of {0}\".format(Y.shape))\n",
    "print(\"Original label: {0}; Converted label: {1}\".format(Y_class[0], Y[0]))\n",
    "\n",
    "from keras.preprocessing.text import Tokenizer\n",
    "\n",
    "docs = [d[0] for d in data]\n",
    "\n",
    "# create the tokenizer\n",
    "t = Tokenizer(num_words=5000)\n",
    "# fit the tokenizer on the documents\n",
    "t.fit_on_texts(docs)\n",
    "\n",
    "X = t.texts_to_matrix(docs, mode='tfidf')\n",
    "\n",
    "print(\"Our data has the following dimensionality: \", X.shape)\n",
    "print(\"An example array is: \", X[0][0:100])"
   ]
  },
  {
   "cell_type": "code",
   "execution_count": 5,
   "metadata": {
    "collapsed": true
   },
   "outputs": [],
   "source": [
    "with open(\"encoded_data20k.pkl\", \"wb\") as f:\n",
    "    pickle.dump((X, Y), f)"
   ]
  },
  {
   "cell_type": "code",
   "execution_count": 7,
   "metadata": {},
   "outputs": [
    {
     "name": "stdout",
     "output_type": "stream",
     "text": [
      "Classifier MultinomialNB has an average classification accuracy of 58.22 (0.34)\n",
      "Classifier MLPClassifier has an average classification accuracy of 62.38 (0.88)\n"
     ]
    }
   ],
   "source": [
    "import numpy\n",
    "from sklearn.model_selection import cross_val_score\n",
    "from sklearn.naive_bayes import MultinomialNB\n",
    "from sklearn.neural_network import MLPClassifier\n",
    "\n",
    "classifiers = [\n",
    "    MultinomialNB(),\n",
    "    MLPClassifier()\n",
    "]\n",
    "\n",
    "results = list()\n",
    "# Convert one hot to target integer\n",
    "Y_integers = numpy.argmax(Y, axis=1)\n",
    "\n",
    "for clf in classifiers:\n",
    "    name = clf.__class__.__name__\n",
    "    scores = cross_val_score(clf, X, Y_integers, cv=5)\n",
    "    results.append((\n",
    "        name, \n",
    "        scores.mean()*100, \n",
    "        scores.std()*100\n",
    "    ))\n",
    "        \n",
    "    print(\n",
    "        \"Classifier {0} has an average classification accuracy of {1:.2f} ({2:.2f})\".format(\n",
    "            name, \n",
    "            scores.mean()*100, \n",
    "            scores.std()*100\n",
    "        )    \n",
    "    )"
   ]
  },
  {
   "cell_type": "markdown",
   "metadata": {},
   "source": [
    "Results:\n",
    "\n",
    "* Classifier MultinomialNB has an average classification accuracy of 58.22 (0.34)\n",
    "* Classifier MLPClassifier has an average classification accuracy of 62.38 (0.88)\n",
    "\n",
    "So possibly a very small improvement but well within the realms of statistical variance. Let us see if more data helps with our keras model."
   ]
  },
  {
   "cell_type": "code",
   "execution_count": 8,
   "metadata": {},
   "outputs": [],
   "source": [
    "from keras.models import Sequential\n",
    "from keras.layers import Dense, Activation, Dropout\n",
    "import matplotlib.pyplot as plt"
   ]
  },
  {
   "cell_type": "code",
   "execution_count": 12,
   "metadata": {},
   "outputs": [
    {
     "name": "stdout",
     "output_type": "stream",
     "text": [
      "Our input dimension for our claim representation is 5000\n",
      "Our output dimension is 8\n"
     ]
    }
   ],
   "source": [
    "input_dim = X.shape[1]\n",
    "print(\"Our input dimension for our claim representation is {0}\".format(input_dim))\n",
    "\n",
    "no_classes = Y.shape[1]\n",
    "print(\"Our output dimension is {0}\".format(no_classes))"
   ]
  },
  {
   "cell_type": "code",
   "execution_count": 9,
   "metadata": {},
   "outputs": [
    {
     "name": "stdout",
     "output_type": "stream",
     "text": [
      "Our input dimension for our claim representation is 5000\n",
      "Our output dimension is 8\n",
      "_________________________________________________________________\n",
      "Layer (type)                 Output Shape              Param #   \n",
      "=================================================================\n",
      "dense_1 (Dense)              (None, 500)               2500500   \n",
      "_________________________________________________________________\n",
      "dense_2 (Dense)              (None, 8)                 4008      \n",
      "=================================================================\n",
      "Total params: 2,504,508\n",
      "Trainable params: 2,504,508\n",
      "Non-trainable params: 0\n",
      "_________________________________________________________________\n",
      "Train on 14169 samples, validate on 3543 samples\n",
      "Epoch 1/10\n",
      "14169/14169 [==============================] - 530s - loss: 1.1325 - acc: 0.6120 - val_loss: 1.0894 - val_acc: 0.6077\n",
      "Epoch 2/10\n",
      "14169/14169 [==============================] - 475s - loss: 0.3948 - acc: 0.8646 - val_loss: 1.4186 - val_acc: 0.6105\n",
      "Epoch 3/10\n",
      "14169/14169 [==============================] - 566s - loss: 0.1108 - acc: 0.9724 - val_loss: 1.9858 - val_acc: 0.6113\n",
      "Epoch 4/10\n",
      "14169/14169 [==============================] - 454s - loss: 0.0334 - acc: 0.9939 - val_loss: 2.3294 - val_acc: 0.6065\n",
      "Epoch 5/10\n",
      "14169/14169 [==============================] - 476s - loss: 0.0283 - acc: 0.9960 - val_loss: 2.5955 - val_acc: 0.6139\n",
      "Epoch 6/10\n",
      "14169/14169 [==============================] - 513s - loss: 0.0250 - acc: 0.9960 - val_loss: 2.8697 - val_acc: 0.6063\n",
      "Epoch 7/10\n",
      "14169/14169 [==============================] - 457s - loss: 0.0223 - acc: 0.9968 - val_loss: 3.2368 - val_acc: 0.5981\n",
      "Epoch 8/10\n",
      "14169/14169 [==============================] - 449s - loss: 0.0178 - acc: 0.9977 - val_loss: 3.3843 - val_acc: 0.5995\n",
      "Epoch 9/10\n",
      "14169/14169 [==============================] - 430s - loss: 0.0177 - acc: 0.9976 - val_loss: 3.4755 - val_acc: 0.6094\n",
      "Epoch 10/10\n",
      "14169/14169 [==============================] - 427s - loss: 0.0141 - acc: 0.9984 - val_loss: 3.5041 - val_acc: 0.6125\n",
      "dict_keys(['val_loss', 'val_acc', 'loss', 'acc'])\n"
     ]
    },
    {
     "data": {
      "image/png": "[encoded data removed]",
      "text/plain": [
       "<matplotlib.figure.Figure at 0x7ff76fd33eb8>"
      ]
     },
     "metadata": {},
     "output_type": "display_data"
    },
    {
     "data": {
      "image/png": "[encoded data removed]",
      "text/plain": [
       "<matplotlib.figure.Figure at 0x7ff76f9ef320>"
      ]
     },
     "metadata": {},
     "output_type": "display_data"
    }
   ],
   "source": [
    "def keras_model():\n",
    "    # create model\n",
    "    model = Sequential()\n",
    "    model.add(Dense(500, input_dim=input_dim, activation='relu'))\n",
    "    model.add(Dense(no_classes, activation='softmax'))\n",
    "    # Compile model\n",
    "    model.compile(loss='categorical_crossentropy', optimizer='adam', metrics=['accuracy'])\n",
    "    return model\n",
    "\n",
    "\n",
    "model = keras_model()\n",
    "model.summary()\n",
    "history = model.fit(X, Y, validation_split=0.2, epochs=10, batch_size=5, verbose=1)\n",
    "\n",
    "# list all data in history\n",
    "print(history.history.keys())\n",
    "# summarize history for accuracy\n",
    "plt.plot(history.history['acc'])\n",
    "plt.plot(history.history['val_acc'])\n",
    "plt.title('model accuracy')\n",
    "plt.ylabel('accuracy')\n",
    "plt.xlabel('epoch')\n",
    "plt.legend(['train', 'test'], loc='upper left')\n",
    "plt.show()\n",
    "# summarize history for loss\n",
    "plt.plot(history.history['loss'])\n",
    "plt.plot(history.history['val_loss'])\n",
    "plt.title('model loss')\n",
    "plt.ylabel('loss')\n",
    "plt.xlabel('epoch')\n",
    "plt.legend(['train', 'test'], loc='upper left')\n",
    "plt.show()"
   ]
  },
  {
   "cell_type": "markdown",
   "metadata": {},
   "source": [
    "Our accuracy appears to have improved by 1-2%. This is still a small increase though, and possibly within the variance of our classifier. Let's try with regularisation, which had the best effect to prevent overfitting."
   ]
  },
  {
   "cell_type": "code",
   "execution_count": 7,
   "metadata": {},
   "outputs": [],
   "source": [
    "from keras.regularizers import l2 # L2-regularisation\n",
    "l2_lambda = 0.1"
   ]
  },
  {
   "cell_type": "code",
   "execution_count": null,
   "metadata": {},
   "outputs": [
    {
     "name": "stdout",
     "output_type": "stream",
     "text": [
      "_________________________________________________________________\n",
      "Layer (type)                 Output Shape              Param #   \n",
      "=================================================================\n",
      "dense_3 (Dense)              (None, 500)               2500500   \n",
      "_________________________________________________________________\n",
      "dense_4 (Dense)              (None, 8)                 4008      \n",
      "=================================================================\n",
      "Total params: 2,504,508\n",
      "Trainable params: 2,504,508\n",
      "Non-trainable params: 0\n",
      "_________________________________________________________________\n",
      "Train on 14169 samples, validate on 3543 samples\n",
      "Epoch 1/10\n",
      "14169/14169 [==============================] - 1109s - loss: 3.5127 - acc: 0.5249 - val_loss: 2.8284 - val_acc: 0.5174\n",
      "Epoch 2/10\n",
      "14169/14169 [==============================] - 911s - loss: 2.5778 - acc: 0.5597 - val_loss: 2.4618 - val_acc: 0.5577\n",
      "Epoch 3/10\n",
      "14169/14169 [==============================] - 905s - loss: 2.2790 - acc: 0.5762 - val_loss: 2.1673 - val_acc: 0.5555\n",
      "Epoch 4/10\n",
      "14169/14169 [==============================] - 930s - loss: 2.1328 - acc: 0.5876 - val_loss: 2.1349 - val_acc: 0.5642\n",
      "Epoch 5/10\n",
      "14169/14169 [==============================] - 943s - loss: 2.0365 - acc: 0.5944 - val_loss: 2.0831 - val_acc: 0.5795\n",
      "Epoch 6/10\n",
      "14169/14169 [==============================] - 943s - loss: 1.9580 - acc: 0.5982 - val_loss: 2.0456 - val_acc: 0.5687\n",
      "Epoch 7/10\n",
      " 1285/14169 [=>............................] - ETA: 866s - loss: 1.8422 - acc: 0.6661"
     ]
    }
   ],
   "source": [
    "def keras_reg_model():\n",
    "    # create model\n",
    "    model = Sequential()\n",
    "    model.add(Dense(500, input_dim=input_dim, activation='relu', kernel_regularizer=l2(l2_lambda)))\n",
    "    model.add(Dense(no_classes, activation='softmax'))\n",
    "    # Compile model\n",
    "    model.compile(loss='categorical_crossentropy', optimizer='adam', metrics=['accuracy'])\n",
    "    return model\n",
    "\n",
    "model = keras_reg_model()\n",
    "model.summary()\n",
    "history = model.fit(X, Y, validation_split=0.2, epochs=10, batch_size=5, verbose=1)\n",
    "\n",
    "# list all data in history\n",
    "print(history.history.keys())\n",
    "# summarize history for accuracy\n",
    "plt.plot(history.history['acc'])\n",
    "plt.plot(history.history['val_acc'])\n",
    "plt.title('model accuracy')\n",
    "plt.ylabel('accuracy')\n",
    "plt.xlabel('epoch')\n",
    "plt.legend(['train', 'test'], loc='upper left')\n",
    "plt.show()\n",
    "# summarize history for loss\n",
    "plt.plot(history.history['loss'])\n",
    "plt.plot(history.history['val_loss'])\n",
    "plt.title('model loss')\n",
    "plt.ylabel('loss')\n",
    "plt.xlabel('epoch')\n",
    "plt.legend(['train', 'test'], loc='upper left')\n",
    "plt.show()"
   ]
  },
  {
   "cell_type": "markdown",
   "metadata": {},
   "source": [
    "Gvien our results so far - let's try a multilayer model with regularisation and aggressive dropout."
   ]
  },
  {
   "cell_type": "code",
   "execution_count": 14,
   "metadata": {},
   "outputs": [
    {
     "name": "stdout",
     "output_type": "stream",
     "text": [
      "_________________________________________________________________\n",
      "Layer (type)                 Output Shape              Param #   \n",
      "=================================================================\n",
      "dropout_3 (Dropout)          (None, 5000)              0         \n",
      "_________________________________________________________________\n",
      "dense_2 (Dense)              (None, 1000)              5001000   \n",
      "_________________________________________________________________\n",
      "dropout_4 (Dropout)          (None, 1000)              0         \n",
      "_________________________________________________________________\n",
      "dense_3 (Dense)              (None, 500)               500500    \n",
      "_________________________________________________________________\n",
      "dropout_5 (Dropout)          (None, 500)               0         \n",
      "_________________________________________________________________\n",
      "dense_4 (Dense)              (None, 250)               125250    \n",
      "_________________________________________________________________\n",
      "dropout_6 (Dropout)          (None, 250)               0         \n",
      "_________________________________________________________________\n",
      "dense_5 (Dense)              (None, 8)                 2008      \n",
      "=================================================================\n",
      "Total params: 5,628,758\n",
      "Trainable params: 5,628,758\n",
      "Non-trainable params: 0\n",
      "_________________________________________________________________\n",
      "Train on 14169 samples, validate on 3543 samples\n",
      "Epoch 1/10\n",
      "14169/14169 [==============================] - 235s 17ms/step - loss: 4.1414 - acc: 0.3485 - val_loss: 2.2931 - val_acc: 0.3796\n",
      "Epoch 2/10\n",
      "14169/14169 [==============================] - 235s 17ms/step - loss: 2.3008 - acc: 0.3622 - val_loss: 2.2649 - val_acc: 0.3717\n",
      "Epoch 3/10\n",
      "14169/14169 [==============================] - 233s 16ms/step - loss: 2.2481 - acc: 0.3641 - val_loss: 2.1900 - val_acc: 0.3853\n",
      "Epoch 4/10\n",
      "14169/14169 [==============================] - 234s 17ms/step - loss: 2.2471 - acc: 0.3657 - val_loss: 2.1706 - val_acc: 0.3872\n",
      "Epoch 5/10\n",
      "14169/14169 [==============================] - 233s 16ms/step - loss: 2.2167 - acc: 0.3652 - val_loss: 2.1241 - val_acc: 0.3915\n",
      "Epoch 6/10\n",
      "14169/14169 [==============================] - 228s 16ms/step - loss: 2.1903 - acc: 0.3681 - val_loss: 2.1248 - val_acc: 0.3884\n",
      "Epoch 7/10\n",
      "14169/14169 [==============================] - 228s 16ms/step - loss: 2.1529 - acc: 0.3649 - val_loss: 2.0640 - val_acc: 0.3810\n",
      "Epoch 8/10\n",
      "14169/14169 [==============================] - 233s 16ms/step - loss: 2.1292 - acc: 0.3690 - val_loss: 2.0177 - val_acc: 0.3816\n",
      "Epoch 9/10\n",
      "14169/14169 [==============================] - 234s 17ms/step - loss: 2.1398 - acc: 0.3700 - val_loss: 2.0846 - val_acc: 0.3929\n",
      "Epoch 10/10\n",
      "14169/14169 [==============================] - 237s 17ms/step - loss: 2.1281 - acc: 0.3656 - val_loss: 2.0500 - val_acc: 0.3864\n",
      "dict_keys(['val_loss', 'val_acc', 'acc', 'loss'])\n"
     ]
    },
    {
     "data": {
      "image/png": "[encoded data removed]",
      "text/plain": [
       "<matplotlib.figure.Figure at 0x7f5a3c0fb5f8>"
      ]
     },
     "metadata": {},
     "output_type": "display_data"
    },
    {
     "data": {
      "image/png": "[encoded data removed]",
      "text/plain": [
       "<matplotlib.figure.Figure at 0x7f5a3bf1a710>"
      ]
     },
     "metadata": {},
     "output_type": "display_data"
    }
   ],
   "source": [
    "def keras_best_model():\n",
    "    # create model\n",
    "    model = Sequential()\n",
    "    model.add(Dropout(0.5, input_shape=(input_dim,)))\n",
    "    model.add(Dense(1000, activation='relu', kernel_regularizer=l2(l2_lambda)))\n",
    "    model.add(Dropout(0.5))\n",
    "    model.add(Dense(500, activation='relu', kernel_regularizer=l2(l2_lambda)))\n",
    "    model.add(Dropout(0.25))\n",
    "    model.add(Dense(250, activation='relu', kernel_regularizer=l2(l2_lambda)))\n",
    "    model.add(Dropout(0.25))\n",
    "    model.add(Dense(no_classes, activation='softmax'))\n",
    "    # Compile model\n",
    "    model.compile(loss='categorical_crossentropy', optimizer='adam', metrics=['accuracy'])\n",
    "    return model\n",
    "\n",
    "model = keras_best_model()\n",
    "model.summary()\n",
    "history = model.fit(X, Y, validation_split=0.2, epochs=10, batch_size=5, verbose=1)\n",
    "\n",
    "# list all data in history\n",
    "print(history.history.keys())\n",
    "# summarize history for accuracy\n",
    "plt.plot(history.history['acc'])\n",
    "plt.plot(history.history['val_acc'])\n",
    "plt.title('model accuracy')\n",
    "plt.ylabel('accuracy')\n",
    "plt.xlabel('epoch')\n",
    "plt.legend(['train', 'test'], loc='upper left')\n",
    "plt.show()\n",
    "# summarize history for loss\n",
    "plt.plot(history.history['loss'])\n",
    "plt.plot(history.history['val_loss'])\n",
    "plt.title('model loss')\n",
    "plt.ylabel('loss')\n",
    "plt.xlabel('epoch')\n",
    "plt.legend(['train', 'test'], loc='upper left')\n",
    "plt.show()"
   ]
  },
  {
   "cell_type": "markdown",
   "metadata": {},
   "source": [
    "Maybe that's too aggressive on the regularisation..."
   ]
  },
  {
   "cell_type": "code",
   "execution_count": null,
   "metadata": {},
   "outputs": [
    {
     "name": "stdout",
     "output_type": "stream",
     "text": [
      "_________________________________________________________________\n",
      "Layer (type)                 Output Shape              Param #   \n",
      "=================================================================\n",
      "dropout_10 (Dropout)         (None, 5000)              0         \n",
      "_________________________________________________________________\n",
      "dense_10 (Dense)             (None, 1000)              5001000   \n",
      "_________________________________________________________________\n",
      "dropout_11 (Dropout)         (None, 1000)              0         \n",
      "_________________________________________________________________\n",
      "dense_11 (Dense)             (None, 500)               500500    \n",
      "_________________________________________________________________\n",
      "dropout_12 (Dropout)         (None, 500)               0         \n",
      "_________________________________________________________________\n",
      "dense_12 (Dense)             (None, 250)               125250    \n",
      "_________________________________________________________________\n",
      "dense_13 (Dense)             (None, 8)                 2008      \n",
      "=================================================================\n",
      "Total params: 5,628,758\n",
      "Trainable params: 5,628,758\n",
      "Non-trainable params: 0\n",
      "_________________________________________________________________\n",
      "Train on 14169 samples, validate on 3543 samples\n",
      "Epoch 1/100\n",
      "14169/14169 [==============================] - 40s 3ms/step - loss: 4.3469 - acc: 0.5504 - val_loss: 2.0463 - val_acc: 0.5789\n",
      "Epoch 2/100\n",
      "14169/14169 [==============================] - 39s 3ms/step - loss: 1.8991 - acc: 0.5965 - val_loss: 1.8250 - val_acc: 0.5851\n",
      "Epoch 3/100\n",
      "14169/14169 [==============================] - 40s 3ms/step - loss: 1.7524 - acc: 0.6194 - val_loss: 1.7569 - val_acc: 0.5879\n",
      "Epoch 4/100\n",
      "14169/14169 [==============================] - 40s 3ms/step - loss: 1.6938 - acc: 0.6281 - val_loss: 1.7128 - val_acc: 0.6147\n",
      "Epoch 5/100\n",
      "14169/14169 [==============================] - 40s 3ms/step - loss: 1.6594 - acc: 0.6411 - val_loss: 1.6405 - val_acc: 0.6164\n",
      "Epoch 6/100\n",
      "14169/14169 [==============================] - 40s 3ms/step - loss: 1.5887 - acc: 0.6514 - val_loss: 1.6508 - val_acc: 0.5998\n",
      "Epoch 7/100\n",
      "14169/14169 [==============================] - 40s 3ms/step - loss: 1.5362 - acc: 0.6588 - val_loss: 1.6493 - val_acc: 0.6068\n",
      "Epoch 8/100\n",
      "14169/14169 [==============================] - 40s 3ms/step - loss: 1.5218 - acc: 0.6676 - val_loss: 1.6446 - val_acc: 0.6173\n",
      "Epoch 9/100\n",
      "14169/14169 [==============================] - 40s 3ms/step - loss: 1.4834 - acc: 0.6677 - val_loss: 1.5868 - val_acc: 0.6195\n",
      "Epoch 10/100\n",
      "14169/14169 [==============================] - 40s 3ms/step - loss: 1.4606 - acc: 0.6773 - val_loss: 1.6180 - val_acc: 0.6088\n",
      "Epoch 11/100\n",
      "14169/14169 [==============================] - 40s 3ms/step - loss: 1.4577 - acc: 0.6806 - val_loss: 1.6102 - val_acc: 0.6221\n",
      "Epoch 12/100\n",
      "14169/14169 [==============================] - 40s 3ms/step - loss: 1.4295 - acc: 0.6906 - val_loss: 1.6385 - val_acc: 0.6006\n",
      "Epoch 13/100\n",
      "14169/14169 [==============================] - 40s 3ms/step - loss: 1.4292 - acc: 0.6892 - val_loss: 1.5945 - val_acc: 0.6150\n",
      "Epoch 14/100\n",
      "14169/14169 [==============================] - 40s 3ms/step - loss: 1.4107 - acc: 0.6950 - val_loss: 1.6070 - val_acc: 0.6170\n",
      "Epoch 15/100\n",
      "14169/14169 [==============================] - 40s 3ms/step - loss: 1.4148 - acc: 0.6988 - val_loss: 1.5844 - val_acc: 0.6145\n",
      "Epoch 16/100\n",
      "14169/14169 [==============================] - 41s 3ms/step - loss: 1.3945 - acc: 0.6983 - val_loss: 1.6139 - val_acc: 0.6161\n",
      "Epoch 17/100\n",
      "14169/14169 [==============================] - 40s 3ms/step - loss: 1.3833 - acc: 0.7030 - val_loss: 1.6230 - val_acc: 0.6105\n",
      "Epoch 18/100\n",
      "14169/14169 [==============================] - 40s 3ms/step - loss: 1.3959 - acc: 0.7031 - val_loss: 1.5929 - val_acc: 0.6226\n",
      "Epoch 19/100\n",
      "14169/14169 [==============================] - 41s 3ms/step - loss: 1.3768 - acc: 0.7126 - val_loss: 1.6396 - val_acc: 0.6153\n",
      "Epoch 20/100\n",
      "14169/14169 [==============================] - 42s 3ms/step - loss: 1.3879 - acc: 0.7036 - val_loss: 1.6029 - val_acc: 0.6159\n",
      "Epoch 21/100\n",
      "14169/14169 [==============================] - 41s 3ms/step - loss: 1.3897 - acc: 0.7075 - val_loss: 1.6261 - val_acc: 0.6195\n",
      "Epoch 22/100\n",
      "14169/14169 [==============================] - 40s 3ms/step - loss: 1.3706 - acc: 0.7162 - val_loss: 1.6015 - val_acc: 0.6235\n",
      "Epoch 23/100\n",
      "14169/14169 [==============================] - 40s 3ms/step - loss: 1.3867 - acc: 0.7092 - val_loss: 1.6433 - val_acc: 0.6145\n",
      "Epoch 24/100\n",
      "14169/14169 [==============================] - 40s 3ms/step - loss: 1.3785 - acc: 0.7135 - val_loss: 1.6134 - val_acc: 0.6173\n",
      "Epoch 25/100\n",
      "14169/14169 [==============================] - 40s 3ms/step - loss: 1.3785 - acc: 0.7145 - val_loss: 1.6205 - val_acc: 0.6192\n",
      "Epoch 26/100\n",
      "14169/14169 [==============================] - 39s 3ms/step - loss: 1.3598 - acc: 0.7178 - val_loss: 1.6343 - val_acc: 0.6156\n",
      "Epoch 27/100\n",
      "14169/14169 [==============================] - 39s 3ms/step - loss: 1.3732 - acc: 0.7203 - val_loss: 1.6269 - val_acc: 0.6190\n",
      "Epoch 28/100\n",
      "14169/14169 [==============================] - 38s 3ms/step - loss: 1.3787 - acc: 0.7182 - val_loss: 1.6253 - val_acc: 0.6224\n",
      "Epoch 29/100\n",
      " 4256/14169 [========>.....................] - ETA: 27s - loss: 1.2676 - acc: 0.7660"
     ]
    }
   ],
   "source": [
    "l2_lambda = 0.01\n",
    "\n",
    "def keras_best_model():\n",
    "    # create model\n",
    "    model = Sequential()\n",
    "    model.add(Dropout(0.2, input_shape=(input_dim,)))\n",
    "    model.add(Dense(1000, activation='relu', kernel_regularizer=l2(l2_lambda)))\n",
    "    model.add(Dropout(0.2))\n",
    "    model.add(Dense(500, activation='relu', kernel_regularizer=l2(l2_lambda)))\n",
    "    model.add(Dropout(0.2))\n",
    "    model.add(Dense(250, activation='relu', kernel_regularizer=l2(l2_lambda)))\n",
    "    model.add(Dense(no_classes, activation='softmax'))\n",
    "    # Compile model\n",
    "    model.compile(loss='categorical_crossentropy', optimizer='adam', metrics=['accuracy'])\n",
    "    return model\n",
    "\n",
    "model = keras_best_model()\n",
    "model.summary()\n",
    "history = model.fit(X, Y, validation_split=0.2, epochs=100, batch_size=32, verbose=1)\n",
    "\n",
    "# list all data in history\n",
    "print(history.history.keys())\n",
    "# summarize history for accuracy\n",
    "plt.plot(history.history['acc'])\n",
    "plt.plot(history.history['val_acc'])\n",
    "plt.title('model accuracy')\n",
    "plt.ylabel('accuracy')\n",
    "plt.xlabel('epoch')\n",
    "plt.legend(['train', 'test'], loc='upper left')\n",
    "plt.show()\n",
    "# summarize history for loss\n",
    "plt.plot(history.history['loss'])\n",
    "plt.plot(history.history['val_loss'])\n",
    "plt.title('model loss')\n",
    "plt.ylabel('loss')\n",
    "plt.xlabel('epoch')\n",
    "plt.legend(['train', 'test'], loc='upper left')\n",
    "plt.show()"
   ]
  },
  {
   "cell_type": "code",
   "execution_count": null,
   "metadata": {},
   "outputs": [],
   "source": []
  }
 ],
 "metadata": {
  "kernelspec": {
   "display_name": "Python 3",
   "language": "python",
   "name": "python3"
  },
  "language_info": {
   "codemirror_mode": {
    "name": "ipython",
    "version": 3
   },
   "file_extension": ".py",
   "mimetype": "text/x-python",
   "name": "python",
   "nbconvert_exporter": "python",
   "pygments_lexer": "ipython3",
   "version": "3.5.2"
  }
 },
 "nbformat": 4,
 "nbformat_minor": 2
}
