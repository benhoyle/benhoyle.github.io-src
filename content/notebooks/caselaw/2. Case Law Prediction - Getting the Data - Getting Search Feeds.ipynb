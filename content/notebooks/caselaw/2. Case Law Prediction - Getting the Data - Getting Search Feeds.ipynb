{
 "cells": [
  {
   "cell_type": "markdown",
   "metadata": {},
   "source": [
    "# Replacing the Associate - Legal Machine Learning\n",
    "\n",
    "This post is part of a series that look at applying machine learning to legal information. We will start off by looking at case law for exclued subject matter in the United Kingdom and Europe."
   ]
  },
  {
   "cell_type": "markdown",
   "metadata": {},
   "source": [
    "## Corpus Creation\n",
    "\n",
    "This post will cover the steps needed to create a corpus of UK and European patent case law. This corpus can be used for machine learning / automated processing."
   ]
  },
  {
   "cell_type": "markdown",
   "metadata": {},
   "source": [
    "### Prequisites\n",
    "\n",
    "Before you start you need to install Python and a bucketful of useful libraries. The best way to do this is to use [Anaconda](https://www.continuum.io/downloads). On my ten-year-old laptop running Puppy Linux (which was in the loft for a year or so covered in woodlouse excrement) this simply involved running the script. No compiling from source. No version errors. No messing with pip. \n",
    "\n",
    "I find that Jupyter (formerly iPython) notebooks are a great way to iteratively code. You can test out ideas block by block, shift stuff around, output and document all in the same tool. You can also easily export to HTML with one click (hence this post). To start a notebook having installed Anaconda run the following:\n",
    "```\n",
    "jypyter notebook\n",
    "```\n",
    "This will start the notebook server on your local machine and open your browser. By default the notebooks are served at *localhost:8888*. To access across a local network use the *-ip* flag with your IP address (e.g. -ip 192.168.1.2) and then point your browser at *[your-ip]:8888* (use -p to change the port).\n",
    "\n",
    "This notebook also makes use of a library I hacked together for accessing the EPO OPS API. You can clone this library from: https://github.com/benhoyle/EPOops."
   ]
  },
  {
   "cell_type": "markdown",
   "metadata": {},
   "source": [
    "#### Imports"
   ]
  },
  {
   "cell_type": "code",
   "execution_count": 3,
   "metadata": {
    "collapsed": true
   },
   "outputs": [],
   "source": [
    "import feedparser\n",
    "from datetime import datetime"
   ]
  },
  {
   "cell_type": "markdown",
   "metadata": {},
   "source": [
    "The *num* parameter sets the number of results returned. If *num* is omitted the default is 10. *num* is limited to 1000 entries.\n",
    "\n",
    "To overcome this we will need to perform two searches by different date ranges; each date range returning < 1000 results."
   ]
  },
  {
   "cell_type": "code",
   "execution_count": 28,
   "metadata": {
    "collapsed": true
   },
   "outputs": [],
   "source": [
    "# Get RSS feed URL by running a search \n",
    "epo_feed_url = \"https://www.epo.org/footer/search.html?site=BoA&entqr=0&output=xml_no_dtd&client=BoA_AJAX&ud=1&oe=UTF-8&ie=UTF-8&q=&getfields=dg3TLE.dg3DecisionOnline.dg3APN.dg3DecisionDate.dg3DecisionPDF.dg3CaseIPC.dg3DecisionBoard.dg3DecisionPRL.dg3KEY.dg3DecisionDistributionKey.dg3ECLI&requiredfields=(dg3DecisionPRL:EN).(dg3BOAnDot:3401%7Cdg3BOAnDot:3402%7Cdg3BOAnDot:3403%7Cdg3BOAnDot:3501%7Cdg3BOAnDot:3502%7Cdg3BOAnDot:3503%7Cdg3BOAnDot:3504%7Cdg3BOAnDot:3505%7Cdg3BOAnDot:3506%7Cdg3BOAnDot:3507).(dg3CaseType:T)&partialfields=dg3ArtRef:56&advOpts=hide&ulang=en&access=p&entqrm=0&lr=lang_en%7Clang_fr%7Clang_de&wc=200&wc_mc=1&proxystylesheet=BoA_RSS&sort=date:D:S:d1&filter=0&num=1050\""
   ]
  },
  {
   "cell_type": "code",
   "execution_count": 29,
   "metadata": {
    "collapsed": true
   },
   "outputs": [],
   "source": [
    "d = feedparser.parse(epo_feed_url)"
   ]
  },
  {
   "cell_type": "code",
   "execution_count": 5,
   "metadata": {},
   "outputs": [
    {
     "data": {
      "text/plain": [
       "'Search results for :'"
      ]
     },
     "execution_count": 5,
     "metadata": {},
     "output_type": "execute_result"
    }
   ],
   "source": [
    "d['feed']['title']"
   ]
  },
  {
   "cell_type": "code",
   "execution_count": 31,
   "metadata": {},
   "outputs": [
    {
     "data": {
      "text/plain": [
       "'Results <strong></strong> - <strong></strong> of about <strong></strong> for<strong> </strong>'"
      ]
     },
     "execution_count": 31,
     "metadata": {},
     "output_type": "execute_result"
    }
   ],
   "source": [
    "d.feed.description"
   ]
  },
  {
   "cell_type": "code",
   "execution_count": 30,
   "metadata": {},
   "outputs": [
    {
     "data": {
      "text/plain": [
       "0"
      ]
     },
     "execution_count": 30,
     "metadata": {},
     "output_type": "execute_result"
    }
   ],
   "source": [
    "len(d.entries)"
   ]
  },
  {
   "cell_type": "code",
   "execution_count": 11,
   "metadata": {
    "collapsed": true
   },
   "outputs": [],
   "source": [
    "import difflib"
   ]
  },
  {
   "cell_type": "code",
   "execution_count": 21,
   "metadata": {
    "collapsed": true
   },
   "outputs": [],
   "source": [
    "feed_pg1 = \"https://www.epo.org/footer/search.html?site=BoA&entqr=0&output=xml_no_dtd&client=BoA_AJAX&ud=1&oe=UTF-8&ie=UTF-8&q=&getfields=dg3TLE.dg3DecisionOnline.dg3APN.dg3DecisionDate.dg3DecisionPDF.dg3CaseIPC.dg3DecisionBoard.dg3DecisionPRL.dg3KEY.dg3DecisionDistributionKey.dg3ECLI&requiredfields=%28dg3DecisionPRL:EN%29.%28dg3DecisionDistributionKey:A|dg3DecisionDistributionKey:B|dg3DecisionDistributionKey:C|dg3DecisionDistributionKey:D%29.%28dg3BOAnDot:3201|dg3BOAnDot:3202|dg3BOAnDot:3203|dg3BOAnDot:3204|dg3BOAnDot:3205|dg3BOAnDot:3206|dg3BOAnDot:3207|dg3BOAnDot:3208|dg3BOAnDot:3401|dg3BOAnDot:3402|dg3BOAnDot:3403|dg3BOAnDot:3501|dg3BOAnDot:3502|dg3BOAnDot:3503|dg3BOAnDot:3504|dg3BOAnDot:3505|dg3BOAnDot:3506|dg3BOAnDot:3507%29.%28dg3CaseType:T%29&partialfields=&advOpts=hide&ulang=en&access=p&entqrm=0&lr=lang_en|lang_fr|lang_de&wc=200&wc_mc=1&proxystylesheet=BoA_RSS&sort=date:D:S:d1&filter=0&num=50\"\n",
    "feed_pg2 = \"https://www.epo.org/footer/search.html?site=BoA&entqr=0&output=xml_no_dtd&client=BoA_AJAX&ud=1&oe=UTF-8&ie=UTF-8&q=&getfields=dg3TLE.dg3DecisionOnline.dg3APN.dg3DecisionDate.dg3DecisionPDF.dg3CaseIPC.dg3DecisionBoard.dg3DecisionPRL.dg3KEY.dg3DecisionDistributionKey.dg3ECLI&requiredfields=%28dg3DecisionPRL:EN%29.%28dg3DecisionDistributionKey:A|dg3DecisionDistributionKey:B|dg3DecisionDistributionKey:C|dg3DecisionDistributionKey:D%29.%28dg3BOAnDot:3201|dg3BOAnDot:3202|dg3BOAnDot:3203|dg3BOAnDot:3204|dg3BOAnDot:3205|dg3BOAnDot:3206|dg3BOAnDot:3207|dg3BOAnDot:3208|dg3BOAnDot:3401|dg3BOAnDot:3402|dg3BOAnDot:3403|dg3BOAnDot:3501|dg3BOAnDot:3502|dg3BOAnDot:3503|dg3BOAnDot:3504|dg3BOAnDot:3505|dg3BOAnDot:3506|dg3BOAnDot:3507%29.%28dg3CaseType:T%29&partialfields=&advOpts=hide&ulang=en&access=p&entqrm=0&lr=lang_en|lang_fr|lang_de&wc=200&wc_mc=1&proxystylesheet=BoA_RSS&sort=date:D:S:d1&filter=0&num=50\"\n",
    "a = feed_pg1\n",
    "b = feed_pg2\n",
    "for i,s in enumerate(difflib.ndiff(a, b)):\n",
    "    if s[0]==' ': continue\n",
    "    elif s[0]=='-':\n",
    "        print(u'Delete \"{}\" from position {}'.format(s[-1],i))\n",
    "    elif s[0]=='+':\n",
    "        print(u'Add \"{}\" to position {}'.format(s[-1],i))    \n",
    "    print()"
   ]
  },
  {
   "cell_type": "markdown",
   "metadata": {},
   "source": [
    "Feed strings are the same - there is no different RSS feed for different pages; nor a mechanism to change pages that I can see."
   ]
  },
  {
   "cell_type": "code",
   "execution_count": 4,
   "metadata": {},
   "outputs": [
    {
     "name": "stdout",
     "output_type": "stream",
     "text": [
      "Today's date is  2018-04-04\n"
     ]
    }
   ],
   "source": [
    "now = datetime.now().strftime(\"%Y-%m-%d\")\n",
    "print(\"Today's date is \", now)"
   ]
  },
  {
   "cell_type": "markdown",
   "metadata": {},
   "source": [
    "Here is a link that limits to Article 56 EPC.\n",
    "\n",
    "http://www.epo.org/footer/search.html?site=BoA&entqr=0&output=xml_no_dtd&client=BoA_AJAX&ud=1&oe=UTF-8&ie=UTF-8&q=technical+inmeta:dg3DecisionDateGSA:2014-04-04..2018-04-04&getfields=dg3TLE.dg3DecisionOnline.dg3APN.dg3DecisionDate.dg3DecisionPDF.dg3CaseIPC.dg3DecisionBoard.dg3DecisionPRL.dg3KEY.dg3DecisionDistributionKey.dg3ECLI&requiredfields=(dg3DecisionPRL:EN).(dg3DecisionDistributionKey:A%7Cdg3DecisionDistributionKey:B%7Cdg3DecisionDistributionKey:C%7Cdg3DecisionDistributionKey:D).(dg3BOAnDot:3401%7Cdg3BOAnDot:3402%7Cdg3BOAnDot:3403%7Cdg3BOAnDot:3501%7Cdg3BOAnDot:3502%7Cdg3BOAnDot:3503%7Cdg3BOAnDot:3504%7Cdg3BOAnDot:3505%7Cdg3BOAnDot:3506%7Cdg3BOAnDot:3507).(dg3CaseType:T)&partialfields=dg3ArtRef:56&advOpts=hide&ulang=en&access=p&entqrm=0&lr=lang_en%7Clang_fr%7Clang_de&wc=200&wc_mc=1&proxystylesheet=BoA_RSS&sort=date:D:S:d1&filter=0&num=200"
   ]
  },
  {
   "cell_type": "code",
   "execution_count": 6,
   "metadata": {},
   "outputs": [
    {
     "name": "stdout",
     "output_type": "stream",
     "text": [
      "https://www.epo.org/footer/search.html?site=BoA&entqr=0&output=xml_no_dtd&client=BoA_AJAX&ud=1&oe=UTF-8&ie=UTF-8&q=PDF%2Binmeta:dg3DecisionDate:2012-01-01..2018-04-04&getfields=dg3TLE.dg3DecisionOnline.dg3APN.dg3DecisionDate.dg3DecisionPDF.dg3CaseIPC.dg3DecisionBoard.dg3DecisionPRL.dg3KEY.dg3DecisionDistributionKey.dg3ECLI&requiredfields=%28dg3DecisionPRL:EN%29.%28dg3BOAnDot:3401|dg3BOAnDot:3402|dg3BOAnDot:3403|dg3BOAnDot:3501|dg3BOAnDot:3502|dg3BOAnDot:3503|dg3BOAnDot:3504|dg3BOAnDot:3505|dg3BOAnDot:3506|dg3BOAnDot:3507%29.%28dg3CaseType:T%29&partialfields=&advOpts=hide&ulang=en&access=p&entqrm=0&lr=lang_en&wc=200&wc_mc=1&proxystylesheet=BoA_RSS&sort=date:D:S:d1&filter=0&num=999\n"
     ]
    }
   ],
   "source": [
    "# Feed URL for all distribution, 3.4 and 3.5 Boards, English only, Technical boards, to 01.01.1995, language = English - THESE DO NOT LIMIT TO ArtRef:56\n",
    "# 868 results\n",
    "url_to_1995 = \"https://www.epo.org/footer/search.html?site=BoA&entqr=0&output=xml_no_dtd&client=BoA_AJAX&ud=1&oe=UTF-8&ie=UTF-8&q=PDF%2Binmeta:dg3DecisionDate:1970-01-01..1995-01-01&getfields=dg3TLE.dg3DecisionOnline.dg3APN.dg3DecisionDate.dg3DecisionPDF.dg3CaseIPC.dg3DecisionBoard.dg3DecisionPRL.dg3KEY.dg3DecisionDistributionKey.dg3ECLI&requiredfields=%28dg3DecisionPRL:EN%29.%28dg3BOAnDot:3401|dg3BOAnDot:3402|dg3BOAnDot:3403|dg3BOAnDot:3501|dg3BOAnDot:3502|dg3BOAnDot:3503|dg3BOAnDot:3504|dg3BOAnDot:3505|dg3BOAnDot:3506|dg3BOAnDot:3507%29.%28dg3CaseType:T%29&partialfields=&advOpts=hide&ulang=en&access=p&entqrm=0&lr=lang_en&wc=200&wc_mc=1&proxystylesheet=BoA_RSS&sort=date:D:S:d1&filter=0&num=900\"\n",
    "url_from_95_to_2005 = \"https://www.epo.org/footer/search.html?site=BoA&entqr=0&output=xml_no_dtd&client=BoA_AJAX&ud=1&oe=UTF-8&ie=UTF-8&q=PDF%2Binmeta:dg3DecisionDate:1995-01-01..2005-01-01&getfields=dg3TLE.dg3DecisionOnline.dg3APN.dg3DecisionDate.dg3DecisionPDF.dg3CaseIPC.dg3DecisionBoard.dg3DecisionPRL.dg3KEY.dg3DecisionDistributionKey.dg3ECLI&requiredfields=%28dg3DecisionPRL:EN%29.%28dg3BOAnDot:3401|dg3BOAnDot:3402|dg3BOAnDot:3403|dg3BOAnDot:3501|dg3BOAnDot:3502|dg3BOAnDot:3503|dg3BOAnDot:3504|dg3BOAnDot:3505|dg3BOAnDot:3506|dg3BOAnDot:3507%29.%28dg3CaseType:T%29&partialfields=&advOpts=hide&ulang=en&access=p&entqrm=0&lr=lang_en&wc=200&wc_mc=1&proxystylesheet=BoA_RSS&sort=date:D:S:d1&filter=0&num=999\"\n",
    "url_from_05_to_2012 = \"https://www.epo.org/footer/search.html?site=BoA&entqr=0&output=xml_no_dtd&client=BoA_AJAX&ud=1&oe=UTF-8&ie=UTF-8&q=PDF%2Binmeta:dg3DecisionDate:2005-01-01..2012-01-01&getfields=dg3TLE.dg3DecisionOnline.dg3APN.dg3DecisionDate.dg3DecisionPDF.dg3CaseIPC.dg3DecisionBoard.dg3DecisionPRL.dg3KEY.dg3DecisionDistributionKey.dg3ECLI&requiredfields=%28dg3DecisionPRL:EN%29.%28dg3BOAnDot:3401|dg3BOAnDot:3402|dg3BOAnDot:3403|dg3BOAnDot:3501|dg3BOAnDot:3502|dg3BOAnDot:3503|dg3BOAnDot:3504|dg3BOAnDot:3505|dg3BOAnDot:3506|dg3BOAnDot:3507%29.%28dg3CaseType:T%29&partialfields=&advOpts=hide&ulang=en&access=p&entqrm=0&lr=lang_en&wc=200&wc_mc=1&proxystylesheet=BoA_RSS&sort=date:D:S:d1&filter=0&num=999\"\n",
    "url_from_12_to_now = \"https://www.epo.org/footer/search.html?site=BoA&entqr=0&output=xml_no_dtd&client=BoA_AJAX&ud=1&oe=UTF-8&ie=UTF-8&q=PDF%2Binmeta:dg3DecisionDate:2012-01-01..{now}&getfields=dg3TLE.dg3DecisionOnline.dg3APN.dg3DecisionDate.dg3DecisionPDF.dg3CaseIPC.dg3DecisionBoard.dg3DecisionPRL.dg3KEY.dg3DecisionDistributionKey.dg3ECLI&requiredfields=%28dg3DecisionPRL:EN%29.%28dg3BOAnDot:3401|dg3BOAnDot:3402|dg3BOAnDot:3403|dg3BOAnDot:3501|dg3BOAnDot:3502|dg3BOAnDot:3503|dg3BOAnDot:3504|dg3BOAnDot:3505|dg3BOAnDot:3506|dg3BOAnDot:3507%29.%28dg3CaseType:T%29&partialfields=&advOpts=hide&ulang=en&access=p&entqrm=0&lr=lang_en&wc=200&wc_mc=1&proxystylesheet=BoA_RSS&sort=date:D:S:d1&filter=0&num=999\".format(now=now)\n",
    "print(url_from_12_to_now)"
   ]
  },
  {
   "cell_type": "code",
   "execution_count": 7,
   "metadata": {},
   "outputs": [
    {
     "name": "stdout",
     "output_type": "stream",
     "text": [
      "To 01.01.1995 - no. of entries = 462\n",
      "From 01.01.1995 to 01.01.2005 - no. of entries = 737\n",
      "From 01.01.1995 to 01.01.2012 - no. of entries = 704\n",
      "From 01.01.2012 to now- no. of entries = 843\n"
     ]
    }
   ],
   "source": [
    "# Looks like we will need four date ranges\n",
    "data_to_95 = feedparser.parse(url_to_1995)\n",
    "print(\"To 01.01.1995 - no. of entries = \" + str(len(data_to_95.entries)))\n",
    "data_from_95_to_2005 = feedparser.parse(url_from_95_to_2005)\n",
    "print(\"From 01.01.1995 to 01.01.2005 - no. of entries = \" + str(len(data_from_95_to_2005.entries)))\n",
    "data_from_05_to_2012 = feedparser.parse(url_from_05_to_2012)\n",
    "print(\"From 01.01.1995 to 01.01.2012 - no. of entries = \" + str(len(data_from_05_to_2012.entries)))\n",
    "data_from_12_to_now = feedparser.parse(url_from_12_to_now)\n",
    "print(\"From 01.01.2012 to now- no. of entries = \" + str(len(data_from_12_to_now.entries)))"
   ]
  },
  {
   "cell_type": "code",
   "execution_count": 8,
   "metadata": {
    "collapsed": true
   },
   "outputs": [],
   "source": [
    "def savedata(data, filename):\n",
    "    \"\"\"Helper function to save data to a pickle file.\"\"\"\n",
    "    import os, pickle\n",
    "    with open(filename, \"wb\") as f:\n",
    "        pickle.dump(data, f)\n",
    "        print(\"Data saved\")\n",
    "\n",
    "def loaddata(filename):\n",
    "    \"\"\"Helper function to load data from a pickle file.\"\"\"\n",
    "    import os, pickle\n",
    "    with open(filename, \"rb\") as f:\n",
    "        print(\"Loading data\")\n",
    "        data = pickle.load(f)\n",
    "    return data"
   ]
  },
  {
   "cell_type": "code",
   "execution_count": 12,
   "metadata": {},
   "outputs": [
    {
     "data": {
      "text/plain": [
       "{'guidislink': False,\n",
       " 'id': 'http://www.epo.org/law-practice/case-law-appeals/recent/t950036eu1.html',\n",
       " 'lang': 'en',\n",
       " 'link': 'http://www.epo.org/law-practice/case-law-appeals/recent/t950036eu1.html',\n",
       " 'links': [{'href': 'http://www.epo.org/law-practice/case-law-appeals/recent/t950036eu1.html',\n",
       "   'rel': 'alternate',\n",
       "   'type': 'text/html'},\n",
       "  {'href': 'http://www.epo.org/law-practice/case-law-appeals/pdf/t950036eu1.pdf',\n",
       "   'rel': 'enclosure',\n",
       "   'type': 'application/pdf'}],\n",
       " 'published': '',\n",
       " 'published_parsed': None,\n",
       " 'summary': '<b>...</b> Download and more information: Decision text in EN (<b>PDF</b>, 29.063K).<br> Documentation of the appeal procedure can be found in the Register. <b>...</b>  \\n          <br/>\\n          <b>Online on</b>: 09.12.2014\\n          | <b>Board</b>: 3.4.01\\n          | <b>Decision date</b>: 4.5.1999\\n          | <b>Proc. language</b>: EN\\n          | <b>IPC</b>: G07B 17/02\\n          | <b>Application no.</b>: 86114320\\n          <br/>\\n          <b>Keywords</b>: Subject-matter extending beyond the content of the application as filed (yes; for all requests)\\n          <br/>\\n          <b>Application title</b>: Systems for non-volatile storage of data and postage meter systems',\n",
       " 'summary_detail': {'base': 'https://www.epo.org/footer/search.html?site=BoA&entqr=0&output=xml_no_dtd&client=BoA_AJAX&ud=1&oe=UTF-8&ie=UTF-8&q=PDF%2Binmeta:dg3DecisionDate:1995-01-01..2005-01-01&getfields=dg3TLE.dg3DecisionOnline.dg3APN.dg3DecisionDate.dg3DecisionPDF.dg3CaseIPC.dg3DecisionBoard.dg3DecisionPRL.dg3KEY.dg3DecisionDistributionKey.dg3ECLI&requiredfields=%28dg3DecisionPRL:EN%29.%28dg3BOAnDot:3401|dg3BOAnDot:3402|dg3BOAnDot:3403|dg3BOAnDot:3501|dg3BOAnDot:3502|dg3BOAnDot:3503|dg3BOAnDot:3504|dg3BOAnDot:3505|dg3BOAnDot:3506|dg3BOAnDot:3507%29.%28dg3CaseType:T%29&partialfields=&advOpts=hide&ulang=en&access=p&entqrm=0&lr=lang_en&wc=200&wc_mc=1&proxystylesheet=BoA_RSS&sort=date:D:S:d1&filter=0&num=999',\n",
       "  'language': None,\n",
       "  'type': 'text/html',\n",
       "  'value': '<b>...</b> Download and more information: Decision text in EN (<b>PDF</b>, 29.063K).<br> Documentation of the appeal procedure can be found in the Register. <b>...</b>  \\n          <br/>\\n          <b>Online on</b>: 09.12.2014\\n          | <b>Board</b>: 3.4.01\\n          | <b>Decision date</b>: 4.5.1999\\n          | <b>Proc. language</b>: EN\\n          | <b>IPC</b>: G07B 17/02\\n          | <b>Application no.</b>: 86114320\\n          <br/>\\n          <b>Keywords</b>: Subject-matter extending beyond the content of the application as filed (yes; for all requests)\\n          <br/>\\n          <b>Application title</b>: Systems for non-volatile storage of data and postage meter systems'},\n",
       " 'title': 'T 0036/95 (Systems for non-volatile storage of data ...',\n",
       " 'title_detail': {'base': 'https://www.epo.org/footer/search.html?site=BoA&entqr=0&output=xml_no_dtd&client=BoA_AJAX&ud=1&oe=UTF-8&ie=UTF-8&q=PDF%2Binmeta:dg3DecisionDate:1995-01-01..2005-01-01&getfields=dg3TLE.dg3DecisionOnline.dg3APN.dg3DecisionDate.dg3DecisionPDF.dg3CaseIPC.dg3DecisionBoard.dg3DecisionPRL.dg3KEY.dg3DecisionDistributionKey.dg3ECLI&requiredfields=%28dg3DecisionPRL:EN%29.%28dg3BOAnDot:3401|dg3BOAnDot:3402|dg3BOAnDot:3403|dg3BOAnDot:3501|dg3BOAnDot:3502|dg3BOAnDot:3503|dg3BOAnDot:3504|dg3BOAnDot:3505|dg3BOAnDot:3506|dg3BOAnDot:3507%29.%28dg3CaseType:T%29&partialfields=&advOpts=hide&ulang=en&access=p&entqrm=0&lr=lang_en&wc=200&wc_mc=1&proxystylesheet=BoA_RSS&sort=date:D:S:d1&filter=0&num=999',\n",
       "  'language': None,\n",
       "  'type': 'text/plain',\n",
       "  'value': 'T 0036/95 (Systems for non-volatile storage of data ...'}}"
      ]
     },
     "execution_count": 12,
     "metadata": {},
     "output_type": "execute_result"
    }
   ],
   "source": [
    "data_from_95_to_2005.entries[0]"
   ]
  },
  {
   "cell_type": "code",
   "execution_count": 14,
   "metadata": {},
   "outputs": [
    {
     "name": "stdout",
     "output_type": "stream",
     "text": [
      "Data saved\n"
     ]
    }
   ],
   "source": [
    "feeds = [\n",
    "    data_to_95,\n",
    "    data_from_95_to_2005,\n",
    "    data_from_05_to_2012,\n",
    "    data_from_12_to_now\n",
    "]\n",
    "\n",
    "cases = []\n",
    "for feed in feeds:\n",
    "    cases.extend(feed.entries)\n",
    "\n",
    "savedata(cases, \"feeds.pik\")"
   ]
  },
  {
   "cell_type": "code",
   "execution_count": null,
   "metadata": {
    "collapsed": true
   },
   "outputs": [],
   "source": []
  }
 ],
 "metadata": {
  "kernelspec": {
   "display_name": "Python 3",
   "language": "python",
   "name": "python3"
  },
  "language_info": {
   "codemirror_mode": {
    "name": "ipython",
    "version": 3
   },
   "file_extension": ".py",
   "mimetype": "text/x-python",
   "name": "python",
   "nbconvert_exporter": "python",
   "pygments_lexer": "ipython3",
   "version": "3.5.2"
  }
 },
 "nbformat": 4,
 "nbformat_minor": 1
}
