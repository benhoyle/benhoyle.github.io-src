{
 "cells": [
  {
   "cell_type": "code",
   "execution_count": 1,
   "metadata": {
    "collapsed": true
   },
   "outputs": [],
   "source": [
    "claim = \"\"\"A decoding system, comprising:\n",
    "\n",
    "a decoding engine running on a mobile device, the decoding engine in operation decoding signals produced from a read of a buyer's financial transaction card, the decoding engine in operation accepting and initializing incoming signals from the read of the buyer's financial transaction card until the signals reach a steady state, detecting the read of the buyer's financial transaction card once the incoming signals are in a steady state, identifying peaks in the incoming signals and digitizing the identified peaks in the incoming signals into bits;\n",
    "\n",
    "and\n",
    "\n",
    "a transaction engine running on the mobile device and coupled to the decoding engine, the transaction engine in operation receiving as its input decoded buyer's financial transaction card information from the decoding engine and serving as an intermediary between the buyer and a merchant, so that the buyer does not have to share his/her financial transaction card information with the merchant.\"\"\""
   ]
  },
  {
   "cell_type": "code",
   "execution_count": 2,
   "metadata": {
    "collapsed": true
   },
   "outputs": [],
   "source": [
    "import nltk"
   ]
  },
  {
   "cell_type": "code",
   "execution_count": 3,
   "metadata": {
    "collapsed": true
   },
   "outputs": [],
   "source": [
    "text = nltk.word_tokenize(claim)"
   ]
  },
  {
   "cell_type": "code",
   "execution_count": 4,
   "metadata": {
    "collapsed": false
   },
   "outputs": [
    {
     "name": "stdout",
     "output_type": "stream",
     "text": [
      "['A', 'decoding', 'system', ',', 'comprising', ':', 'a', 'decoding', 'engine', 'running', 'on', 'a', 'mobile', 'device', ',', 'the', 'decoding', 'engine', 'in', 'operation', 'decoding', 'signals', 'produced', 'from', 'a', 'read', 'of', 'a', 'buyer', \"'s\", 'financial', 'transaction', 'card', ',', 'the', 'decoding', 'engine', 'in', 'operation', 'accepting', 'and', 'initializing', 'incoming', 'signals', 'from', 'the', 'read', 'of', 'the', 'buyer', \"'s\", 'financial', 'transaction', 'card', 'until', 'the', 'signals', 'reach', 'a', 'steady', 'state', ',', 'detecting', 'the', 'read', 'of', 'the', 'buyer', \"'s\", 'financial', 'transaction', 'card', 'once', 'the', 'incoming', 'signals', 'are', 'in', 'a', 'steady', 'state', ',', 'identifying', 'peaks', 'in', 'the', 'incoming', 'signals', 'and', 'digitizing', 'the', 'identified', 'peaks', 'in', 'the', 'incoming', 'signals', 'into', 'bits', ';', 'and', 'a', 'transaction', 'engine', 'running', 'on', 'the', 'mobile', 'device', 'and', 'coupled', 'to', 'the', 'decoding', 'engine', ',', 'the', 'transaction', 'engine', 'in', 'operation', 'receiving', 'as', 'its', 'input', 'decoded', 'buyer', \"'s\", 'financial', 'transaction', 'card', 'information', 'from', 'the', 'decoding', 'engine', 'and', 'serving', 'as', 'an', 'intermediary', 'between', 'the', 'buyer', 'and', 'a', 'merchant', ',', 'so', 'that', 'the', 'buyer', 'does', 'not', 'have', 'to', 'share', 'his/her', 'financial', 'transaction', 'card', 'information', 'with', 'the', 'merchant', '.']"
     ]
    }
   ],
   "source": [
    "print(text, end=\"\")"
   ]
  },
  {
   "cell_type": "code",
   "execution_count": 5,
   "metadata": {
    "collapsed": false
   },
   "outputs": [],
   "source": [
    "# This needs you to download the perceptron pos tagger from Models via nltk.download()\n",
    "pos = nltk.pos_tag(text)"
   ]
  },
  {
   "cell_type": "code",
   "execution_count": 6,
   "metadata": {
    "collapsed": false
   },
   "outputs": [
    {
     "name": "stdout",
     "output_type": "stream",
     "text": [
      "[('A', 'DT'), ('decoding', 'NN'), ('system', 'NN'), (',', ','), ('comprising', 'VBG'), (':', ':'), ('a', 'DT'), ('decoding', 'VBG'), ('engine', 'NN'), ('running', 'VBG'), ('on', 'IN'), ('a', 'DT'), ('mobile', 'JJ'), ('device', 'NN'), (',', ','), ('the', 'DT'), ('decoding', 'VBG'), ('engine', 'NN'), ('in', 'IN'), ('operation', 'NN'), ('decoding', 'NN'), ('signals', 'NNS'), ('produced', 'VBD'), ('from', 'IN'), ('a', 'DT'), ('read', 'NN'), ('of', 'IN'), ('a', 'DT'), ('buyer', 'NN'), (\"'s\", 'POS'), ('financial', 'JJ'), ('transaction', 'NN'), ('card', 'NN'), (',', ','), ('the', 'DT'), ('decoding', 'VBG'), ('engine', 'NN'), ('in', 'IN'), ('operation', 'NN'), ('accepting', 'NN'), ('and', 'CC'), ('initializing', 'VBG'), ('incoming', 'VBG'), ('signals', 'NNS'), ('from', 'IN'), ('the', 'DT'), ('read', 'NN'), ('of', 'IN'), ('the', 'DT'), ('buyer', 'NN'), (\"'s\", 'POS'), ('financial', 'JJ'), ('transaction', 'NN'), ('card', 'NN'), ('until', 'IN'), ('the', 'DT'), ('signals', 'NNS'), ('reach', 'VBP'), ('a', 'DT'), ('steady', 'JJ'), ('state', 'NN'), (',', ','), ('detecting', 'VBG'), ('the', 'DT'), ('read', 'NN'), ('of', 'IN'), ('the', 'DT'), ('buyer', 'NN'), (\"'s\", 'POS'), ('financial', 'JJ'), ('transaction', 'NN'), ('card', 'NN'), ('once', 'IN'), ('the', 'DT'), ('incoming', 'NN'), ('signals', 'NNS'), ('are', 'VBP'), ('in', 'IN'), ('a', 'DT'), ('steady', 'JJ'), ('state', 'NN'), (',', ','), ('identifying', 'VBG'), ('peaks', 'NNS'), ('in', 'IN'), ('the', 'DT'), ('incoming', 'NN'), ('signals', 'NNS'), ('and', 'CC'), ('digitizing', 'VBG'), ('the', 'DT'), ('identified', 'JJ'), ('peaks', 'NNS'), ('in', 'IN'), ('the', 'DT'), ('incoming', 'NN'), ('signals', 'NNS'), ('into', 'IN'), ('bits', 'NNS'), (';', ':'), ('and', 'CC'), ('a', 'DT'), ('transaction', 'NN'), ('engine', 'NN'), ('running', 'VBG'), ('on', 'IN'), ('the', 'DT'), ('mobile', 'JJ'), ('device', 'NN'), ('and', 'CC'), ('coupled', 'VBN'), ('to', 'TO'), ('the', 'DT'), ('decoding', 'NN'), ('engine', 'NN'), (',', ','), ('the', 'DT'), ('transaction', 'NN'), ('engine', 'NN'), ('in', 'IN'), ('operation', 'NN'), ('receiving', 'NN'), ('as', 'IN'), ('its', 'PRP$'), ('input', 'NN'), ('decoded', 'VBD'), ('buyer', 'NN'), (\"'s\", 'POS'), ('financial', 'JJ'), ('transaction', 'NN'), ('card', 'NN'), ('information', 'NN'), ('from', 'IN'), ('the', 'DT'), ('decoding', 'VBG'), ('engine', 'NN'), ('and', 'CC'), ('serving', 'VBG'), ('as', 'IN'), ('an', 'DT'), ('intermediary', 'NN'), ('between', 'IN'), ('the', 'DT'), ('buyer', 'NN'), ('and', 'CC'), ('a', 'DT'), ('merchant', 'NN'), (',', ','), ('so', 'IN'), ('that', 'IN'), ('the', 'DT'), ('buyer', 'NN'), ('does', 'VBZ'), ('not', 'RB'), ('have', 'VB'), ('to', 'TO'), ('share', 'NN'), ('his/her', 'PRP$'), ('financial', 'JJ'), ('transaction', 'NN'), ('card', 'NN'), ('information', 'NN'), ('with', 'IN'), ('the', 'DT'), ('merchant', 'NN'), ('.', '.')]"
     ]
    }
   ],
   "source": [
    "print(pos, end=\"\")"
   ]
  },
  {
   "cell_type": "code",
   "execution_count": 7,
   "metadata": {
    "collapsed": false
   },
   "outputs": [],
   "source": [
    "# Print only the nouns\n",
    "nouns = [word for word, part in pos if \"NN\" in part]"
   ]
  },
  {
   "cell_type": "code",
   "execution_count": 8,
   "metadata": {
    "collapsed": false
   },
   "outputs": [
    {
     "name": "stdout",
     "output_type": "stream",
     "text": [
      "['decoding', 'system', 'engine', 'device', 'engine', 'operation', 'decoding', 'signals', 'read', 'buyer', 'transaction', 'card', 'engine', 'operation', 'accepting', 'signals', 'read', 'buyer', 'transaction', 'card', 'signals', 'state', 'read', 'buyer', 'transaction', 'card', 'incoming', 'signals', 'state', 'peaks', 'incoming', 'signals', 'peaks', 'incoming', 'signals', 'bits', 'transaction', 'engine', 'device', 'decoding', 'engine', 'transaction', 'engine', 'operation', 'receiving', 'input', 'buyer', 'transaction', 'card', 'information', 'engine', 'intermediary', 'buyer', 'merchant', 'buyer', 'share', 'transaction', 'card', 'information', 'merchant']"
     ]
    }
   ],
   "source": [
    "print(nouns, end=\"\")"
   ]
  },
  {
   "cell_type": "markdown",
   "metadata": {
    "collapsed": true
   },
   "source": [
    "---\n",
    "Playing with SpaCy to perform NLP"
   ]
  },
  {
   "cell_type": "code",
   "execution_count": 9,
   "metadata": {
    "collapsed": true
   },
   "outputs": [],
   "source": [
    "#import spacy\n",
    "\n",
    "#from spacy.en import English\n",
    "#parser = English()\n",
    "#This causes the kernel to crash and be restarted"
   ]
  },
  {
   "cell_type": "markdown",
   "metadata": {},
   "source": [
    "Back to the NLTK...\n",
    "***"
   ]
  },
  {
   "cell_type": "markdown",
   "metadata": {},
   "source": [
    "Now we try some chunking using Regular Expressions."
   ]
  },
  {
   "cell_type": "code",
   "execution_count": 10,
   "metadata": {
    "collapsed": false
   },
   "outputs": [],
   "source": [
    "# Define Regex rules for Noun Phrases (NP), prepositions (P), Verbs (V), preposition phrase (PP), verb phrase (VP)\n",
    "grammar = '''\n",
    "    NP: {<DT>? <JJ>* <NN>*} # NP\n",
    "    P: {<IN>}           # Preposition\n",
    "    V: {<V.*>}          # Verb\n",
    "    PP: {<P> <NP>}      # PP -> P NP\n",
    "    VP: {<V> <NP|PP>*}  # VP -> V (NP|PP)*\n",
    "'''\n",
    "cp = nltk.RegexpParser(grammar)"
   ]
  },
  {
   "cell_type": "code",
   "execution_count": 13,
   "metadata": {
    "collapsed": false
   },
   "outputs": [],
   "source": [
    "result = cp.parse(pos)"
   ]
  },
  {
   "cell_type": "code",
   "execution_count": 14,
   "metadata": {
    "collapsed": true
   },
   "outputs": [],
   "source": [
    "result.draw()"
   ]
  },
  {
   "cell_type": "markdown",
   "metadata": {},
   "source": [
    "Not so bad for out of the box. We need some tweaks to recognise some verbs used as adjectives. Maybe if we add a new rule for a noun-phrase ```{<DT>+ <JJ>* <V>+ <NN>+}```..."
   ]
  },
  {
   "cell_type": "code",
   "execution_count": 34,
   "metadata": {
    "collapsed": false
   },
   "outputs": [],
   "source": [
    "grammar = '''\n",
    "    NP: {<DT>+ <VBG>? <NN.?>+} \n",
    "        {<DT>? <JJ>* <NN.*>+} # NP\n",
    "'''\n",
    "\n",
    "cp = nltk.RegexpParser(grammar)\n",
    "result = cp.parse(pos)\n",
    "result.draw()"
   ]
  },
  {
   "cell_type": "markdown",
   "metadata": {},
   "source": [
    "This is working better and picks up \"a decoding engine\" as a noun phrase. We also need to add a rule to identify \"the buyer's financial transaction card\" as a noun phrase. Currently the presence of the possesive \"s\" is throwing things off."
   ]
  },
  {
   "cell_type": "code",
   "execution_count": 74,
   "metadata": {
    "collapsed": false
   },
   "outputs": [],
   "source": [
    "grammar = '''\n",
    "    NP: {<DT|PRP\\$> <VBG> <NN.*>+} \n",
    "        {<DT|PRP\\$> <NN.*> <POS> <JJ>* <NN.*>+}\n",
    "        {<DT|PRP\\$>? <JJ>* <NN.*>+ }\n",
    "'''\n",
    "\n",
    "cp = nltk.RegexpParser(grammar)\n",
    "result = cp.parse(pos)\n",
    "#result.draw()"
   ]
  },
  {
   "cell_type": "code",
   "execution_count": 75,
   "metadata": {
    "collapsed": false,
    "scrolled": true
   },
   "outputs": [
    {
     "name": "stdout",
     "output_type": "stream",
     "text": [
      "(S\n",
      "  (NP A/DT decoding/NN system/NN)\n",
      "  ,/,\n",
      "  comprising/VBG\n",
      "  :/:\n",
      "  (NP a/DT decoding/VBG engine/NN)\n",
      "  running/VBG\n",
      "  on/IN\n",
      "  (NP a/DT mobile/JJ device/NN)\n",
      "  ,/,\n",
      "  (NP the/DT decoding/VBG engine/NN)\n",
      "  in/IN\n",
      "  (NP operation/NN decoding/NN signals/NNS)\n",
      "  produced/VBD\n",
      "  from/IN\n",
      "  (NP a/DT read/NN)\n",
      "  of/IN\n",
      "  (NP a/DT buyer/NN 's/POS financial/JJ transaction/NN card/NN)\n",
      "  ,/,\n",
      "  (NP the/DT decoding/VBG engine/NN)\n",
      "  in/IN\n",
      "  (NP operation/NN accepting/NN)\n",
      "  and/CC\n",
      "  initializing/VBG\n",
      "  incoming/VBG\n",
      "  (NP signals/NNS)\n",
      "  from/IN\n",
      "  (NP the/DT read/NN)\n",
      "  of/IN\n",
      "  (NP the/DT buyer/NN 's/POS financial/JJ transaction/NN card/NN)\n",
      "  until/IN\n",
      "  (NP the/DT signals/NNS)\n",
      "  reach/VBP\n",
      "  (NP a/DT steady/JJ state/NN)\n",
      "  ,/,\n",
      "  detecting/VBG\n",
      "  (NP the/DT read/NN)\n",
      "  of/IN\n",
      "  (NP the/DT buyer/NN 's/POS financial/JJ transaction/NN card/NN)\n",
      "  once/IN\n",
      "  (NP the/DT incoming/NN signals/NNS)\n",
      "  are/VBP\n",
      "  in/IN\n",
      "  (NP a/DT steady/JJ state/NN)\n",
      "  ,/,\n",
      "  identifying/VBG\n",
      "  (NP peaks/NNS)\n",
      "  in/IN\n",
      "  (NP the/DT incoming/NN signals/NNS)\n",
      "  and/CC\n",
      "  digitizing/VBG\n",
      "  (NP the/DT identified/JJ peaks/NNS)\n",
      "  in/IN\n",
      "  (NP the/DT incoming/NN signals/NNS)\n",
      "  into/IN\n",
      "  (NP bits/NNS)\n",
      "  ;/:\n",
      "  and/CC\n",
      "  (NP a/DT transaction/NN engine/NN)\n",
      "  running/VBG\n",
      "  on/IN\n",
      "  (NP the/DT mobile/JJ device/NN)\n",
      "  and/CC\n",
      "  coupled/VBN\n",
      "  to/TO\n",
      "  (NP the/DT decoding/NN engine/NN)\n",
      "  ,/,\n",
      "  (NP the/DT transaction/NN engine/NN)\n",
      "  in/IN\n",
      "  (NP operation/NN receiving/NN)\n",
      "  as/IN\n",
      "  (NP its/PRP$ input/NN)\n",
      "  decoded/VBD\n",
      "  (NP buyer/NN)\n",
      "  's/POS\n",
      "  (NP financial/JJ transaction/NN card/NN information/NN)\n",
      "  from/IN\n",
      "  (NP the/DT decoding/VBG engine/NN)\n",
      "  and/CC\n",
      "  serving/VBG\n",
      "  as/IN\n",
      "  (NP an/DT intermediary/NN)\n",
      "  between/IN\n",
      "  (NP the/DT buyer/NN)\n",
      "  and/CC\n",
      "  (NP a/DT merchant/NN)\n",
      "  ,/,\n",
      "  so/IN\n",
      "  that/IN\n",
      "  (NP the/DT buyer/NN)\n",
      "  does/VBZ\n",
      "  not/RB\n",
      "  have/VB\n",
      "  to/TO\n",
      "  (NP share/NN)\n",
      "  (NP\n",
      "    his/her/PRP$\n",
      "    financial/JJ\n",
      "    transaction/NN\n",
      "    card/NN\n",
      "    information/NN)\n",
      "  with/IN\n",
      "  (NP the/DT merchant/NN)\n",
      "  ./.)\n"
     ]
    }
   ],
   "source": [
    "print(result)"
   ]
  },
  {
   "cell_type": "code",
   "execution_count": 76,
   "metadata": {
    "collapsed": true
   },
   "outputs": [],
   "source": [
    "result.draw()"
   ]
  },
  {
   "cell_type": "markdown",
   "metadata": {},
   "source": [
    "Now we define a tree traversal function to print all the noun phrases."
   ]
  },
  {
   "cell_type": "code",
   "execution_count": 77,
   "metadata": {
    "collapsed": false
   },
   "outputs": [
    {
     "data": {
      "text/plain": [
       "'S'"
      ]
     },
     "execution_count": 77,
     "metadata": {},
     "output_type": "execute_result"
    }
   ],
   "source": [
    "result.label()"
   ]
  },
  {
   "cell_type": "code",
   "execution_count": 139,
   "metadata": {
    "collapsed": false
   },
   "outputs": [],
   "source": [
    "def traverse(t, np=False):\n",
    "    try:\n",
    "        t.label()\n",
    "    except AttributeError:\n",
    "        # This is then a tuple e.g. ('A', 'DT') which is a leaf of the tree\n",
    "        if np:\n",
    "            print(t[0], end=\" \")\n",
    "    else:\n",
    "        # Now we know that t.node is defined\n",
    "        if \"S\" in t.label():\n",
    "            for child in t:\n",
    "                traverse(child)\n",
    "        elif \"NP\" in t.label():\n",
    "            for child in t:\n",
    "                traverse(child, np=True)\n",
    "            print(\"\")"
   ]
  },
  {
   "cell_type": "code",
   "execution_count": 140,
   "metadata": {
    "collapsed": false,
    "scrolled": true
   },
   "outputs": [
    {
     "name": "stdout",
     "output_type": "stream",
     "text": [
      "A decoding system \n",
      "a decoding engine \n",
      "a mobile device \n",
      "the decoding engine \n",
      "operation decoding signals \n",
      "a read \n",
      "a buyer 's financial transaction card \n",
      "the decoding engine \n",
      "operation accepting \n",
      "signals \n",
      "the read \n",
      "the buyer 's financial transaction card \n",
      "the signals \n",
      "a steady state \n",
      "the read \n",
      "the buyer 's financial transaction card \n",
      "the incoming signals \n",
      "a steady state \n",
      "peaks \n",
      "the incoming signals \n",
      "the identified peaks \n",
      "the incoming signals \n",
      "bits \n",
      "a transaction engine \n",
      "the mobile device \n",
      "the decoding engine \n",
      "the transaction engine \n",
      "operation receiving \n",
      "its input \n",
      "buyer \n",
      "financial transaction card information \n",
      "the decoding engine \n",
      "an intermediary \n",
      "the buyer \n",
      "a merchant \n",
      "the buyer \n",
      "share \n",
      "his/her financial transaction card information \n",
      "the merchant \n"
     ]
    }
   ],
   "source": [
    "traverse(result)"
   ]
  },
  {
   "cell_type": "markdown",
   "metadata": {},
   "source": [
    "It would be good to get the unique entities in these noun phrases. We can ignore the determinant (although this could be used to check antecedence). A good grammar parser should do this - if a noun phrase is repeated it could be used to avoid ambiguity.\n",
    "\n",
    "We can adapt our traversal function:"
   ]
  },
  {
   "cell_type": "code",
   "execution_count": null,
   "metadata": {
    "collapsed": true
   },
   "outputs": [],
   "source": [
    " n      def traverse(t, np=False):\n",
    "    try:\n",
    "        t.label()\n",
    "    except AttributeError:\n",
    "        # This is then a tuple e.g. ('A', 'DT') which is a leaf of the tree\n",
    "        if np:\n",
    "            print(t[0], end=\" \")\n",
    "    else:\n",
    "        # Now we know that t.node is defined\n",
    "        if \"S\" in t.label():\n",
    "            for child in t:\n",
    "                traverse(child)\n",
    "        elif \"NP\" in t.label():\n",
    "            for child in t:\n",
    "                traverse(child, np=True)\n",
    "            print(\"\")"
   ]
  },
  {
   "cell_type": "code",
   "execution_count": 130,
   "metadata": {
    "collapsed": false
   },
   "outputs": [
    {
     "data": {
      "text/plain": [
       "('A', 'DT')"
      ]
     },
     "execution_count": 130,
     "metadata": {},
     "output_type": "execute_result"
    }
   ],
   "source": [
    "result[0][0]"
   ]
  },
  {
   "cell_type": "code",
   "execution_count": 133,
   "metadata": {
    "collapsed": false
   },
   "outputs": [
    {
     "data": {
      "text/plain": [
       "('A', 'DT')"
      ]
     },
     "execution_count": 133,
     "metadata": {},
     "output_type": "execute_result"
    }
   ],
   "source": [
    "result[0][0]"
   ]
  },
  {
   "cell_type": "code",
   "execution_count": null,
   "metadata": {
    "collapsed": true
   },
   "outputs": [],
   "source": [
    "\" \".join([])"
   ]
  },
  {
   "cell_type": "code",
   "execution_count": 116,
   "metadata": {
    "collapsed": false,
    "scrolled": true
   },
   "outputs": [
    {
     "name": "stdout",
     "output_type": "stream",
     "text": [
      "(S\n",
      "  (NP A/DT decoding/NN system/NN)\n",
      "  ,/,\n",
      "  comprising/VBG\n",
      "  :/:\n",
      "  (NP a/DT decoding/VBG engine/NN)\n",
      "  running/VBG\n",
      "  on/IN\n",
      "  (NP a/DT mobile/JJ device/NN)\n",
      "  ,/,\n",
      "  (NP the/DT decoding/VBG engine/NN)\n",
      "  in/IN\n",
      "  (NP operation/NN decoding/NN signals/NNS)\n",
      "  produced/VBD\n",
      "  from/IN\n",
      "  (NP a/DT read/NN)\n",
      "  of/IN\n",
      "  (NP a/DT buyer/NN 's/POS financial/JJ transaction/NN card/NN)\n",
      "  ,/,\n",
      "  (NP the/DT decoding/VBG engine/NN)\n",
      "  in/IN\n",
      "  (NP operation/NN accepting/NN)\n",
      "  and/CC\n",
      "  initializing/VBG\n",
      "  incoming/VBG\n",
      "  (NP signals/NNS)\n",
      "  from/IN\n",
      "  (NP the/DT read/NN)\n",
      "  of/IN\n",
      "  (NP the/DT buyer/NN 's/POS financial/JJ transaction/NN card/NN)\n",
      "  until/IN\n",
      "  (NP the/DT signals/NNS)\n",
      "  reach/VBP\n",
      "  (NP a/DT steady/JJ state/NN)\n",
      "  ,/,\n",
      "  detecting/VBG\n",
      "  (NP the/DT read/NN)\n",
      "  of/IN\n",
      "  (NP the/DT buyer/NN 's/POS financial/JJ transaction/NN card/NN)\n",
      "  once/IN\n",
      "  (NP the/DT incoming/NN signals/NNS)\n",
      "  are/VBP\n",
      "  in/IN\n",
      "  (NP a/DT steady/JJ state/NN)\n",
      "  ,/,\n",
      "  identifying/VBG\n",
      "  (NP peaks/NNS)\n",
      "  in/IN\n",
      "  (NP the/DT incoming/NN signals/NNS)\n",
      "  and/CC\n",
      "  digitizing/VBG\n",
      "  (NP the/DT identified/JJ peaks/NNS)\n",
      "  in/IN\n",
      "  (NP the/DT incoming/NN signals/NNS)\n",
      "  into/IN\n",
      "  (NP bits/NNS)\n",
      "  ;/:\n",
      "  and/CC\n",
      "  (NP a/DT transaction/NN engine/NN)\n",
      "  running/VBG\n",
      "  on/IN\n",
      "  (NP the/DT mobile/JJ device/NN)\n",
      "  and/CC\n",
      "  coupled/VBN\n",
      "  to/TO\n",
      "  (NP the/DT decoding/NN engine/NN)\n",
      "  ,/,\n",
      "  (NP the/DT transaction/NN engine/NN)\n",
      "  in/IN\n",
      "  (NP operation/NN receiving/NN)\n",
      "  as/IN\n",
      "  (NP its/PRP$ input/NN)\n",
      "  decoded/VBD\n",
      "  (NP buyer/NN)\n",
      "  's/POS\n",
      "  (NP financial/JJ transaction/NN card/NN information/NN)\n",
      "  from/IN\n",
      "  (NP the/DT decoding/VBG engine/NN)\n",
      "  and/CC\n",
      "  serving/VBG\n",
      "  as/IN\n",
      "  (NP an/DT intermediary/NN)\n",
      "  between/IN\n",
      "  (NP the/DT buyer/NN)\n",
      "  and/CC\n",
      "  (NP a/DT merchant/NN)\n",
      "  ,/,\n",
      "  so/IN\n",
      "  that/IN\n",
      "  (NP the/DT buyer/NN)\n",
      "  does/VBZ\n",
      "  not/RB\n",
      "  have/VB\n",
      "  to/TO\n",
      "  (NP share/NN)\n",
      "  (NP\n",
      "    his/her/PRP$\n",
      "    financial/JJ\n",
      "    transaction/NN\n",
      "    card/NN\n",
      "    information/NN)\n",
      "  with/IN\n",
      "  (NP the/DT merchant/NN)\n",
      "  ./.)\n"
     ]
    }
   ],
   "source": [
    "result.pprint()"
   ]
  },
  {
   "cell_type": "code",
   "execution_count": null,
   "metadata": {
    "collapsed": true
   },
   "outputs": [],
   "source": []
  }
 ],
 "metadata": {
  "kernelspec": {
   "display_name": "Python 3",
   "language": "python",
   "name": "python3"
  },
  "language_info": {
   "codemirror_mode": {
    "name": "ipython",
    "version": 3
   },
   "file_extension": ".py",
   "mimetype": "text/x-python",
   "name": "python",
   "nbconvert_exporter": "python",
   "pygments_lexer": "ipython3",
   "version": "3.5.1"
  }
 },
 "nbformat": 4,
 "nbformat_minor": 0
}
