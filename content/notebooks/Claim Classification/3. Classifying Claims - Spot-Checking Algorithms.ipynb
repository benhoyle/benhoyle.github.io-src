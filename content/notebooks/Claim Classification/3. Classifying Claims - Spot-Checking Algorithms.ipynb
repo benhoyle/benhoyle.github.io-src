{
 "cells": [
  {
   "cell_type": "markdown",
   "metadata": {},
   "source": [
    "# 3. Classifying Claims - Spot-Checking Algorithms\n",
    "\n",
    "Now we have our claim data and Section labels in numeric form, we can start evaluating different machine learning algorithms to get a feel for what may or may not work. A good method to apply is described [here](https://machinelearningmastery.com/how-to-evaluate-machine-learning-algorithms/).\n",
    "\n",
    "At this stage we want to determine some baseline results and apply vanilla implementations of common algorithms. From this we can choose one or two algorithms to investigate further. "
   ]
  },
  {
   "cell_type": "markdown",
   "metadata": {},
   "source": [
    "## Loading Our Data\n",
    "\n",
    "We can load our X and Y as saved in part 2."
   ]
  },
  {
   "cell_type": "code",
   "execution_count": 1,
   "metadata": {},
   "outputs": [
    {
     "name": "stdout",
     "output_type": "stream",
     "text": [
      "Loading data\n",
      "11238 claims and 11238 classifications loaded\n"
     ]
    }
   ],
   "source": [
    "import pickle\n",
    "with open(\"encoded_data.pkl\", \"rb\") as f:\n",
    "    print(\"Loading data\")\n",
    "    X, Y = pickle.load(f)\n",
    "    print(\"{0} claims and {1} classifications loaded\".format(len(X), len(Y)))"
   ]
  },
  {
   "cell_type": "markdown",
   "metadata": {},
   "source": [
    "## Performance Measure\n",
    "\n",
    "The primary performance measure we are going to evaluate is classification accuracy, e.g. a percentage of correctly predicted classification labels.  \n",
    "\n",
    "In this project it is also useful to look at the confusion matrix. As there may be some overlap between classes, this may be visible in the confusion matrix."
   ]
  },
  {
   "cell_type": "markdown",
   "metadata": {},
   "source": [
    "## Cross Validation\n",
    "\n",
    "We will be applying 5-fold cross validation. This will train the classifier on 80% of the data, and test on the remaining 20%, providing an average measure for classification accuracy across 5 repetitions with different samples in each split. (10-fold cross validation would be slightly better but this was taking slightly too long on my old desktop machine.)\n",
    "\n",
    "scikit-learn has a [module](http://scikit-learn.org/stable/modules/cross_validation.html) for applying k-fold cross validation. When the cv parameter is set to 5 this will run 5-fold validation. This can also be used with keras as explained in section 7 [here](https://machinelearningmastery.com/multi-class-classification-tutorial-keras-deep-learning-library/).  \n",
    "\n",
    "We also want to set a random seed for reproducibility (so the same random numbers are generated on repetitions of the classification)."
   ]
  },
  {
   "cell_type": "markdown",
   "metadata": {},
   "source": [
    "## Algorithm Selection\n",
    "\n",
    "We will start with 5-10 different algorithms. We need algorithms adapted for supervised multi-class classification. Luckily scikit-learn provides a [handy list](http://scikit-learn.org/stable/modules/multiclass.html#multiclass).\n",
    "\n",
    "For the present problem these will include:\n",
    "- random selection (for use as a baseline);\n",
    "- naive Bayes;\n",
    "- logistic regression;\n",
    "- k-Nearest Neighbour classifier with k=8;\n",
    "- multi-layer perceptron;\n",
    "- support vector machines;\n",
    "- decision tree classifier; and\n",
    "- random-forest classifier.\n",
    "\n",
    "This [example](http://scikit-learn.org/stable/auto_examples/classification/plot_classifier_comparison.html) from scikit-learn may be useful."
   ]
  },
  {
   "cell_type": "markdown",
   "metadata": {},
   "source": [
    "## Applying the Algorithms"
   ]
  },
  {
   "cell_type": "code",
   "execution_count": 4,
   "metadata": {
    "collapsed": true
   },
   "outputs": [],
   "source": [
    "import numpy\n",
    "from sklearn.model_selection import cross_val_score\n",
    "from sklearn.dummy import DummyClassifier\n",
    "from sklearn.naive_bayes import MultinomialNB\n",
    "from sklearn.neighbors import KNeighborsClassifier\n",
    "from sklearn.linear_model import SGDClassifier\n",
    "from sklearn.neural_network import MLPClassifier\n",
    "from sklearn.gaussian_process import GaussianProcessClassifier\n",
    "from sklearn.gaussian_process.kernels import RBF\n",
    "from sklearn.tree import DecisionTreeClassifier\n",
    "from sklearn.ensemble import RandomForestClassifier, AdaBoostClassifier\n",
    "from sklearn.svm import SVC\n",
    "\n",
    "classifiers = [\n",
    "    DummyClassifier(random_state=7),\n",
    "    MultinomialNB(),\n",
    "    KNeighborsClassifier(n_neighbors=8),\n",
    "    SGDClassifier(max_iter=5, tol=None),\n",
    "    MLPClassifier(),\n",
    "    DecisionTreeClassifier(),\n",
    "    RandomForestClassifier(),\n",
    "    AdaBoostClassifier(),\n",
    "    SVC()\n",
    "]"
   ]
  },
  {
   "cell_type": "code",
   "execution_count": 5,
   "metadata": {},
   "outputs": [
    {
     "data": {
      "text/plain": [
       "'DummyClassifier'"
      ]
     },
     "execution_count": 5,
     "metadata": {},
     "output_type": "execute_result"
    }
   ],
   "source": [
    "# We can use the class name to work out each\n",
    "classifiers[0].__class__.__name__"
   ]
  },
  {
   "cell_type": "code",
   "execution_count": 7,
   "metadata": {},
   "outputs": [
    {
     "name": "stdout",
     "output_type": "stream",
     "text": [
      "Classifier DummyClassifier has an average classification accuracy of 20.14 (0.13)\n",
      "Classifier MultinomialNB has an average classification accuracy of 58.90 (1.12)\n",
      "Classifier KNeighborsClassifier has an average classification accuracy of 30.15 (2.74)\n",
      "Classifier SGDClassifier has an average classification accuracy of 56.79 (0.75)\n",
      "Classifier MLPClassifier has an average classification accuracy of 61.20 (0.54)\n",
      "Classifier DecisionTreeClassifier has an average classification accuracy of 47.33 (0.52)\n",
      "Classifier RandomForestClassifier has an average classification accuracy of 50.01 (1.17)\n",
      "Classifier AdaBoostClassifier has an average classification accuracy of 34.34 (1.31)\n",
      "Classifier SVC has an average classification accuracy of 62.52 (0.80)\n"
     ]
    }
   ],
   "source": [
    "results = list()\n",
    "# Convert one hot to target integer\n",
    "Y_integers = numpy.argmax(Y, axis=1)\n",
    "\n",
    "for clf in classifiers:\n",
    "    name = clf.__class__.__name__\n",
    "    scores = cross_val_score(clf, X, Y_integers, cv=5)\n",
    "    results.append((\n",
    "        name, \n",
    "        scores.mean()*100, \n",
    "        scores.std()*100\n",
    "    ))\n",
    "        \n",
    "    print(\n",
    "        \"Classifier {0} has an average classification accuracy of {1:.2f} ({2:.2f})\".format(\n",
    "            name, \n",
    "            scores.mean()*100, \n",
    "            scores.std()*100\n",
    "        )    \n",
    "    )"
   ]
  },
  {
   "cell_type": "markdown",
   "metadata": {},
   "source": [
    "Results\n",
    "```\n",
    "Classifier DummyClassifier has an average classification accuracy of 20.14 (0.13)\n",
    "Classifier MultinomialNB has an average classification accuracy of 58.90 (1.12)\n",
    "Classifier KNeighborsClassifier has an average classification accuracy of 30.15 (2.74)\n",
    "Classifier SGDClassifier has an average classification accuracy of 56.79 (0.75)\n",
    "Classifier MLPClassifier has an average classification accuracy of 61.20 (0.54)\n",
    "Classifier DecisionTreeClassifier has an average classification accuracy of 47.33 (0.52)\n",
    "Classifier RandomForestClassifier has an average classification accuracy of 50.01 (1.17)\n",
    "Classifier AdaBoostClassifier has an average classification accuracy of 34.34 (1.31)\n",
    "Classifier SVC has an average classification accuracy of 62.52 (0.80)\n",
    "\n",
    "```\n",
    "Memory Error for Gaussian Process"
   ]
  },
  {
   "cell_type": "markdown",
   "metadata": {
    "collapsed": true
   },
   "source": [
    "## Observations\n",
    "\n",
    "Our baseline - making a random choice based on the different proportions of labels available is around 20% accuracy, i.e. if we guess randomly we still correctly classify the claims 1 time out of 5.  \n",
    "\n",
    "The k-Nearest Neighbours classifier does quite poorly. This indicates that clear groups within the TD-IDF vector space do not exist. The AdaBoost classifier has a comparative performance at around 35% accuracy. It would thus seem sensible to exclude these classifiers at this stage.\n",
    "\n",
    "Tree-based classifiers - Decision Trees and Random Forest Classifiers - do a little better with around 50% accuracy. Random Forests appear to provide a small improvement (~ 3%) over Decision Trees. However, these are around 10% below the next set of classifiers, so again we will exclude these classifiers at this stage.\n",
    "\n",
    "This leaves four classifiers with accuracies of around 60%: Naive Bayes (MultinomialNB), a Linear Support Vector Machine (SVM) trained with Stochastic Gradient Descent (SGDClassifier), an SVM with a radial basis function (RBF) kernel (SVC) and an Multi-Layer Perceptron (MLPClassifier). By comparing the linear SVM and MLP we can see that adding hidden layers to a linear model provides an improvement of around 4%. Also the SVC classifier scores highly, better than the linear SVM. It thus seems sensible to look at neural networks with hidden layers over linear regression models. The multinomial Naive Bayes classifier works surprisingly well, and slightly out-peforms the linear SVM. \n",
    "\n",
    "From these results it looks like deep-learning, i.e. multilayer neural networks could provide a good result. We will thus investigate these methods in more detail in the next post. It would also be worth varying some parameters of the SVC classifier to see if we can improve accuracy (although training time may be an issue).\n",
    "\n",
    "As Bayesian methods come at things from a quite different perspective, it may also be worth investigating whether we can obtain any improvement over the Naive Bayes approach.  "
   ]
  },
  {
   "cell_type": "markdown",
   "metadata": {},
   "source": [
    "### An Aside on Classification History\n",
    "\n",
    "The results of this spot-check experiment rather nicely match the historic development of supervised classification algorithms.  \n",
    "\n",
    "Before recent developments in deep-learning, linear classifiers such as linear SVMs offered the best performance. Bayesian methods then offered an alternative set of classifiers with a similar performance. Many early spam filters used Naive Bayes classifiers. \n",
    "\n",
    "The recent improvements in deep-learning offer the potential for gains over the previous state-of-the-art. However, as in our case, these gains are not huge with vanilla models (\\< 5%). "
   ]
  },
  {
   "cell_type": "code",
   "execution_count": null,
   "metadata": {
    "collapsed": true
   },
   "outputs": [],
   "source": []
  }
 ],
 "metadata": {
  "kernelspec": {
   "display_name": "Python 3",
   "language": "python",
   "name": "python3"
  },
  "language_info": {
   "codemirror_mode": {
    "name": "ipython",
    "version": 3
   },
   "file_extension": ".py",
   "mimetype": "text/x-python",
   "name": "python",
   "nbconvert_exporter": "python",
   "pygments_lexer": "ipython3",
   "version": "3.5.2"
  }
 },
 "nbformat": 4,
 "nbformat_minor": 2
}
