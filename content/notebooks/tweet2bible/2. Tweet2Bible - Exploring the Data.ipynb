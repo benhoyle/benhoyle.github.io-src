{
 "cells": [
  {
   "cell_type": "markdown",
   "metadata": {},
   "source": [
    "Title: 2. Tweet2Bible - Exploring the Data\n",
    "Tags: preparing_data\n",
    "Authors: Ben Hoyle\n",
    "Summary: This post explores the data for our Tweet2Bible experiments."
   ]
  },
  {
   "cell_type": "markdown",
   "metadata": {},
   "source": [
    "# 2. Tweet2Bible - Exploring the Data\n",
    "\n",
    "In the previous post we looked at the problem for our current project: how to match a tweet to passages of the Bible.\n",
    "\n",
    "In this post we will look at the steps required to prepare some data for our algorithms. We will also look at the nature of the data, which may give us some insights as to how we transform our data in later stages."
   ]
  },
  {
   "cell_type": "markdown",
   "metadata": {},
   "source": [
    "## Getting the Data"
   ]
  },
  {
   "cell_type": "markdown",
   "metadata": {},
   "source": [
    "### Tweets\n",
    "\n",
    "Twitter offers an option in the settings to download your tweet archive. Log in to the web version, goto account settings and click the \"Download Archive\" button. You will then be sent an email with a link to the data.\n",
    "\n",
    "Fair play to Twitter, the archive is quite cool. You get a CSV file with your tweets and some other useful data, plus a JSON archive (which can be viewed via a local HTML file). To keep things simple we'll just use the CSV file for now."
   ]
  },
  {
   "cell_type": "code",
   "execution_count": 3,
   "metadata": {},
   "outputs": [],
   "source": [
    "import csv\n",
    "with open('tweets.csv', newline='', encoding='utf-8') as csvfile:\n",
    "    casereader = csv.reader(csvfile, delimiter=',')\n",
    "    data = [row for row in casereader]"
   ]
  },
  {
   "cell_type": "code",
   "execution_count": 4,
   "metadata": {},
   "outputs": [
    {
     "data": {
      "text/plain": [
       "['tweet_id',\n",
       " 'in_reply_to_status_id',\n",
       " 'in_reply_to_user_id',\n",
       " 'timestamp',\n",
       " 'source',\n",
       " 'text',\n",
       " 'retweeted_status_id',\n",
       " 'retweeted_status_user_id',\n",
       " 'retweeted_status_timestamp',\n",
       " 'expanded_urls']"
      ]
     },
     "execution_count": 4,
     "metadata": {},
     "output_type": "execute_result"
    }
   ],
   "source": [
    "data[0]"
   ]
  },
  {
   "cell_type": "code",
   "execution_count": 7,
   "metadata": {},
   "outputs": [
    {
     "data": {
      "text/plain": [
       "[['1009719610910957568',\n",
       "  '1009527946036613121',\n",
       "  '20524211',\n",
       "  '2018-06-21 08:48:09 +0000',\n",
       "  '<a href=\"http://twitter.com\" rel=\"nofollow\">Twitter Web Client</a>',\n",
       "  \"@patently It's okay - whatever photo storage app you use is already plugged into the system.\",\n",
       "  '',\n",
       "  '',\n",
       "  '',\n",
       "  ''],\n",
       " ['1009409717205168128',\n",
       "  '',\n",
       "  '',\n",
       "  '2018-06-20 12:16:45 +0000',\n",
       "  '<a href=\"http://twitter.com/download/iphone\" rel=\"nofollow\">Twitter for iPhone</a>',\n",
       "  'I love all the people the computer said “looked a bit like Rick Astley” including, I think, JFK, Jesus and Norman Bates. https://t.co/HHI0HFU0Cy',\n",
       "  '',\n",
       "  '',\n",
       "  '',\n",
       "  'https://twitter.com/quasimondo/status/1009369380042485760']]"
      ]
     },
     "execution_count": 7,
     "metadata": {},
     "output_type": "execute_result"
    }
   ],
   "source": [
    "data[1:3]"
   ]
  },
  {
   "cell_type": "markdown",
   "metadata": {},
   "source": [
    "For now we will just extract the text to get a list of strings."
   ]
  },
  {
   "cell_type": "code",
   "execution_count": 8,
   "metadata": {},
   "outputs": [],
   "source": [
    "D1 = [d[5] for d in data[1:]]"
   ]
  },
  {
   "cell_type": "code",
   "execution_count": 9,
   "metadata": {},
   "outputs": [
    {
     "data": {
      "text/plain": [
       "[\"@patently It's okay - whatever photo storage app you use is already plugged into the system.\",\n",
       " 'I love all the people the computer said “looked a bit like Rick Astley” including, I think, JFK, Jesus and Norman Bates. https://t.co/HHI0HFU0Cy',\n",
       " \"“These were ancient engineers with a genius that allowed people to walk multi-tonne statues and roll multi-tonne hats - which teaches us about the society's investment in honouring their ancestors. It's quite a remarkable accomplishment” https://t.co/DzscvwJ0do https://t.co/Q7B8ioRS0h\",\n",
       " 'KPMG audit work unacceptable - watchdog https://t.co/9np6lWkHTG [Average remuneration per partner in 2016 = £582k]',\n",
       " 'Ooo Le Sud by Nino Ferrer - well done @SpotifyUK algorithms https://t.co/ANxMxVWiJV [Question is do I prefer the original French or Nino’s English version? Also check out the brilliantly proggy Métronomie]']"
      ]
     },
     "execution_count": 9,
     "metadata": {},
     "output_type": "execute_result"
    }
   ],
   "source": [
    "D1[0:5]"
   ]
  },
  {
   "cell_type": "code",
   "execution_count": 10,
   "metadata": {},
   "outputs": [
    {
     "data": {
      "text/plain": [
       "'We have 9806 tweets.'"
      ]
     },
     "execution_count": 10,
     "metadata": {},
     "output_type": "execute_result"
    }
   ],
   "source": [
    "\"We have {0} tweets.\".format(len(D1))"
   ]
  },
  {
   "cell_type": "markdown",
   "metadata": {},
   "source": [
    "Looking at some of our tweets, we need to unescape the text such that \"&amp;\" is converted to \"&\". This can be performed using the html library."
   ]
  },
  {
   "cell_type": "code",
   "execution_count": 39,
   "metadata": {},
   "outputs": [],
   "source": [
    "import html\n",
    "\n",
    "D1 = [html.unescape(t) for t in D1]"
   ]
  },
  {
   "cell_type": "markdown",
   "metadata": {},
   "source": [
    "### Bible\n",
    "\n",
    "The Bible is actually quite a good source of text for natural language processing projects. \n",
    "\n",
    "* it is free; \n",
    "* people want to make it easy to distribute; \n",
    "* it is naturally broken down into short passages; and\n",
    "* it contains a variety of styles (I like to thing of it as a 2000 year old Wikipedia for middle-eastern farmers).\n",
    "\n",
    "For this project I went to [BibleHub.net](http://biblehub.net/database/) which offers an Excel spreadsheet featuring 10 different versions of the Bible, where each row is a different verse. You get a free username and password in exchange for registration using an email address.\n",
    "\n",
    "We can use Pandas to convert the spreadsheet into useful Python data. We then need to pick a Bible to use. I think the most modern translation will probably be best. "
   ]
  },
  {
   "cell_type": "code",
   "execution_count": 11,
   "metadata": {},
   "outputs": [],
   "source": [
    "import pandas as pd"
   ]
  },
  {
   "cell_type": "code",
   "execution_count": 13,
   "metadata": {},
   "outputs": [
    {
     "name": "stdout",
     "output_type": "stream",
     "text": [
      "Collecting xlrd\n",
      "\u001b[?25l  Downloading https://files.pythonhosted.org/packages/07/e6/e95c4eec6221bfd8528bcc4ea252a850bffcc4be88ebc367e23a1a84b0bb/xlrd-1.1.0-py2.py3-none-any.whl (108kB)\n",
      "\u001b[K    100% |################################| 112kB 1.1MB/s ta 0:00:01   65% |#####################           | 71kB 2.0MB/s eta 0:00:01\n",
      "\u001b[?25hInstalling collected packages: xlrd\n",
      "Successfully installed xlrd-1.1.0\n"
     ]
    }
   ],
   "source": [
    "# Pandas needs the xlrd package to read excel files\n",
    "!pip3 install xlrd"
   ]
  },
  {
   "cell_type": "code",
   "execution_count": 14,
   "metadata": {},
   "outputs": [],
   "source": [
    "file = 'bibles.xls'\n",
    "df = pd.read_excel(file)"
   ]
  },
  {
   "cell_type": "code",
   "execution_count": 17,
   "metadata": {},
   "outputs": [
    {
     "data": {
      "text/html": [
       "<div>\n",
       "<style scoped>\n",
       "    .dataframe tbody tr th:only-of-type {\n",
       "        vertical-align: middle;\n",
       "    }\n",
       "\n",
       "    .dataframe tbody tr th {\n",
       "        vertical-align: top;\n",
       "    }\n",
       "\n",
       "    .dataframe thead th {\n",
       "        text-align: right;\n",
       "    }\n",
       "</style>\n",
       "<table border=\"1\" class=\"dataframe\">\n",
       "  <thead>\n",
       "    <tr style=\"text-align: right;\">\n",
       "      <th></th>\n",
       "      <th>Verse</th>\n",
       "      <th>King James Bible</th>\n",
       "      <th>American Standard Version</th>\n",
       "      <th>Douay-Rheims Bible</th>\n",
       "      <th>Darby Bible Translation</th>\n",
       "      <th>English Revised Version</th>\n",
       "      <th>Webster Bible Translation</th>\n",
       "      <th>World English Bible</th>\n",
       "      <th>Young's Literal Translation</th>\n",
       "      <th>American King James Version</th>\n",
       "      <th>Weymouth New Testament</th>\n",
       "    </tr>\n",
       "  </thead>\n",
       "  <tbody>\n",
       "    <tr>\n",
       "      <th>0</th>\n",
       "      <td>Genesis 1:1</td>\n",
       "      <td>In the beginning God created the heaven and th...</td>\n",
       "      <td>In the beginning God created the heavens and t...</td>\n",
       "      <td>In the beginning God created heaven, and earth.</td>\n",
       "      <td>In the beginning God created the heavens and t...</td>\n",
       "      <td>In the beginning God created the heaven and th...</td>\n",
       "      <td>In the beginning God created the heaven and th...</td>\n",
       "      <td>In the beginning God created the heavens and t...</td>\n",
       "      <td>In the beginning of God's preparing the heaven...</td>\n",
       "      <td>In the beginning God created the heaven and th...</td>\n",
       "      <td>NaN</td>\n",
       "    </tr>\n",
       "    <tr>\n",
       "      <th>1</th>\n",
       "      <td>Genesis 1:2</td>\n",
       "      <td>And the earth was without form, and void; and ...</td>\n",
       "      <td>And the earth was waste and void; and darkness...</td>\n",
       "      <td>And the earth was void and empty, and darkness...</td>\n",
       "      <td>And the earth was waste and empty, and darknes...</td>\n",
       "      <td>And the earth was waste and void; and darkness...</td>\n",
       "      <td>And the earth was without form, and void; and ...</td>\n",
       "      <td>Now the earth was formless and empty. Darkness...</td>\n",
       "      <td>the earth hath existed waste and void, and dar...</td>\n",
       "      <td>And the earth was without form, and void; and ...</td>\n",
       "      <td>NaN</td>\n",
       "    </tr>\n",
       "    <tr>\n",
       "      <th>2</th>\n",
       "      <td>Genesis 1:3</td>\n",
       "      <td>And God said, Let there be light: and there wa...</td>\n",
       "      <td>And God said, Let there be light: and there wa...</td>\n",
       "      <td>And God said: Be light made. And light was made.</td>\n",
       "      <td>And God said, Let there be light. And there wa...</td>\n",
       "      <td>And God said, Let there be light: and there wa...</td>\n",
       "      <td>And God said, Let there be light: and there wa...</td>\n",
       "      <td>God said, |Let there be light,| and there was ...</td>\n",
       "      <td>and God saith, 'Let light be;' and light is.</td>\n",
       "      <td>And God said, Let there be light: and there wa...</td>\n",
       "      <td>NaN</td>\n",
       "    </tr>\n",
       "    <tr>\n",
       "      <th>3</th>\n",
       "      <td>Genesis 1:4</td>\n",
       "      <td>And God saw the light, that &lt;i&gt;it was&lt;/i&gt; good...</td>\n",
       "      <td>And God saw the light, that it was good: and G...</td>\n",
       "      <td>And God saw the light that it was good; and he...</td>\n",
       "      <td>And God saw the light that it was good; and Go...</td>\n",
       "      <td>And God saw the light, that it was good: and G...</td>\n",
       "      <td>And God saw the light, that it was good: and G...</td>\n",
       "      <td>God saw the light, and saw that it was good. G...</td>\n",
       "      <td>And God seeth the light that it is good, and G...</td>\n",
       "      <td>And God saw the light, that it was good: and G...</td>\n",
       "      <td>NaN</td>\n",
       "    </tr>\n",
       "    <tr>\n",
       "      <th>4</th>\n",
       "      <td>Genesis 1:5</td>\n",
       "      <td>And God called the light Day, and the darkness...</td>\n",
       "      <td>And God called the light Day, and the darkness...</td>\n",
       "      <td>And he called the light Day, and the darkness ...</td>\n",
       "      <td>And God called the light Day, and the darkness...</td>\n",
       "      <td>And God called the light Day, and the darkness...</td>\n",
       "      <td>And God called the light Day, and the darkness...</td>\n",
       "      <td>God called the light |day,| and the darkness h...</td>\n",
       "      <td>and God calleth to the light 'Day,' and to the...</td>\n",
       "      <td>And God called the light Day, and the darkness...</td>\n",
       "      <td>NaN</td>\n",
       "    </tr>\n",
       "  </tbody>\n",
       "</table>\n",
       "</div>"
      ],
      "text/plain": [
       "         Verse                                   King James Bible  \\\n",
       "0  Genesis 1:1  In the beginning God created the heaven and th...   \n",
       "1  Genesis 1:2  And the earth was without form, and void; and ...   \n",
       "2  Genesis 1:3  And God said, Let there be light: and there wa...   \n",
       "3  Genesis 1:4  And God saw the light, that <i>it was</i> good...   \n",
       "4  Genesis 1:5  And God called the light Day, and the darkness...   \n",
       "\n",
       "                           American Standard Version  \\\n",
       "0  In the beginning God created the heavens and t...   \n",
       "1  And the earth was waste and void; and darkness...   \n",
       "2  And God said, Let there be light: and there wa...   \n",
       "3  And God saw the light, that it was good: and G...   \n",
       "4  And God called the light Day, and the darkness...   \n",
       "\n",
       "                                  Douay-Rheims Bible  \\\n",
       "0   In the beginning God created heaven, and earth.    \n",
       "1  And the earth was void and empty, and darkness...   \n",
       "2  And God said: Be light made. And light was made.    \n",
       "3  And God saw the light that it was good; and he...   \n",
       "4  And he called the light Day, and the darkness ...   \n",
       "\n",
       "                             Darby Bible Translation  \\\n",
       "0  In the beginning God created the heavens and t...   \n",
       "1  And the earth was waste and empty, and darknes...   \n",
       "2  And God said, Let there be light. And there wa...   \n",
       "3  And God saw the light that it was good; and Go...   \n",
       "4  And God called the light Day, and the darkness...   \n",
       "\n",
       "                             English Revised Version  \\\n",
       "0  In the beginning God created the heaven and th...   \n",
       "1  And the earth was waste and void; and darkness...   \n",
       "2  And God said, Let there be light: and there wa...   \n",
       "3  And God saw the light, that it was good: and G...   \n",
       "4  And God called the light Day, and the darkness...   \n",
       "\n",
       "                           Webster Bible Translation  \\\n",
       "0  In the beginning God created the heaven and th...   \n",
       "1  And the earth was without form, and void; and ...   \n",
       "2  And God said, Let there be light: and there wa...   \n",
       "3  And God saw the light, that it was good: and G...   \n",
       "4  And God called the light Day, and the darkness...   \n",
       "\n",
       "                                 World English Bible  \\\n",
       "0  In the beginning God created the heavens and t...   \n",
       "1  Now the earth was formless and empty. Darkness...   \n",
       "2  God said, |Let there be light,| and there was ...   \n",
       "3  God saw the light, and saw that it was good. G...   \n",
       "4  God called the light |day,| and the darkness h...   \n",
       "\n",
       "                         Young's Literal Translation  \\\n",
       "0  In the beginning of God's preparing the heaven...   \n",
       "1  the earth hath existed waste and void, and dar...   \n",
       "2       and God saith, 'Let light be;' and light is.   \n",
       "3  And God seeth the light that it is good, and G...   \n",
       "4  and God calleth to the light 'Day,' and to the...   \n",
       "\n",
       "                         American King James Version Weymouth New Testament  \n",
       "0  In the beginning God created the heaven and th...                    NaN  \n",
       "1  And the earth was without form, and void; and ...                    NaN  \n",
       "2  And God said, Let there be light: and there wa...                    NaN  \n",
       "3  And God saw the light, that it was good: and G...                    NaN  \n",
       "4  And God called the light Day, and the darkness...                    NaN  "
      ]
     },
     "execution_count": 17,
     "metadata": {},
     "output_type": "execute_result"
    }
   ],
   "source": [
    "df.head()"
   ]
  },
  {
   "cell_type": "code",
   "execution_count": 18,
   "metadata": {},
   "outputs": [
    {
     "data": {
      "text/html": [
       "<div>\n",
       "<style scoped>\n",
       "    .dataframe tbody tr th:only-of-type {\n",
       "        vertical-align: middle;\n",
       "    }\n",
       "\n",
       "    .dataframe tbody tr th {\n",
       "        vertical-align: top;\n",
       "    }\n",
       "\n",
       "    .dataframe thead th {\n",
       "        text-align: right;\n",
       "    }\n",
       "</style>\n",
       "<table border=\"1\" class=\"dataframe\">\n",
       "  <thead>\n",
       "    <tr style=\"text-align: right;\">\n",
       "      <th></th>\n",
       "      <th>Verse</th>\n",
       "      <th>King James Bible</th>\n",
       "      <th>American Standard Version</th>\n",
       "      <th>Douay-Rheims Bible</th>\n",
       "      <th>Darby Bible Translation</th>\n",
       "      <th>English Revised Version</th>\n",
       "      <th>Webster Bible Translation</th>\n",
       "      <th>World English Bible</th>\n",
       "      <th>Young's Literal Translation</th>\n",
       "      <th>American King James Version</th>\n",
       "      <th>Weymouth New Testament</th>\n",
       "    </tr>\n",
       "  </thead>\n",
       "  <tbody>\n",
       "    <tr>\n",
       "      <th>count</th>\n",
       "      <td>31102</td>\n",
       "      <td>31102</td>\n",
       "      <td>31100</td>\n",
       "      <td>31092</td>\n",
       "      <td>31099</td>\n",
       "      <td>31086</td>\n",
       "      <td>31102</td>\n",
       "      <td>31098</td>\n",
       "      <td>31102</td>\n",
       "      <td>31102</td>\n",
       "      <td>7924</td>\n",
       "    </tr>\n",
       "    <tr>\n",
       "      <th>unique</th>\n",
       "      <td>31102</td>\n",
       "      <td>30840</td>\n",
       "      <td>30716</td>\n",
       "      <td>30886</td>\n",
       "      <td>30722</td>\n",
       "      <td>30687</td>\n",
       "      <td>30855</td>\n",
       "      <td>30776</td>\n",
       "      <td>30861</td>\n",
       "      <td>30825</td>\n",
       "      <td>7913</td>\n",
       "    </tr>\n",
       "    <tr>\n",
       "      <th>top</th>\n",
       "      <td>Proverbs 26:24</td>\n",
       "      <td>And the LORD spake unto Moses, saying,</td>\n",
       "      <td>And Jehovah spake unto Moses, saying,</td>\n",
       "      <td>And the Lord spoke to Moses, saying:</td>\n",
       "      <td>And Jehovah spoke to Moses, saying,</td>\n",
       "      <td>And the LORD spake unto Moses, saying,</td>\n",
       "      <td>And the LORD spoke to Moses, saying,</td>\n",
       "      <td>Yahweh spoke to Moses, saying,</td>\n",
       "      <td>And Jehovah speaketh unto Moses, saying,</td>\n",
       "      <td>And the LORD spoke to Moses, saying,</td>\n",
       "      <td>May grace and peace be granted to you from God...</td>\n",
       "    </tr>\n",
       "    <tr>\n",
       "      <th>freq</th>\n",
       "      <td>1</td>\n",
       "      <td>72</td>\n",
       "      <td>72</td>\n",
       "      <td>55</td>\n",
       "      <td>72</td>\n",
       "      <td>72</td>\n",
       "      <td>72</td>\n",
       "      <td>71</td>\n",
       "      <td>73</td>\n",
       "      <td>72</td>\n",
       "      <td>5</td>\n",
       "    </tr>\n",
       "  </tbody>\n",
       "</table>\n",
       "</div>"
      ],
      "text/plain": [
       "                 Verse                        King James Bible  \\\n",
       "count            31102                                   31102   \n",
       "unique           31102                                   30840   \n",
       "top     Proverbs 26:24  And the LORD spake unto Moses, saying,   \n",
       "freq                 1                                      72   \n",
       "\n",
       "                    American Standard Version  \\\n",
       "count                                   31100   \n",
       "unique                                  30716   \n",
       "top     And Jehovah spake unto Moses, saying,   \n",
       "freq                                       72   \n",
       "\n",
       "                           Douay-Rheims Bible  \\\n",
       "count                                   31092   \n",
       "unique                                  30886   \n",
       "top     And the Lord spoke to Moses, saying:    \n",
       "freq                                       55   \n",
       "\n",
       "                    Darby Bible Translation  \\\n",
       "count                                 31099   \n",
       "unique                                30722   \n",
       "top     And Jehovah spoke to Moses, saying,   \n",
       "freq                                     72   \n",
       "\n",
       "                       English Revised Version  \\\n",
       "count                                    31086   \n",
       "unique                                   30687   \n",
       "top     And the LORD spake unto Moses, saying,   \n",
       "freq                                        72   \n",
       "\n",
       "                   Webster Bible Translation             World English Bible  \\\n",
       "count                                  31102                           31098   \n",
       "unique                                 30855                           30776   \n",
       "top     And the LORD spoke to Moses, saying,  Yahweh spoke to Moses, saying,   \n",
       "freq                                      72                              71   \n",
       "\n",
       "                     Young's Literal Translation  \\\n",
       "count                                      31102   \n",
       "unique                                     30861   \n",
       "top     And Jehovah speaketh unto Moses, saying,   \n",
       "freq                                          73   \n",
       "\n",
       "                 American King James Version  \\\n",
       "count                                  31102   \n",
       "unique                                 30825   \n",
       "top     And the LORD spoke to Moses, saying,   \n",
       "freq                                      72   \n",
       "\n",
       "                                   Weymouth New Testament  \n",
       "count                                                7924  \n",
       "unique                                               7913  \n",
       "top     May grace and peace be granted to you from God...  \n",
       "freq                                                    5  "
      ]
     },
     "execution_count": 18,
     "metadata": {},
     "output_type": "execute_result"
    }
   ],
   "source": [
    "df.describe()"
   ]
  },
  {
   "cell_type": "markdown",
   "metadata": {},
   "source": [
    "Bibles!\n",
    "\n",
    "Cool. I think the World English Bible looks good for a modern translation. It does have some annoying \"|\" we might want to scrub out."
   ]
  },
  {
   "cell_type": "code",
   "execution_count": 19,
   "metadata": {},
   "outputs": [],
   "source": [
    "worldbible = df[['Verse', 'World English Bible']]"
   ]
  },
  {
   "cell_type": "code",
   "execution_count": 20,
   "metadata": {},
   "outputs": [
    {
     "data": {
      "text/html": [
       "<div>\n",
       "<style scoped>\n",
       "    .dataframe tbody tr th:only-of-type {\n",
       "        vertical-align: middle;\n",
       "    }\n",
       "\n",
       "    .dataframe tbody tr th {\n",
       "        vertical-align: top;\n",
       "    }\n",
       "\n",
       "    .dataframe thead th {\n",
       "        text-align: right;\n",
       "    }\n",
       "</style>\n",
       "<table border=\"1\" class=\"dataframe\">\n",
       "  <thead>\n",
       "    <tr style=\"text-align: right;\">\n",
       "      <th></th>\n",
       "      <th>Verse</th>\n",
       "      <th>World English Bible</th>\n",
       "    </tr>\n",
       "  </thead>\n",
       "  <tbody>\n",
       "    <tr>\n",
       "      <th>0</th>\n",
       "      <td>Genesis 1:1</td>\n",
       "      <td>In the beginning God created the heavens and t...</td>\n",
       "    </tr>\n",
       "    <tr>\n",
       "      <th>1</th>\n",
       "      <td>Genesis 1:2</td>\n",
       "      <td>Now the earth was formless and empty. Darkness...</td>\n",
       "    </tr>\n",
       "    <tr>\n",
       "      <th>2</th>\n",
       "      <td>Genesis 1:3</td>\n",
       "      <td>God said, |Let there be light,| and there was ...</td>\n",
       "    </tr>\n",
       "    <tr>\n",
       "      <th>3</th>\n",
       "      <td>Genesis 1:4</td>\n",
       "      <td>God saw the light, and saw that it was good. G...</td>\n",
       "    </tr>\n",
       "    <tr>\n",
       "      <th>4</th>\n",
       "      <td>Genesis 1:5</td>\n",
       "      <td>God called the light |day,| and the darkness h...</td>\n",
       "    </tr>\n",
       "  </tbody>\n",
       "</table>\n",
       "</div>"
      ],
      "text/plain": [
       "         Verse                                World English Bible\n",
       "0  Genesis 1:1  In the beginning God created the heavens and t...\n",
       "1  Genesis 1:2  Now the earth was formless and empty. Darkness...\n",
       "2  Genesis 1:3  God said, |Let there be light,| and there was ...\n",
       "3  Genesis 1:4  God saw the light, and saw that it was good. G...\n",
       "4  Genesis 1:5  God called the light |day,| and the darkness h..."
      ]
     },
     "execution_count": 20,
     "metadata": {},
     "output_type": "execute_result"
    }
   ],
   "source": [
    "worldbible.head()"
   ]
  },
  {
   "cell_type": "code",
   "execution_count": 33,
   "metadata": {},
   "outputs": [],
   "source": [
    "D2 = [tuple(x) for x in worldbible.to_records(index=False)]"
   ]
  },
  {
   "cell_type": "code",
   "execution_count": 34,
   "metadata": {},
   "outputs": [
    {
     "data": {
      "text/plain": [
       "[('Genesis 1:1', 'In the beginning God created the heavens and the earth.'),\n",
       " ('Genesis 1:2',\n",
       "  \"Now the earth was formless and empty. Darkness was on the surface of the deep. God's Spirit was hovering over the surface of the waters.\"),\n",
       " ('Genesis 1:3', 'God said, |Let there be light,| and there was light.'),\n",
       " ('Genesis 1:4',\n",
       "  'God saw the light, and saw that it was good. God divided the light from the darkness.'),\n",
       " ('Genesis 1:5',\n",
       "  'God called the light |day,| and the darkness he called |night.| There was evening and there was morning, one day.')]"
      ]
     },
     "execution_count": 34,
     "metadata": {},
     "output_type": "execute_result"
    }
   ],
   "source": [
    "D2[0:5]"
   ]
  },
  {
   "cell_type": "code",
   "execution_count": 35,
   "metadata": {},
   "outputs": [
    {
     "data": {
      "text/plain": [
       "[('Genesis 1:1', 'In the beginning God created the heavens and the earth.'),\n",
       " ('Genesis 1:2',\n",
       "  \"Now the earth was formless and empty. Darkness was on the surface of the deep. God's Spirit was hovering over the surface of the waters.\"),\n",
       " ('Genesis 1:3', 'God said, Let there be light, and there was light.'),\n",
       " ('Genesis 1:4',\n",
       "  'God saw the light, and saw that it was good. God divided the light from the darkness.'),\n",
       " ('Genesis 1:5',\n",
       "  'God called the light day, and the darkness he called night. There was evening and there was morning, one day.')]"
      ]
     },
     "execution_count": 35,
     "metadata": {},
     "output_type": "execute_result"
    }
   ],
   "source": [
    "# Just get rid of those annoying |\n",
    "D2 = [(str(v), str(t).replace(\"|\",\"\")) for v,t in D2]\n",
    "D2[0:5]"
   ]
  },
  {
   "cell_type": "code",
   "execution_count": 37,
   "metadata": {},
   "outputs": [
    {
     "data": {
      "text/plain": [
       "'We have 31102 Bible passages.'"
      ]
     },
     "execution_count": 37,
     "metadata": {},
     "output_type": "execute_result"
    }
   ],
   "source": [
    "\"We have {0} Bible passages.\".format(len(D2))"
   ]
  },
  {
   "cell_type": "markdown",
   "metadata": {},
   "source": [
    "So now we D1, a set of tweets, and D2, a set of Bible passages. Let's get matching!"
   ]
  },
  {
   "cell_type": "code",
   "execution_count": 40,
   "metadata": {},
   "outputs": [],
   "source": [
    "# Let's save our data so we can easily load it in a future session\n",
    "save_data = (D1, D2)\n",
    "import pickle\n",
    "with open(\"processed_data.pkl\", 'wb') as f:\n",
    "    pickle.dump(save_data, f)"
   ]
  },
  {
   "cell_type": "code",
   "execution_count": null,
   "metadata": {},
   "outputs": [],
   "source": []
  }
 ],
 "metadata": {
  "kernelspec": {
   "display_name": "Python 3",
   "language": "python",
   "name": "python3"
  },
  "language_info": {
   "codemirror_mode": {
    "name": "ipython",
    "version": 3
   },
   "file_extension": ".py",
   "mimetype": "text/x-python",
   "name": "python",
   "nbconvert_exporter": "python",
   "pygments_lexer": "ipython3",
   "version": "3.6.5"
  }
 },
 "nbformat": 4,
 "nbformat_minor": 2
}
