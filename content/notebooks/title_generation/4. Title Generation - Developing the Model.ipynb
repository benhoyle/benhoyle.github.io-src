{
 "cells": [
  {
   "cell_type": "markdown",
   "metadata": {},
   "source": [
    "Title: 4. Title Generation - Developing the Model\n",
    "Tags: improving_results\n",
    "Authors: Ben Hoyle\n",
    "Summary: This post looks at developing our initial models to include state of the art features to improve results."
   ]
  },
  {
   "cell_type": "markdown",
   "metadata": {},
   "source": [
    "# 4. Title Generation - Developing the Model\n",
    "\n",
    "This post looks at developing our initial models to include state of the art features to improve results."
   ]
  },
  {
   "cell_type": "markdown",
   "metadata": {},
   "source": [
    "To recap:\n",
    "\n",
    "* We have two models: the Ludwig model and the Chollet/Brownlee model. \n",
    "* Performance so far has been fairly poor.\n",
    "* Each model had slightly different characteristics - the Ludwig model produced better formed output but seemed to simply memorise and repeat titles, the Chollet/Brownlee model had a lower loss and appeared to memorise less but produced more nonsensical outputs."
   ]
  },
  {
   "cell_type": "markdown",
   "metadata": {},
   "source": [
    "In our last post we identified a number of ways to improve our models:\n",
    "\n",
    "1. Use GloVe encodings and a shared embedding layer. \n",
    "2. Add attention.\n",
    "3. Add pointers / skip connections between our input and our output.\n",
    "4. Use a coverage measure.\n",
    "5. Use different word forms such as lemmas or stems.\n",
    "6. Use a GAN-style discriminator on the output.\n",
    "7. Improve our sampling by employing beam search.\n",
    "\n",
    "We will look at some of these in this post."
   ]
  },
  {
   "cell_type": "code",
   "execution_count": 4,
   "metadata": {},
   "outputs": [],
   "source": [
    "# Imports \n",
    "import numpy as np\n",
    "import os"
   ]
  },
  {
   "cell_type": "markdown",
   "metadata": {},
   "source": [
    "## Pre-trained Shared Embeddings "
   ]
  },
  {
   "cell_type": "markdown",
   "metadata": {},
   "source": [
    "First download the glove embeddings text file from [here](http://nlp.stanford.edu/data/glove.6B.zip). This is to be placed in a `/glove` directory.\n",
    "\n",
    "Then we follow the steps from Ludwig's example to generate our embedding matrix. "
   ]
  },
  {
   "cell_type": "code",
   "execution_count": 12,
   "metadata": {},
   "outputs": [],
   "source": [
    "GLOVE_DIR = \"glove/\"\n",
    "\n",
    "embeddings_index = {}\n",
    "# For Python 3 tweaked to add 'rb'\n",
    "f = open(os.path.join(GLOVE_DIR, 'glove.6B.100d.txt'), 'rb')\n",
    "for line in f:\n",
    "    values = line.split()\n",
    "    # Tweaked to decode the binary text values\n",
    "    word = values[0].decode('utf-8')\n",
    "    coefs = np.asarray(values[1:], dtype='float32')\n",
    "    embeddings_index[word] = coefs\n",
    "f.close()"
   ]
  },
  {
   "cell_type": "code",
   "execution_count": 13,
   "metadata": {},
   "outputs": [
    {
     "data": {
      "text/plain": [
       "400000"
      ]
     },
     "execution_count": 13,
     "metadata": {},
     "output_type": "execute_result"
    }
   ],
   "source": [
    "len(embeddings_index)"
   ]
  },
  {
   "cell_type": "code",
   "execution_count": 14,
   "metadata": {},
   "outputs": [
    {
     "data": {
      "text/plain": [
       "['irati',\n",
       " 'fotiou',\n",
       " '8-year',\n",
       " 'usagi',\n",
       " 'autobianchi',\n",
       " 'eldercare',\n",
       " 'puraskar',\n",
       " 'dench',\n",
       " 'ventrally',\n",
       " 'amsc']"
      ]
     },
     "execution_count": 14,
     "metadata": {},
     "output_type": "execute_result"
    }
   ],
   "source": [
    "list(embeddings_index.keys())[0:10]"
   ]
  },
  {
   "cell_type": "code",
   "execution_count": 16,
   "metadata": {},
   "outputs": [
    {
     "data": {
      "text/plain": [
       "array([-0.038194, -0.24487 ,  0.72812 , -0.39961 ,  0.083172,  0.043953,\n",
       "       -0.39141 ,  0.3344  , -0.57545 ,  0.087459,  0.28787 , -0.06731 ,\n",
       "        0.30906 , -0.26384 , -0.13231 , -0.20757 ,  0.33395 , -0.33848 ,\n",
       "       -0.31743 , -0.48336 ,  0.1464  , -0.37304 ,  0.34577 ,  0.052041,\n",
       "        0.44946 , -0.46971 ,  0.02628 , -0.54155 , -0.15518 , -0.14107 ,\n",
       "       -0.039722,  0.28277 ,  0.14393 ,  0.23464 , -0.31021 ,  0.086173,\n",
       "        0.20397 ,  0.52624 ,  0.17164 , -0.082378, -0.71787 , -0.41531 ,\n",
       "        0.20335 , -0.12763 ,  0.41367 ,  0.55187 ,  0.57908 , -0.33477 ,\n",
       "       -0.36559 , -0.54857 , -0.062892,  0.26584 ,  0.30205 ,  0.99775 ,\n",
       "       -0.80481 , -3.0243  ,  0.01254 , -0.36942 ,  2.2167  ,  0.72201 ,\n",
       "       -0.24978 ,  0.92136 ,  0.034514,  0.46745 ,  1.1079  , -0.19358 ,\n",
       "       -0.074575,  0.23353 , -0.052062, -0.22044 ,  0.057162, -0.15806 ,\n",
       "       -0.30798 , -0.41625 ,  0.37972 ,  0.15006 , -0.53212 , -0.2055  ,\n",
       "       -1.2526  ,  0.071624,  0.70565 ,  0.49744 , -0.42063 ,  0.26148 ,\n",
       "       -1.538   , -0.30223 , -0.073438, -0.28312 ,  0.37104 , -0.25217 ,\n",
       "        0.016215, -0.017099, -0.38984 ,  0.87424 , -0.72569 , -0.51058 ,\n",
       "       -0.52028 , -0.1459  ,  0.8278  ,  0.27062 ], dtype=float32)"
      ]
     },
     "execution_count": 16,
     "metadata": {},
     "output_type": "execute_result"
    }
   ],
   "source": [
    "embeddings_index.get('the')"
   ]
  },
  {
   "cell_type": "markdown",
   "metadata": {},
   "source": [
    "---\n",
    "#### Load and Tokenize Data\n",
    "\n",
    "Initially we load our data as before. As we are using shared embeddings we will train a common tokenizer on both the claim text and title."
   ]
  },
  {
   "cell_type": "code",
   "execution_count": 17,
   "metadata": {},
   "outputs": [],
   "source": [
    "# Set parameters\n",
    "num_decoder_tokens = 2500 # This is our output title vocabulary\n",
    "num_encoder_tokens = 2500 # This is our input claim vocabulary\n",
    "encoder_seq_length = 300 # This is our limit for our input claim length\n",
    "decoder_seq_length = 22 # This is our limit for our output title length - 20 + 2 for start/stop"
   ]
  },
  {
   "cell_type": "code",
   "execution_count": 18,
   "metadata": {},
   "outputs": [
    {
     "name": "stdout",
     "output_type": "stream",
     "text": [
      "Loading data\n",
      "30000 samples loaded\n",
      "\n",
      "\n",
      "Adding start and stop tokens to output\n",
      "\n",
      "\n",
      "An example title: startseq System and method for session restoration at geo-redundant gateways stopseq\n",
      "----\n",
      "An example claim: \n",
      "1. A method for managing a backup service gateway (SGW) associated with a primary SGW, the method comprising:\n",
      "periodically receiving from the primary SGW at least a portion of corresponding UE session state information, the received portion of session state information being sufficient to enable the backup SGW to indicate to an inquiring management entity that UEs having an active session supported by the primary SGW are in a live state; and\n",
      "in response to a failure of the primary SGW, the backup SGW assuming management of IP addresses and paths associated with said primary SGW and transmitting a Downlink Data Notification (DDN) toward a Mobility Management Entity (MME) for each of said UEs having an active session supported by the failed primary SGW to detach from the network and reattach to the network, wherein each DDN causes the MME to send a detach request with a reattach request code to the respective UE.\n",
      "\n",
      "\n"
     ]
    }
   ],
   "source": [
    "import pickle\n",
    "import os\n",
    "\n",
    "PIK = \"claim_and_title.data\"\n",
    "\n",
    "if not os.path.isfile(PIK):\n",
    "    # Download file\n",
    "    !wget https://benhoyle.github.io/notebooks/title_generation/claim_and_title.data\n",
    "\n",
    "with open(PIK, \"rb\") as f:\n",
    "    print(\"Loading data\")\n",
    "    data = pickle.load(f)\n",
    "    print(\"{0} samples loaded\".format(len(data)))\n",
    "    \n",
    "print(\"\\n\\nAdding start and stop tokens to output\")\n",
    "data = [(c, \"startseq {0} stopseq\".format(t)) for c, t in data]\n",
    "                                      \n",
    "print(\"\\n\\nAn example title:\", data[0][1])\n",
    "print(\"----\")\n",
    "print(\"An example claim:\", data[0][0])"
   ]
  },
  {
   "cell_type": "code",
   "execution_count": 19,
   "metadata": {},
   "outputs": [
    {
     "name": "stderr",
     "output_type": "stream",
     "text": [
      "/usr/local/lib/python3.5/dist-packages/h5py/__init__.py:36: FutureWarning: Conversion of the second argument of issubdtype from `float` to `np.floating` is deprecated. In future, it will be treated as `np.float64 == np.dtype(float).type`.\n",
      "  from ._conv import register_converters as _register_converters\n",
      "Using TensorFlow backend.\n"
     ]
    }
   ],
   "source": [
    "from keras.preprocessing import text\n",
    "t_joint = text.Tokenizer(\n",
    "                num_words=num_encoder_tokens, \n",
    "                lower=True,\n",
    "                char_level=False,\n",
    "                oov_token=\"<UNK>\"\n",
    ")\n",
    "X_texts = [d[0] for d in data]\n",
    "Y_texts = [d[1] for d in data]\n",
    "total_texts = X_texts + Y_texts\n",
    "t_joint.fit_on_texts(total_texts)"
   ]
  },
  {
   "cell_type": "code",
   "execution_count": 20,
   "metadata": {},
   "outputs": [
    {
     "data": {
      "text/plain": [
       "['remapper',\n",
       " 'inactive',\n",
       " 'imposes',\n",
       " 'overestimates',\n",
       " 'roman',\n",
       " 'mitigating',\n",
       " \"location's\",\n",
       " '56a',\n",
       " 'buckle',\n",
       " 'billable']"
      ]
     },
     "execution_count": 20,
     "metadata": {},
     "output_type": "execute_result"
    }
   ],
   "source": [
    "list(t_joint.word_index.keys())[0:10]"
   ]
  },
  {
   "cell_type": "code",
   "execution_count": 34,
   "metadata": {},
   "outputs": [
    {
     "data": {
      "text/plain": [
       "2500"
      ]
     },
     "execution_count": 34,
     "metadata": {},
     "output_type": "execute_result"
    }
   ],
   "source": [
    "vocab_size = max([max(x + y) for x, y in zip(X_seqs, Y_seqs)]) + 1\n",
    "vocab_size"
   ]
  },
  {
   "cell_type": "code",
   "execution_count": 23,
   "metadata": {},
   "outputs": [
    {
     "name": "stdout",
     "output_type": "stream",
     "text": [
      "Our input sequences (claims) have a max integer value of 2499\n",
      "Our output sequences (titles) have a vocabulary of 2499 words\n"
     ]
    }
   ],
   "source": [
    "X_seqs = t_joint.texts_to_sequences(X_texts)\n",
    "Y_seqs = t_joint.texts_to_sequences(Y_texts)\n",
    "print(\"Our input sequences (claims) have a max integer value of {0}\".format(max([max(x) for x in X_seqs])))\n",
    "print(\"Our output sequences (titles) have a max integer value of {0}\".format(max([max(y) for y in Y_seqs])))"
   ]
  },
  {
   "cell_type": "code",
   "execution_count": 25,
   "metadata": {},
   "outputs": [
    {
     "name": "stdout",
     "output_type": "stream",
     "text": [
      "Our longest input sequence is 300 tokens long.\n",
      "Our longest output sequence is 22 tokens long.\n"
     ]
    }
   ],
   "source": [
    "filtered_seqs = [(x, y) for x,y in zip(X_seqs, Y_seqs) if len(x) <= encoder_seq_length and len(y) <= decoder_seq_length]\n",
    "X_seqs = [x for x, _ in filtered_seqs]\n",
    "Y_seqs = [y for _, y in filtered_seqs]\n",
    "\n",
    "X_length = [len(x) for x in X_seqs]\n",
    "max_length = max(X_length)\n",
    "print(\"Our longest input sequence is {0} tokens long.\".format(max_length))\n",
    "\n",
    "Y_length = [len(y) for y in Y_seqs]\n",
    "max_length = max(Y_length)\n",
    "print(\"Our longest output sequence is {0} tokens long.\".format(max_length))"
   ]
  },
  {
   "cell_type": "code",
   "execution_count": 39,
   "metadata": {},
   "outputs": [
    {
     "name": "stdout",
     "output_type": "stream",
     "text": [
      "Found 400000 word vectors.\n"
     ]
    }
   ],
   "source": [
    "word_embedding_size = 100 # As we are using the Glove 100d data\n",
    "print('Found {0} word vectors.'.format(len(embeddings_index)))\n",
    "embedding_matrix = np.zeros((vocab_size, word_embedding_size))\n",
    "\n",
    "# Filter our vocab to only the used items\n",
    "words = [(w, i) for w, i in t_joint.word_index.items() if int(i) < vocab_size]\n",
    "\n",
    "# This is from https://machinelearningmastery.com/use-word-embedding-layers-deep-learning-keras/      \n",
    "for word, i in words:\n",
    "    embedding_vector = embeddings_index.get(word)\n",
    "    if embedding_vector is not None:\n",
    "        embedding_matrix[i] = embedding_vector"
   ]
  },
  {
   "cell_type": "code",
   "execution_count": 40,
   "metadata": {},
   "outputs": [
    {
     "data": {
      "text/plain": [
       "(2500, 100)"
      ]
     },
     "execution_count": 40,
     "metadata": {},
     "output_type": "execute_result"
    }
   ],
   "source": [
    "embedding_matrix.shape"
   ]
  },
  {
   "cell_type": "markdown",
   "metadata": {},
   "source": [
    "Aside: can I use the embedding matrix as the weights for a dense layer that is multiplied by the probabilities of the decoder output?"
   ]
  },
  {
   "cell_type": "code",
   "execution_count": 26,
   "metadata": {},
   "outputs": [
    {
     "name": "stdout",
     "output_type": "stream",
     "text": [
      "\n",
      "1. A method for managing a backup service gateway (SGW) associated with a primary SGW, the method comprising:\n",
      "periodically receiving from the primary SGW at least a portion of corresponding UE session state information, the received portion of session state information being sufficient to enable the backup SGW to indicate to an inquiring management entity that UEs having an active session supported by the primary SGW are in a live state; and\n",
      "in response to a failure of the primary SGW, the backup SGW assuming management of IP addresses and paths associated with said primary SGW and transmitting a Downlink Data Notification (DDN) toward a Mobility Management Entity (MME) for each of said UEs having an active session supported by the failed primary SGW to detach from the network and reattach to the network, wherein each DDN causes the MME to send a detach request with a reattach request code to the respective UE.\n",
      "\n",
      " [31, 2, 29, 8, 448, 2, 552, 91, 1047, 42, 19, 2, 397, 1, 29, 26, 1959, 51, 20, 1, 397, 14, 25, 2, 74, 3, 61, 352, 109, 28, 1, 96, 74, 3, 352, 109, 28, 58, 2214, 4, 782, 1, 552, 4, 1008, 4, 11, 142, 261, 24, 69, 11, 500, 352, 1510, 15, 1, 397, 60, 6, 2, 1672, 109, 5, 6, 75, 4, 2, 888, 3, 1, 397, 1, 552, 142, 3, 603, 685, 5, 937, 42, 19, 16, 397, 5, 252, 2, 9, 494, 1653, 2, 142, 261, 8, 32, 3, 16, 69, 11, 500, 352, 1510, 15, 1, 2193, 397, 4, 20, 1, 53, 5, 4, 1, 53, 18, 32, 957, 1, 4, 742, 2, 65, 19, 2, 65, 97, 4, 1, 118]\n",
      "startseq System and method for session restoration at geo-redundant gateways stopseq [34, 30, 5, 29, 8, 352, 14, 1836, 35]\n"
     ]
    }
   ],
   "source": [
    "print(X_texts[0], X_seqs[0])\n",
    "print(Y_texts[0], Y_seqs[0])"
   ]
  },
  {
   "cell_type": "markdown",
   "metadata": {},
   "source": []
  },
  {
   "cell_type": "code",
   "execution_count": null,
   "metadata": {},
   "outputs": [],
   "source": []
  },
  {
   "cell_type": "code",
   "execution_count": 32,
   "metadata": {},
   "outputs": [
    {
     "name": "stdout",
     "output_type": "stream",
     "text": [
      "Our X data has shape (25529, 300) and our Y data has shape (25529, 22)\n"
     ]
    }
   ],
   "source": [
    "# Pad the data\n",
    "from keras.preprocessing.sequence import pad_sequences\n",
    "\n",
    "X = pad_sequences(X_seqs, maxlen=encoder_seq_length)\n",
    "Y = pad_sequences(Y_seqs, maxlen=decoder_seq_length, padding='post')\n",
    "\n",
    "print(\"Our X data has shape {0} and our Y data has shape {1}\".format(X.shape, Y.shape))"
   ]
  },
  {
   "cell_type": "code",
   "execution_count": 64,
   "metadata": {},
   "outputs": [],
   "source": [
    "import numpy as np\n",
    "\n"
   ]
  },
  {
   "cell_type": "markdown",
   "metadata": {},
   "source": [
    "We can't use the function above as it results in a memory error."
   ]
  },
  {
   "cell_type": "markdown",
   "metadata": {},
   "source": [
    "## Models\n",
    "\n",
    "We have a number of models we can try out. Initially we can run the models with minimal tweaking. Then later we can expand on the better models.\n",
    "\n",
    "The models we can use are as follows:\n",
    "\n",
    "1. The Chollet/Brownlee Model based on the [sequential encoder-decoder system](https://machinelearningmastery.com/develop-encoder-decoder-model-sequence-sequence-prediction-keras/) as described by Jason Brownlee of Machine Learning Mastery, which is in turn based on a [sequence-to-sequence model](https://blog.keras.io/a-ten-minute-introduction-to-sequence-to-sequence-learning-in-keras.html) as described by Francois Chollet; and\n",
    "2. The Ludwig Model [chatbot encoder-decoder model](https://github.com/oswaldoludwig/Seq2seq-Chatbot-for-Keras) as described by Oswaldo Ludwig.\n",
    "\n",
    "All use Keras as this point. This helps to simplify our model and let us experiment with the basics.\n",
    "\n",
    "The original model in 1. is designed based on character data. We can either use at the character level or adapt to use word-level features, e.g. as suggested at the bottom of the Chollet blog post.\n",
    "\n",
    "The model in 2. uses word-level features. We are thus able to use this with less adaptation."
   ]
  },
  {
   "cell_type": "markdown",
   "metadata": {},
   "source": [
    "### Ludwig Model\n",
    "\n",
    "There are actually two models described by Oswaldo. A first introductory model and a second model that uses an additional adversarial network. The first model is easier to understand so we will start with that."
   ]
  },
  {
   "cell_type": "markdown",
   "metadata": {},
   "source": [
    "The first introductory model has the following features:\n",
    "\n",
    "* A source text input model based around an Embedding layer and an LSTM. The claim features (i.e. words as integers) are projected to a dense vector by the embedding layer and then fed into the LSTM. The last output timestep of the LSTM is then taken as the output. The output of the LSTM can be thought of as a \"context vector\" that represents the claim.\n",
    "* A summary input model. This is similar to the source text input model. It has an Embedding layer and an LSTM. It takes a full or partial sequence of integers representing the words in our titles. The output of the last timestep is take as the output of the LSTM. The output of the LSTM can be thought of as an \"answer vector\" that represents a state of a current answer in time.\n",
    "* The output of both models, i.e. the context vector and the answer vector are concatenated and fed into a feed forward or Dense layer that outputs a vector the size of our title vocabulary. A softmax activation is used to generate a pseudo-probability value. The output of the model is thus a vector of probabilities across the vocabulary of the title. This can then be compared with a one-hot encoding of the actual word."
   ]
  },
  {
   "cell_type": "code",
   "execution_count": 9,
   "metadata": {},
   "outputs": [],
   "source": [
    "# imports\n",
    "from keras.models import Model\n",
    "from keras.layers import Input, LSTM, Dense, Embedding\n",
    "from keras.callbacks import ModelCheckpoint\n",
    "import matplotlib.pyplot as plt\n",
    "\n",
    "%matplotlib inline\n",
    "from keras.layers import concatenate\n",
    "\n",
    "y_vocab_len = num_decoder_tokens # This is our output title vocabulary\n",
    "X_vocab_len = num_encoder_tokens # This is our input claim vocabulary\n",
    "X_max_len = encoder_seq_length # This is our limit for our input claim length\n",
    "y_max_len = decoder_seq_length # This is our limit for our output title length - 20 + 2 for start/stop\n",
    "\n",
    "# source text input model\n",
    "inputs1 = Input(shape=(X_max_len,))\n",
    "am1 = Embedding(X_vocab_len, 128)(inputs1)\n",
    "am2 = LSTM(128)(am1)\n",
    "# summary input model\n",
    "inputs2 = Input(shape=(y_max_len,))\n",
    "sm1 = Embedding(y_vocab_len, 128)(inputs2)\n",
    "sm2 = LSTM(128)(sm1)\n",
    "# decoder output model\n",
    "decoder1 = concatenate([am2, sm2])\n",
    "outputs = Dense(y_vocab_len, activation='softmax')(decoder1)\n",
    "# tie it together [article, summary] [word]\n",
    "model = Model(inputs=[inputs1, inputs2], outputs=outputs)\n",
    "model.compile(loss='categorical_crossentropy', optimizer='adam')"
   ]
  },
  {
   "cell_type": "code",
   "execution_count": 10,
   "metadata": {},
   "outputs": [
    {
     "name": "stdout",
     "output_type": "stream",
     "text": [
      "__________________________________________________________________________________________________\n",
      "Layer (type)                    Output Shape         Param #     Connected to                     \n",
      "==================================================================================================\n",
      "input_1 (InputLayer)            (None, 300)          0                                            \n",
      "__________________________________________________________________________________________________\n",
      "input_2 (InputLayer)            (None, 22)           0                                            \n",
      "__________________________________________________________________________________________________\n",
      "embedding_1 (Embedding)         (None, 300, 128)     640000      input_1[0][0]                    \n",
      "__________________________________________________________________________________________________\n",
      "embedding_2 (Embedding)         (None, 22, 128)      320000      input_2[0][0]                    \n",
      "__________________________________________________________________________________________________\n",
      "lstm_1 (LSTM)                   (None, 128)          131584      embedding_1[0][0]                \n",
      "__________________________________________________________________________________________________\n",
      "lstm_2 (LSTM)                   (None, 128)          131584      embedding_2[0][0]                \n",
      "__________________________________________________________________________________________________\n",
      "concatenate_1 (Concatenate)     (None, 256)          0           lstm_1[0][0]                     \n",
      "                                                                 lstm_2[0][0]                     \n",
      "__________________________________________________________________________________________________\n",
      "dense_1 (Dense)                 (None, 2500)         642500      concatenate_1[0][0]              \n",
      "==================================================================================================\n",
      "Total params: 1,865,668\n",
      "Trainable params: 1,865,668\n",
      "Non-trainable params: 0\n",
      "__________________________________________________________________________________________________\n"
     ]
    }
   ],
   "source": [
    "model.summary()"
   ]
  },
  {
   "cell_type": "markdown",
   "metadata": {},
   "source": [
    "The model is fairly simple. However, a little bit of work is required to prepare our data for training. There are two main issues we need to address:\n",
    "\n",
    "* The model requires a one-hot encoding for each word in the title. If our vocabulary is 2500 (relatively small) and our titles are limited to 20 words, we have a matrix of 50,000 items per data sample. If we have 25,000 data samples then we have 1.25 billion items. If each item is a 32 or 64-bit float we have a memory issue.\n",
    "* The summary model is designed to take partially-complete sequences as the output sequence is built. We thus need to train on various levels of completeness. For example, if our title is 20 words long, we train with 1 word to predict the second word, 2 words to predict the third word, 3 words to predict the fourth word etc.\n",
    "\n",
    "To address the first issue, we train in smaller sets. For example, we can group 100 examples together and train on these.\n",
    "\n",
    "To address the second issue, we build up sets of partial titles for each training example."
   ]
  },
  {
   "cell_type": "code",
   "execution_count": 42,
   "metadata": {},
   "outputs": [],
   "source": [
    "# We need to split into train and test data\n",
    "from sklearn.model_selection import train_test_split\n",
    "\n",
    "# seed for reproducing same results\n",
    "seed = 9\n",
    "np.random.seed(seed)\n",
    "\n",
    "# split the data into training (80%) and testing (20%)\n",
    "(X_train, X_test, Y_train, Y_test) = train_test_split(X, Y, test_size=0.2, random_state=seed)"
   ]
  },
  {
   "cell_type": "code",
   "execution_count": 39,
   "metadata": {},
   "outputs": [
    {
     "data": {
      "text/plain": [
       "1009"
      ]
     },
     "execution_count": 39,
     "metadata": {},
     "output_type": "execute_result"
    }
   ],
   "source": [
    "set_size = 0\n",
    "for sent in Y[0:100]:\n",
    "    limit = np.where(sent==2)[0][0]  #  the position od the symbol EOS\n",
    "    set_size += limit + 1\n",
    "set_size"
   ]
  },
  {
   "cell_type": "code",
   "execution_count": 33,
   "metadata": {},
   "outputs": [
    {
     "data": {
      "text/plain": [
       "array([   1,    6,    3,    5,    4,  383, 1183,  166,  775,    2,    0,\n",
       "          0,    0,    0,    0,    0,    0,    0,    0,    0,    0,    0],\n",
       "      dtype=int32)"
      ]
     },
     "execution_count": 33,
     "metadata": {},
     "output_type": "execute_result"
    }
   ],
   "source": [
    "Y[0]"
   ]
  },
  {
   "cell_type": "markdown",
   "metadata": {},
   "source": [
    "Ah - it's because we've been reversing our Y."
   ]
  },
  {
   "cell_type": "code",
   "execution_count": 43,
   "metadata": {},
   "outputs": [],
   "source": [
    "def generate_set(X, Y, i_end, i):\n",
    "    \"\"\" Generate the data for training/validation from X and Y.\n",
    "    i_end is the end of the set, i is the start.\"\"\"\n",
    "    set_size = 0\n",
    "    limit_list = list()\n",
    "    for sent in Y[i:i_end]:\n",
    "        limit = np.where(sent==2)[0][0]  #  the position od the symbol EOS\n",
    "        set_size += limit + 1\n",
    "        limit_list.append(limit)\n",
    "   \n",
    "    # We need to change this bit to set our array size based on the limit values\n",
    "    # Generate blank arrays for the set\n",
    "    I_1 = np.zeros((set_size, X_max_len))\n",
    "    I_2 = np.zeros((set_size, y_max_len))\n",
    "    # This below is a big array\n",
    "    Y_set = np.zeros((set_size, y_vocab_len))\n",
    "    count = 0\n",
    "    # Now we want to create, for each sample, a set of examples for each word in the title\n",
    "    # Have we just been training on 0 to 100?!?!\n",
    "    for l in range(0, (i_end - i)):\n",
    "        # for each X and y in set of NB_SET \n",
    "            \n",
    "        # We need to build the input for the second encoder for the next word in y\n",
    "        # I.e. for word 3 in the title the input2 consists of words 1 and 2 (using teacher forcing)\n",
    "            \n",
    "        # Get length of current title - i.e. where the integer = 2 = stopseq\n",
    "        limit = limit_list[l]\n",
    "            \n",
    "        # We only need to create examples up to the length of the title \n",
    "        for m in range(1, limit+1):\n",
    "                \n",
    "            # Generate our one-hot y out\n",
    "            one_hot_out = np.zeros((1, y_vocab_len))\n",
    "            # This builds our one-hot generation into our training loop\n",
    "            # The l and m respectively iterate through the samples and the output sequence elements\n",
    "            one_hot_out[0, Y[l+i][m]] = 1\n",
    "                \n",
    "            # Create a blank row/array for a partial input for our summary model - this is fed into the decoder\n",
    "            # It is of the same size as our title\n",
    "            partial_input = np.zeros((1, y_max_len))\n",
    "            # Because we are zero padding add words up to m to end - DOES THIS STILL WORK IF WE ZERO PAD\n",
    "            # AT THE END? - Yes but we just feed the words with zeros first?\n",
    "            partial_input[0, -m:] = Y[l+i][0:m]\n",
    "            \n",
    "            # This fills in each sample of the training data, i.e. count increments up to set size\n",
    "            I_1[count, :] = X_train[l+i]\n",
    "            I_2[count, :] = partial_input\n",
    "            Y_set[count, :] = one_hot_out\n",
    "            count += 1\n",
    "                \n",
    "        # Shuffle the I_1, I_2 and Y_set vectors for better training - trick from RL\n",
    "        # - see here - np.take(X,np.random.permutation(X.shape[0]),axis=0,out=X);\n",
    "        indices = np.random.permutation(I_1.shape[0])\n",
    "        np.take(I_1, indices, axis=0, out=I_1)\n",
    "        np.take(I_2, indices, axis=0, out=I_2)\n",
    "        np.take(Y_set, indices, axis=0, out=Y_set)\n",
    "    return I_1, I_2, Y_set"
   ]
  },
  {
   "cell_type": "code",
   "execution_count": 48,
   "metadata": {},
   "outputs": [
    {
     "name": "stdout",
     "output_type": "stream",
     "text": [
      "[INFO] Saved weights found, loading...\n"
     ]
    }
   ],
   "source": [
    "# Basing training in sets code on here - https://github.com/ChunML/seq2seq/blob/master/seq2seq.py\n",
    "\n",
    "# Function to look for saved weights file\n",
    "def find_checkpoint_file(folder):\n",
    "    checkpoint_file = [f for f in os.listdir(folder) if 'kerascheckpoint' in f]\n",
    "    if len(checkpoint_file) == 0:\n",
    "        return []\n",
    "    modified_time = [os.path.getmtime(f) for f in checkpoint_file]\n",
    "    return checkpoint_file[np.argmax(modified_time)]\n",
    "\n",
    "# Finding trained weights of previous epoch if any\n",
    "saved_weights = find_checkpoint_file('.')\n",
    "\n",
    "k_start = 1\n",
    "\n",
    "# If any trained weight was found, then load them into the model\n",
    "if len(saved_weights) != 0:\n",
    "    print('[INFO] Saved weights found, loading...')\n",
    "    epoch = saved_weights[saved_weights.rfind('_')+1:saved_weights.rfind('.')]\n",
    "    model.load_weights(saved_weights)\n",
    "    k_start = int(epoch) + 1\n",
    "\n",
    "# So instead of X we have [inputs1, inputs2] - this is where we need to fold in \n",
    "# - https://github.com/oswaldoludwig/Seq2seq-Chatbot-for-Keras/blob/master/train_bot.py\n",
    "\n",
    "# So we have inputs2 that build up - we have a set of inputs2 up to the length of inputs2\n",
    "\n",
    "# We need to refactor some of the loops below as functions - we can then apply to test data to generate a validation set"
   ]
  },
  {
   "cell_type": "code",
   "execution_count": 49,
   "metadata": {},
   "outputs": [
    {
     "name": "stdout",
     "output_type": "stream",
     "text": [
      "[INFO] Training model: epoch 2 - 0/20423 samples\n",
      "Train on 2463 samples, validate on 658 samples\n",
      "Epoch 1/1\n",
      "2463/2463 [==============================] - 23s 9ms/step - loss: 2.5461 - val_loss: 3.0267\n",
      "[INFO] Training model: epoch 2 - 250/20423 samples\n",
      "Train on 2552 samples, validate on 607 samples\n",
      "Epoch 1/1\n",
      "2552/2552 [==============================] - 24s 9ms/step - loss: 2.5839 - val_loss: 2.8048\n",
      "[INFO] Training model: epoch 2 - 500/20423 samples\n",
      "Train on 2446 samples, validate on 591 samples\n",
      "Epoch 1/1\n",
      "2446/2446 [==============================] - 24s 10ms/step - loss: 2.4230 - val_loss: 2.7162\n",
      "[INFO] Training model: epoch 2 - 750/20423 samples\n",
      "Train on 2572 samples, validate on 615 samples\n",
      "Epoch 1/1\n",
      "2572/2572 [==============================] - 24s 9ms/step - loss: 2.5362 - val_loss: 2.9778\n",
      "[INFO] Training model: epoch 2 - 1000/20423 samples\n",
      "Train on 2526 samples, validate on 604 samples\n",
      "Epoch 1/1\n",
      "2526/2526 [==============================] - 25s 10ms/step - loss: 2.5542 - val_loss: 3.0614\n",
      "[INFO] Training model: epoch 2 - 1250/20423 samples\n",
      "Train on 2592 samples, validate on 601 samples\n",
      "Epoch 1/1\n",
      "2592/2592 [==============================] - 26s 10ms/step - loss: 2.5401 - val_loss: 2.6013\n",
      "[INFO] Training model: epoch 2 - 1500/20423 samples\n",
      "Train on 2492 samples, validate on 606 samples\n",
      "Epoch 1/1\n",
      "2492/2492 [==============================] - 25s 10ms/step - loss: 2.4967 - val_loss: 2.8973\n",
      "[INFO] Training model: epoch 2 - 1750/20423 samples\n",
      "Train on 2607 samples, validate on 675 samples\n",
      "Epoch 1/1\n",
      "2607/2607 [==============================] - 26s 10ms/step - loss: 2.5795 - val_loss: 3.0124\n",
      "[INFO] Training model: epoch 2 - 2000/20423 samples\n",
      "Train on 2525 samples, validate on 677 samples\n",
      "Epoch 1/1\n",
      "2525/2525 [==============================] - 26s 10ms/step - loss: 2.4945 - val_loss: 2.9818\n",
      "[INFO] Training model: epoch 2 - 2250/20423 samples\n",
      "Train on 2530 samples, validate on 633 samples\n",
      "Epoch 1/1\n",
      "2530/2530 [==============================] - 25s 10ms/step - loss: 2.4569 - val_loss: 2.8095\n",
      "[INFO] Training model: epoch 2 - 2500/20423 samples\n",
      "Train on 2542 samples, validate on 651 samples\n",
      "Epoch 1/1\n",
      "2542/2542 [==============================] - 26s 10ms/step - loss: 2.5170 - val_loss: 2.6293\n",
      "[INFO] Training model: epoch 2 - 2750/20423 samples\n",
      "Train on 2497 samples, validate on 614 samples\n",
      "Epoch 1/1\n",
      "2497/2497 [==============================] - 26s 10ms/step - loss: 2.5201 - val_loss: 2.9004\n",
      "[INFO] Training model: epoch 2 - 3000/20423 samples\n",
      "Train on 2617 samples, validate on 650 samples\n",
      "Epoch 1/1\n",
      "2617/2617 [==============================] - 26s 10ms/step - loss: 2.5869 - val_loss: 3.0075\n",
      "[INFO] Training model: epoch 2 - 3250/20423 samples\n",
      "Train on 2514 samples, validate on 687 samples\n",
      "Epoch 1/1\n",
      "2514/2514 [==============================] - 26s 10ms/step - loss: 2.4700 - val_loss: 2.8688\n",
      "[INFO] Training model: epoch 2 - 3500/20423 samples\n",
      "Train on 2463 samples, validate on 620 samples\n",
      "Epoch 1/1\n",
      "2463/2463 [==============================] - 25s 10ms/step - loss: 2.5413 - val_loss: 2.8625\n",
      "[INFO] Training model: epoch 2 - 3750/20423 samples\n",
      "Train on 2440 samples, validate on 604 samples\n",
      "Epoch 1/1\n",
      "2440/2440 [==============================] - 25s 10ms/step - loss: 2.4597 - val_loss: 3.0249\n",
      "[INFO] Training model: epoch 2 - 4000/20423 samples\n",
      "Train on 2475 samples, validate on 634 samples\n",
      "Epoch 1/1\n",
      "2475/2475 [==============================] - 25s 10ms/step - loss: 2.6151 - val_loss: 2.7236\n",
      "[INFO] Training model: epoch 2 - 4250/20423 samples\n",
      "Train on 2576 samples, validate on 615 samples\n",
      "Epoch 1/1\n",
      "2576/2576 [==============================] - 26s 10ms/step - loss: 2.4784 - val_loss: 2.7992\n",
      "[INFO] Training model: epoch 2 - 4500/20423 samples\n",
      "Train on 2487 samples, validate on 610 samples\n",
      "Epoch 1/1\n",
      "2487/2487 [==============================] - 25s 10ms/step - loss: 2.5378 - val_loss: 2.6937\n",
      "[INFO] Training model: epoch 2 - 4750/20423 samples\n",
      "Train on 2501 samples, validate on 644 samples\n",
      "Epoch 1/1\n",
      "2501/2501 [==============================] - 25s 10ms/step - loss: 2.5563 - val_loss: 2.8764\n",
      "[INFO] Training model: epoch 2 - 5000/20423 samples\n",
      "Train on 2617 samples, validate on 622 samples\n",
      "Epoch 1/1\n",
      "2617/2617 [==============================] - 27s 10ms/step - loss: 2.5362 - val_loss: 2.8573\n",
      "[INFO] Training model: epoch 2 - 5250/20423 samples\n",
      "Train on 2525 samples, validate on 601 samples\n",
      "Epoch 1/1\n",
      "2525/2525 [==============================] - 26s 10ms/step - loss: 2.5082 - val_loss: 2.8590\n",
      "[INFO] Training model: epoch 2 - 5500/20423 samples\n",
      "Train on 2484 samples, validate on 594 samples\n",
      "Epoch 1/1\n",
      "2484/2484 [==============================] - 25s 10ms/step - loss: 2.6240 - val_loss: 2.9242\n",
      "[INFO] Training model: epoch 2 - 5750/20423 samples\n",
      "Train on 2469 samples, validate on 568 samples\n",
      "Epoch 1/1\n",
      "2469/2469 [==============================] - 26s 10ms/step - loss: 2.3302 - val_loss: 2.8556\n",
      "[INFO] Training model: epoch 2 - 6000/20423 samples\n",
      "Train on 2427 samples, validate on 654 samples\n",
      "Epoch 1/1\n",
      "2427/2427 [==============================] - 25s 10ms/step - loss: 2.5707 - val_loss: 2.9247\n",
      "[INFO] Training model: epoch 2 - 6250/20423 samples\n",
      "Train on 2551 samples, validate on 660 samples\n",
      "Epoch 1/1\n",
      "2551/2551 [==============================] - 27s 10ms/step - loss: 2.5628 - val_loss: 2.6603\n",
      "[INFO] Training model: epoch 2 - 6500/20423 samples\n",
      "Train on 2537 samples, validate on 651 samples\n",
      "Epoch 1/1\n",
      "2537/2537 [==============================] - 27s 10ms/step - loss: 2.4532 - val_loss: 2.7540\n",
      "[INFO] Training model: epoch 2 - 6750/20423 samples\n",
      "Train on 2556 samples, validate on 597 samples\n",
      "Epoch 1/1\n",
      "2556/2556 [==============================] - 26s 10ms/step - loss: 2.5068 - val_loss: 3.0887\n",
      "[INFO] Training model: epoch 2 - 7000/20423 samples\n",
      "Train on 2468 samples, validate on 631 samples\n",
      "Epoch 1/1\n",
      "2468/2468 [==============================] - 26s 11ms/step - loss: 2.5587 - val_loss: 2.8159\n",
      "[INFO] Training model: epoch 2 - 7250/20423 samples\n",
      "Train on 2530 samples, validate on 620 samples\n",
      "Epoch 1/1\n",
      "2530/2530 [==============================] - 26s 10ms/step - loss: 2.5007 - val_loss: 2.9069\n",
      "[INFO] Training model: epoch 2 - 7500/20423 samples\n",
      "Train on 2520 samples, validate on 618 samples\n",
      "Epoch 1/1\n",
      "2520/2520 [==============================] - 25s 10ms/step - loss: 2.4892 - val_loss: 2.8692\n",
      "[INFO] Training model: epoch 2 - 7750/20423 samples\n",
      "Train on 2559 samples, validate on 623 samples\n",
      "Epoch 1/1\n",
      "2559/2559 [==============================] - 26s 10ms/step - loss: 2.4715 - val_loss: 2.6655\n",
      "[INFO] Training model: epoch 2 - 8000/20423 samples\n",
      "Train on 2551 samples, validate on 603 samples\n",
      "Epoch 1/1\n",
      "2551/2551 [==============================] - 26s 10ms/step - loss: 2.6281 - val_loss: 3.0931\n",
      "[INFO] Training model: epoch 2 - 8250/20423 samples\n",
      "Train on 2562 samples, validate on 618 samples\n",
      "Epoch 1/1\n",
      "2562/2562 [==============================] - 27s 10ms/step - loss: 2.5223 - val_loss: 2.9672\n",
      "[INFO] Training model: epoch 2 - 8500/20423 samples\n",
      "Train on 2592 samples, validate on 631 samples\n",
      "Epoch 1/1\n",
      "2592/2592 [==============================] - 27s 10ms/step - loss: 2.4504 - val_loss: 2.9558\n",
      "[INFO] Training model: epoch 2 - 8750/20423 samples\n",
      "Train on 2609 samples, validate on 592 samples\n",
      "Epoch 1/1\n",
      "2609/2609 [==============================] - 27s 10ms/step - loss: 2.4715 - val_loss: 2.9098\n",
      "[INFO] Training model: epoch 2 - 9000/20423 samples\n",
      "Train on 2485 samples, validate on 602 samples\n",
      "Epoch 1/1\n",
      "2485/2485 [==============================] - 26s 10ms/step - loss: 2.4156 - val_loss: 2.7285\n",
      "[INFO] Training model: epoch 2 - 9250/20423 samples\n",
      "Train on 2455 samples, validate on 651 samples\n",
      "Epoch 1/1\n",
      "2455/2455 [==============================] - 25s 10ms/step - loss: 2.4501 - val_loss: 2.8327\n",
      "[INFO] Training model: epoch 2 - 9500/20423 samples\n",
      "Train on 2518 samples, validate on 658 samples\n",
      "Epoch 1/1\n",
      "2518/2518 [==============================] - 25s 10ms/step - loss: 2.6332 - val_loss: 2.7614\n",
      "[INFO] Training model: epoch 2 - 9750/20423 samples\n",
      "Train on 2547 samples, validate on 598 samples\n",
      "Epoch 1/1\n",
      "2547/2547 [==============================] - 25s 10ms/step - loss: 2.4632 - val_loss: 2.8831\n",
      "[INFO] Training model: epoch 2 - 10000/20423 samples\n",
      "Train on 2635 samples, validate on 608 samples\n",
      "Epoch 1/1\n",
      "2635/2635 [==============================] - 26s 10ms/step - loss: 2.5661 - val_loss: 2.6622\n",
      "[INFO] Training model: epoch 2 - 10250/20423 samples\n",
      "Train on 2528 samples, validate on 612 samples\n",
      "Epoch 1/1\n",
      "2528/2528 [==============================] - 25s 10ms/step - loss: 2.5130 - val_loss: 2.6851\n",
      "[INFO] Training model: epoch 2 - 10500/20423 samples\n",
      "Train on 2527 samples, validate on 618 samples\n",
      "Epoch 1/1\n",
      "2527/2527 [==============================] - 26s 10ms/step - loss: 2.5259 - val_loss: 2.6705\n",
      "[INFO] Training model: epoch 2 - 10750/20423 samples\n",
      "Train on 2599 samples, validate on 634 samples\n",
      "Epoch 1/1\n",
      "2599/2599 [==============================] - 27s 10ms/step - loss: 2.4307 - val_loss: 2.7845\n",
      "[INFO] Training model: epoch 2 - 11000/20423 samples\n",
      "Train on 2552 samples, validate on 639 samples\n",
      "Epoch 1/1\n",
      "2552/2552 [==============================] - 26s 10ms/step - loss: 2.5966 - val_loss: 2.8254\n",
      "[INFO] Training model: epoch 2 - 11250/20423 samples\n",
      "Train on 2466 samples, validate on 618 samples\n",
      "Epoch 1/1\n",
      "2466/2466 [==============================] - 26s 11ms/step - loss: 2.4094 - val_loss: 2.7882\n",
      "[INFO] Training model: epoch 2 - 11500/20423 samples\n",
      "Train on 2519 samples, validate on 621 samples\n",
      "Epoch 1/1\n",
      "2519/2519 [==============================] - 26s 10ms/step - loss: 2.5736 - val_loss: 2.6627\n",
      "[INFO] Training model: epoch 2 - 11750/20423 samples\n",
      "Train on 2490 samples, validate on 656 samples\n",
      "Epoch 1/1\n",
      "2490/2490 [==============================] - 26s 10ms/step - loss: 2.4802 - val_loss: 2.7618\n",
      "[INFO] Training model: epoch 2 - 12000/20423 samples\n",
      "Train on 2631 samples, validate on 643 samples\n",
      "Epoch 1/1\n",
      "2631/2631 [==============================] - 27s 10ms/step - loss: 2.4868 - val_loss: 2.7780\n",
      "[INFO] Training model: epoch 2 - 12250/20423 samples\n",
      "Train on 2479 samples, validate on 647 samples\n",
      "Epoch 1/1\n",
      "2479/2479 [==============================] - 25s 10ms/step - loss: 2.4741 - val_loss: 2.8244\n",
      "[INFO] Training model: epoch 2 - 12500/20423 samples\n",
      "Train on 2620 samples, validate on 650 samples\n",
      "Epoch 1/1\n",
      "2620/2620 [==============================] - 26s 10ms/step - loss: 2.3884 - val_loss: 2.7133\n",
      "[INFO] Training model: epoch 2 - 12750/20423 samples\n",
      "Train on 2505 samples, validate on 621 samples\n",
      "Epoch 1/1\n",
      "2505/2505 [==============================] - 25s 10ms/step - loss: 2.4360 - val_loss: 2.8718\n",
      "[INFO] Training model: epoch 2 - 13000/20423 samples\n",
      "Train on 2488 samples, validate on 648 samples\n",
      "Epoch 1/1\n",
      "2488/2488 [==============================] - 25s 10ms/step - loss: 2.5148 - val_loss: 2.7442\n",
      "[INFO] Training model: epoch 2 - 13250/20423 samples\n",
      "Train on 2477 samples, validate on 650 samples\n",
      "Epoch 1/1\n",
      "2477/2477 [==============================] - 25s 10ms/step - loss: 2.3307 - val_loss: 2.9383\n",
      "[INFO] Training model: epoch 2 - 13500/20423 samples\n",
      "Train on 2451 samples, validate on 629 samples\n",
      "Epoch 1/1\n",
      "2451/2451 [==============================] - 25s 10ms/step - loss: 2.3576 - val_loss: 3.0506\n",
      "[INFO] Training model: epoch 2 - 13750/20423 samples\n",
      "Train on 2458 samples, validate on 653 samples\n",
      "Epoch 1/1\n",
      "2458/2458 [==============================] - 24s 10ms/step - loss: 2.5399 - val_loss: 2.9005\n",
      "[INFO] Training model: epoch 2 - 14000/20423 samples\n",
      "Train on 2538 samples, validate on 665 samples\n",
      "Epoch 1/1\n",
      "2538/2538 [==============================] - 26s 10ms/step - loss: 2.4439 - val_loss: 2.5874\n",
      "[INFO] Training model: epoch 2 - 14250/20423 samples\n",
      "Train on 2518 samples, validate on 671 samples\n",
      "Epoch 1/1\n",
      "2518/2518 [==============================] - 25s 10ms/step - loss: 2.5228 - val_loss: 3.1204\n",
      "[INFO] Training model: epoch 2 - 14500/20423 samples\n",
      "Train on 2514 samples, validate on 594 samples\n",
      "Epoch 1/1\n",
      "2514/2514 [==============================] - 25s 10ms/step - loss: 2.4926 - val_loss: 2.5919\n",
      "[INFO] Training model: epoch 2 - 14750/20423 samples\n",
      "Train on 2594 samples, validate on 628 samples\n",
      "Epoch 1/1\n",
      "2594/2594 [==============================] - 26s 10ms/step - loss: 2.4201 - val_loss: 2.7632\n",
      "[INFO] Training model: epoch 2 - 15000/20423 samples\n",
      "Train on 2360 samples, validate on 617 samples\n",
      "Epoch 1/1\n",
      "2360/2360 [==============================] - 24s 10ms/step - loss: 2.4969 - val_loss: 2.9441\n",
      "[INFO] Training model: epoch 2 - 15250/20423 samples\n",
      "Train on 2473 samples, validate on 713 samples\n",
      "Epoch 1/1\n",
      "2473/2473 [==============================] - 24s 10ms/step - loss: 2.5184 - val_loss: 2.9971\n",
      "[INFO] Training model: epoch 2 - 15500/20423 samples\n",
      "Train on 2485 samples, validate on 615 samples\n",
      "Epoch 1/1\n",
      "2485/2485 [==============================] - 24s 10ms/step - loss: 2.5373 - val_loss: 2.7995\n",
      "[INFO] Training model: epoch 2 - 15750/20423 samples\n",
      "Train on 2472 samples, validate on 621 samples\n",
      "Epoch 1/1\n",
      "2472/2472 [==============================] - 24s 10ms/step - loss: 2.4791 - val_loss: 2.5648\n",
      "[INFO] Training model: epoch 2 - 16000/20423 samples\n",
      "Train on 2576 samples, validate on 623 samples\n",
      "Epoch 1/1\n",
      "2576/2576 [==============================] - 26s 10ms/step - loss: 2.4938 - val_loss: 2.9202\n",
      "[INFO] Training model: epoch 2 - 16250/20423 samples\n",
      "Train on 2529 samples, validate on 600 samples\n",
      "Epoch 1/1\n",
      "2529/2529 [==============================] - 24s 9ms/step - loss: 2.3959 - val_loss: 2.6484\n",
      "[INFO] Training model: epoch 2 - 16500/20423 samples\n",
      "Train on 2493 samples, validate on 622 samples\n",
      "Epoch 1/1\n",
      "2493/2493 [==============================] - 25s 10ms/step - loss: 2.4309 - val_loss: 3.0211\n",
      "[INFO] Training model: epoch 2 - 16750/20423 samples\n",
      "Train on 2498 samples, validate on 640 samples\n",
      "Epoch 1/1\n",
      "2498/2498 [==============================] - 24s 10ms/step - loss: 2.5476 - val_loss: 2.8655\n",
      "[INFO] Training model: epoch 2 - 17000/20423 samples\n",
      "Train on 2539 samples, validate on 634 samples\n",
      "Epoch 1/1\n",
      "2539/2539 [==============================] - 25s 10ms/step - loss: 2.4758 - val_loss: 3.0723\n",
      "[INFO] Training model: epoch 2 - 17250/20423 samples\n",
      "Train on 2475 samples, validate on 651 samples\n",
      "Epoch 1/1\n",
      "2475/2475 [==============================] - 25s 10ms/step - loss: 2.4944 - val_loss: 2.7414\n",
      "[INFO] Training model: epoch 2 - 17500/20423 samples\n",
      "Train on 2513 samples, validate on 614 samples\n",
      "Epoch 1/1\n",
      "2513/2513 [==============================] - 25s 10ms/step - loss: 2.5161 - val_loss: 2.7245\n",
      "[INFO] Training model: epoch 2 - 17750/20423 samples\n",
      "Train on 2475 samples, validate on 685 samples\n",
      "Epoch 1/1\n",
      "2475/2475 [==============================] - 24s 10ms/step - loss: 2.4001 - val_loss: 2.7077\n",
      "[INFO] Training model: epoch 2 - 18000/20423 samples\n",
      "Train on 2456 samples, validate on 614 samples\n",
      "Epoch 1/1\n",
      "2456/2456 [==============================] - 24s 10ms/step - loss: 2.4307 - val_loss: 2.8027\n",
      "[INFO] Training model: epoch 2 - 18250/20423 samples\n",
      "Train on 2584 samples, validate on 615 samples\n",
      "Epoch 1/1\n",
      "2584/2584 [==============================] - 26s 10ms/step - loss: 2.5158 - val_loss: 2.7719\n",
      "[INFO] Training model: epoch 2 - 18500/20423 samples\n",
      "Train on 2433 samples, validate on 624 samples\n",
      "Epoch 1/1\n",
      "2433/2433 [==============================] - 24s 10ms/step - loss: 2.4057 - val_loss: 2.8736\n",
      "[INFO] Training model: epoch 2 - 18750/20423 samples\n",
      "Train on 2513 samples, validate on 654 samples\n",
      "Epoch 1/1\n",
      "2513/2513 [==============================] - 26s 10ms/step - loss: 2.4995 - val_loss: 2.8910\n",
      "[INFO] Training model: epoch 2 - 19000/20423 samples\n",
      "Train on 2536 samples, validate on 611 samples\n",
      "Epoch 1/1\n",
      "2536/2536 [==============================] - 26s 10ms/step - loss: 2.4018 - val_loss: 2.8042\n",
      "[INFO] Training model: epoch 2 - 19250/20423 samples\n",
      "Train on 2654 samples, validate on 673 samples\n",
      "Epoch 1/1\n",
      "2654/2654 [==============================] - 27s 10ms/step - loss: 2.5447 - val_loss: 2.8682\n",
      "[INFO] Training model: epoch 2 - 19500/20423 samples\n",
      "Train on 2494 samples, validate on 660 samples\n",
      "Epoch 1/1\n",
      "2494/2494 [==============================] - 26s 10ms/step - loss: 2.5280 - val_loss: 2.6361\n",
      "[INFO] Training model: epoch 2 - 19750/20423 samples\n",
      "Train on 2514 samples, validate on 606 samples\n",
      "Epoch 1/1\n",
      "2514/2514 [==============================] - 26s 10ms/step - loss: 2.4726 - val_loss: 2.8416\n",
      "[INFO] Training model: epoch 2 - 20000/20423 samples\n",
      "Train on 2422 samples, validate on 631 samples\n",
      "Epoch 1/1\n",
      "2422/2422 [==============================] - 25s 10ms/step - loss: 2.4810 - val_loss: 2.8054\n"
     ]
    },
    {
     "name": "stdout",
     "output_type": "stream",
     "text": [
      "[INFO] Training model: epoch 2 - 20250/20423 samples\n",
      "Train on 1810 samples, validate on 472 samples\n",
      "Epoch 1/1\n",
      "1810/1810 [==============================] - 19s 10ms/step - loss: 2.4741 - val_loss: 3.0421\n"
     ]
    }
   ],
   "source": [
    "import math\n",
    "\n",
    "BATCH_SIZE = 32 # Depends on GPU - most values are around this 32-128 \n",
    "NB_EPOCH = 2\n",
    "# Number of examples to group together in a set - 100 is fast / 1000 is too much on an 8-core i7 laptop\n",
    "# I think 100 is good - 250 takes a time to generate the sets of test data\n",
    "NB_SET = 250\n",
    "\n",
    "i_end = 0\n",
    "num_examples = len(X_train)\n",
    "num_test = len(X_test)\n",
    "# Initialise history of accuracy\n",
    "train_loss = list()\n",
    "val_loss = list()\n",
    "\n",
    "# Continue from loaded epoch number or new epoch if not loaded\n",
    "for k in range(k_start, NB_EPOCH+1):\n",
    "    # Shuffling the training data every epoch to avoid local minima\n",
    "    indices = np.arange(num_examples)\n",
    "    np.random.shuffle(indices)\n",
    "    X_train = X_train[indices]\n",
    "    Y_train = Y_train[indices]\n",
    "    indices = np.arange(num_test)\n",
    "    np.random.shuffle(indices)\n",
    "    X_test = X_test[indices]\n",
    "    Y_test = Y_test[indices]\n",
    "\n",
    "    # This for loop rotates through NB_SET samples at a time to avoid memory issues\n",
    "    # E.g. Training 100 sequences at a time\n",
    "    for i in range(0, num_examples, NB_SET):\n",
    "        if i + NB_SET >= num_examples:\n",
    "            i_end = num_examples\n",
    "        else:\n",
    "            i_end = i + NB_SET\n",
    "        \n",
    "        # Generate a range for the test data\n",
    "        i_test = math.floor(i * (num_test/num_examples))\n",
    "        i_test_end = math.floor(i_end * (num_test/num_examples))\n",
    "            \n",
    "        I_1_train, I_2_train, Y_set_train = generate_set(X_train, Y_train, i_end, i)\n",
    "        I_1_test, I_2_test, Y_set_test = generate_set(X_test, Y_test, i_test_end, i_test)\n",
    "              \n",
    "        print('[INFO] Training model: epoch {} - {}/{} samples'.format(k, i, num_examples))\n",
    "        callback = model.fit(\n",
    "            [I_1_train, I_2_train], \n",
    "            Y_set_train, \n",
    "            validation_data=([I_1_test, I_2_test], Y_set_test),\n",
    "            batch_size=BATCH_SIZE, \n",
    "            epochs=1\n",
    "        )\n",
    "        train_loss += callback.history['loss']\n",
    "        val_loss += callback.history['val_loss']\n",
    "        # Get history and apppend new data to running set here\n",
    "    model.save_weights('kerascheckpoint_epoch_{}.hdf5'.format(k))"
   ]
  },
  {
   "cell_type": "markdown",
   "metadata": {},
   "source": [
    "Now we've trained our model we need some code to test it."
   ]
  },
  {
   "cell_type": "code",
   "execution_count": 54,
   "metadata": {},
   "outputs": [
    {
     "name": "stdout",
     "output_type": "stream",
     "text": [
      "Sample of claim text: live dual validated independently verified dynamic match audit system comprising first device for transmitting an element effort event data, which data details an effort of an element on an event, and\n",
      "\n",
      "Predicted title is: system and method for generating a plurality of  (with prob 2.988668487895419e-05). \n",
      " Test title is: match system and event data recorder method thereof  \n",
      "---\n",
      "\n",
      "Sample of claim text: method comprising facilitating receipt of two or more images of scene, two or more images being associated with different capture parameters determining intensity at corresponding pixel locations of a\n",
      "\n",
      "Predicted title is: image processing apparatus and image processing method apparatus and computer readable medium  (with prob 0.007207380954881892). \n",
      " Test title is: method apparatus and computer program product for generating images of scenes having high dynamic range  \n",
      "---\n",
      "\n",
      "Sample of claim text: an information terminal for reducing touch point reading errors and releasing security lock of information terminal, comprising touch panel that displays plurality of touch points coordinate determini\n",
      "\n",
      "Predicted title is: touch panel and method of controlling the same  (with prob 0.0002631053677347134). \n",
      " Test title is: information terminal  \n",
      "---\n",
      "\n",
      "Sample of claim text: method comprising receiving message having coded therein information identifying desired transport mechanism for request and/or response, received message including portion and portion processing, by \n",
      "\n",
      "Predicted title is: method and system for providing a network  (with prob 3.861037278558291e-05). \n",
      " Test title is: request and response via in a service oriented pipeline architecture for a request response message exchange pattern  \n",
      "---\n",
      "\n",
      "Sample of claim text: an apparatus, comprising block processing pipeline implemented in video encoder circuit and configured to process blocks of pixels from video frames wherein block processing pipeline comprises block i\n",
      "\n",
      "Predicted title is: method and apparatus for generating a three dimensional image  (with prob 7.063415872216406e-07). \n",
      " Test title is: encoding blocks in video frames containing text using of  \n",
      "---\n",
      "\n"
     ]
    }
   ],
   "source": [
    "# Set up dictionary to translate indices to words\n",
    "y_dictionary = dict(\n",
    "            (i, char) for char, i in t_title.word_index.items()\n",
    "        )\n",
    "\n",
    "x_dictionary = dict(\n",
    "            (i, char) for char, i in t_claim.word_index.items()\n",
    "        )\n",
    "\n",
    "def seq2text(seq, dictionary):\n",
    "    text = ''\n",
    "    for k in seq:\n",
    "        k = k.astype(int)\n",
    "        if k > 2 and k < (len(dictionary)-1):\n",
    "            w = dictionary[k]\n",
    "            text = text + w + ' '\n",
    "    return text\n",
    "\n",
    "def greedy_decoder(X_seq):\n",
    "    # reformat input seq\n",
    "    input_seq = np.zeros((1, X_max_len))\n",
    "    input_seq[0, :] = X_seq\n",
    "    flag = 0\n",
    "    prob = 1\n",
    "    ans_partial = np.zeros((1, y_max_len))\n",
    "    ans_partial[0, -1] = 1  #  the index of the symbol BOS (begin of sentence)\n",
    "    for k in range(y_max_len - 1):\n",
    "        ye = model.predict([input_seq, ans_partial])\n",
    "        yel = ye[0,:]\n",
    "        p = np.max(yel)\n",
    "        mp = np.argmax(ye)\n",
    "        ans_partial[0, 0:-1] = ans_partial[0, 1:]\n",
    "        ans_partial[0, -1] = mp\n",
    "        if mp == 2:  #  the index of the symbol EOS (end of sentence)\n",
    "            flag = 1\n",
    "        if flag == 0:    \n",
    "            prob = prob * p\n",
    "    text = seq2text(ans_partial[0], y_dictionary)\n",
    "    return(text, prob)\n",
    "\n",
    "# Testing\n",
    "num_test_titles = len(X_test)\n",
    "indices = np.arange(num_test_titles)\n",
    "np.random.shuffle(indices)\n",
    "X_test = X_test[indices]\n",
    "Y_test = Y_test[indices]\n",
    "for i in range(0, 5):\n",
    "    text, prob = greedy_decoder(X_test[i])\n",
    "    Y_test_text = seq2text(Y_test[i], y_dictionary)\n",
    "    claim_text = seq2text(X_test[i], x_dictionary)\n",
    "    print(\"Sample of claim text: {}\\n\".format(claim_text[0:200]))\n",
    "    print(\"Predicted title is: {} (with prob {}). \\n Test title is: {} \\n---\\n\".format(text, prob, Y_test_text))"
   ]
  },
  {
   "cell_type": "markdown",
   "metadata": {},
   "source": [
    "#### Comments on Results\n",
    "\n",
    "The predicted titles seem to be well-formatted and make sense. The problem is they seem to be unrelated to the actual title!\n",
    "\n",
    "What I think is going on is the second LSTM is over-fitting on the training data. Hence, what you have is a system that memorises the training titles, then picks a memorised training title based on the output of the first LSTM. \n",
    "\n",
    "It also appears that the link between the first and second LSTMs is weak - the first encoding or \"context vector\" does not appear to be heavily influencing the title generation. The prediction of the dense layer seems to be mainly based on the second LSTM. Hence, the dense layer and second LSTM in tandem are over-fitting.\n",
    "\n",
    "This is backed up by the fact that when we do not shuffle the training data we have rapid convergence to a low loss. This is indicative of over-fitting. It is predicted that by not shuffling we should get rapid convergence but a maintained high validation loss."
   ]
  },
  {
   "cell_type": "markdown",
   "metadata": {},
   "source": [
    "#### Options for Further Investigation\n",
    "\n",
    "We can try adding in shared word embeddings based on Glove encodings (as per the second Ludwig model). The post [here](https://machinelearningmastery.com/use-word-embedding-layers-deep-learning-keras/) shows how we convert the text file of Glove encodings into a matrix given a vocabulary from our data.\n",
    "\n",
    "We can try adding the adversarial discriminator."
   ]
  },
  {
   "cell_type": "markdown",
   "metadata": {},
   "source": [
    "### Chollet/Brownlee Model\n",
    "\n",
    "This is more of a true sequence-to-sequence model, and is thus slightly more involved.\n",
    "\n",
    "Our model consists of two portions - a portion for training and a portion for inference (i.e. for actually predicting new titles)."
   ]
  },
  {
   "cell_type": "code",
   "execution_count": null,
   "metadata": {},
   "outputs": [],
   "source": [
    "from random import randint\n",
    "from numpy import array\n",
    "from numpy import argmax\n",
    "from numpy import array_equal\n",
    "from keras.utils import to_categorical\n",
    "from keras.models import Model\n",
    "from keras.layers import Input\n",
    "from keras.layers import LSTM\n",
    "from keras.layers import Dense\n",
    "\n",
    "def target_one_hot(input_seqs, seq_max_len, vocab_len):\n",
    "    \"\"\" Convert a sequence of integers to a one element shifted sequence of one-hot vectors.\"\"\"\n",
    "    one_hot_out = np.zeros((len(input_seqs), seq_max_len, vocab_len))\n",
    "    for i, sequence in enumerate(input_seqs):\n",
    "        for t, word_int in enumerate(sequence):\n",
    "            if t > 0:\n",
    "                # Shift decoder target get so it is one ahead\n",
    "                one_hot_out[i, t-1, word_int] = 1\n",
    "    return one_hot_out\n",
    "\n",
    "# We need to convert this for our present problem - this is similar to our generate dataset above\n",
    "# prepare data for the LSTM\n",
    "def get_dataset(X, Y, i, i_end, num_decoder_tokens):\n",
    "    \"\"\"Return encoder_input_data, decoder_input_data, and decoder_target_data, latter as one-hot\"\"\"\n",
    "    encoder_input_data = X[i:i_end]\n",
    "    decoder_input_data = Y[i:i_end]\n",
    "    decoder_target_data = target_one_hot(decoder_input_data, Y.shape[1], num_decoder_tokens)\n",
    "    return encoder_input_data, decoder_input_data, decoder_target_data\n",
    "\n",
    "# returns train, inference_encoder and inference_decoder models\n",
    "def define_models(num_encoder_tokens, num_decoder_tokens, latent_dim):\n",
    "    # define training encoder\n",
    "    # Define an input sequence and process it.\n",
    "    encoder_inputs = Input(shape=(None,))\n",
    "    encoder_embedding = Embedding(num_encoder_tokens, latent_dim)(encoder_inputs)\n",
    "    encoder_outputs, state_h, state_c = LSTM(latent_dim, return_state=True)(encoder_embedding)\n",
    "    encoder_states = [state_h, state_c]\n",
    "\n",
    "    # Set up the decoder, using `encoder_states` as initial state.\n",
    "    decoder_inputs = Input(shape=(None,))\n",
    "    # Possibly share the embedding below\n",
    "    decoder_embedding = Embedding(num_decoder_tokens, latent_dim)(decoder_inputs)\n",
    "    decoder_lstm = LSTM(latent_dim, return_sequences=True, return_state=True)\n",
    "    decoder_outputs, _, _ = decoder_lstm(decoder_embedding, initial_state=encoder_states)\n",
    "    decoder_dense = Dense(num_decoder_tokens, activation='softmax')\n",
    "    decoder_outputs = decoder_dense(decoder_outputs)\n",
    "\n",
    "    # Define the model that will turn\n",
    "    # `encoder_input_data` & `decoder_input_data` into `decoder_target_data`\n",
    "    model = Model([encoder_inputs, decoder_inputs], decoder_outputs)\n",
    "\n",
    "    # define inference encoder\n",
    "    encoder_model = Model(encoder_inputs, encoder_states)\n",
    "    # define inference decoder\n",
    "    decoder_state_input_h = Input(shape=(latent_dim,))\n",
    "    decoder_state_input_c = Input(shape=(latent_dim,))\n",
    "    decoder_states_inputs = [decoder_state_input_h, decoder_state_input_c]\n",
    "    # Need to adjust this line for the embedding\n",
    "    decoder_outputs, state_h, state_c = decoder_lstm(decoder_embedding, initial_state=decoder_states_inputs)\n",
    "    decoder_states = [state_h, state_c]\n",
    "    decoder_outputs = decoder_dense(decoder_outputs)\n",
    "    decoder_model = Model([decoder_inputs] + decoder_states_inputs, [decoder_outputs] + decoder_states)\n",
    "    # return all models\n",
    "    return model, encoder_model, decoder_model\n",
    "\n",
    "def train_model(X_train, Y_train, X_test, Y_test, model, set_size, batch_size, num_decoder_tokens):\n",
    "    \"\"\" Code to train model in sets of set_size.\"\"\"\n",
    "    num_examples = len(X_train)\n",
    "    num_test = len(X_test)\n",
    "    train_loss = []\n",
    "    val_loss = []\n",
    "    # Loop here to avoid memory issues with the target one hot vector\n",
    "    for i in range(0, num_examples, set_size):\n",
    "        if i + set_size >= num_examples:\n",
    "            i_end = num_examples\n",
    "        else:\n",
    "            i_end = i + set_size\n",
    "        # Generate a range for the test data\n",
    "        i_test = math.floor(i * (num_test/num_examples))\n",
    "        i_test_end = math.floor(i_end * (num_test/num_examples))\n",
    "        # Generate small sets of train and test data\n",
    "        I_1_train, I_2_train, Y_set_train = get_dataset(X_train, Y_train, i, i_end, num_decoder_tokens)\n",
    "        I_1_test, I_2_test, Y_set_test = get_dataset(X_test, Y_test, i_test, i_test_end, num_decoder_tokens)\n",
    "        print('[INFO] Training model: {}/{} samples'.format(i, num_examples))\n",
    "        callback = model.fit(\n",
    "            [I_1_train, I_2_train], \n",
    "            Y_set_train, \n",
    "            validation_data=([I_1_test, I_2_test], Y_set_test),\n",
    "            batch_size= batch_size, \n",
    "            epochs=1\n",
    "        )\n",
    "        train_loss += callback.history['loss']\n",
    "        val_loss += callback.history['val_loss']\n",
    "    return model, train_loss, val_loss\n",
    "\n",
    "# define model\n",
    "train, infenc, infdec = define_models(num_encoder_tokens, num_decoder_tokens, 128)\n",
    "train.compile(optimizer='adam', loss='categorical_crossentropy', metrics=['acc'])"
   ]
  },
  {
   "cell_type": "code",
   "execution_count": 131,
   "metadata": {},
   "outputs": [
    {
     "name": "stdout",
     "output_type": "stream",
     "text": [
      "\n",
      "--------\n",
      " Epoch -  0\n",
      "[INFO] Training model: 0/20423 samples\n",
      "Train on 5000 samples, validate on 1250 samples\n",
      "Epoch 1/1\n",
      "5000/5000 [==============================] - 82s 16ms/step - loss: 1.3725 - acc: 0.7448 - val_loss: 1.7861 - val_acc: 0.7027\n",
      "[INFO] Training model: 5000/20423 samples\n",
      "Train on 5000 samples, validate on 1250 samples\n",
      "Epoch 1/1\n",
      "5000/5000 [==============================] - 84s 17ms/step - loss: 1.3737 - acc: 0.7435 - val_loss: 1.7589 - val_acc: 0.7081\n",
      "[INFO] Training model: 10000/20423 samples\n",
      "Train on 5000 samples, validate on 1250 samples\n",
      "Epoch 1/1\n",
      "5000/5000 [==============================] - 87s 17ms/step - loss: 1.3650 - acc: 0.7461 - val_loss: 1.7568 - val_acc: 0.7059\n",
      "[INFO] Training model: 15000/20423 samples\n",
      "Train on 5000 samples, validate on 1250 samples\n",
      "Epoch 1/1\n",
      "5000/5000 [==============================] - 87s 17ms/step - loss: 1.3451 - acc: 0.7480 - val_loss: 1.7507 - val_acc: 0.7123\n",
      "[INFO] Training model: 20000/20423 samples\n",
      "Train on 423 samples, validate on 106 samples\n",
      "Epoch 1/1\n",
      "423/423 [==============================] - 7s 16ms/step - loss: 1.3241 - acc: 0.7517 - val_loss: 1.8438 - val_acc: 0.7028\n",
      "\n",
      "--------\n",
      " Epoch -  1\n",
      "[INFO] Training model: 0/20423 samples\n",
      "Train on 5000 samples, validate on 1250 samples\n",
      "Epoch 1/1\n",
      "5000/5000 [==============================] - 87s 17ms/step - loss: 1.3540 - acc: 0.7466 - val_loss: 1.7954 - val_acc: 0.7037\n",
      "[INFO] Training model: 5000/20423 samples\n",
      "Train on 5000 samples, validate on 1250 samples\n",
      "Epoch 1/1\n",
      "5000/5000 [==============================] - 86s 17ms/step - loss: 1.3543 - acc: 0.7455 - val_loss: 1.7682 - val_acc: 0.7069\n",
      "[INFO] Training model: 10000/20423 samples\n",
      "Train on 5000 samples, validate on 1250 samples\n",
      "Epoch 1/1\n",
      "5000/5000 [==============================] - 87s 17ms/step - loss: 1.3461 - acc: 0.7478 - val_loss: 1.7668 - val_acc: 0.7059\n",
      "[INFO] Training model: 15000/20423 samples\n",
      "Train on 5000 samples, validate on 1250 samples\n",
      "Epoch 1/1\n",
      "5000/5000 [==============================] - 87s 17ms/step - loss: 1.3257 - acc: 0.7500 - val_loss: 1.7582 - val_acc: 0.7105\n",
      "[INFO] Training model: 20000/20423 samples\n",
      "Train on 423 samples, validate on 106 samples\n",
      "Epoch 1/1\n",
      "423/423 [==============================] - 7s 16ms/step - loss: 1.3035 - acc: 0.7544 - val_loss: 1.8474 - val_acc: 0.6994\n",
      "\n",
      "--------\n",
      " Epoch -  2\n",
      "[INFO] Training model: 0/20423 samples\n",
      "Train on 5000 samples, validate on 1250 samples\n",
      "Epoch 1/1\n",
      "5000/5000 [==============================] - 88s 18ms/step - loss: 1.3346 - acc: 0.7485 - val_loss: 1.8030 - val_acc: 0.7032\n",
      "[INFO] Training model: 5000/20423 samples\n",
      "Train on 5000 samples, validate on 1250 samples\n",
      "Epoch 1/1\n",
      "5000/5000 [==============================] - 87s 17ms/step - loss: 1.3357 - acc: 0.7480 - val_loss: 1.7726 - val_acc: 0.7069\n",
      "[INFO] Training model: 10000/20423 samples\n",
      "Train on 5000 samples, validate on 1250 samples\n",
      "Epoch 1/1\n",
      "5000/5000 [==============================] - 87s 17ms/step - loss: 1.3261 - acc: 0.7496 - val_loss: 1.7745 - val_acc: 0.7055\n",
      "[INFO] Training model: 15000/20423 samples\n",
      "Train on 5000 samples, validate on 1250 samples\n",
      "Epoch 1/1\n",
      "5000/5000 [==============================] - 87s 17ms/step - loss: 1.3060 - acc: 0.7528 - val_loss: 1.7639 - val_acc: 0.7117\n",
      "[INFO] Training model: 20000/20423 samples\n",
      "Train on 423 samples, validate on 106 samples\n",
      "Epoch 1/1\n",
      "423/423 [==============================] - 7s 16ms/step - loss: 1.2814 - acc: 0.7556 - val_loss: 1.8607 - val_acc: 0.6977\n",
      "\n",
      "--------\n",
      " Epoch -  3\n",
      "[INFO] Training model: 0/20423 samples\n",
      "Train on 5000 samples, validate on 1250 samples\n",
      "Epoch 1/1\n",
      "5000/5000 [==============================] - 87s 17ms/step - loss: 1.3154 - acc: 0.7506 - val_loss: 1.8116 - val_acc: 0.7018\n",
      "[INFO] Training model: 5000/20423 samples\n",
      "Train on 5000 samples, validate on 1250 samples\n",
      "Epoch 1/1\n",
      "5000/5000 [==============================] - 90s 18ms/step - loss: 1.3182 - acc: 0.7493 - val_loss: 1.7804 - val_acc: 0.7065\n",
      "[INFO] Training model: 10000/20423 samples\n",
      "Train on 5000 samples, validate on 1250 samples\n",
      "Epoch 1/1\n",
      "5000/5000 [==============================] - 88s 18ms/step - loss: 1.3084 - acc: 0.7511 - val_loss: 1.7823 - val_acc: 0.7052\n",
      "[INFO] Training model: 15000/20423 samples\n",
      "Train on 5000 samples, validate on 1250 samples\n",
      "Epoch 1/1\n",
      "5000/5000 [==============================] - 87s 17ms/step - loss: 1.2864 - acc: 0.7547 - val_loss: 1.7725 - val_acc: 0.7109\n",
      "[INFO] Training model: 20000/20423 samples\n",
      "Train on 423 samples, validate on 106 samples\n",
      "Epoch 1/1\n",
      "423/423 [==============================] - 7s 17ms/step - loss: 1.2620 - acc: 0.7606 - val_loss: 1.8603 - val_acc: 0.7024\n",
      "\n",
      "--------\n",
      " Epoch -  4\n",
      "[INFO] Training model: 0/20423 samples\n",
      "Train on 5000 samples, validate on 1250 samples\n",
      "Epoch 1/1\n",
      "5000/5000 [==============================] - 87s 17ms/step - loss: 1.2959 - acc: 0.7525 - val_loss: 1.8224 - val_acc: 0.7015\n",
      "[INFO] Training model: 5000/20423 samples\n",
      "Train on 5000 samples, validate on 1250 samples\n",
      "Epoch 1/1\n",
      "5000/5000 [==============================] - 87s 17ms/step - loss: 1.2991 - acc: 0.7515 - val_loss: 1.7889 - val_acc: 0.7056\n",
      "[INFO] Training model: 10000/20423 samples\n",
      "Train on 5000 samples, validate on 1250 samples\n",
      "Epoch 1/1\n",
      "5000/5000 [==============================] - 85s 17ms/step - loss: 1.2897 - acc: 0.7536 - val_loss: 1.7939 - val_acc: 0.7050\n",
      "[INFO] Training model: 15000/20423 samples\n",
      "Train on 5000 samples, validate on 1250 samples\n",
      "Epoch 1/1\n",
      "5000/5000 [==============================] - 87s 17ms/step - loss: 1.2691 - acc: 0.7564 - val_loss: 1.7883 - val_acc: 0.7107\n",
      "[INFO] Training model: 20000/20423 samples\n",
      "Train on 423 samples, validate on 106 samples\n",
      "Epoch 1/1\n",
      "423/423 [==============================] - 8s 18ms/step - loss: 1.2425 - acc: 0.7617 - val_loss: 1.8748 - val_acc: 0.6994\n",
      "\n",
      "--------\n",
      " Epoch -  5\n",
      "[INFO] Training model: 0/20423 samples\n",
      "Train on 5000 samples, validate on 1250 samples\n",
      "Epoch 1/1\n",
      "5000/5000 [==============================] - 87s 17ms/step - loss: 1.2791 - acc: 0.7549 - val_loss: 1.8285 - val_acc: 0.7009\n",
      "[INFO] Training model: 5000/20423 samples\n",
      "Train on 5000 samples, validate on 1250 samples\n",
      "Epoch 1/1\n",
      "5000/5000 [==============================] - 90s 18ms/step - loss: 1.2804 - acc: 0.7540 - val_loss: 1.7985 - val_acc: 0.7069\n",
      "[INFO] Training model: 10000/20423 samples\n",
      "Train on 5000 samples, validate on 1250 samples\n",
      "Epoch 1/1\n",
      "5000/5000 [==============================] - 89s 18ms/step - loss: 1.2710 - acc: 0.7560 - val_loss: 1.8045 - val_acc: 0.7037\n",
      "[INFO] Training model: 15000/20423 samples\n",
      "Train on 5000 samples, validate on 1250 samples\n",
      "Epoch 1/1\n",
      "5000/5000 [==============================] - 90s 18ms/step - loss: 1.2514 - acc: 0.7579 - val_loss: 1.7953 - val_acc: 0.7101\n",
      "[INFO] Training model: 20000/20423 samples\n",
      "Train on 423 samples, validate on 106 samples\n",
      "Epoch 1/1\n",
      "423/423 [==============================] - 8s 19ms/step - loss: 1.2280 - acc: 0.7637 - val_loss: 1.8877 - val_acc: 0.6973\n",
      "\n",
      "--------\n",
      " Epoch -  6\n",
      "[INFO] Training model: 0/20423 samples\n",
      "Train on 5000 samples, validate on 1250 samples\n",
      "Epoch 1/1\n",
      "5000/5000 [==============================] - 89s 18ms/step - loss: 1.2617 - acc: 0.7572 - val_loss: 1.8394 - val_acc: 0.7012\n",
      "[INFO] Training model: 5000/20423 samples\n",
      "Train on 5000 samples, validate on 1250 samples\n",
      "Epoch 1/1\n",
      "5000/5000 [==============================] - 87s 17ms/step - loss: 1.2635 - acc: 0.7557 - val_loss: 1.8104 - val_acc: 0.7043\n",
      "[INFO] Training model: 10000/20423 samples\n",
      "Train on 5000 samples, validate on 1250 samples\n",
      "Epoch 1/1\n",
      "5000/5000 [==============================] - 88s 18ms/step - loss: 1.2535 - acc: 0.7577 - val_loss: 1.8103 - val_acc: 0.7036\n",
      "[INFO] Training model: 15000/20423 samples\n",
      "Train on 5000 samples, validate on 1250 samples\n",
      "Epoch 1/1\n",
      "5000/5000 [==============================] - 86s 17ms/step - loss: 1.2328 - acc: 0.7603 - val_loss: 1.8069 - val_acc: 0.7084\n",
      "[INFO] Training model: 20000/20423 samples\n",
      "Train on 423 samples, validate on 106 samples\n",
      "Epoch 1/1\n",
      "423/423 [==============================] - 7s 17ms/step - loss: 1.2100 - acc: 0.7662 - val_loss: 1.9022 - val_acc: 0.6973\n",
      "\n",
      "--------\n",
      " Epoch -  7\n",
      "[INFO] Training model: 0/20423 samples\n",
      "Train on 5000 samples, validate on 1250 samples\n",
      "Epoch 1/1\n",
      "5000/5000 [==============================] - 87s 17ms/step - loss: 1.2437 - acc: 0.7587 - val_loss: 1.8531 - val_acc: 0.7008\n",
      "[INFO] Training model: 5000/20423 samples\n",
      "Train on 5000 samples, validate on 1250 samples\n",
      "Epoch 1/1\n",
      "5000/5000 [==============================] - 88s 18ms/step - loss: 1.2468 - acc: 0.7578 - val_loss: 1.8198 - val_acc: 0.7050\n",
      "[INFO] Training model: 10000/20423 samples\n",
      "Train on 5000 samples, validate on 1250 samples\n",
      "Epoch 1/1\n",
      "5000/5000 [==============================] - 93s 19ms/step - loss: 1.2379 - acc: 0.7594 - val_loss: 1.8221 - val_acc: 0.7036\n",
      "[INFO] Training model: 15000/20423 samples\n",
      "Train on 5000 samples, validate on 1250 samples\n",
      "Epoch 1/1\n",
      "5000/5000 [==============================] - 87s 17ms/step - loss: 1.2153 - acc: 0.7628 - val_loss: 1.8194 - val_acc: 0.7079\n",
      "[INFO] Training model: 20000/20423 samples\n",
      "Train on 423 samples, validate on 106 samples\n",
      "Epoch 1/1\n",
      "423/423 [==============================] - 8s 20ms/step - loss: 1.1902 - acc: 0.7663 - val_loss: 1.9142 - val_acc: 0.6985\n",
      "\n",
      "--------\n",
      " Epoch -  8\n",
      "[INFO] Training model: 0/20423 samples\n",
      "Train on 5000 samples, validate on 1250 samples\n",
      "Epoch 1/1\n",
      "5000/5000 [==============================] - 87s 17ms/step - loss: 1.2260 - acc: 0.7611 - val_loss: 1.8655 - val_acc: 0.6996\n",
      "[INFO] Training model: 5000/20423 samples\n",
      "Train on 5000 samples, validate on 1250 samples\n",
      "Epoch 1/1\n",
      "5000/5000 [==============================] - 88s 18ms/step - loss: 1.2317 - acc: 0.7594 - val_loss: 1.8317 - val_acc: 0.7036\n",
      "[INFO] Training model: 10000/20423 samples\n",
      "Train on 5000 samples, validate on 1250 samples\n",
      "Epoch 1/1\n",
      "5000/5000 [==============================] - 88s 18ms/step - loss: 1.2206 - acc: 0.7613 - val_loss: 1.8321 - val_acc: 0.7031\n",
      "[INFO] Training model: 15000/20423 samples\n",
      "Train on 5000 samples, validate on 1250 samples\n",
      "Epoch 1/1\n",
      "5000/5000 [==============================] - 89s 18ms/step - loss: 1.1990 - acc: 0.7646 - val_loss: 1.8356 - val_acc: 0.7081\n",
      "[INFO] Training model: 20000/20423 samples\n",
      "Train on 423 samples, validate on 106 samples\n",
      "Epoch 1/1\n",
      "423/423 [==============================] - 8s 18ms/step - loss: 1.1742 - acc: 0.7680 - val_loss: 1.9237 - val_acc: 0.6981\n",
      "\n",
      "--------\n",
      " Epoch -  9\n",
      "[INFO] Training model: 0/20423 samples\n",
      "Train on 5000 samples, validate on 1250 samples\n",
      "Epoch 1/1\n",
      "5000/5000 [==============================] - 90s 18ms/step - loss: 1.2092 - acc: 0.7635 - val_loss: 1.8768 - val_acc: 0.6985\n",
      "[INFO] Training model: 5000/20423 samples\n",
      "Train on 5000 samples, validate on 1250 samples\n",
      "Epoch 1/1\n",
      "5000/5000 [==============================] - 88s 18ms/step - loss: 1.2145 - acc: 0.7622 - val_loss: 1.8442 - val_acc: 0.7035\n",
      "[INFO] Training model: 10000/20423 samples\n",
      "Train on 5000 samples, validate on 1250 samples\n",
      "Epoch 1/1\n",
      "5000/5000 [==============================] - 89s 18ms/step - loss: 1.2038 - acc: 0.7641 - val_loss: 1.8421 - val_acc: 0.7036\n",
      "[INFO] Training model: 15000/20423 samples\n",
      "Train on 5000 samples, validate on 1250 samples\n",
      "Epoch 1/1\n",
      "5000/5000 [==============================] - 89s 18ms/step - loss: 1.1822 - acc: 0.7671 - val_loss: 1.8415 - val_acc: 0.7073\n",
      "[INFO] Training model: 20000/20423 samples\n",
      "Train on 423 samples, validate on 106 samples\n",
      "Epoch 1/1\n",
      "423/423 [==============================] - 8s 19ms/step - loss: 1.1642 - acc: 0.7720 - val_loss: 1.9424 - val_acc: 0.6990\n"
     ]
    }
   ],
   "source": [
    "# setup variables\n",
    "epochs = 10\n",
    "batch_size = 64\n",
    "set_size = 5000\n",
    "\n",
    "for e in range(0, epochs):\n",
    "    print(\"\\n--------\\n Epoch - \", e)\n",
    "    train, tl, vl = train_model(X_train, Y_train, X_test, Y_test, train, set_size, batch_size, num_decoder_tokens)\n",
    "    train_loss += tl\n",
    "    val_loss += vl\n",
    "    model.save_weights(\"chollet_weights.hdf5\", overwrite=True)\n",
    "    "
   ]
  },
  {
   "cell_type": "code",
   "execution_count": 135,
   "metadata": {},
   "outputs": [],
   "source": [
    "# We have some data from a previous model iteration to remove\n",
    "train_loss = train_loss[82:]\n",
    "val_loss = val_loss[82:]"
   ]
  },
  {
   "cell_type": "code",
   "execution_count": 136,
   "metadata": {},
   "outputs": [
    {
     "data": {
      "image/png": "[encoded data removed]",
      "text/plain": [
       "<matplotlib.figure.Figure at 0x7fbe3112f6d8>"
      ]
     },
     "metadata": {},
     "output_type": "display_data"
    }
   ],
   "source": [
    "# summarize history for accuracy\n",
    "plt.plot(train_loss)\n",
    "plt.plot(val_loss)\n",
    "plt.title('Model Loss')\n",
    "plt.ylabel('Loss')\n",
    "plt.xlabel('Iteration')\n",
    "plt.legend(['train', 'test'], loc='upper left')\n",
    "plt.show()"
   ]
  },
  {
   "cell_type": "markdown",
   "metadata": {},
   "source": [
    "So here we want to stop after around 50 iterations - this is where our training and test loss diverge and marks where over-fitting begins."
   ]
  },
  {
   "cell_type": "code",
   "execution_count": 134,
   "metadata": {},
   "outputs": [
    {
     "data": {
      "text/plain": [
       "[5.64191109085083,\n",
       " 2.8468031997680665,\n",
       " 2.648135330200195,\n",
       " 2.546439384460449,\n",
       " 2.476810468673706,\n",
       " 2.350877471923828,\n",
       " 2.318929874420166,\n",
       " 2.2639573631286622,\n",
       " 2.294969539642334,\n",
       " 2.1982071876525877,\n",
       " 2.2616708908081056,\n",
       " 2.1895121421813966,\n",
       " 2.1947420234680175,\n",
       " 2.092662658691406,\n",
       " 2.1450489292144774,\n",
       " 2.0810273418426513,\n",
       " 2.0865359115600586,\n",
       " 2.0923008041381834]"
      ]
     },
     "execution_count": 134,
     "metadata": {},
     "output_type": "execute_result"
    }
   ],
   "source": [
    "train_loss[82:100]"
   ]
  },
  {
   "cell_type": "markdown",
   "metadata": {},
   "source": [
    "We then need the inference code to allow prediction and decoding.\n",
    "\n",
    "The general pattern is as follows:\n",
    "* Predict the state with infenc using an input X vector.\n",
    "* Create an initial target vector - is this 0s with first entry the startseq token 1? In the one-hot case, it's a one-hot encoding of one character - would our equivalent just be `array([1])`\n",
    "* while stop condition is false, where stop condition = len=max_y_len or token=2=stopseq\n",
    "    * use infdec to predict yhat and return the state of the decoder h and c \n",
    "    * remember the yhat \n",
    "    * set yhat as the next target sequence and pass generated state\n",
    "    \n",
    "I.e. I think we can similar code to Brownlee's or Chollet's model."
   ]
  },
  {
   "cell_type": "code",
   "execution_count": 72,
   "metadata": {},
   "outputs": [],
   "source": [
    "I_1_train, I_2_train, Y_set_train = get_dataset(X_train, Y_train, 100, 0, num_decoder_tokens)\n",
    "I_1_test, I_2_test, Y_set_test = get_dataset(X_test, Y_test, 10, 0, num_decoder_tokens)"
   ]
  },
  {
   "cell_type": "code",
   "execution_count": 73,
   "metadata": {},
   "outputs": [
    {
     "name": "stdout",
     "output_type": "stream",
     "text": [
      "(0, 300) (0, 22) (0, 22, 2500)\n",
      "(0, 300) (0, 22) (0, 22, 2500)\n"
     ]
    }
   ],
   "source": [
    "print(I_1_train.shape, I_2_train.shape, Y_set_train.shape)\n",
    "print(I_1_test.shape, I_2_test.shape, Y_set_test.shape)"
   ]
  },
  {
   "cell_type": "code",
   "execution_count": 111,
   "metadata": {},
   "outputs": [],
   "source": [
    "def predict_sequence(infenc, infdec, source, decoder_seq_length):\n",
    "    # encode\n",
    "    state = infenc.predict(source)\n",
    "    # start of sequence input\n",
    "    target_seq = array([1])\n",
    "    # collect predictions\n",
    "    output = list()\n",
    "    for t in range(decoder_seq_length):\n",
    "        # predict next char\n",
    "        yhat, h, c = infdec.predict([target_seq] + state)\n",
    "        # update state\n",
    "        state = [h, c]\n",
    "        # update target sequence - this needs to be the argmax\n",
    "        next_int = argmax(yhat[0, 0, :])\n",
    "        output.append(next_int)\n",
    "        # It seems like we throw a lot of information away here - can we build in the probabilities?\n",
    "        target_seq = array([next_int])\n",
    "        # Check for stopping character\n",
    "        if next_int == 2:\n",
    "            break\n",
    "    return output"
   ]
  },
  {
   "cell_type": "code",
   "execution_count": 120,
   "metadata": {},
   "outputs": [
    {
     "name": "stdout",
     "output_type": "stream",
     "text": [
      "Sample of claim text: method for authenticating an identity of cardholder in financial transaction initiated by cardholder with merchant via first communication medium, said method comprising receiving purchase authenticat\n",
      "\n",
      "Predicted title is: a more more dimensional more more more more more more more dimensional dimensional more more more more more dimensional dimensional more more . \n",
      " Test title is: methods and systems for authenticating an identity of a in a financial transaction  \n",
      "---\n",
      "\n",
      "Sample of claim text: an array substrate including display area and peripheral area, wherein display area includes plurality of thin film transistors provided on base substrate, first transparent electrodes electrically co\n",
      "\n",
      "Predicted title is: a more more dimensional more more more more more more more dimensional dimensional more more more more more dimensional dimensional more more . \n",
      " Test title is: array substrate and manufacturing method thereof touch display device  \n",
      "---\n",
      "\n",
      "Sample of claim text: method for identifying conditional actions in business process comprising determining plurality of pairs of text fragments that respectively include text fragments that are similar according to pre-de\n",
      "\n",
      "Predicted title is: a more more dimensional more more more more more more more dimensional dimensional more more more more more dimensional dimensional more more . \n",
      " Test title is: identifying and conditional actions in business processes  \n",
      "---\n",
      "\n",
      "Sample of claim text: method of processing merchandise return comprising receiving request to merchandise return made by consumer at point of return determining with one or more computer processors whether to return made b\n",
      "\n",
      "Predicted title is: a more more dimensional more more more more more more more dimensional dimensional more more more more more dimensional dimensional more more . \n",
      " Test title is: systems and methods for data collection at a point of return  \n",
      "---\n",
      "\n",
      "Sample of claim text: method, comprising detecting, on touch screen of an information device, user input determining, using processor, that user input occurs within predetermined edge region of touch screen adjusting, usin\n",
      "\n",
      "Predicted title is: a more more dimensional more more more more more more more dimensional dimensional more more more more more dimensional dimensional more more . \n",
      " Test title is: detecting and filtering edge touch inputs  \n",
      "---\n",
      "\n"
     ]
    }
   ],
   "source": [
    "# Testing\n",
    "num_test_titles = len(X_test)\n",
    "indices = np.arange(num_test_titles)\n",
    "np.random.shuffle(indices)\n",
    "X_test = X_test[indices]\n",
    "Y_test = Y_test[indices]\n",
    "for i in range(0, 5):\n",
    "    pred_seq = predict_sequence(infenc, infdec, X_test[i], decoder_seq_length)\n",
    "    predicted_text = seq2text(pred_seq, y_dictionary)\n",
    "    Y_test_text = seq2text(Y_test[i], y_dictionary)\n",
    "    claim_text = seq2text(X_test[i], x_dictionary)\n",
    "    print(\"Sample of claim text: {}\\n\".format(claim_text[0:200]))\n",
    "    print(\"Predicted title is: {}. \\n Test title is: {} \\n---\\n\".format(predicted_text, Y_test_text))"
   ]
  },
  {
   "attachments": {
    "temperature.png": {
     "image/png": "[encoded data removed]"
    }
   },
   "cell_type": "markdown",
   "metadata": {},
   "source": [
    "We have a lower loss than the Ludwig model but our output is the same for all predicted titles: a seemingly random set of repetitive phrases.\n",
    "\n",
    "I have seen this form of behaviour before. One method of avoiding it was to play with the temperature of the sampling. This is explained [here](https://stats.stackexchange.com/questions/255223/the-effect-of-temperature-in-temperature-sampling) as set out below.\n",
    "\n",
    "![temperature.png](attachment:temperature.png)"
   ]
  },
  {
   "cell_type": "code",
   "execution_count": 115,
   "metadata": {},
   "outputs": [],
   "source": [
    "def sample(preds, temperature=1.0):\n",
    "    # helper function to sample an index from a probability array\n",
    "    preds = np.asarray(preds).astype('float64')\n",
    "    preds = np.log(preds) / temperature\n",
    "    exp_preds = np.exp(preds)\n",
    "    preds = exp_preds / np.sum(exp_preds)\n",
    "    probas = np.random.multinomial(1, preds, 1)\n",
    "    return np.argmax(probas)"
   ]
  },
  {
   "cell_type": "code",
   "execution_count": 119,
   "metadata": {},
   "outputs": [
    {
     "name": "stdout",
     "output_type": "stream",
     "text": [
      "[1226, 1415, 2180, 1370, 873, 1059, 18, 414, 364, 1926, 2, 0, 0, 0, 0, 0, 0, 0, 0, 0, 0, 0]\n"
     ]
    }
   ],
   "source": [
    "state = infenc.predict(X_test[1])\n",
    "# start of sequence input\n",
    "target_seq = array([1])\n",
    "# collect predictions\n",
    "output = list()\n",
    "for t in range(decoder_seq_length):\n",
    "    # predict next char\n",
    "    yhat, h, c = infdec.predict([target_seq] + state)\n",
    "    # update state\n",
    "    state = [h, c]\n",
    "    # update target sequence - this needs to be the argmax\n",
    "    next_int = sample(yhat[0, 0, :])\n",
    "    output.append(next_int)\n",
    "    # It seems like we throw a lot of information away here - can we build in the probabilities?\n",
    "    target_seq = array([next_int])\n",
    "    # Check for stopping character\n",
    "print(output)"
   ]
  },
  {
   "cell_type": "code",
   "execution_count": 124,
   "metadata": {},
   "outputs": [],
   "source": [
    "def predict_sequence(infenc, infdec, source, decoder_seq_length, temp=1.0):\n",
    "    # encode\n",
    "    state = infenc.predict(source)\n",
    "    # start of sequence input\n",
    "    target_seq = array([1])\n",
    "    # collect predictions\n",
    "    output = list()\n",
    "    for t in range(decoder_seq_length):\n",
    "        # predict next char\n",
    "        yhat, h, c = infdec.predict([target_seq] + state)\n",
    "        # update state\n",
    "        state = [h, c]\n",
    "        # update target sequence - this needs to be the argmax\n",
    "        next_int = sample(yhat[0, 0, :], temp)\n",
    "        output.append(next_int)\n",
    "        # It seems like we throw a lot of information away here - can we build in the probabilities?\n",
    "        target_seq = array([next_int])\n",
    "        # Check for stopping character\n",
    "        if next_int == 2:\n",
    "            break\n",
    "    return output"
   ]
  },
  {
   "cell_type": "code",
   "execution_count": 122,
   "metadata": {},
   "outputs": [
    {
     "name": "stdout",
     "output_type": "stream",
     "text": [
      "Sample of claim text: character string recognition method for recognizing character string comprising steps of imaging character string on medium to obtain image data first step in which first projection data of image data\n",
      "\n",
      "Predicted title is: fidelity awareness screening using regions filtering said program . \n",
      " Test title is: character string recognition method and device  \n",
      "---\n",
      "\n",
      "Sample of claim text: device for selectively modifying transmission performance of frame data having data size and preset transmission clock rate, frame data being transmitted through transmission interface toward an image\n",
      "\n",
      "Predicted title is: dependent accessory candidate lock assignment algorithms initiated devices using manufacture . \n",
      " Test title is: modification device and method for selectively modifying transmission performance of image frame data  \n",
      "---\n",
      "\n",
      "Sample of claim text: an apparatus for use as switch, comprising ring tag including ring element with an rfid circuit, ring tag attached to rotatable on rotation axis to place ring tag into first position, wherein ring tag\n",
      "\n",
      "Predicted title is: refresh similarity coverage serving work hosted secure end diagnosis malicious cryptographic attribute claims tissue controller therefor . \n",
      " Test title is: switch using radio frequency identification  \n",
      "---\n",
      "\n",
      "Sample of claim text: computer-implemented method, comprising receiving sensor data from user device, sensor data comprising image data depicting at least portion of user of user device, image data provided by an image cap\n",
      "\n",
      "Predicted title is: tuning modified pertaining searching detecting scanner response . \n",
      " Test title is: employing device sensor data to determine user characteristics  \n",
      "---\n",
      "\n",
      "Sample of claim text: method of prioritizing feed items based on rules, method comprising receiving input data, wherein input data comprises data or feed metrics receiving user input to provide one or more rules to feed it\n",
      "\n",
      "Predicted title is: timeline abstraction matrix tests combining marks . \n",
      " Test title is: rule based prioritization of social data  \n",
      "---\n",
      "\n"
     ]
    }
   ],
   "source": [
    "# Testing\n",
    "num_test_titles = len(X_test)\n",
    "indices = np.arange(num_test_titles)\n",
    "np.random.shuffle(indices)\n",
    "X_test = X_test[indices]\n",
    "Y_test = Y_test[indices]\n",
    "for i in range(0, 5):\n",
    "    pred_seq = predict_sequence(infenc, infdec, X_test[i], decoder_seq_length)\n",
    "    predicted_text = seq2text(pred_seq, y_dictionary)\n",
    "    Y_test_text = seq2text(Y_test[i], y_dictionary)\n",
    "    claim_text = seq2text(X_test[i], x_dictionary)\n",
    "    print(\"Sample of claim text: {}\\n\".format(claim_text[0:200]))\n",
    "    print(\"Predicted title is: {}. \\n Test title is: {} \\n---\\n\".format(predicted_text, Y_test_text))"
   ]
  },
  {
   "cell_type": "code",
   "execution_count": 125,
   "metadata": {},
   "outputs": [
    {
     "name": "stdout",
     "output_type": "stream",
     "text": [
      "Sample of claim text: method for providing service address space, comprising providing service with service address space attached to main processor, wherein main processor is provided with main address space, wherein serv\n",
      "\n",
      "Predicted title is: networked engine memory secured same . \n",
      " Test title is: providing service address space for diagnostics collection  \n",
      "---\n",
      "\n",
      "Sample of claim text: an image processing device comprising filter control unit configured to on basis of an prediction mode, filter processing turned on or off as to neighboring pixels that are located to current block fo\n",
      "\n",
      "Predicted title is: determination virtual rfid swap manufacturing thin session mapping advanced wireless asset sequences telematics . \n",
      " Test title is: image processing device and method  \n",
      "---\n",
      "\n",
      "Sample of claim text: processor implemented method for operating client computing device to allow user to interact with network sites over network interface, method comprising initiating via processor operation of browser \n",
      "\n",
      "Predicted title is: analysis natural alternate adaptive personal methods of applications . \n",
      " Test title is: system method apparatus and means for evaluating historical network activity  \n",
      "---\n",
      "\n",
      "Sample of claim text: method of converting enterprise resource planning data in database managed by an application and accessed through an application programming interface api and message agent api to data in java object \n",
      "\n",
      "Predicted title is: multiple preparing peer estimating insertion signatures measurement . \n",
      " Test title is: accessing a application over the internet using declarative language files  \n",
      "---\n",
      "\n",
      "Sample of claim text: method for information units, method comprises receiving, by storage system, write requests for writing information units to storage system wherein write requests are initiated by multiple accessing e\n",
      "\n",
      "Predicted title is: fuel clustering dedicated length repair names view copy in web store engine . \n",
      " Test title is: system method and a non transitory computer readable medium for a pre operation  \n",
      "---\n",
      "\n"
     ]
    }
   ],
   "source": [
    "# Testing\n",
    "num_test_titles = len(X_test)\n",
    "indices = np.arange(num_test_titles)\n",
    "np.random.shuffle(indices)\n",
    "X_test = X_test[indices]\n",
    "Y_test = Y_test[indices]\n",
    "for i in range(0, 5):\n",
    "    pred_seq = predict_sequence(infenc, infdec, X_test[i], decoder_seq_length, 0.5)\n",
    "    predicted_text = seq2text(pred_seq, y_dictionary)\n",
    "    Y_test_text = seq2text(Y_test[i], y_dictionary)\n",
    "    claim_text = seq2text(X_test[i], x_dictionary)\n",
    "    print(\"Sample of claim text: {}\\n\".format(claim_text[0:200]))\n",
    "    print(\"Predicted title is: {}. \\n Test title is: {} \\n---\\n\".format(predicted_text, Y_test_text))"
   ]
  },
  {
   "cell_type": "code",
   "execution_count": 126,
   "metadata": {},
   "outputs": [
    {
     "name": "stdout",
     "output_type": "stream",
     "text": [
      "Sample of claim text: method for using persistent party for comprising via computing device, global array according to hierarchical server architecture, wherein hierarchical server architecture enables user to create and h\n",
      "\n",
      "Predicted title is: a volatile dimensional dimensional more more more more more more more dimensional determine dimensional more more more dimensional dimensional more more more . \n",
      " Test title is: persistent party  \n",
      "---\n",
      "\n",
      "Sample of claim text: an input device comprising selecting section for selecting pair from among plurality of x electrodes and y electrodes disposed as being spaced apart from each other detecting section for detecting tou\n",
      "\n",
      "Predicted title is: a volatile dimensional more more more dimensional more more more more more dimensional dimensional dimensional more more more more dimensional dimensional more . \n",
      " Test title is: input device input control method program and electronic apparatus  \n",
      "---\n",
      "\n",
      "Sample of claim text: an image processing apparatus comprising designating unit adapted to as an image processing function to be applied to an image of interest, any of plurality of image processing functions including cop\n",
      "\n",
      "Predicted title is: a more more volatile dimensional more more more more more more dimensional volatile dimensional dimensional dimensional image adjust dimensional transitory image volatile . \n",
      " Test title is: image processing apparatus method and program  \n",
      "---\n",
      "\n",
      "Sample of claim text: an image processing apparatus comprising separation unit configured to separate image data into luminance signal and color difference signal decision unit configured to reference pixel, which is refer\n",
      "\n",
      "Predicted title is: be . \n",
      " Test title is: image processing apparatus  \n",
      "---\n",
      "\n",
      "Sample of claim text: method comprising identifying, by one or more computers, an image in first storage system determining, by one or more computers, whether second storage system includes an entry for image identifying r\n",
      "\n",
      "Predicted title is: a dimensional volatile dimensional more more more more more dimensional more more dimensional more more more more more dimensional more more dimensional . \n",
      " Test title is: methods and apparatus for automated object based image analysis and retrieval  \n",
      "---\n",
      "\n"
     ]
    }
   ],
   "source": [
    "# Testing\n",
    "num_test_titles = len(X_test)\n",
    "indices = np.arange(num_test_titles)\n",
    "np.random.shuffle(indices)\n",
    "X_test = X_test[indices]\n",
    "Y_test = Y_test[indices]\n",
    "for i in range(0, 5):\n",
    "    pred_seq = predict_sequence(infenc, infdec, X_test[i], decoder_seq_length, 0.1)\n",
    "    predicted_text = seq2text(pred_seq, y_dictionary)\n",
    "    Y_test_text = seq2text(Y_test[i], y_dictionary)\n",
    "    claim_text = seq2text(X_test[i], x_dictionary)\n",
    "    print(\"Sample of claim text: {}\\n\".format(claim_text[0:200]))\n",
    "    print(\"Predicted title is: {}. \\n Test title is: {} \\n---\\n\".format(predicted_text, Y_test_text))"
   ]
  },
  {
   "cell_type": "markdown",
   "metadata": {},
   "source": [
    "So low temperature reproduces the default results."
   ]
  },
  {
   "cell_type": "code",
   "execution_count": 127,
   "metadata": {},
   "outputs": [
    {
     "name": "stdout",
     "output_type": "stream",
     "text": [
      "Sample of claim text: computer-implemented method for analyzing data representative of media material having layout, comprising identifying block segments associated with body text in media material and determining which o\n",
      "\n",
      "Predicted title is: electrode localization funds link being . \n",
      " Test title is: methods and systems for analyzing data in media material having layout  \n",
      "---\n",
      "\n",
      "Sample of claim text: computer interface system comprising at least one camera operable to create an image of by user, comprising plurality of features and b processing module operable to receive created image of and deter\n",
      "\n",
      "Predicted title is: unstructured log entity plural adapted performed . \n",
      " Test title is: for camera calibration and as a gesture based 3d interface device  \n",
      "---\n",
      "\n",
      "Sample of claim text: computer-implemented method, comprising receiving, by computing system, multiple portions of text that were input into different types of fields associated with resource selecting i first threshold va\n",
      "\n",
      "Predicted title is: preferred map merging horizontal pad refinement normal operands editing multicore health party storage communication terminal or management server memory . \n",
      " Test title is: selectively processing user input  \n",
      "---\n",
      "\n",
      "Sample of claim text: mobile terminal comprising display memory configured to store at least one image fragment first camera user input unit configured to receive input and controller configured to cause display to display\n",
      "\n",
      "Predicted title is: determining technical tomography initiating sequences behavior spatial particular electro managing pipeline assistance shared listing commerce user requesting arithmetic criteria domains insertion schema . \n",
      " Test title is: mobile terminal and controlling method thereof  \n",
      "---\n",
      "\n",
      "Sample of claim text: an information handling system comprising plurality of ports for sending data to and receiving data from one or more devices one or more processors that are communicatively coupled to plurality of por\n",
      "\n",
      "Predicted title is: mass diagram level user's development metal identification operable requests computer machine attached product . \n",
      " Test title is: reducing internal fabric in switch fabric  \n",
      "---\n",
      "\n"
     ]
    }
   ],
   "source": [
    "# Testing\n",
    "num_test_titles = len(X_test)\n",
    "indices = np.arange(num_test_titles)\n",
    "np.random.shuffle(indices)\n",
    "X_test = X_test[indices]\n",
    "Y_test = Y_test[indices]\n",
    "for i in range(0, 5):\n",
    "    pred_seq = predict_sequence(infenc, infdec, X_test[i], decoder_seq_length, 1.5)\n",
    "    predicted_text = seq2text(pred_seq, y_dictionary)\n",
    "    Y_test_text = seq2text(Y_test[i], y_dictionary)\n",
    "    claim_text = seq2text(X_test[i], x_dictionary)\n",
    "    print(\"Sample of claim text: {}\\n\".format(claim_text[0:200]))\n",
    "    print(\"Predicted title is: {}. \\n Test title is: {} \\n---\\n\".format(predicted_text, Y_test_text))"
   ]
  },
  {
   "cell_type": "code",
   "execution_count": 138,
   "metadata": {},
   "outputs": [
    {
     "name": "stdout",
     "output_type": "stream",
     "text": [
      "Sample of claim text: an id document comprising document core layer having two opposed surfaces and on at least one surface of document core layer, comprising top layer middle layer and bottom layer, wherein point of botto\n",
      "\n",
      "Predicted title is: removal human partitioning related recording platforms  \n",
      " Test title is: id documents having a multi layered structure  \n",
      "---\n",
      "\n",
      "Sample of claim text: method for presenting story content relating to and location of interest, method comprising receiving query comprising an intersection criteria, intersection criteria comprising location and of intere\n",
      "\n",
      "Predicted title is: item many step chips overlay transmitting  \n",
      " Test title is: systems and methods for collaborative in a virtual space  \n",
      "---\n",
      "\n",
      "Sample of claim text: method of forming an image using plurality of comprising receiving at least one raster of image pixels each having discrete value for each of for raster associated with defective modifying values of p\n",
      "\n",
      "Predicted title is: held appearance execution acceleration site containing reporting common remote it nand configurations  \n",
      " Test title is: replacing a  \n",
      "---\n",
      "\n",
      "Sample of claim text: an integrated circuit ic comprising digital circuit comprising derived clock circuit configured to receive root clock having frequency and single phase, wherein d is divide factor for root wherein der\n",
      "\n",
      "Predicted title is: detect compliance separation  \n",
      " Test title is: apparatus and method for reducing interference signals in an integrated circuit using  \n",
      "---\n",
      "\n",
      "Sample of claim text: method for using secure socket layer session from pool of sessions shared between method comprising receiving, by first intermediary device, information on one or more sessions of pool established by \n",
      "\n",
      "Predicted title is: different appearance interference characters via modules including web sequences  \n",
      " Test title is: systems and methods of using pools for acceleration  \n",
      "---\n",
      "\n"
     ]
    }
   ],
   "source": [
    "# Testing\n",
    "num_test_titles = len(X_test)\n",
    "indices = np.arange(num_test_titles)\n",
    "np.random.shuffle(indices)\n",
    "X_test = X_test[indices]\n",
    "Y_test = Y_test[indices]\n",
    "for i in range(0, 5):\n",
    "    pred_seq = predict_sequence(infenc, infdec, X_test[i], decoder_seq_length)\n",
    "    predicted_text = seq2text(pred_seq, y_dictionary)\n",
    "    Y_test_text = seq2text(Y_test[i], y_dictionary)\n",
    "    claim_text = seq2text(X_test[i], x_dictionary)\n",
    "    print(\"Sample of claim text: {}\\n\".format(claim_text[0:200]))\n",
    "    print(\"Predicted title is: {} \\n Test title is: {} \\n---\\n\".format(predicted_text, Y_test_text))"
   ]
  },
  {
   "cell_type": "markdown",
   "metadata": {},
   "source": [
    "#### Comments on Results\n"
   ]
  },
  {
   "cell_type": "markdown",
   "metadata": {},
   "source": [
    "#### Options for Further Investigation\n",
    "\n"
   ]
  },
  {
   "cell_type": "markdown",
   "metadata": {},
   "source": [
    "## Summary\n",
    "\n",
    "In this post we have:\n",
    "* Constructed two sequence-to-sequence models.\n",
    "* Applied theses models to our patent claim and title data.\n",
    "* Looked at the performance of each model, including identifying strengths and weaknesses."
   ]
  }
 ],
 "metadata": {
  "kernelspec": {
   "display_name": "Python 3",
   "language": "python",
   "name": "python3"
  },
  "language_info": {
   "codemirror_mode": {
    "name": "ipython",
    "version": 3
   },
   "file_extension": ".py",
   "mimetype": "text/x-python",
   "name": "python",
   "nbconvert_exporter": "python",
   "pygments_lexer": "ipython3",
   "version": "3.5.2"
  }
 },
 "nbformat": 4,
 "nbformat_minor": 2
}
